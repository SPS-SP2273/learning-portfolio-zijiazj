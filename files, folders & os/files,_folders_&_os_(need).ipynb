{
 "cells": [
  {
   "attachments": {},
   "cell_type": "markdown",
   "id": "123456",
   "metadata": {},
   "source": [
    "<div style=\"text-align:left;font-size:2em\"><span style=\"font-weight:bolder;font-size:1.25em\">SP2273 | Learning Portfolio</span><br><br><span style=\"font-weight:bold;color:darkred\">Files, Folders & OS (Need)</span></div>"
   ]
  },
  {
   "attachments": {},
   "cell_type": "markdown",
   "id": "434628f0",
   "metadata": {},
   "source": [
    "# What to expect in this chapter"
   ]
  },
  {
   "cell_type": "markdown",
   "id": "00536707-00e6-4105-bb86-11f81e298f46",
   "metadata": {},
   "source": [
    "- communicate with the OS to create, modify, move, copy, and delete files and directories (folders)"
   ]
  },
  {
   "attachments": {},
   "cell_type": "markdown",
   "id": "0228c5b2",
   "metadata": {},
   "source": [
    "# 1 Important concepts"
   ]
  },
  {
   "attachments": {},
   "cell_type": "markdown",
   "id": "70778ffe",
   "metadata": {},
   "source": [
    "## 1.1 Path"
   ]
  },
  {
   "cell_type": "markdown",
   "id": "9dbe03b3-1e51-49a7-8826-8d01150fb547",
   "metadata": {},
   "source": [
    "- Path is simply a way to specify a location on your computer. It is like an address.\n",
    "- can specify your path **absolutely or relatively**."
   ]
  },
  {
   "cell_type": "markdown",
   "id": "9009e51e-9ce1-460b-b92e-bcea24f30a10",
   "metadata": {},
   "source": [
    "### Example "
   ]
  },
  {
   "cell_type": "markdown",
   "id": "e896d078-910a-4763-a775-45ca740b12ab",
   "metadata": {},
   "source": [
    "```python\n",
    "# absolute path\n",
    "C:\\\\Users\\Chammika\\Desktop\\data-01.txt\n",
    "```"
   ]
  },
  {
   "attachments": {},
   "cell_type": "markdown",
   "id": "ab7ae62b",
   "metadata": {},
   "source": [
    "## 1.2 More about relative paths"
   ]
  },
  {
   "cell_type": "markdown",
   "id": "2b7ef016-40a1-45f8-924f-4d13b49ca7fd",
   "metadata": {},
   "source": [
    "|Notation|Meaning|\n",
    "|:---:|:---:|\n",
    "|.|'this folder'|\n",
    "|..|'one folder above'|"
   ]
  },
  {
   "cell_type": "markdown",
   "id": "7d3d3c74-b360-4d01-ab95-697451885d28",
   "metadata": {},
   "source": [
    ".\\data-files\\data-01.txt means the file data-01.txt in the folder data-files in the current folder."
   ]
  },
  {
   "cell_type": "markdown",
   "id": "96dedf9b-5302-4cea-8ca1-11d84d4ee57a",
   "metadata": {},
   "source": [
    "..\\data-files\\data-01.txt means the file data-01.txt in the folder data-files located in the folder above."
   ]
  },
  {
   "attachments": {},
   "cell_type": "markdown",
   "id": "da151a62",
   "metadata": {},
   "source": [
    "### macOS or Linux"
   ]
  },
  {
   "cell_type": "markdown",
   "id": "0a06003f-ae6f-4e2b-bb73-0419393947f5",
   "metadata": {},
   "source": [
    "macOS and Linux allow you to use ~ to refer to your home directory. So, for example, you can access the Desktop in these systems ‘relatively’ with ~/Desktop. \n",
    "\n",
    "So, we can look for a file in my Desktop using:"
   ]
  },
  {
   "cell_type": "markdown",
   "id": "28e1dd05-1896-4f17-ae11-9a2ffc53c90f",
   "metadata": {},
   "source": [
    "```python\n",
    "~\\Desktop\\data-01.txt\n",
    "```"
   ]
  },
  {
   "attachments": {},
   "cell_type": "markdown",
   "id": "5d5d05ef",
   "metadata": {},
   "source": [
    "## 1.3 Path separator"
   ]
  },
  {
   "cell_type": "markdown",
   "id": "5999d8dd-b96d-4ee1-8654-c89cd4dfeb04",
   "metadata": {},
   "source": [
    "- one of the most striking differences between Windows and macOS (or Linux) is the path separator.\n",
    "- Windows uses \\ as the path separator while macOS (or Linux) uses /"
   ]
  },
  {
   "cell_type": "markdown",
   "id": "a7d5dae1-1612-4ad2-bc70-cb32f54403b4",
   "metadata": {},
   "source": [
    "### Examples of absolute paths"
   ]
  },
  {
   "cell_type": "markdown",
   "id": "8d69cd60-aa47-401e-a331-fb2bd1dae946",
   "metadata": {},
   "source": [
    "Window\n",
    "\n",
    "C:\\\\Users\\chammika\\Desktop\\data-01.txt\n",
    "\n",
    "macOS (or Linux)\t\n",
    "\n",
    "/Users/chammika/Desktop/data-01.txt"
   ]
  },
  {
   "cell_type": "markdown",
   "id": "78dc5eaf-b34d-4e92-9c6a-bbcd0e88b2d1",
   "metadata": {},
   "source": [
    "If you want to share your code and want it to work on both systems, you **must not hardcode** either path separator."
   ]
  },
  {
   "attachments": {},
   "cell_type": "markdown",
   "id": "f5a6df50",
   "metadata": {},
   "source": [
    "## 1.4 Text files vs. Binary files"
   ]
  },
  {
   "cell_type": "markdown",
   "id": "b8210ae2-f973-46a0-80aa-c5d4787dc02b",
   "metadata": {},
   "source": [
    "Can think of all files on your computer as being either text files or binary files."
   ]
  },
  {
   "cell_type": "markdown",
   "id": "cc998a27-6243-44d1-b5c9-1469878a2ced",
   "metadata": {},
   "source": [
    "### Text files"
   ]
  },
  {
   "cell_type": "markdown",
   "id": "b721c689-93f7-4731-adf1-c8b3fdd9a44d",
   "metadata": {},
   "source": [
    "-  simple and can be opened\n",
    "-  their contents examined by almost any software (e.g., Notepad, TextEdit, Jupiter,…)\n",
    "-   text file formats are .txt, .md or .csv"
   ]
  },
  {
   "cell_type": "markdown",
   "id": "149bcc35-7416-43b4-abd7-4d5800cafb8b",
   "metadata": {},
   "source": [
    "### Binary files"
   ]
  },
  {
   "cell_type": "markdown",
   "id": "aca31760-05a8-482e-8f35-51cd970a453d",
   "metadata": {},
   "source": [
    "-  require some processing to make sense of what they contain\n",
    "-  some binary files will only run on specific OSs. Example, excel.app on Mac will not run on window and vice versa. \n",
    "- Advantages: higher speed and smaller size (more efficient)"
   ]
  },
  {
   "attachments": {},
   "cell_type": "markdown",
   "id": "19d3237f",
   "metadata": {},
   "source": [
    "## 1.5 Extensions"
   ]
  },
  {
   "cell_type": "markdown",
   "id": "88f33ae9-6422-4a02-9b5a-e3c475ac2348",
   "metadata": {},
   "source": [
    "- Files are usually named to end with an extension separated from the name by a . like name.extension\n",
    "- lets the OS know what software or app to use to extract the details in a file\n",
    "- Be careful about changing the extension of a file (it might not work)"
   ]
  },
  {
   "attachments": {},
   "cell_type": "markdown",
   "id": "15e02357",
   "metadata": {},
   "source": [
    "# 2 Opening and closing files"
   ]
  },
  {
   "cell_type": "markdown",
   "id": "c5ed1b59-3215-4580-ab6f-e798f1f855ba",
   "metadata": {},
   "source": [
    "using the with statement (called a context manager) to open a file for writing and reading"
   ]
  },
  {
   "attachments": {},
   "cell_type": "markdown",
   "id": "d4ee0805",
   "metadata": {},
   "source": [
    "## 2.1 Reading data"
   ]
  },
  {
   "cell_type": "code",
   "execution_count": 59,
   "id": "d811caa4-ba86-40da-834a-3e86b65962b5",
   "metadata": {},
   "outputs": [
    {
     "name": "stdout",
     "output_type": "stream",
     "text": [
      "Light Intensity, Ch A vs Actual Angular Position, Run #4\n",
      "Actual Angular Position (  )\tLight Intensity, Ch A ( % max )\n",
      "0.000\t-0.2\n",
      "0.000\t-0.1\n",
      "0.000\t-0.1\n",
      "0.000\t-0.1\n",
      "0.000\t-0.1\n",
      "0.000\t-0.2\n",
      "0.000\t-0.1\n",
      "0.000\t-0.1\n",
      "0.000\t-0.1\n",
      "0.000\t-0.2\n",
      "0.000\t-0.1\n",
      "0.000\t-0.1\n",
      "0.000\t-0.2\n",
      "0.000\t-0.3\n",
      "0.000\t-0.2\n",
      "0.000\t-0.2\n",
      "0.001\t-0.1\n",
      "0.001\t-0.1\n",
      "0.001\t-0.1\n",
      "0.001\t-0.1\n",
      "0.001\t-0.1\n",
      "0.001\t-0.1\n",
      "0.004\t-0.1\n",
      "0.010\t-0.2\n",
      "0.018\t-0.2\n",
      "0.024\t-0.3\n",
      "0.029\t-0.3\n",
      "0.033\t-0.3\n",
      "0.036\t-0.2\n",
      "0.039\t-0.1\n",
      "0.043\t-0.1\n",
      "0.047\t-0.1\n",
      "0.053\t-0.1\n",
      "0.060\t-0.1\n",
      "0.066\t-0.1\n",
      "0.069\t-0.1\n",
      "0.073\t-0.1\n",
      "0.076\t-0.1\n",
      "0.079\t-0.1\n",
      "0.081\t-0.1\n",
      "0.082\t-0.1\n",
      "0.083\t-0.2\n",
      "0.083\t-0.2\n",
      "0.086\t-0.2\n",
      "0.090\t-0.2\n",
      "0.095\t-0.2\n",
      "0.100\t-0.3\n",
      "0.103\t-0.3\n",
      "0.104\t-0.2\n",
      "0.105\t-0.3\n",
      "0.107\t-0.2\n",
      "0.110\t-0.2\n",
      "0.115\t-0.1\n",
      "0.122\t-0.2\n",
      "0.128\t-0.1\n",
      "0.134\t-0.2\n",
      "0.139\t-0.1\n",
      "0.144\t-0.2\n",
      "0.150\t-0.2\n",
      "0.157\t-0.2\n",
      "0.164\t-0.2\n",
      "0.170\t-0.3\n",
      "0.175\t-0.3\n",
      "0.180\t-0.2\n",
      "0.185\t-0.2\n",
      "0.191\t-0.1\n",
      "0.195\t-0.1\n",
      "0.198\t-0.2\n",
      "0.201\t-0.1\n",
      "0.204\t-0.2\n",
      "0.206\t-0.2\n",
      "0.208\t-0.3\n",
      "0.210\t-0.3\n",
      "0.213\t-0.1\n",
      "0.217\t0.3\n",
      "0.222\t0.6\n",
      "0.226\t0.2\n",
      "0.230\t0.0\n",
      "0.233\t-0.1\n",
      "0.235\t-0.1\n",
      "0.237\t-0.1\n",
      "0.237\t-0.1\n",
      "0.238\t-0.1\n",
      "0.241\t-0.1\n",
      "0.245\t-0.1\n",
      "0.249\t-0.1\n",
      "0.252\t-0.1\n",
      "0.254\t-0.2\n",
      "0.257\t-0.2\n",
      "0.260\t-0.2\n",
      "0.263\t-0.3\n",
      "0.266\t-0.3\n",
      "0.269\t-0.2\n",
      "0.271\t-0.1\n",
      "0.274\t-0.1\n",
      "0.277\t-0.2\n",
      "0.279\t-0.1\n",
      "0.282\t-0.2\n",
      "0.285\t-0.1\n",
      "0.289\t-0.2\n",
      "0.292\t-0.2\n",
      "0.297\t-0.3\n",
      "0.300\t-0.2\n",
      "0.304\t-0.1\n",
      "0.307\t-0.1\n",
      "0.310\t-0.2\n",
      "0.312\t-0.1\n",
      "0.316\t-0.1\n",
      "0.320\t-0.2\n",
      "0.325\t-0.3\n",
      "0.330\t-0.2\n",
      "0.334\t-0.1\n",
      "0.336\t-0.1\n",
      "0.338\t-0.1\n",
      "0.340\t-0.1\n",
      "0.343\t-0.1\n",
      "0.346\t-0.2\n",
      "0.349\t-0.3\n",
      "0.353\t-0.1\n",
      "0.357\t-0.1\n",
      "0.362\t-0.1\n",
      "0.367\t-0.2\n",
      "0.369\t-0.1\n",
      "0.371\t-0.2\n",
      "0.371\t-0.1\n",
      "0.372\t-0.2\n",
      "0.372\t-0.2\n",
      "0.372\t-0.1\n",
      "0.373\t-0.2\n",
      "0.374\t-0.1\n",
      "0.376\t-0.2\n",
      "0.378\t-0.1\n",
      "0.380\t-0.2\n",
      "0.382\t-0.2\n",
      "0.384\t-0.2\n",
      "0.385\t-0.2\n",
      "0.386\t-0.2\n",
      "0.387\t-0.2\n",
      "0.389\t-0.3\n",
      "0.391\t-0.3\n",
      "0.394\t-0.2\n",
      "0.398\t-0.1\n",
      "0.401\t-0.1\n",
      "0.404\t-0.1\n",
      "0.405\t-0.1\n",
      "0.406\t-0.1\n",
      "0.408\t-0.1\n",
      "0.411\t-0.1\n",
      "0.414\t-0.2\n",
      "0.417\t-0.1\n",
      "0.420\t-0.2\n",
      "0.423\t-0.1\n",
      "0.425\t-0.2\n",
      "0.427\t-0.1\n",
      "0.430\t-0.1\n",
      "0.433\t-0.1\n",
      "0.437\t-0.2\n",
      "0.440\t-0.2\n",
      "0.443\t-0.1\n",
      "0.446\t-0.1\n",
      "0.449\t-0.1\n",
      "0.453\t-0.1\n",
      "0.458\t-0.1\n",
      "0.462\t-0.2\n",
      "0.466\t-0.2\n",
      "0.469\t-0.2\n",
      "0.472\t-0.3\n",
      "0.474\t-0.3\n",
      "0.477\t-0.2\n",
      "0.481\t-0.1\n",
      "0.486\t-0.1\n",
      "0.490\t-0.1\n",
      "0.493\t-0.1\n",
      "0.496\t0.0\n",
      "0.498\t0.0\n",
      "0.501\t-0.1\n",
      "0.503\t-0.1\n",
      "0.505\t-0.2\n",
      "0.507\t-0.3\n",
      "0.510\t-0.1\n",
      "0.513\t-0.1\n",
      "0.516\t-0.1\n",
      "0.519\t-0.1\n",
      "0.523\t-0.1\n",
      "0.526\t-0.1\n",
      "0.529\t-0.1\n",
      "0.533\t-0.1\n",
      "0.537\t-0.1\n",
      "0.541\t-0.2\n",
      "0.544\t-0.1\n",
      "0.547\t-0.1\n",
      "0.549\t-0.1\n",
      "0.551\t-0.1\n",
      "0.554\t-0.1\n",
      "0.557\t-0.1\n",
      "0.561\t-0.1\n",
      "0.564\t-0.1\n",
      "0.568\t-0.2\n",
      "0.572\t-0.2\n",
      "0.577\t-0.2\n",
      "0.581\t-0.1\n",
      "0.586\t0.0\n",
      "0.588\t0.0\n",
      "0.590\t-0.1\n",
      "0.592\t-0.1\n",
      "0.593\t-0.2\n",
      "0.596\t-0.2\n",
      "0.599\t-0.2\n",
      "0.602\t-0.2\n",
      "0.605\t-0.2\n",
      "0.606\t-0.2\n",
      "0.607\t-0.2\n",
      "0.609\t-0.1\n",
      "0.610\t-0.1\n",
      "0.613\t0.0\n",
      "0.615\t0.0\n",
      "0.617\t-0.1\n",
      "0.619\t-0.1\n",
      "0.622\t-0.2\n",
      "0.624\t-0.1\n",
      "0.626\t0.0\n",
      "0.629\t0.1\n",
      "0.632\t0.1\n",
      "0.634\t0.0\n",
      "0.637\t0.0\n",
      "0.639\t0.0\n",
      "0.641\t0.0\n",
      "0.643\t0.0\n",
      "0.645\t0.0\n",
      "0.648\t0.0\n",
      "0.650\t0.0\n",
      "0.653\t0.0\n",
      "0.656\t0.0\n",
      "0.658\t-0.1\n",
      "0.661\t-0.2\n",
      "0.663\t0.0\n",
      "0.666\t0.0\n",
      "0.670\t0.0\n",
      "0.676\t0.0\n",
      "0.680\t0.0\n",
      "0.684\t0.0\n",
      "0.686\t0.1\n",
      "0.686\t0.1\n",
      "0.687\t0.0\n",
      "0.689\t0.0\n",
      "0.693\t0.1\n",
      "0.697\t0.3\n",
      "0.701\t0.5\n",
      "0.703\t1.2\n",
      "0.705\t7.1\n",
      "0.707\t23.7\n",
      "0.709\t51.4\n",
      "0.710\t61.3\n",
      "0.712\t48.9\n",
      "0.714\t25.8\n",
      "0.715\t12.1\n",
      "0.717\t4.6\n",
      "0.718\t1.8\n",
      "0.721\t0.7\n",
      "0.723\t0.5\n",
      "0.724\t0.4\n",
      "0.726\t0.4\n",
      "0.727\t0.4\n",
      "0.728\t0.3\n",
      "0.730\t0.2\n",
      "0.732\t0.2\n",
      "0.735\t0.1\n",
      "0.737\t0.2\n",
      "0.740\t0.2\n",
      "0.742\t0.2\n",
      "0.744\t0.1\n",
      "0.746\t0.1\n",
      "0.748\t0.1\n",
      "0.749\t0.1\n",
      "0.750\t0.0\n",
      "0.752\t0.0\n",
      "0.754\t0.1\n",
      "0.756\t0.1\n",
      "0.758\t0.1\n",
      "0.761\t0.1\n",
      "0.764\t0.0\n",
      "0.766\t-0.1\n",
      "0.768\t-0.1\n",
      "0.770\t-0.1\n",
      "0.772\t0.0\n",
      "0.774\t0.0\n",
      "0.777\t0.0\n",
      "0.779\t0.0\n",
      "0.780\t0.0\n",
      "0.782\t0.0\n",
      "0.784\t-0.1\n",
      "0.785\t0.0\n",
      "0.787\t0.0\n",
      "0.789\t0.0\n",
      "0.791\t0.0\n",
      "0.793\t0.0\n",
      "0.795\t0.0\n",
      "0.797\t-0.1\n",
      "0.800\t0.0\n",
      "0.804\t0.0\n",
      "0.806\t0.0\n",
      "0.809\t0.0\n",
      "0.811\t0.1\n",
      "0.813\t0.9\n",
      "0.815\t3.0\n",
      "0.817\t5.9\n",
      "0.819\t6.6\n",
      "0.821\t4.0\n",
      "0.823\t1.3\n",
      "0.826\t0.2\n",
      "0.828\t0.1\n",
      "0.831\t0.1\n",
      "0.833\t0.1\n",
      "0.836\t0.1\n",
      "0.838\t0.1\n",
      "0.840\t0.1\n",
      "0.843\t0.1\n",
      "0.847\t0.2\n",
      "0.850\t1.0\n",
      "0.854\t0.8\n",
      "0.856\t0.3\n",
      "0.858\t0.1\n",
      "0.860\t0.0\n",
      "0.862\t0.1\n",
      "0.864\t0.1\n",
      "0.866\t0.2\n",
      "0.869\t0.2\n",
      "0.872\t0.1\n",
      "0.875\t0.1\n",
      "0.878\t0.1\n",
      "0.881\t0.1\n",
      "0.884\t0.1\n",
      "0.887\t0.1\n",
      "0.890\t0.0\n",
      "0.893\t0.1\n",
      "0.896\t0.0\n",
      "0.898\t0.1\n",
      "0.901\t0.0\n",
      "0.903\t0.0\n",
      "0.907\t0.0\n",
      "0.910\t0.0\n",
      "0.913\t0.0\n",
      "0.916\t0.0\n",
      "0.919\t0.0\n",
      "0.922\t0.0\n",
      "0.925\t0.0\n",
      "0.929\t0.0\n",
      "0.932\t0.0\n",
      "0.935\t0.0\n",
      "0.938\t0.0\n",
      "0.940\t0.0\n",
      "0.941\t0.0\n",
      "0.942\t0.0\n",
      "0.944\t0.0\n",
      "0.947\t0.0\n",
      "0.950\t0.0\n",
      "0.951\t0.0\n",
      "0.952\t0.0\n",
      "0.953\t0.0\n",
      "0.955\t0.0\n",
      "0.957\t0.0\n",
      "0.959\t0.0\n",
      "0.961\t0.0\n",
      "0.963\t0.0\n",
      "0.965\t0.0\n",
      "0.968\t0.0\n",
      "0.971\t0.0\n",
      "0.973\t0.1\n",
      "0.976\t0.1\n",
      "0.978\t0.0\n",
      "0.980\t0.1\n",
      "0.982\t0.1\n",
      "0.983\t0.0\n",
      "0.984\t0.0\n",
      "0.986\t0.1\n",
      "0.987\t0.0\n",
      "0.989\t0.1\n",
      "0.991\t0.1\n",
      "0.993\t0.1\n",
      "0.995\t0.1\n",
      "0.998\t0.1\n",
      "1.001\t0.1\n",
      "1.004\t0.2\n",
      "1.007\t0.2\n",
      "1.010\t0.1\n",
      "1.013\t0.1\n",
      "1.015\t0.1\n",
      "1.018\t0.1\n",
      "1.021\t0.1\n",
      "1.023\t0.1\n",
      "1.026\t0.1\n",
      "1.028\t0.2\n",
      "1.030\t0.3\n",
      "1.032\t0.3\n",
      "1.034\t0.3\n",
      "1.036\t0.4\n",
      "1.038\t0.4\n",
      "1.040\t0.4\n",
      "1.042\t0.5\n",
      "1.044\t0.5\n",
      "1.047\t0.5\n",
      "1.050\t0.6\n",
      "1.053\t0.7\n",
      "1.055\t0.7\n",
      "1.057\t0.8\n",
      "1.058\t0.9\n",
      "1.060\t1.0\n",
      "1.062\t1.2\n",
      "1.065\t1.3\n",
      "1.068\t1.4\n",
      "1.070\t1.3\n",
      "1.072\t1.3\n",
      "1.074\t1.3\n",
      "1.077\t1.4\n",
      "1.079\t1.6\n",
      "1.081\t1.8\n",
      "1.084\t2.1\n",
      "1.086\t2.4\n",
      "1.088\t2.7\n",
      "1.089\t3.2\n",
      "1.091\t3.8\n",
      "1.093\t4.5\n",
      "1.096\t5.4\n",
      "1.098\t6.7\n",
      "1.101\t8.8\n",
      "1.104\t13.1\n",
      "1.107\t97.1\n",
      "1.112\t97.0\n",
      "1.117\t97.0\n",
      "1.122\t45.6\n",
      "1.125\t11.9\n",
      "1.129\t9.1\n",
      "1.131\t7.6\n",
      "1.133\t7.0\n",
      "1.134\t6.3\n",
      "1.136\t5.9\n",
      "1.138\t5.3\n",
      "1.140\t4.8\n",
      "1.142\t4.2\n",
      "1.144\t3.5\n",
      "1.147\t3.0\n",
      "1.149\t2.6\n",
      "1.152\t2.2\n",
      "1.156\t2.1\n",
      "1.159\t1.8\n",
      "1.162\t1.7\n",
      "1.165\t1.5\n",
      "1.167\t1.4\n",
      "1.170\t1.2\n",
      "1.172\t1.2\n",
      "1.174\t0.9\n",
      "1.177\t0.8\n",
      "1.179\t0.6\n",
      "1.182\t0.4\n",
      "1.184\t0.3\n",
      "1.187\t0.3\n",
      "1.190\t0.2\n",
      "1.192\t0.2\n",
      "1.193\t0.2\n",
      "1.194\t0.2\n",
      "1.194\t0.2\n",
      "1.196\t0.2\n",
      "1.198\t0.2\n",
      "1.201\t0.1\n",
      "1.204\t0.1\n",
      "1.207\t0.1\n",
      "1.211\t0.1\n",
      "1.215\t0.1\n",
      "1.218\t0.0\n",
      "1.222\t0.1\n",
      "1.226\t0.0\n",
      "1.229\t0.0\n",
      "1.231\t-0.1\n",
      "1.234\t0.0\n",
      "1.237\t-0.1\n",
      "1.240\t0.0\n",
      "1.244\t0.0\n",
      "1.247\t0.0\n",
      "1.250\t0.0\n",
      "1.253\t0.0\n",
      "1.255\t0.0\n",
      "1.257\t0.0\n",
      "1.260\t0.0\n",
      "1.263\t0.0\n",
      "1.265\t0.0\n",
      "1.266\t0.0\n",
      "1.268\t0.0\n",
      "1.269\t0.0\n",
      "1.270\t0.0\n",
      "1.271\t0.0\n",
      "1.273\t0.0\n",
      "1.275\t0.0\n",
      "1.277\t0.0\n",
      "1.278\t0.0\n",
      "1.280\t0.0\n",
      "1.281\t0.0\n",
      "1.283\t0.0\n",
      "1.285\t0.0\n",
      "1.286\t0.0\n",
      "1.287\t0.0\n",
      "1.287\t0.0\n",
      "1.288\t-0.1\n",
      "1.289\t-0.1\n",
      "1.290\t-0.1\n",
      "1.291\t-0.2\n",
      "1.292\t-0.2\n",
      "1.292\t-0.2\n",
      "1.293\t-0.1\n",
      "1.294\t0.0\n",
      "1.295\t0.0\n",
      "1.296\t-0.1\n",
      "1.297\t-0.1\n",
      "1.298\t-0.1\n",
      "1.299\t0.0\n",
      "1.300\t0.0\n",
      "1.301\t0.0\n",
      "1.302\t-0.1\n",
      "1.303\t-0.1\n",
      "1.304\t0.0\n",
      "1.306\t-0.1\n",
      "1.306\t-0.1\n",
      "1.308\t-0.1\n",
      "1.309\t-0.1\n",
      "1.311\t-0.2\n",
      "1.312\t-0.2\n",
      "1.313\t-0.2\n",
      "1.314\t-0.1\n",
      "1.316\t0.0\n",
      "1.317\t0.0\n",
      "1.318\t-0.1\n",
      "1.319\t-0.1\n",
      "1.319\t0.0\n",
      "1.320\t0.0\n",
      "1.322\t-0.1\n",
      "1.323\t-0.1\n",
      "1.325\t-0.1\n",
      "1.327\t-0.1\n",
      "1.329\t0.0\n",
      "1.332\t-0.1\n",
      "1.334\t-0.1\n",
      "1.335\t-0.1\n",
      "1.336\t-0.1\n",
      "1.338\t-0.1\n",
      "1.340\t0.0\n",
      "1.341\t-0.1\n",
      "1.343\t0.0\n",
      "1.344\t-0.1\n",
      "1.345\t-0.2\n",
      "1.347\t0.0\n",
      "1.348\t0.0\n",
      "1.349\t0.0\n",
      "1.351\t0.0\n",
      "1.352\t0.0\n",
      "1.353\t0.0\n",
      "1.354\t0.0\n",
      "1.356\t0.0\n",
      "1.358\t0.0\n",
      "1.359\t0.0\n",
      "1.361\t0.0\n",
      "1.363\t0.0\n",
      "1.366\t0.1\n",
      "1.368\t0.1\n",
      "1.369\t0.0\n",
      "1.370\t0.0\n",
      "1.371\t0.0\n",
      "1.372\t0.0\n",
      "1.373\t0.0\n",
      "1.374\t0.0\n",
      "1.376\t0.0\n",
      "1.378\t0.1\n",
      "1.380\t0.3\n",
      "1.380\t0.5\n",
      "1.380\t0.5\n",
      "1.382\t0.4\n",
      "1.384\t0.3\n",
      "1.386\t0.1\n",
      "1.386\t0.0\n",
      "1.386\t0.0\n",
      "1.388\t0.0\n",
      "1.389\t-0.1\n",
      "1.389\t0.0\n",
      "1.389\t-0.1\n",
      "1.389\t-0.1\n",
      "1.389\t-0.2\n",
      "1.390\t0.0\n",
      "1.391\t0.0\n",
      "1.393\t0.0\n",
      "1.396\t0.0\n",
      "1.398\t0.0\n",
      "1.400\t0.0\n",
      "1.401\t0.0\n",
      "1.402\t0.0\n",
      "1.404\t0.0\n",
      "1.405\t0.0\n",
      "1.406\t0.1\n",
      "1.408\t0.7\n",
      "1.409\t2.0\n",
      "1.411\t3.2\n",
      "1.413\t3.8\n",
      "1.415\t2.4\n",
      "1.418\t0.7\n",
      "1.420\t0.1\n",
      "1.423\t0.0\n",
      "1.425\t0.0\n",
      "1.428\t0.0\n",
      "1.430\t0.0\n",
      "1.432\t0.0\n",
      "1.433\t0.0\n",
      "1.435\t0.0\n",
      "1.436\t-0.1\n",
      "1.437\t-0.1\n",
      "1.439\t-0.2\n",
      "1.441\t0.0\n",
      "1.443\t0.0\n",
      "1.445\t0.0\n",
      "1.448\t0.0\n",
      "1.449\t0.0\n",
      "1.451\t0.0\n",
      "1.453\t0.0\n",
      "1.454\t0.0\n",
      "1.456\t0.0\n",
      "1.457\t0.0\n",
      "1.459\t0.0\n",
      "1.461\t0.0\n",
      "1.463\t0.0\n",
      "1.465\t-0.1\n",
      "1.467\t-0.1\n",
      "1.468\t-0.1\n",
      "1.470\t0.0\n",
      "1.472\t0.0\n",
      "1.473\t0.0\n",
      "1.476\t0.0\n",
      "1.478\t0.0\n",
      "1.480\t0.0\n",
      "1.483\t0.0\n",
      "1.486\t0.0\n",
      "1.489\t0.0\n",
      "1.492\t0.0\n",
      "1.495\t0.0\n",
      "1.499\t0.0\n",
      "1.502\t0.1\n",
      "1.507\t0.1\n",
      "1.510\t0.2\n",
      "1.513\t0.3\n",
      "1.515\t0.5\n",
      "1.518\t5.8\n",
      "1.521\t28.1\n",
      "1.525\t36.1\n",
      "1.528\t10.0\n",
      "1.531\t1.3\n",
      "1.533\t0.4\n",
      "1.535\t0.3\n",
      "1.537\t0.2\n",
      "1.540\t0.2\n",
      "1.543\t0.1\n",
      "1.546\t0.1\n",
      "1.550\t0.0\n",
      "1.553\t0.0\n",
      "1.556\t-0.1\n",
      "1.559\t-0.1\n",
      "1.562\t0.0\n",
      "1.565\t0.0\n",
      "1.569\t0.0\n",
      "1.572\t0.0\n",
      "1.575\t0.0\n",
      "1.577\t0.0\n",
      "1.581\t-0.2\n",
      "1.585\t-0.2\n",
      "1.589\t-0.1\n",
      "1.593\t0.0\n",
      "1.596\t-0.1\n",
      "1.597\t-0.1\n",
      "1.598\t-0.1\n",
      "1.599\t-0.1\n",
      "1.601\t-0.1\n",
      "1.602\t0.0\n",
      "1.603\t0.0\n",
      "1.606\t0.0\n",
      "1.611\t-0.2\n",
      "1.616\t-0.3\n",
      "1.623\t-0.2\n",
      "1.628\t-0.1\n",
      "1.633\t-0.1\n",
      "1.639\t-0.1\n",
      "1.644\t-0.1\n",
      "1.649\t-0.1\n",
      "1.654\t0.0\n",
      "1.658\t-0.1\n",
      "1.663\t-0.1\n",
      "1.667\t-0.1\n",
      "1.671\t-0.1\n",
      "1.675\t-0.1\n",
      "1.679\t-0.3\n",
      "1.684\t-0.2\n",
      "1.688\t-0.1\n",
      "1.693\t-0.1\n",
      "1.696\t-0.1\n",
      "1.700\t-0.1\n",
      "1.704\t-0.1\n",
      "1.707\t-0.1\n",
      "1.710\t-0.1\n",
      "1.712\t-0.1\n",
      "1.714\t-0.1\n",
      "1.717\t-0.1\n",
      "1.721\t-0.1\n",
      "1.726\t-0.1\n",
      "1.731\t-0.1\n",
      "1.734\t-0.1\n",
      "1.737\t-0.1\n",
      "1.739\t-0.1\n",
      "1.742\t-0.1\n",
      "1.745\t0.0\n",
      "1.749\t0.2\n",
      "1.752\t0.1\n",
      "1.756\t-0.1\n",
      "1.759\t-0.1\n",
      "1.762\t-0.1\n",
      "1.767\t-0.1\n",
      "1.772\t-0.3\n",
      "1.777\t-0.3\n",
      "1.783\t-0.2\n",
      "1.787\t-0.1\n",
      "1.792\t-0.2\n",
      "1.796\t-0.3\n",
      "1.800\t-0.2\n",
      "1.803\t-0.2\n",
      "1.808\t-0.2\n",
      "1.812\t-0.2\n",
      "1.818\t-0.1\n",
      "1.823\t-0.1\n",
      "1.828\t-0.1\n",
      "1.835\t-0.1\n",
      "1.844\t-0.1\n",
      "1.852\t-0.2\n",
      "1.859\t-0.1\n",
      "1.865\t-0.2\n",
      "1.870\t-0.1\n",
      "1.873\t-0.2\n",
      "1.874\t-0.2\n",
      "1.875\t-0.2\n",
      "1.877\t-0.2\n",
      "1.880\t-0.2\n",
      "1.883\t-0.2\n",
      "1.887\t-0.2\n",
      "1.892\t-0.3\n",
      "1.895\t-0.3\n",
      "1.898\t-0.2\n",
      "1.903\t-0.2\n",
      "1.907\t-0.2\n",
      "1.912\t-0.1\n",
      "1.918\t-0.1\n",
      "1.923\t-0.2\n",
      "1.929\t-0.2\n",
      "1.934\t-0.1\n",
      "1.940\t-0.1\n",
      "1.944\t-0.2\n",
      "1.948\t-0.2\n",
      "1.952\t-0.2\n",
      "1.955\t-0.2\n",
      "1.960\t-0.2\n",
      "1.966\t-0.2\n",
      "1.971\t-0.2\n",
      "1.975\t-0.1\n",
      "1.979\t-0.2\n",
      "1.985\t-0.3\n",
      "1.990\t-0.2\n",
      "1.997\t-0.1\n",
      "2.002\t-0.1\n",
      "2.007\t-0.2\n",
      "2.012\t-0.1\n",
      "2.017\t-0.2\n",
      "2.022\t-0.1\n",
      "2.027\t-0.2\n",
      "2.034\t-0.1\n",
      "2.041\t-0.1\n",
      "2.048\t1.1\n",
      "2.053\t1.6\n",
      "2.057\t0.7\n",
      "2.060\t0.1\n",
      "2.064\t0.0\n",
      "2.068\t-0.1\n",
      "2.073\t-0.1\n",
      "2.079\t-0.1\n",
      "2.086\t-0.1\n",
      "2.094\t-0.1\n",
      "2.100\t-0.2\n",
      "2.105\t-0.1\n",
      "2.109\t-0.1\n",
      "2.111\t-0.1\n",
      "2.115\t-0.2\n",
      "2.120\t-0.2\n",
      "2.124\t-0.1\n",
      "2.128\t-0.2\n",
      "2.131\t-0.1\n",
      "2.134\t-0.2\n",
      "2.135\t-0.1\n",
      "2.138\t-0.1\n",
      "2.140\t-0.1\n",
      "2.144\t-0.1\n",
      "2.148\t-0.1\n",
      "2.153\t-0.2\n",
      "2.158\t-0.2\n",
      "2.162\t-0.2\n",
      "2.166\t-0.2\n",
      "2.170\t-0.2\n",
      "2.175\t-0.2\n",
      "2.179\t-0.2\n",
      "2.183\t-0.1\n",
      "2.187\t-0.2\n",
      "2.191\t-0.2\n",
      "2.194\t-0.2\n",
      "2.197\t-0.2\n",
      "2.200\t-0.2\n",
      "2.203\t-0.2\n",
      "2.207\t-0.2\n",
      "2.211\t-0.1\n",
      "2.215\t-0.2\n",
      "2.219\t-0.2\n",
      "2.222\t-0.1\n",
      "2.224\t-0.2\n",
      "2.225\t-0.2\n",
      "2.225\t-0.2\n",
      "2.225\t-0.2\n",
      "2.225\t-0.3\n",
      "2.225\t-0.2\n",
      "2.225\t-0.3\n",
      "2.225\t-0.3\n",
      "2.225\t-0.3\n",
      "2.225\t-0.2\n",
      "2.225\t-0.1\n",
      "2.225\t-0.1\n",
      "2.225\t-0.1\n",
      "2.225\t-0.1\n",
      "2.225\t-0.1\n",
      "2.225\t-0.1\n",
      "2.225\t-0.2\n",
      "2.225\t-0.1\n",
      "2.225\t-0.1\n",
      "2.225\t-0.2\n",
      "2.225\t-0.1\n",
      "2.225\t-0.1\n",
      "2.225\t-0.1\n",
      "2.225\t-0.2\n",
      "2.225\t-0.2\n",
      "2.225\t-0.2\n",
      "2.225\t-0.1\n",
      "2.225\t-0.1\n",
      "2.225\t-0.2\n",
      "2.224\t-0.2\n",
      "2.224\t-0.2\n",
      "2.224\t-0.2\n",
      "2.224\t-0.2\n",
      "2.224\t-0.2\n",
      "2.224\t-0.2\n",
      "2.224\t-0.2\n",
      "2.224\t-0.3\n",
      "2.224\t-0.3\n",
      "2.224\t-0.2\n",
      "2.224\t-0.3\n",
      "2.224\t-0.3\n",
      "2.224\t-0.2\n",
      "2.224\t-0.3\n",
      "2.224\t-0.3\n",
      "2.224\t-0.3\n",
      "2.224\t-0.1\n",
      "2.224\t-0.2\n",
      "2.224\t-0.2\n",
      "2.224\t-0.2\n",
      "2.224\t-0.1\n",
      "2.224\t-0.1\n",
      "2.224\t-0.2\n",
      "2.224\t-0.2\n",
      "2.224\t-0.2\n",
      "2.224\t-0.2\n",
      "2.224\t-0.1\n",
      "2.224\t-0.1\n",
      "2.224\t-0.2\n",
      "2.224\t-0.2\n",
      "2.224\t-0.2\n",
      "2.224\t-0.2\n",
      "2.224\t-0.3\n",
      "2.224\t-0.2\n",
      "2.224\t-0.1\n",
      "2.224\t-0.1\n",
      "2.224\t-0.2\n",
      "2.224\t-0.2\n",
      "2.224\t-0.2\n",
      "2.224\t-0.2\n",
      "2.224\t-0.1\n",
      "2.224\t-0.2\n",
      "2.224\t-0.2\n",
      "2.224\t-0.2\n",
      "2.224\t-0.1\n",
      "2.224\t-0.2\n",
      "2.224\t-0.1\n",
      "2.224\t-0.2\n",
      "2.224\t-0.2\n",
      "2.224\t-0.2\n",
      "2.224\t-0.2\n",
      "2.224\t-0.2\n",
      "2.224\t-0.2\n",
      "2.224\t-0.2\n",
      "2.224\t-0.2\n",
      "2.224\t-0.2\n",
      "2.224\t-0.2\n",
      "2.224\t-0.2\n",
      "2.224\t-0.2\n",
      "2.224\t-0.2\n",
      "2.224\t-0.2\n",
      "2.224\t-0.2\n",
      "2.224\t-0.2\n",
      "2.224\t-0.3\n",
      "2.224\t-0.3\n",
      "2.224\t-0.3\n",
      "2.224\t-0.3\n",
      "2.224\t-0.3\n"
     ]
    }
   ],
   "source": [
    "with open('spectrum-01.txt', 'r') as file: # 'r' specific that I want to read from the file\n",
    "    file_content = file.read()             # with frees you from worrying about closing the file after you are done.\n",
    "\n",
    "print(file_content)"
   ]
  },
  {
   "attachments": {},
   "cell_type": "markdown",
   "id": "bf1f63ad",
   "metadata": {},
   "source": [
    "## 2.2 Writing data"
   ]
  },
  {
   "cell_type": "markdown",
   "id": "57390dad-1123-4650-a565-c6f02dd84fd1",
   "metadata": {},
   "source": [
    "Write the following into a file with 2 different methods:"
   ]
  },
  {
   "cell_type": "code",
   "execution_count": 60,
   "id": "004ccf0c-937d-45e3-bbbd-16044bf31e50",
   "metadata": {},
   "outputs": [],
   "source": [
    "text = 'Far out in the uncharted backwaters of the unfashionable end of the western spiral arm of the Galaxy lies a small unregarded yellow sun.\\nOrbiting this at a distance of roughly ninety-two million miles is an utterly insignificant little blue green planet whose ape-descended life forms are so amazingly primitive that they still think digital watches are a pretty neat idea.'"
   ]
  },
  {
   "cell_type": "code",
   "execution_count": 61,
   "id": "587180d8-ded2-4577-a931-b82d00b3b67b",
   "metadata": {},
   "outputs": [
    {
     "name": "stdout",
     "output_type": "stream",
     "text": [
      "Far out in the uncharted backwaters of the unfashionable end of the western spiral arm of the Galaxy lies a small unregarded yellow sun.\n",
      "Orbiting this at a distance of roughly ninety-two million miles is an utterly insignificant little blue green planet whose ape-descended life forms are so amazingly primitive that they still think digital watches are a pretty neat idea.\n"
     ]
    }
   ],
   "source": [
    "print(text)"
   ]
  },
  {
   "attachments": {},
   "cell_type": "markdown",
   "id": "8bc49936",
   "metadata": {},
   "source": [
    "### Writing to a file in one go"
   ]
  },
  {
   "cell_type": "code",
   "execution_count": 62,
   "id": "c120479d",
   "metadata": {},
   "outputs": [],
   "source": [
    "with open('my-text-once.txt', 'w') as file: #'w' indicate that I open a file to write\n",
    "    file.write(text)\n"
   ]
  },
  {
   "cell_type": "code",
   "execution_count": 63,
   "id": "1a3b296f-6f24-41c2-8734-3c44dee17535",
   "metadata": {},
   "outputs": [
    {
     "name": "stdout",
     "output_type": "stream",
     "text": [
      "Far out in the uncharted backwaters of the unfashionable end of the western spiral arm of the Galaxy lies a small unregarded yellow sun.\n",
      "Orbiting this at a distance of roughly ninety-two million miles is an utterly insignificant little blue green planet whose ape-descended life forms are so amazingly primitive that they still think digital watches are a pretty neat idea.\n"
     ]
    }
   ],
   "source": [
    "with open('my-text-once.txt', 'r') as a:\n",
    "    file_content_2 = a.read()\n",
    "\n",
    "print(file_content_2)"
   ]
  },
  {
   "attachments": {},
   "cell_type": "markdown",
   "id": "8a50a750",
   "metadata": {},
   "source": [
    "### Writing to a file, line by line"
   ]
  },
  {
   "cell_type": "code",
   "execution_count": 64,
   "id": "5f40b807",
   "metadata": {},
   "outputs": [],
   "source": [
    "# write in a single continuous line\n",
    "with open('my-text-lines.txt', 'w') as file:\n",
    "    for line in text.splitlines():\n",
    "        file.writelines(line)"
   ]
  },
  {
   "attachments": {},
   "cell_type": "markdown",
   "id": "874355c6",
   "metadata": {},
   "source": [
    "# 3 Some useful packages"
   ]
  },
  {
   "cell_type": "markdown",
   "id": "f7b9a506-256e-4725-98a7-ff2cc8b8ad38",
   "metadata": {},
   "source": [
    "| Package | Primarily used for                                                                |\n",
    "| ------- | --------------------------------------------------------------------------------- |\n",
    "| os      | To ‘talk’ to the OS to create, modify, delete folders and write OS-agnostic code. |\n",
    "| glob    | To search for files.                                                              |\n",
    "| shutil  | To copy files.                                                                    |"
   ]
  },
  {
   "cell_type": "markdown",
   "id": "af56af91-f0fa-4abe-9317-c26cf4a1de1d",
   "metadata": {},
   "source": [
    "These packages are already part of the standard Python library."
   ]
  },
  {
   "cell_type": "code",
   "execution_count": 65,
   "id": "bf66a1e9-ba68-42c6-a202-e23b85fd9729",
   "metadata": {},
   "outputs": [],
   "source": [
    "import os"
   ]
  },
  {
   "cell_type": "code",
   "execution_count": 66,
   "id": "0be61ea6-234a-4959-a1a3-6bf74f88dcd4",
   "metadata": {},
   "outputs": [],
   "source": [
    "import glob"
   ]
  },
  {
   "cell_type": "code",
   "execution_count": 67,
   "id": "28678c1a-b4b8-4940-84c5-88e2469d3c4c",
   "metadata": {},
   "outputs": [],
   "source": [
    "import shutil"
   ]
  },
  {
   "attachments": {},
   "cell_type": "markdown",
   "id": "1ede8c52",
   "metadata": {},
   "source": [
    "# 4 OS safe paths"
   ]
  },
  {
   "cell_type": "markdown",
   "id": "577f1612-3fc3-424a-95ce-b3021f3d9cb7",
   "metadata": {},
   "source": [
    "Consider a file data-01.txt in the sub-directory sg-data of the directory all-data.\n",
    "\n",
    "all-data -> sg-data -> data-01.txt\n"
   ]
  },
  {
   "cell_type": "markdown",
   "id": "f61f20c8-a333-431c-8c50-aacf46f83752",
   "metadata": {},
   "source": [
    "```python\n",
    "# to access data-01.txt\n",
    "path = os.path.join('.', 'all-data', 'sg-data', 'data-01.txt')\n",
    "print(path)\n",
    "\n",
    "# what will show up (Windows)\n",
    "'.\\\\all-data\\\\sg-data\\\\data-01.txt'\n",
    "\n",
    "# what will show up (not windows)\n",
    "'./all-data/sg-data/data-01.txt'\n",
    "```"
   ]
  },
  {
   "cell_type": "markdown",
   "id": "bf155508-1be9-45ff-b0b7-b2ccc679a90b",
   "metadata": {},
   "source": [
    " Using os.path.join() will adjust your path with either / or \\ as necessary. (your code can run seamlessly on all OS)"
   ]
  },
  {
   "attachments": {},
   "cell_type": "markdown",
   "id": "2eb6d9c0",
   "metadata": {},
   "source": [
    "# 5 Folders"
   ]
  },
  {
   "attachments": {},
   "cell_type": "markdown",
   "id": "d133808a",
   "metadata": {},
   "source": [
    "## 5.1 Creating folders"
   ]
  },
  {
   "cell_type": "markdown",
   "id": "b814ad9f-71e0-445a-b09f-b35188d155a5",
   "metadata": {},
   "source": [
    "- very useful because you can write a tiny bit of code to quickly organise your data."
   ]
  },
  {
   "cell_type": "code",
   "execution_count": 68,
   "id": "e33559b1-088c-4627-bbe6-2d0653ff68ea",
   "metadata": {},
   "outputs": [
    {
     "ename": "FileExistsError",
     "evalue": "[WinError 183] Cannot create a file when that file already exists: 'people'",
     "output_type": "error",
     "traceback": [
      "\u001b[1;31m---------------------------------------------------------------------------\u001b[0m",
      "\u001b[1;31mFileExistsError\u001b[0m                           Traceback (most recent call last)",
      "Cell \u001b[1;32mIn[68], line 2\u001b[0m\n\u001b[0;32m      1\u001b[0m \u001b[38;5;66;03m# create a floder\u001b[39;00m\n\u001b[1;32m----> 2\u001b[0m \u001b[43mos\u001b[49m\u001b[38;5;241;43m.\u001b[39;49m\u001b[43mmkdir\u001b[49m\u001b[43m(\u001b[49m\u001b[38;5;124;43m'\u001b[39;49m\u001b[38;5;124;43mpeople\u001b[39;49m\u001b[38;5;124;43m'\u001b[39;49m\u001b[43m)\u001b[49m\n\u001b[0;32m      4\u001b[0m \u001b[38;5;28;01mfor\u001b[39;00m person \u001b[38;5;129;01min\u001b[39;00m [\u001b[38;5;124m'\u001b[39m\u001b[38;5;124mJohn\u001b[39m\u001b[38;5;124m'\u001b[39m, \u001b[38;5;124m'\u001b[39m\u001b[38;5;124mPaul\u001b[39m\u001b[38;5;124m'\u001b[39m, \u001b[38;5;124m'\u001b[39m\u001b[38;5;124mRingo\u001b[39m\u001b[38;5;124m'\u001b[39m]:\n\u001b[0;32m      5\u001b[0m     path \u001b[38;5;241m=\u001b[39m os\u001b[38;5;241m.\u001b[39mpath\u001b[38;5;241m.\u001b[39mjoin(\u001b[38;5;124m'\u001b[39m\u001b[38;5;124mpeople\u001b[39m\u001b[38;5;124m'\u001b[39m, person) \u001b[38;5;66;03m# Files John. Paul and Ringo are now subfiles of People file\u001b[39;00m\n",
      "\u001b[1;31mFileExistsError\u001b[0m: [WinError 183] Cannot create a file when that file already exists: 'people'"
     ]
    }
   ],
   "source": [
    "# create a floder\n",
    "os.mkdir('people')\n",
    "\n",
    "for person in ['John', 'Paul', 'Ringo']:\n",
    "    path = os.path.join('people', person) # Files John. Paul and Ringo are now subfiles of People file\n",
    "    print(f'Creating {path}') # for outside world to follow what is happening\n",
    "    os.mkdir(path)"
   ]
  },
  {
   "attachments": {},
   "cell_type": "markdown",
   "id": "a9375a90",
   "metadata": {},
   "source": [
    "## 5.2 Checking for existence"
   ]
  },
  {
   "cell_type": "markdown",
   "id": "a7cda7f5-a091-4f9c-bd4b-f1ce593aeaab",
   "metadata": {},
   "source": [
    "- will complain if you try to run this code twice, saying that the file already exists\n",
    "- when you create resources, it is a good idea to check if they already exist\n",
    "- 2 ways to do so"
   ]
  },
  {
   "attachments": {},
   "cell_type": "markdown",
   "id": "e4f2e3d4",
   "metadata": {},
   "source": [
    "### Using try-except"
   ]
  },
  {
   "cell_type": "code",
   "execution_count": 69,
   "id": "bde82697",
   "metadata": {},
   "outputs": [
    {
     "name": "stdout",
     "output_type": "stream",
     "text": [
      "people\\John already exists; skipping creation.\n",
      "people\\Paul already exists; skipping creation.\n",
      "people\\Ringo already exists; skipping creation.\n"
     ]
    }
   ],
   "source": [
    "for person in ['John', 'Paul', 'Ringo']:\n",
    "    path = os.path.join('people', person)\n",
    "    try:\n",
    "        os.mkdir(path)\n",
    "        print(f'Creating {path}')\n",
    "    except FileExistsError: #accounting for the error\n",
    "        print(f'{path} already exists; skipping creation.')"
   ]
  },
  {
   "attachments": {},
   "cell_type": "markdown",
   "id": "fbdb4ded",
   "metadata": {},
   "source": [
    "### Using os.path.exists()"
   ]
  },
  {
   "cell_type": "code",
   "execution_count": 70,
   "id": "cfc0b3aa",
   "metadata": {},
   "outputs": [
    {
     "name": "stdout",
     "output_type": "stream",
     "text": [
      "people\\John already exists; skipping creation.\n",
      "people\\Paul already exists; skipping creation.\n",
      "people\\Ringo already exists; skipping creation.\n"
     ]
    }
   ],
   "source": [
    "for person in ['John', 'Paul', 'Ringo']:\n",
    "    path = os.path.join('people', person)\n",
    "    if os.path.exists(path):\n",
    "        print(f'{path} already exists; skipping creation.')\n",
    "    else:\n",
    "        os.mkdir(path)\n",
    "        print(f'Creating {path}')\n"
   ]
  },
  {
   "attachments": {},
   "cell_type": "markdown",
   "id": "fd24ff73",
   "metadata": {},
   "source": [
    "## 5.3 Copying files"
   ]
  },
  {
   "cell_type": "code",
   "execution_count": 71,
   "id": "7b31a5d6-f701-4765-8b61-d51cb6de5fd8",
   "metadata": {},
   "outputs": [
    {
     "name": "stdout",
     "output_type": "stream",
     "text": [
      "Copied file to people\\John\n",
      "Copied file to people\\Paul\n",
      "Copied file to people\\Ringo\n"
     ]
    }
   ],
   "source": [
    "# Copying the files (the logo png) into John, Paul and Ringo\n",
    "for person in ['John', 'Paul', 'Ringo']:\n",
    "    path_to_destination = os.path.join('people', person)\n",
    "    shutil.copy('sp2273_logo.png', path_to_destination)\n",
    "    print(f'Copied file to {path_to_destination}')"
   ]
  },
  {
   "cell_type": "code",
   "execution_count": 72,
   "id": "a73f6ff6-64b5-4979-b310-04ba9ae05b83",
   "metadata": {},
   "outputs": [
    {
     "name": "stdout",
     "output_type": "stream",
     "text": [
      "Moved logo to people\\John\\imgs\\sp2273_logo.png\n",
      "Moved logo to people\\Paul\\imgs\\sp2273_logo.png\n",
      "Moved logo to people\\Ringo\\imgs\\sp2273_logo.png\n"
     ]
    }
   ],
   "source": [
    "# creating a subfolder and move the logo file into that folder\n",
    "\n",
    "for person in ['John', 'Paul', 'Ringo']:\n",
    "    # Create folder 'imgs'\n",
    "    path_to_imgs = os.path.join('people', person, 'imgs')\n",
    "    if not os.path.exists(path_to_imgs):\n",
    "        os.mkdir(path_to_imgs)\n",
    "\n",
    "    # Move logo file\n",
    "    current_path_of_logo = os.path.join('people', person, 'sp2273_logo.png')\n",
    "    new_path_of_logo = os.path.join('people', person, 'imgs', 'sp2273_logo.png')\n",
    "\n",
    "    shutil.move(current_path_of_logo, new_path_of_logo)\n",
    "    print(f'Moved logo to {new_path_of_logo}')"
   ]
  },
  {
   "attachments": {},
   "cell_type": "markdown",
   "id": "2063fca8",
   "metadata": {},
   "source": [
    "# 6 Listing and looking for files"
   ]
  },
  {
   "cell_type": "markdown",
   "id": "86f19480-a8b0-4c16-8d6b-58da9578d682",
   "metadata": {},
   "source": [
    "### if I want all files in the current directory"
   ]
  },
  {
   "cell_type": "code",
   "execution_count": 73,
   "id": "adf47143-5dfa-4108-959a-5c96864636cb",
   "metadata": {},
   "outputs": [
    {
     "data": {
      "text/plain": [
       "['files,_folders_&_os_(need).ipynb',\n",
       " 'my-text-lines.txt',\n",
       " 'my-text-once.txt',\n",
       " 'people',\n",
       " 'sp2273_logo.png',\n",
       " 'spectrum-01.txt']"
      ]
     },
     "execution_count": 73,
     "metadata": {},
     "output_type": "execute_result"
    }
   ],
   "source": [
    "glob.glob('*')\n",
    "# * is called a wildcard (read as anything)\n",
    "# asking glob to give anything in the folder"
   ]
  },
  {
   "cell_type": "markdown",
   "id": "62ec72bf-548c-408b-b6e0-2d147672f05d",
   "metadata": {},
   "source": [
    "### Know what is inside the folders that start with PEO"
   ]
  },
  {
   "cell_type": "code",
   "execution_count": 74,
   "id": "7043bed1-b399-45ed-99a3-2b2b7fdc9bb9",
   "metadata": {},
   "outputs": [
    {
     "data": {
      "text/plain": [
       "['people\\\\John', 'people\\\\Paul', 'people\\\\Ringo']"
      ]
     },
     "execution_count": 74,
     "metadata": {},
     "output_type": "execute_result"
    }
   ],
   "source": [
    "glob.glob('peo*/*')"
   ]
  },
  {
   "cell_type": "markdown",
   "id": "94524927-3f95-43be-8218-6cc49ae52c6a",
   "metadata": {},
   "source": [
    "### See the whole detailed structure of the folder PEOPLE"
   ]
  },
  {
   "cell_type": "code",
   "execution_count": 75,
   "id": "2d1810d4-d2ca-47c2-892f-7edce9fb4154",
   "metadata": {},
   "outputs": [
    {
     "data": {
      "text/plain": [
       "['people\\\\',\n",
       " 'people\\\\John',\n",
       " 'people\\\\John\\\\imgs',\n",
       " 'people\\\\John\\\\imgs\\\\sp2273_logo.png',\n",
       " 'people\\\\Paul',\n",
       " 'people\\\\Paul\\\\imgs',\n",
       " 'people\\\\Paul\\\\imgs\\\\sp2273_logo.png',\n",
       " 'people\\\\Ringo',\n",
       " 'people\\\\Ringo\\\\imgs',\n",
       " 'people\\\\Ringo\\\\imgs\\\\sp2273_logo.png']"
      ]
     },
     "execution_count": 75,
     "metadata": {},
     "output_type": "execute_result"
    }
   ],
   "source": [
    "glob.glob('people/**', recursive=True)\n",
    "# Recursive = true will let the program dig through all sub-files directories\n",
    "# ** means all sub-files"
   ]
  },
  {
   "cell_type": "markdown",
   "id": "b1e3f701-2a40-404e-9660-210adfae0f8f",
   "metadata": {},
   "source": [
    "### Looking for a specific file type"
   ]
  },
  {
   "cell_type": "code",
   "execution_count": 76,
   "id": "37c36667-4445-4d1c-b3bb-99ca8b0a063e",
   "metadata": {},
   "outputs": [
    {
     "data": {
      "text/plain": [
       "['people\\\\John\\\\imgs\\\\sp2273_logo.png',\n",
       " 'people\\\\Paul\\\\imgs\\\\sp2273_logo.png',\n",
       " 'people\\\\Ringo\\\\imgs\\\\sp2273_logo.png']"
      ]
     },
     "execution_count": 76,
     "metadata": {},
     "output_type": "execute_result"
    }
   ],
   "source": [
    "# asking glob to go through the whole structure of people and show me anything with .png\n",
    "glob.glob('people/**/*.png', recursive=True)"
   ]
  },
  {
   "attachments": {},
   "cell_type": "markdown",
   "id": "00ae626a",
   "metadata": {},
   "source": [
    "# 7 Extracting file info"
   ]
  },
  {
   "cell_type": "markdown",
   "id": "1d82ab25-1327-488d-943b-4c1ef2c9c10a",
   "metadata": {},
   "source": [
    "- extract the filename, folder or extension"
   ]
  },
  {
   "cell_type": "code",
   "execution_count": 77,
   "id": "40c16adb-9286-4b94-8d0e-775c5c01fde0",
   "metadata": {},
   "outputs": [
    {
     "name": "stdout",
     "output_type": "stream",
     "text": [
      "people/Ringo/imgs/sp2273_logo.png png\n"
     ]
    }
   ],
   "source": [
    "# extract filename and extension\n",
    "path = 'people/Ringo/imgs/sp2273_logo.png'\n",
    "filename = path.split(os.path.sep)[-1]\n",
    "extension = filename.split('.')[-1]\n",
    "print(filename, extension)"
   ]
  },
  {
   "cell_type": "markdown",
   "id": "5339001c-0c79-417e-8ed5-5e3b540703b4",
   "metadata": {},
   "source": [
    "os.path.sep is the path separator (i.e. \\ or /) for the OS. \n",
    "\n",
    "Split the path where the separator occurred and picked the last element in the list."
   ]
  },
  {
   "cell_type": "code",
   "execution_count": 78,
   "id": "eb91cac7-946b-48a8-8e73-99f9aebbddbc",
   "metadata": {},
   "outputs": [],
   "source": [
    "# Using os for extracting info\n",
    "path = 'people/Ringo/imgs/sp2273_logo.png'"
   ]
  },
  {
   "cell_type": "code",
   "execution_count": 79,
   "id": "6aad40b0-1a5a-4405-8862-f4e5a878e9a8",
   "metadata": {},
   "outputs": [
    {
     "data": {
      "text/plain": [
       "('people/Ringo/imgs', 'sp2273_logo.png')"
      ]
     },
     "execution_count": 79,
     "metadata": {},
     "output_type": "execute_result"
    }
   ],
   "source": [
    "os.path.split(path)      # Split filename from the rest"
   ]
  },
  {
   "cell_type": "code",
   "execution_count": 80,
   "id": "889ff5d9-a71b-4b5f-bec4-8064804690b2",
   "metadata": {},
   "outputs": [
    {
     "data": {
      "text/plain": [
       "('people/Ringo/imgs/sp2273_logo', '.png')"
      ]
     },
     "execution_count": 80,
     "metadata": {},
     "output_type": "execute_result"
    }
   ],
   "source": [
    "os.path.splitext(path)   # Split extension"
   ]
  },
  {
   "cell_type": "code",
   "execution_count": 81,
   "id": "7ee639f9-e61c-4676-85b6-b4c0baef65bf",
   "metadata": {},
   "outputs": [
    {
     "data": {
      "text/plain": [
       "'people/Ringo/imgs'"
      ]
     },
     "execution_count": 81,
     "metadata": {},
     "output_type": "execute_result"
    }
   ],
   "source": [
    "os.path.dirname(path)    # Show the directory"
   ]
  },
  {
   "attachments": {},
   "cell_type": "markdown",
   "id": "9e289884",
   "metadata": {},
   "source": [
    "# 8 Deleting stuff"
   ]
  },
  {
   "cell_type": "markdown",
   "id": "68b4bf9d-18c4-43a6-b9e5-fc316c71946a",
   "metadata": {},
   "source": [
    "### Removing a file"
   ]
  },
  {
   "cell_type": "code",
   "execution_count": 82,
   "id": "dacf322d-d68b-4006-a57b-9042c1f8f8f9",
   "metadata": {},
   "outputs": [],
   "source": [
    "os.remove('people/Ringo/imgs/sp2273_logo.png') # cannot remove directories\n",
    "                                               # only the picture in the Ringo image subfolder is deleted"
   ]
  },
  {
   "cell_type": "code",
   "execution_count": 84,
   "id": "f41fb69f-af9d-4799-887b-b9076759aa16",
   "metadata": {},
   "outputs": [],
   "source": [
    "os.rmdir('people/Ringo') # remove an empty directory"
   ]
  },
  {
   "cell_type": "code",
   "execution_count": 86,
   "id": "6c08426f-b678-4971-b381-9a24a283b9b7",
   "metadata": {},
   "outputs": [],
   "source": [
    "shutil.rmtree('people/Ringo') # remove a directory with files"
   ]
  }
 ],
 "metadata": {
  "kernelspec": {
   "display_name": "Python 3 (ipykernel)",
   "language": "python",
   "name": "python3"
  },
  "language_info": {
   "codemirror_mode": {
    "name": "ipython",
    "version": 3
   },
   "file_extension": ".py",
   "mimetype": "text/x-python",
   "name": "python",
   "nbconvert_exporter": "python",
   "pygments_lexer": "ipython3",
   "version": "3.9.13"
  },
  "toc": {
   "base_numbering": 1,
   "nav_menu": {},
   "number_sections": true,
   "sideBar": true,
   "skip_h1_title": false,
   "title_cell": "Table of Contents",
   "title_sidebar": "Contents",
   "toc_cell": false,
   "toc_position": {},
   "toc_section_display": true,
   "toc_window_display": false
  },
  "vscode": {
   "interpreter": {
    "hash": "31f2aee4e71d21fbe5cf8b01ff0e069b9275f58929596ceb00d14d90e3e16cd6"
   }
  }
 },
 "nbformat": 4,
 "nbformat_minor": 5
}
