{
 "cells": [
  {
   "attachments": {},
   "cell_type": "markdown",
   "id": "123456",
   "metadata": {},
   "source": [
    "<div style=\"text-align:left;font-size:2em\"><span style=\"font-weight:bolder;font-size:1.25em\">SP2273 | Learning Portfolio</span><br><br><span style=\"font-weight:bold;color:darkred\">Functions (Good) Exercises</span></div>"
   ]
  },
  {
   "cell_type": "markdown",
   "id": "cb9c5948-59a4-4172-af4c-b1d742454342",
   "metadata": {},
   "source": [
    "### Exercise 1 (Celsius to Fahrenheit or Kelvin)"
   ]
  },
  {
   "cell_type": "markdown",
   "id": "cbc9e6c1-af42-431b-8da0-addb6307e9ae",
   "metadata": {},
   "source": [
    "- Develop a function named convert_celsius() to convert temperatures from Celsius to either Fahrenheit or Kelvin.\n",
    "- The function should take two arguments:\n",
    "1. temperature_celsius: The temperature in Celsius.\n",
    "1. target_scale (string): The target scale for conversion, with the default value set to 'Fahrenheit'.\n",
    "- The function should return the temperature in Kelvin if target_scale is 'Kelvin'; otherwise, it should return the temperature in Fahrenheit."
   ]
  },
  {
   "cell_type": "code",
   "execution_count": 25,
   "id": "a42c4bf9-e0d1-45d0-8037-b66d74237dd8",
   "metadata": {},
   "outputs": [],
   "source": [
    "def convert_celsius(temperature_celsius, target_scale ='Fahrenheit'):\n",
    "    if isinstance(temperature_celsius, int) or isinstance(temperature_celsius, float):\n",
    "        if target_scale == 'Fahrenheit':\n",
    "            output = temperature_celsius*9/5+32\n",
    "            return print(f'{temperature_celsius} celsius is {output:.2f} {target_scale}.')\n",
    "        elif target_scale == 'Kelvin' :\n",
    "            output = temperature_celsius + 273.15\n",
    "            return print(f'{temperature_celsius} celsius is {output:.2f} {target_scale}.')\n",
    "        else:\n",
    "            print('Please choose either Kelvin or Fahrenheit')\n",
    "    \n",
    "    else:\n",
    "        print(\"Please input a numerical data and Kelvin/Fahrenheit in the form of convert_celsius(temperature in Celsius, target_scale)\")\n",
    "        "
   ]
  },
  {
   "cell_type": "code",
   "execution_count": 26,
   "id": "604dfa61-f9c1-4bf2-bbb3-ce07ed66db1c",
   "metadata": {},
   "outputs": [
    {
     "name": "stdout",
     "output_type": "stream",
     "text": [
      "100 celsius is 373.15 Kelvin.\n"
     ]
    }
   ],
   "source": [
    "convert_celsius(100, 'Kelvin')"
   ]
  },
  {
   "cell_type": "code",
   "execution_count": 27,
   "id": "9fe29699-77ec-4284-ba6d-110dd3e2b594",
   "metadata": {},
   "outputs": [
    {
     "name": "stdout",
     "output_type": "stream",
     "text": [
      "105 celsius is 221.00 Fahrenheit.\n"
     ]
    }
   ],
   "source": [
    "convert_celsius(105)"
   ]
  },
  {
   "cell_type": "code",
   "execution_count": 28,
   "id": "ae627416-0cc8-42ab-8754-ee8fd08017ec",
   "metadata": {},
   "outputs": [
    {
     "name": "stdout",
     "output_type": "stream",
     "text": [
      "Please input a numerical data and Kelvin/Fahrenheit in the form of convert_celsius(temperature in Celsius, target_scale)\n"
     ]
    }
   ],
   "source": [
    "convert_celsius(\"abc\")"
   ]
  },
  {
   "cell_type": "markdown",
   "id": "a87bb607-263c-41f0-ac8b-f5115e0e2277",
   "metadata": {},
   "source": [
    "### Exercise 2 (Fahrenheit to Celsius or Kelvin) "
   ]
  },
  {
   "cell_type": "markdown",
   "id": "00db223f-a2fe-407b-bb74-22910ed4cbe5",
   "metadata": {},
   "source": [
    "- Develop a function called convert_fahrenheit() for converting temperatures from Fahrenheit to either Celsius or Kelvin.\n",
    "- The function should take two arguments:\n",
    "1. temperature_fahrenheit: The temperature in Fahrenheit.\n",
    "2. target_scale (string): The target scale for conversion, defaulting to 'Celsius'.\n",
    "- The function should return the temperature in Kelvin if target_scale is 'Kelvin'; otherwise, return it in Celsius."
   ]
  },
  {
   "cell_type": "code",
   "execution_count": 29,
   "id": "00b61076-f785-4076-9e4e-3312f906effa",
   "metadata": {},
   "outputs": [],
   "source": [
    "def convert_fahrenheit(temperature_fahrenheit, target_scale='Celsius'):\n",
    "    if isinstance(temperature_fahrenheit, int) or isinstance(temperature_fahrenheit, float):\n",
    "        if target_scale == 'Celsius':\n",
    "            output = (temperature_fahrenheit - 32) * 5 / 9\n",
    "            return print(f'{temperature_fahrenheit} fahrenheit is {output:.2f} {target_scale}.')\n",
    "        elif target_scale == 'Kelvin' :\n",
    "            output = (temperature_fahrenheit - 32) * 5 / 9 + 273.15\n",
    "            return print(f'{temperature_fahrenheit} fahrenheit is {output:.2f} {target_scale}.')\n",
    "        else:\n",
    "            print('Please choose either Kelvin or Celsius')\n",
    "    \n",
    "    else:\n",
    "        print('Please input a numerical data and Kelvin/Celsius in the form of convert_celsius(temeprature in degree Fahrenheit, target_scale)')\n",
    "\n",
    "\n"
   ]
  },
  {
   "cell_type": "code",
   "execution_count": 30,
   "id": "ac594236-30bc-4c23-a11e-6153b66e887d",
   "metadata": {},
   "outputs": [
    {
     "name": "stdout",
     "output_type": "stream",
     "text": [
      "100 fahrenheit is 310.93 Kelvin.\n"
     ]
    }
   ],
   "source": [
    "convert_fahrenheit(100, 'Kelvin')"
   ]
  },
  {
   "cell_type": "code",
   "execution_count": 31,
   "id": "b7f47f52-127d-4cbb-874c-6d91373c068e",
   "metadata": {},
   "outputs": [
    {
     "name": "stdout",
     "output_type": "stream",
     "text": [
      "0 fahrenheit is -17.78 Celsius.\n"
     ]
    }
   ],
   "source": [
    "convert_fahrenheit(0)"
   ]
  },
  {
   "cell_type": "code",
   "execution_count": 32,
   "id": "41dc3bba-460e-4896-b8e3-0c4219e5d105",
   "metadata": {},
   "outputs": [
    {
     "name": "stdout",
     "output_type": "stream",
     "text": [
      "Please input a numerical data and Kelvin/Celsius in the form of convert_celsius(temeprature in degree Fahrenheit, target_scale)\n"
     ]
    }
   ],
   "source": [
    "convert_fahrenheit('asd')"
   ]
  },
  {
   "cell_type": "markdown",
   "id": "70614d4e-1277-4a36-95ec-8c8a8a360a5a",
   "metadata": {},
   "source": [
    "### Exercise 3 (General Temperature Conversion)"
   ]
  },
  {
   "cell_type": "markdown",
   "id": "1a912e4e-3b7d-4ade-b316-793ca9f337d8",
   "metadata": {},
   "source": [
    "- Implement a function named convert_temperature() to perform general temperature conversions.\n",
    "- The function should take three arguments:\n",
    "1. temperature: The temperature to be converted.\n",
    "1. source_scale (string): The scale of the input temperature (either 'Celsius', 'Fahrenheit', or 'Kelvin').\n",
    "1. target_scale (string): The desired scale for the output temperature.\n",
    "- Remember to reuse your previous functions!"
   ]
  },
  {
   "cell_type": "code",
   "execution_count": 56,
   "id": "d3150af0-3287-40ca-9112-f834a35c3296",
   "metadata": {},
   "outputs": [],
   "source": [
    "\n",
    "        \n",
    "def convert_temperature(temperature, source_scale, target_scale):\n",
    "   if isinstance(temperature, int) or isinstance(temperature, float): \n",
    "       if source_scale == 'Celsius':\n",
    "           return convert_celsius(temperature, target_scale)\n",
    "       elif source_scale == 'Fahrenheit':\n",
    "           return convert_fahrenheit(temperature, target_scale)\n",
    "       elif source_scale == 'Kelvin':\n",
    "           if target_scale == 'Celsius':\n",
    "                output = temperature - 273.15\n",
    "                return print(f'{temperature} {source_scale} is {output:.2f} {target_scale}.')\n",
    "           elif target_scale == 'Fahrenheit':\n",
    "                output = convert_celsius(temperature - 273.15, target_scale='Fahrenheit')\n",
    "                return print(f'{temperature} {source_scale} is {output:.2f} {target_scale}.')\n",
    "           else:\n",
    "               print('Please choose either Kelvin or Celsius as a target_scale')\n",
    "   else:  \n",
    "       print('Please input a numerical data and Kelvin/Celsius/Fahrenheit as source_scale or target_scale in the form of convert_temperature(temeprature, source_scale, target_scale)')\n",
    "    \n",
    "       \n"
   ]
  },
  {
   "cell_type": "code",
   "execution_count": 57,
   "id": "39848ea7-fc21-446e-9551-b7b0cc88c889",
   "metadata": {},
   "outputs": [
    {
     "name": "stdout",
     "output_type": "stream",
     "text": [
      "0 Kelvin is -273.15 Celsius.\n"
     ]
    }
   ],
   "source": [
    "convert_temperature(0, 'Kelvin', 'Celsius')"
   ]
  },
  {
   "cell_type": "code",
   "execution_count": 58,
   "id": "3292c094-dfab-46e6-8bff-f360a2ff36c3",
   "metadata": {},
   "outputs": [
    {
     "name": "stdout",
     "output_type": "stream",
     "text": [
      "0 celsius is 273.15 Kelvin.\n"
     ]
    }
   ],
   "source": [
    "convert_temperature(0, 'Celsius', 'Kelvin')"
   ]
  },
  {
   "cell_type": "code",
   "execution_count": 59,
   "id": "7386ffe6-6b11-47be-b9e0-b67225666f09",
   "metadata": {},
   "outputs": [
    {
     "name": "stdout",
     "output_type": "stream",
     "text": [
      "0 fahrenheit is 255.37 Kelvin.\n"
     ]
    }
   ],
   "source": [
    "convert_temperature(0, 'Fahrenheit', 'Kelvin')"
   ]
  },
  {
   "cell_type": "code",
   "execution_count": null,
   "id": "9f350134-ea53-47c9-9d08-4aeebf100a92",
   "metadata": {},
   "outputs": [],
   "source": []
  }
 ],
 "metadata": {
  "kernelspec": {
   "display_name": "Python 3 (ipykernel)",
   "language": "python",
   "name": "python3"
  },
  "language_info": {
   "codemirror_mode": {
    "name": "ipython",
    "version": 3
   },
   "file_extension": ".py",
   "mimetype": "text/x-python",
   "name": "python",
   "nbconvert_exporter": "python",
   "pygments_lexer": "ipython3",
   "version": "3.9.13"
  },
  "toc": {
   "base_numbering": 1,
   "nav_menu": {},
   "number_sections": true,
   "sideBar": true,
   "skip_h1_title": false,
   "title_cell": "Table of Contents",
   "title_sidebar": "Contents",
   "toc_cell": false,
   "toc_position": {},
   "toc_section_display": true,
   "toc_window_display": false
  },
  "vscode": {
   "interpreter": {
    "hash": "31f2aee4e71d21fbe5cf8b01ff0e069b9275f58929596ceb00d14d90e3e16cd6"
   }
  }
 },
 "nbformat": 4,
 "nbformat_minor": 5
}
