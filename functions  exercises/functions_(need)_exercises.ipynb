{
 "cells": [
  {
   "attachments": {},
   "cell_type": "markdown",
   "id": "123456",
   "metadata": {},
   "source": [
    "<div style=\"text-align:left;font-size:2em\"><span style=\"font-weight:bolder;font-size:1.25em\">SP2273 | Learning Portfolio</span><br><br><span style=\"font-weight:bold;color:darkred\">Functions (Need) Exercises</span></div>"
   ]
  },
  {
   "cell_type": "markdown",
   "id": "e502b02b-a591-4315-bfb6-7b133a7656b5",
   "metadata": {},
   "source": [
    "### Exercise 1 (Do you know why?)"
   ]
  },
  {
   "cell_type": "markdown",
   "id": "a1e6cf1e-f571-4021-85db-44bc3f9ff9a7",
   "metadata": {},
   "source": [
    "The following code works as expected despite not having an else statement. Please use a Markdown cell to explain why"
   ]
  },
  {
   "cell_type": "code",
   "execution_count": 1,
   "id": "39313b06-fd0f-422b-ab0c-68b4745d373a",
   "metadata": {},
   "outputs": [],
   "source": [
    "def greeting(name):\n",
    "    if name == 'Batman':\n",
    "        return 'Hello Batman! So, nice to meet you!'\n",
    "    return f'Hello {name}!'"
   ]
  },
  {
   "cell_type": "markdown",
   "id": "e1a53bbd-b898-46de-b0c0-bad0287b5a9e",
   "metadata": {},
   "source": [
    "The second return statement located outside the if already works like an else statement. Hence, specifically in the case when we are defining a function, no else statement is required as we will be using return statement instead."
   ]
  },
  {
   "cell_type": "markdown",
   "id": "b040c170-7a78-4a0a-b575-83f6bf8ad9a7",
   "metadata": {},
   "source": [
    "### Exercise 2 (Chubby or not)"
   ]
  },
  {
   "cell_type": "markdown",
   "id": "84edeaea-2d0f-4717-a9ec-eaa20c68e191",
   "metadata": {},
   "source": [
    "Write a Python function named calculate_bmi.\n",
    "\n",
    "The function should take two parameters:\n",
    "- weight (in kilograms) and height (in meters).\n",
    "- The function should calculate the BMI (Body Mass Index) using the formula BMI = weight / (height ** 2).\n",
    "- Based on the calculated BMI, the function should return a string indicating the BMI category based on the following criteria:"
   ]
  },
  {
   "cell_type": "markdown",
   "id": "fa4f0895-0722-46e8-92d9-1a7e1e50efbe",
   "metadata": {},
   "source": [
    "| Category      | BMI range                 |\n",
    "| :------------- | :------------------------- |\n",
    "| Underweight   | BMI less than 18.5        |\n",
    "| Normal weight | BMI between 18.5 and 24.9 |\n",
    "| Overweight    | BMI between 25 and 29.9   |\n",
    "| Obesity       | BMI 30 or more            |"
   ]
  },
  {
   "cell_type": "code",
   "execution_count": 5,
   "id": "112f768b-485b-4b47-959b-0b8ee5560822",
   "metadata": {},
   "outputs": [],
   "source": [
    "# create the function to calculate BMI\n",
    "def calculate_bmi(weight, height):\n",
    "    bmi = weight / (height ** 2)\n",
    "    if bmi < 18.5:\n",
    "        return f'Your BMI is {bmi:.2f}, you are underweight'\n",
    "    if 18.5 <= bmi <= 24.9:\n",
    "        return f'Your BMI is {bmi:.2f}, you are normal weight' \n",
    "    if 25 <= bmi <= 29.9:\n",
    "        return f'Your BMI is {bmi:.2f}, you are overweight' \n",
    "    if bmi > 30:\n",
    "        return f'Your BMI is {bmi:.2f}, you are obesity'\n",
    "    \n",
    "\n"
   ]
  },
  {
   "cell_type": "code",
   "execution_count": 9,
   "id": "5bdc2261-5a4a-41e7-b1f4-79defeb9ccc1",
   "metadata": {},
   "outputs": [
    {
     "data": {
      "text/plain": [
       "'Your BMI is 18.26, you are underweight'"
      ]
     },
     "execution_count": 9,
     "metadata": {},
     "output_type": "execute_result"
    }
   ],
   "source": [
    "calculate_bmi(45, 1.57) "
   ]
  },
  {
   "cell_type": "code",
   "execution_count": 10,
   "id": "978bf5e1-fbd7-4d0a-bef4-f4ec081d6485",
   "metadata": {},
   "outputs": [
    {
     "data": {
      "text/plain": [
       "'Your BMI is 20.28, you are normal weight'"
      ]
     },
     "execution_count": 10,
     "metadata": {},
     "output_type": "execute_result"
    }
   ],
   "source": [
    "calculate_bmi(50, 1.57) "
   ]
  },
  {
   "cell_type": "code",
   "execution_count": 12,
   "id": "c215757b-76e8-4a06-bcef-b14767a11f87",
   "metadata": {},
   "outputs": [
    {
     "data": {
      "text/plain": [
       "'Your BMI is 26.37, you are overweight'"
      ]
     },
     "execution_count": 12,
     "metadata": {},
     "output_type": "execute_result"
    }
   ],
   "source": [
    "calculate_bmi(65, 1.57) "
   ]
  },
  {
   "cell_type": "code",
   "execution_count": 14,
   "id": "e36c0a6a-4085-4093-9db2-8cd07f4cf7cf",
   "metadata": {},
   "outputs": [
    {
     "data": {
      "text/plain": [
       "'Your BMI is 32.46, you are obesity'"
      ]
     },
     "execution_count": 14,
     "metadata": {},
     "output_type": "execute_result"
    }
   ],
   "source": [
    "calculate_bmi(80, 1.57) "
   ]
  },
  {
   "cell_type": "code",
   "execution_count": 15,
   "id": "ba4b3383-6348-4f8f-8ed8-40d9d3daf88a",
   "metadata": {},
   "outputs": [
    {
     "name": "stdout",
     "output_type": "stream",
     "text": [
      "Your BMI is 22.86, you are normal weight\n"
     ]
    }
   ],
   "source": [
    "# Alternative solution by incorporating a list of tuples\n",
    "def calculate_bmi_2(weight, height):\n",
    "    bmi = weight / (height ** 2)\n",
    "    \n",
    "    categories = [\n",
    "        (18.5, \"underweight\"),\n",
    "        (24.9, \"normal weight\"),\n",
    "        (29.9, \"overweight\"),\n",
    "        (float('inf'), \"obesity\") # float('inf') means positive infinity, on the contrary, -float('inf') means negative infinity\n",
    "    ]\n",
    "    \n",
    "    for threshold, category in categories:\n",
    "        if bmi <= threshold:\n",
    "            return f'Your BMI is {bmi:.2f}, you are {category}'\n",
    "\n",
    "# Example usage:\n",
    "weight = 70  # kilograms\n",
    "height = 1.75  # meters\n",
    "print(calculate_bmi_2(weight, height))\n"
   ]
  },
  {
   "cell_type": "markdown",
   "id": "b0cc129e-b3fc-44f4-aa75-3889043950db",
   "metadata": {},
   "source": [
    "### Footnotes"
   ]
  },
  {
   "cell_type": "markdown",
   "id": "6925859d-f734-4066-aa96-f5ee13d278f1",
   "metadata": {},
   "source": [
    "| Data Structure | Syntax                                     | Example                                             | Mutable |\n",
    "|----------------|--------------------------------------------|-----------------------------------------------------|---------|\n",
    "| List           | Enclosed in square brackets `[ ]`         | `my_list = [1, 2, 3, 4, 5]`                         | Yes     |\n",
    "| Array          | Imported from `array` module              | `import array`<br>`my_array = array.array('i', [1, 2, 3, 4, 5])` | Yes     |\n",
    "| Dictionary     | Enclosed in curly braces `{ }`            | `my_dict = {'key1': 'value1', 'key2': 'value2'}`    | Yes     |\n",
    "| Tuple          | Enclosed in parentheses `( )`             | `my_tuple = (1, 2, 3, 4, 5)`                         | No      |\n"
   ]
  },
  {
   "cell_type": "code",
   "execution_count": null,
   "id": "739077d1-89a5-4b15-a6a4-3b76e3bf99d1",
   "metadata": {},
   "outputs": [],
   "source": []
  }
 ],
 "metadata": {
  "kernelspec": {
   "display_name": "Python 3 (ipykernel)",
   "language": "python",
   "name": "python3"
  },
  "language_info": {
   "codemirror_mode": {
    "name": "ipython",
    "version": 3
   },
   "file_extension": ".py",
   "mimetype": "text/x-python",
   "name": "python",
   "nbconvert_exporter": "python",
   "pygments_lexer": "ipython3",
   "version": "3.9.13"
  },
  "toc": {
   "base_numbering": 1,
   "nav_menu": {},
   "number_sections": true,
   "sideBar": true,
   "skip_h1_title": false,
   "title_cell": "Table of Contents",
   "title_sidebar": "Contents",
   "toc_cell": false,
   "toc_position": {},
   "toc_section_display": true,
   "toc_window_display": false
  },
  "vscode": {
   "interpreter": {
    "hash": "31f2aee4e71d21fbe5cf8b01ff0e069b9275f58929596ceb00d14d90e3e16cd6"
   }
  }
 },
 "nbformat": 4,
 "nbformat_minor": 5
}
