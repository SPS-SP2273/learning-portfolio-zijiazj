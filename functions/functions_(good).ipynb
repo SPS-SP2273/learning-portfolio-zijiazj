{
 "cells": [
  {
   "attachments": {},
   "cell_type": "markdown",
   "id": "123456",
   "metadata": {},
   "source": [
    "<div style=\"text-align:left;font-size:2em\"><span style=\"font-weight:bolder;font-size:1.25em\">SP2273 | Learning Portfolio</span><br><br><span style=\"font-weight:bold;color:darkred\">Functions (Good)</span></div>"
   ]
  },
  {
   "attachments": {},
   "cell_type": "markdown",
   "id": "cf8e973f",
   "metadata": {},
   "source": [
    "# What to expect in this chapter"
   ]
  },
  {
   "cell_type": "markdown",
   "id": "2bc08718-df52-4fdd-9499-69574b887e97",
   "metadata": {},
   "source": [
    "- types of arguments and docstrings.\n",
    "- exception handling (better understand how to deal with errors)\n",
    "- difference between **positional, keyword, and default arguments of functions**\n",
    "- write code that checks and handles potential problems"
   ]
  },
  {
   "attachments": {},
   "cell_type": "markdown",
   "id": "d649c46f",
   "metadata": {},
   "source": [
    "# 1 Checks, balances, and contingencies (handling potential problems)"
   ]
  },
  {
   "cell_type": "markdown",
   "id": "b2c6566c-3967-4f30-a31d-9e9b4499b866",
   "metadata": {},
   "source": [
    "- ASSERT\n",
    "- TRY-EXCEPT"
   ]
  },
  {
   "attachments": {},
   "cell_type": "markdown",
   "id": "7b0b5b52",
   "metadata": {},
   "source": [
    "## 1.1 assert"
   ]
  },
  {
   "cell_type": "markdown",
   "id": "fa25c1d7-a602-457c-ba49-cb5f4d1e39de",
   "metadata": {},
   "source": [
    "- check a condition and halt execution if necessary\n",
    "- gives the option of printing a message"
   ]
  },
  {
   "cell_type": "markdown",
   "id": "ac09414d-4f04-4a3b-b952-50af92aed1bc",
   "metadata": {},
   "source": [
    "**Basic syntax of ASSERT**"
   ]
  },
  {
   "cell_type": "markdown",
   "id": "09816fe3-b85a-4616-ae46-561e33f371db",
   "metadata": {},
   "source": [
    "```python\n",
    "assert condition-to-check, message\n",
    "```"
   ]
  },
  {
   "cell_type": "markdown",
   "id": "c378ae12-fb54-4940-8f7d-967d3459c85a",
   "metadata": {},
   "source": [
    "ASSERT stops the flow if the condition fails. Here is an example."
   ]
  },
  {
   "cell_type": "markdown",
   "id": "f78d310e-face-44cf-aa4b-a4925f579130",
   "metadata": {},
   "source": [
    "```PYTHON\n",
    "assert x >= 0, \"x is becoming negative!\"\n",
    "```"
   ]
  },
  {
   "cell_type": "markdown",
   "id": "d8c680d9-7968-4843-ab67-de8a437718da",
   "metadata": {},
   "source": [
    "If the condition is true, the program will continue to run\n",
    "\n",
    "If the condition is false, **Assertion Error** will be raised, the program will stop"
   ]
  },
  {
   "cell_type": "code",
   "execution_count": 4,
   "id": "eef9ad5d-0055-43a9-b862-ebe9422a7d94",
   "metadata": {},
   "outputs": [],
   "source": [
    "# program will run without a problem\n",
    "x = 10\n",
    "assert x >= 0, \"x is becoming negative!\""
   ]
  },
  {
   "cell_type": "code",
   "execution_count": 5,
   "id": "5de78edd-a52b-457b-ae40-47c5a17cbe8b",
   "metadata": {},
   "outputs": [
    {
     "ename": "AssertionError",
     "evalue": "x is becoming negative!",
     "output_type": "error",
     "traceback": [
      "\u001b[1;31m---------------------------------------------------------------------------\u001b[0m",
      "\u001b[1;31mAssertionError\u001b[0m                            Traceback (most recent call last)",
      "Cell \u001b[1;32mIn[5], line 3\u001b[0m\n\u001b[0;32m      1\u001b[0m \u001b[38;5;66;03m# program will throw an error then pause\u001b[39;00m\n\u001b[0;32m      2\u001b[0m x \u001b[38;5;241m=\u001b[39m \u001b[38;5;241m-\u001b[39m\u001b[38;5;241m1\u001b[39m\n\u001b[1;32m----> 3\u001b[0m \u001b[38;5;28;01massert\u001b[39;00m x \u001b[38;5;241m>\u001b[39m\u001b[38;5;241m=\u001b[39m \u001b[38;5;241m0\u001b[39m, \u001b[38;5;124m\"\u001b[39m\u001b[38;5;124mx is becoming negative!\u001b[39m\u001b[38;5;124m\"\u001b[39m\n",
      "\u001b[1;31mAssertionError\u001b[0m: x is becoming negative!"
     ]
    }
   ],
   "source": [
    "# program will throw an error then pause\n",
    "x = -1\n",
    "assert x >= 0, \"x is becoming negative!\""
   ]
  },
  {
   "attachments": {},
   "cell_type": "markdown",
   "id": "3ef44e0d",
   "metadata": {},
   "source": [
    "## 1.2 try-except "
   ]
  },
  {
   "cell_type": "markdown",
   "id": "8204d671-049d-405b-a546-0cbf93eeebbe",
   "metadata": {},
   "source": [
    "(I can refer to my solution for fundamentals (good) exercises)"
   ]
  },
  {
   "cell_type": "markdown",
   "id": "4d5053ad-f4d3-4096-be4b-77a493b71e3a",
   "metadata": {},
   "source": [
    "When things go wrong, the technical name is called **Exception**\n",
    "- division by zero will raise a ZeroDivisionError\n",
    "- an exception left unhandled will stop the flow of the program"
   ]
  },
  {
   "cell_type": "markdown",
   "id": "f6252804-81db-4bf4-bfce-caf70d34011f",
   "metadata": {},
   "source": [
    "**try-except syntax** can also ensure that your programme can handle some situations beyond your control."
   ]
  },
  {
   "cell_type": "markdown",
   "id": "2698cc03-7c67-4bf9-8785-f761fd4eac95",
   "metadata": {},
   "source": [
    "### Example"
   ]
  },
  {
   "cell_type": "code",
   "execution_count": 4,
   "id": "b1dd8add-4f9d-4e2e-8d4a-6ffd54dd212c",
   "metadata": {},
   "outputs": [
    {
     "name": "stdin",
     "output_type": "stream",
     "text": [
      "Give me a number and I will calculate its square. 9.87\n"
     ]
    },
    {
     "name": "stdout",
     "output_type": "stream",
     "text": [
      "The square of 9.87 is 81!\n"
     ]
    }
   ],
   "source": [
    "# problem will arise when the input is not a numerical value\n",
    "# input() will return you a string\n",
    "number=input(\"Give me a number and I will calculate its square.\") \n",
    "# Convert string to number\n",
    "# to account for float input\n",
    "square=int(float(number))**2              \n",
    "print(f'The square of {number} is {square}!')"
   ]
  },
  {
   "cell_type": "markdown",
   "id": "819b0048-fb3b-47ed-924c-2518c7f5fdc8",
   "metadata": {},
   "source": [
    "<font color='red'>\n",
    "why that when I input a float, it is not accepted? I thought the int() can help to convert the float into an integer?\n",
    "</font>"
   ]
  },
  {
   "cell_type": "code",
   "execution_count": 17,
   "id": "0714873a-a5e1-473b-a5d0-045d1e023b17",
   "metadata": {},
   "outputs": [
    {
     "name": "stdin",
     "output_type": "stream",
     "text": [
      "Give me a number and I will calculate its square. qwerty\n"
     ]
    },
    {
     "name": "stdout",
     "output_type": "stream",
     "text": [
      "Oh oh! I cannot square qwerty!\n"
     ]
    }
   ],
   "source": [
    "# to account for when the input is not numerical\n",
    "try:\n",
    "    number=input(\"Give me a number and I will calculate its square.\")\n",
    "    square=int(number)**2\n",
    "    print(f'The square of {number} is {square}!')\n",
    "except:\n",
    "    print(f\"Oh oh! I cannot square {number}!\")"
   ]
  },
  {
   "cell_type": "markdown",
   "id": "97f9bbed-9b58-439b-834e-56346af059f9",
   "metadata": {},
   "source": [
    "If something (anything) goes wrong, Python will **ignore the error and run the code in the except block.**"
   ]
  },
  {
   "attachments": {},
   "cell_type": "markdown",
   "id": "6409f80a",
   "metadata": {},
   "source": [
    "## 1.3 A simple suggestion"
   ]
  },
  {
   "cell_type": "markdown",
   "id": "9a6bb674-88c1-4654-9c0e-7ff92f5af5b2",
   "metadata": {},
   "source": [
    "- it is a good practise to include some checkpoints to let the outside world knows that the program is running well\n",
    "- example, can use print()"
   ]
  },
  {
   "attachments": {},
   "cell_type": "markdown",
   "id": "73af1ca4",
   "metadata": {},
   "source": [
    "# 2 Some loose ends"
   ]
  },
  {
   "attachments": {},
   "cell_type": "markdown",
   "id": "4a570c48",
   "metadata": {},
   "source": [
    "## 2.1 Positional, keyword and default arguments"
   ]
  },
  {
   "cell_type": "markdown",
   "id": "1ad99c21-344b-4c98-9237-90a5b2e2cba9",
   "metadata": {},
   "source": [
    "**Three different ways to pass a value to an argument**\n",
    "- positional\n",
    "- keyword\n",
    "- default"
   ]
  },
  {
   "cell_type": "markdown",
   "id": "3816bfb0-e519-4caf-8fd2-ed66abf371ab",
   "metadata": {},
   "source": [
    "### Example"
   ]
  },
  {
   "cell_type": "code",
   "execution_count": 18,
   "id": "0a51651f-7ec7-4750-b9f7-19692d18a63a",
   "metadata": {},
   "outputs": [],
   "source": [
    "def side_by_side(a, b, c=42):\n",
    "    return f'{a: 2d}|{b: 2d}|{c: 2d}'"
   ]
  },
  {
   "cell_type": "code",
   "execution_count": 19,
   "id": "df0816bf-7d56-4768-a5f1-ced1bd1a4418",
   "metadata": {},
   "outputs": [
    {
     "data": {
      "text/plain": [
       "' 1| 2| 3'"
      ]
     },
     "execution_count": 19,
     "metadata": {},
     "output_type": "execute_result"
    }
   ],
   "source": [
    "# Positional\n",
    "side_by_side(1, 2, 3)"
   ]
  },
  {
   "cell_type": "markdown",
   "id": "0cbf211c-2219-479d-ac6d-ff5c05de664e",
   "metadata": {},
   "source": [
    "telling Python to assign 1, 2, 3 to a, b, c using the positional order of the arguments."
   ]
  },
  {
   "cell_type": "code",
   "execution_count": 20,
   "id": "e151ccfc-dd0e-4ba9-9b48-20b081a0ccd6",
   "metadata": {},
   "outputs": [
    {
     "data": {
      "text/plain": [
       "' 6| 5| 4'"
      ]
     },
     "execution_count": 20,
     "metadata": {},
     "output_type": "execute_result"
    }
   ],
   "source": [
    "# Keywords\n",
    "side_by_side(c=4, b=5, a=6)"
   ]
  },
  {
   "cell_type": "markdown",
   "id": "be163c4b-0f32-4167-8516-2ffdead2b3e7",
   "metadata": {},
   "source": [
    "explicitly specify the keyword to assign the values to each of a, b, c (order does not matter)"
   ]
  },
  {
   "cell_type": "code",
   "execution_count": 21,
   "id": "9ef2bb62-1713-4f8c-8831-f71731dce4a5",
   "metadata": {},
   "outputs": [
    {
     "data": {
      "text/plain": [
       "' 1| 2| 42'"
      ]
     },
     "execution_count": 21,
     "metadata": {},
     "output_type": "execute_result"
    }
   ],
   "source": [
    "# default\n",
    "side_by_side(1, b=2)"
   ]
  },
  {
   "cell_type": "markdown",
   "id": "eb810c6f-aff2-4559-a706-57e1f05ef769",
   "metadata": {},
   "source": [
    "since c is optional, I can choose not to specify it "
   ]
  },
  {
   "cell_type": "markdown",
   "id": "fb5d4b1f-cefb-455e-92e8-eeb26612e810",
   "metadata": {},
   "source": [
    "**Combination of 3 different styles**"
   ]
  },
  {
   "cell_type": "markdown",
   "id": "9cdd2d78-5e52-4967-b4ef-5de41a6c91b5",
   "metadata": {},
   "source": [
    "```python\n",
    "side_by_side(1, 2)           # Two positional, 1 default\n",
    "## ' 1| 2| 42'\n",
    "side_by_side(1, 2, 3)        # Three positional\n",
    "## ' 1| 2| 3'\n",
    "side_by_side(a=1, b=2)       # Two keyword, 1 default\n",
    "## ' 1| 2| 42'\n",
    "side_by_side(c=3, b=1, a=2)  # Three keyword\n",
    "## ' 2| 1| 3'\n",
    "side_by_side(1, c=3, b=2)    # One positional, 2 keyword\n",
    "## ' 1| 2| 3'\n",
    "side_by_side(1, b=2)         # One positional, 1 keyword, 1 default\n",
    "## ' 1| 2| 42'\n",
    "```"
   ]
  },
  {
   "cell_type": "markdown",
   "id": "e2ffc3f9-45f1-4643-9dff-16c30b619091",
   "metadata": {},
   "source": [
    "**Problem**"
   ]
  },
  {
   "cell_type": "code",
   "execution_count": 24,
   "id": "e605a370-1ea5-4b57-a3d1-49adc0ba4a59",
   "metadata": {},
   "outputs": [
    {
     "ename": "SyntaxError",
     "evalue": "positional argument follows keyword argument (3226912137.py, line 3)",
     "output_type": "error",
     "traceback": [
      "\u001b[1;36m  Cell \u001b[1;32mIn[24], line 3\u001b[1;36m\u001b[0m\n\u001b[1;33m    side_by_side(a=2, 1)      # Won't work.\u001b[0m\n\u001b[1;37m                       ^\u001b[0m\n\u001b[1;31mSyntaxError\u001b[0m\u001b[1;31m:\u001b[0m positional argument follows keyword argument\n"
     ]
    }
   ],
   "source": [
    "\n",
    "# python cannot determine the position of the value 1\n",
    "# although python knows that a is 2 according to keyword method\n",
    "side_by_side(a=2, 1)      # Won't work.                          \n"
   ]
  },
  {
   "attachments": {},
   "cell_type": "markdown",
   "id": "a1f75f78",
   "metadata": {},
   "source": [
    "## 2.2 Docstrings"
   ]
  },
  {
   "cell_type": "markdown",
   "id": "a283d5a7-8273-4a08-b04f-06f3a529bc03",
   "metadata": {},
   "source": [
    "- A docstring needs to be sandwiched between a pair of ''' (or \"\"\") and can span multiple lines.\n",
    "- allows us to document what a function does inside the function\n",
    "-  displayed when we ask Python to show us the help info using **help()**"
   ]
  },
  {
   "cell_type": "markdown",
   "id": "ce2c3795-b18f-4ef4-a8c2-92a853dbc5dd",
   "metadata": {},
   "source": [
    "### Example"
   ]
  },
  {
   "cell_type": "code",
   "execution_count": 25,
   "id": "1cb4989e-6784-48a9-b579-e71c2fe14e6a",
   "metadata": {},
   "outputs": [],
   "source": [
    "def side_by_side(a, b, c=42):\n",
    "    '''\n",
    "    A test function to demonstrate how \n",
    "    positional, keyword and default arguments \n",
    "    work.\n",
    "    '''\n",
    "    return f'{a: 2d}|{b: 2d}|{c: 2d}'"
   ]
  },
  {
   "cell_type": "code",
   "execution_count": 26,
   "id": "93760859-77d0-411d-8857-cf046f6cf86a",
   "metadata": {},
   "outputs": [
    {
     "name": "stdout",
     "output_type": "stream",
     "text": [
      "Help on function side_by_side in module __main__:\n",
      "\n",
      "side_by_side(a, b, c=42)\n",
      "    A test function to demonstrate how \n",
      "    positional, keyword and default arguments \n",
      "    work.\n",
      "\n"
     ]
    }
   ],
   "source": [
    "help(side_by_side)"
   ]
  },
  {
   "attachments": {},
   "cell_type": "markdown",
   "id": "f0ac50e9",
   "metadata": {},
   "source": [
    "## 2.3 Function are first-class citizens"
   ]
  },
  {
   "cell_type": "markdown",
   "id": "8150ce0b-1486-4ba8-906d-6273f2f3e82e",
   "metadata": {},
   "source": [
    "we can **pass a function as an argument to another function** (*only applicable in python)"
   ]
  },
  {
   "cell_type": "markdown",
   "id": "9748e269-43e5-46ce-aa23-ccc695aa3f9f",
   "metadata": {},
   "source": [
    "### Example"
   ]
  },
  {
   "cell_type": "code",
   "execution_count": 27,
   "id": "86411d35-4276-4e41-83a2-d423a1e73dc0",
   "metadata": {},
   "outputs": [],
   "source": [
    "import numpy as np"
   ]
  },
  {
   "cell_type": "code",
   "execution_count": 37,
   "id": "032cfb4c-af60-4653-8058-754f37ce5d0c",
   "metadata": {},
   "outputs": [],
   "source": [
    "def my_function(angle, trig_function): # trig_function is also a function, I am passing the trig function as an argument into my_function\n",
    "        return trig_function(angle)  "
   ]
  },
  {
   "cell_type": "code",
   "execution_count": 38,
   "id": "d67a37af-741b-42dd-9117-9e220e134c8c",
   "metadata": {},
   "outputs": [
    {
     "data": {
      "text/plain": [
       "1.0"
      ]
     },
     "execution_count": 38,
     "metadata": {},
     "output_type": "execute_result"
    }
   ],
   "source": [
    "# calculate the value of sin(x) when x=pi/2\n",
    "my_function(np.pi/2, np.sin)      "
   ]
  },
  {
   "cell_type": "code",
   "execution_count": 36,
   "id": "c9bb8625-d4d6-4b59-91f8-e892b6279d54",
   "metadata": {},
   "outputs": [
    {
     "data": {
      "text/plain": [
       "6.123233995736766e-17"
      ]
     },
     "execution_count": 36,
     "metadata": {},
     "output_type": "execute_result"
    }
   ],
   "source": [
    "# calculate the value of cos(x) when x=pi/2\n",
    "my_function(np.pi/2, np.cos)     "
   ]
  },
  {
   "cell_type": "code",
   "execution_count": 65,
   "id": "0aea5914-febb-4ed8-b032-1013219353a6",
   "metadata": {},
   "outputs": [
    {
     "data": {
      "text/plain": [
       "-1.0"
      ]
     },
     "execution_count": 65,
     "metadata": {},
     "output_type": "execute_result"
    }
   ],
   "source": [
    "# calculate the value of cos2x when x = pi/2\n",
    "my_function(np.pi/2, lambda x: np.cos(2*x))  "
   ]
  },
  {
   "attachments": {},
   "cell_type": "markdown",
   "id": "7d3c2404",
   "metadata": {},
   "source": [
    "## 2.4 More about unpacking"
   ]
  },
  {
   "cell_type": "markdown",
   "id": "fbfab57a-5ff3-4e4c-8a9f-cf8db23a6589",
   "metadata": {},
   "source": [
    "unpacking can make extracting information from lists and arrays a breeze."
   ]
  },
  {
   "cell_type": "markdown",
   "id": "5a949ab1-cf2a-47aa-b84b-c26ce8af7937",
   "metadata": {},
   "source": [
    "### Example"
   ]
  },
  {
   "cell_type": "code",
   "execution_count": 43,
   "id": "a708a54d-3145-41d0-950a-7cb71df3b324",
   "metadata": {},
   "outputs": [
    {
     "data": {
      "text/plain": [
       "(3, 1, 2)"
      ]
     },
     "execution_count": 43,
     "metadata": {},
     "output_type": "execute_result"
    }
   ],
   "source": [
    "# unpacking a list\n",
    "x, y, z = [1, 2, 3]\n",
    "z, x, y"
   ]
  },
  {
   "cell_type": "code",
   "execution_count": 44,
   "id": "97b59663-f6fe-4c03-a145-59342d11c1a6",
   "metadata": {},
   "outputs": [
    {
     "data": {
      "text/plain": [
       "(2, 3, 1)"
      ]
     },
     "execution_count": 44,
     "metadata": {},
     "output_type": "execute_result"
    }
   ],
   "source": [
    "# unpacking an array\n",
    "x, y, z = np.array([1, 2, 3])\n",
    "y, z, x"
   ]
  },
  {
   "cell_type": "code",
   "execution_count": 50,
   "id": "79376a2a-9174-4d53-826e-1d17c7568745",
   "metadata": {},
   "outputs": [
    {
     "data": {
      "text/plain": [
       "(5, 1, [2, 3, 4])"
      ]
     },
     "execution_count": 50,
     "metadata": {},
     "output_type": "execute_result"
    }
   ],
   "source": [
    "# unpacking by creating a list within an array\n",
    "# this feature is called extended iterable unpacking\n",
    "x, *y, z = np.array([1, 2, 3, 4, 5]) #*y is used to collect any items between x and z into the LIST y\n",
    "z, x, y"
   ]
  },
  {
   "cell_type": "code",
   "execution_count": 49,
   "id": "8242ec02-de4b-4fce-8130-e1d0a172d36a",
   "metadata": {},
   "outputs": [
    {
     "data": {
      "text/plain": [
       "(1, 5)"
      ]
     },
     "execution_count": 49,
     "metadata": {},
     "output_type": "execute_result"
    }
   ],
   "source": [
    "# only shows interested iterable \n",
    "x, *_, y = [1, 2, 3, 4, 5]\n",
    "x, y"
   ]
  },
  {
   "cell_type": "markdown",
   "id": "7f573c34-8879-4409-bc7d-0030c86709b2",
   "metadata": {},
   "source": [
    "x will be 1.\n",
    "\n",
    "_ will be [2, 3, 4] (it's a list containing all elements between x and y, but it's ignored in this case).\n",
    "\n",
    "y will be 5"
   ]
  },
  {
   "cell_type": "markdown",
   "id": "1d8d03e5-52cd-4782-a98e-baf6216e1e38",
   "metadata": {},
   "source": [
    "### Additional footnote"
   ]
  },
  {
   "cell_type": "markdown",
   "id": "21613208-00eb-4cac-bcbc-973a83cd027b",
   "metadata": {},
   "source": [
    "In simpler terms, an iterable is anything that you can loop over."
   ]
  },
  {
   "cell_type": "code",
   "execution_count": 54,
   "id": "4c6b77d3-4898-4653-a3ed-5bab7209b61d",
   "metadata": {},
   "outputs": [
    {
     "name": "stdout",
     "output_type": "stream",
     "text": [
      "1\n",
      "2\n",
      "3\n",
      "4\n",
      "5\n"
     ]
    }
   ],
   "source": [
    "# Lists in Python are iterables because you can loop over each element in the list.\n",
    "my_list = [1, 2, 3, 4, 5]\n",
    "for item in my_list:\n",
    "    print(item)\n"
   ]
  },
  {
   "cell_type": "code",
   "execution_count": 55,
   "id": "4b083685-9e83-4eac-8aeb-91cb7640de64",
   "metadata": {},
   "outputs": [
    {
     "name": "stdout",
     "output_type": "stream",
     "text": [
      "1\n",
      "2\n",
      "3\n",
      "4\n",
      "5\n"
     ]
    }
   ],
   "source": [
    "# tuples are iterables, so you can iterate over each element in a tuple.\n",
    "my_tuple = (1, 2, 3, 4, 5)\n",
    "for item in my_tuple:\n",
    "    print(item)\n"
   ]
  },
  {
   "cell_type": "code",
   "execution_count": 56,
   "id": "72f672f9-75eb-4500-9eb0-d32a6a7c7051",
   "metadata": {},
   "outputs": [
    {
     "name": "stdout",
     "output_type": "stream",
     "text": [
      "h\n",
      "e\n",
      "l\n",
      "l\n",
      "o\n"
     ]
    }
   ],
   "source": [
    "#Strings are also iterables. You can loop over each character in a string.\n",
    "my_string = \"hello\"\n",
    "for char in my_string:\n",
    "    print(char)\n",
    "\n"
   ]
  },
  {
   "cell_type": "code",
   "execution_count": 57,
   "id": "ca3793fd-12fc-4988-ac87-793c8843d3da",
   "metadata": {},
   "outputs": [
    {
     "name": "stdout",
     "output_type": "stream",
     "text": [
      "a\n",
      "b\n",
      "c\n"
     ]
    }
   ],
   "source": [
    "# Dictionaries are iterables, but when you iterate over them, you'll get the keys by default. \n",
    "# If you want to iterate over the values or both keys and values, you can use the values() or items() methods.\n",
    "my_dict = {\"a\": 1, \"b\": 2, \"c\": 3}\n",
    "for key in my_dict:\n",
    "    print(key)  # Prints keys\n"
   ]
  },
  {
   "cell_type": "code",
   "execution_count": 58,
   "id": "f3f36487-9736-4f89-a7ec-6b93f76fb5f6",
   "metadata": {},
   "outputs": [
    {
     "name": "stdout",
     "output_type": "stream",
     "text": [
      "1\n",
      "2\n",
      "3\n",
      "4\n",
      "5\n"
     ]
    }
   ],
   "source": [
    "# Sets are also iterables, and you can loop over each element in a set.\n",
    "my_set = {1, 2, 3, 4, 5}\n",
    "for item in my_set:\n",
    "    print(item)\n"
   ]
  },
  {
   "cell_type": "code",
   "execution_count": 59,
   "id": "6f0084e1-c31f-402e-8312-7386e4214583",
   "metadata": {},
   "outputs": [
    {
     "name": "stdout",
     "output_type": "stream",
     "text": [
      "0\n",
      "1\n",
      "4\n",
      "9\n",
      "16\n"
     ]
    }
   ],
   "source": [
    "# Generator objects, created using generator expressions or functions with yield, are iterables as well.\n",
    "my_generator = (x ** 2 for x in range(5))\n",
    "for item in my_generator:\n",
    "    print(item)\n"
   ]
  },
  {
   "cell_type": "code",
   "execution_count": null,
   "id": "d8e1b6e0-44f9-4303-b6de-b41bd9b0c425",
   "metadata": {},
   "outputs": [],
   "source": []
  },
  {
   "cell_type": "code",
   "execution_count": null,
   "id": "472b7057-a175-4d20-b460-69b3a3ba33cf",
   "metadata": {},
   "outputs": [],
   "source": []
  }
 ],
 "metadata": {
  "kernelspec": {
   "display_name": "Python 3 (ipykernel)",
   "language": "python",
   "name": "python3"
  },
  "language_info": {
   "codemirror_mode": {
    "name": "ipython",
    "version": 3
   },
   "file_extension": ".py",
   "mimetype": "text/x-python",
   "name": "python",
   "nbconvert_exporter": "python",
   "pygments_lexer": "ipython3",
   "version": "3.9.13"
  },
  "toc": {
   "base_numbering": 1,
   "nav_menu": {},
   "number_sections": true,
   "sideBar": true,
   "skip_h1_title": false,
   "title_cell": "Table of Contents",
   "title_sidebar": "Contents",
   "toc_cell": false,
   "toc_position": {},
   "toc_section_display": true,
   "toc_window_display": false
  },
  "vscode": {
   "interpreter": {
    "hash": "31f2aee4e71d21fbe5cf8b01ff0e069b9275f58929596ceb00d14d90e3e16cd6"
   }
  }
 },
 "nbformat": 4,
 "nbformat_minor": 5
}
