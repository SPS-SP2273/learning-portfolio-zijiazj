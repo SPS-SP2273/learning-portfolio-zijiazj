{
 "cells": [
  {
   "attachments": {},
   "cell_type": "markdown",
   "id": "123456",
   "metadata": {},
   "source": [
    "<div style=\"text-align:left;font-size:2em\"><span style=\"font-weight:bolder;font-size:1.25em\">SP2273 | Learning Portfolio</span><br><br><span style=\"font-weight:bold;color:darkred\">Functions (Need)</span></div>"
   ]
  },
  {
   "attachments": {},
   "cell_type": "markdown",
   "id": "661b679c",
   "metadata": {},
   "source": [
    "# What to expect in this chapter"
   ]
  },
  {
   "cell_type": "markdown",
   "id": "3301a222-ebe5-4bff-8288-c45dd4b9a327",
   "metadata": {},
   "source": [
    "- how to craft your own functions. \n"
   ]
  },
  {
   "attachments": {},
   "cell_type": "markdown",
   "id": "1455c53c",
   "metadata": {},
   "source": [
    "# 1 User-defined functions"
   ]
  },
  {
   "cell_type": "markdown",
   "id": "8f2196f6-6e37-479f-99e3-8973481bf30a",
   "metadata": {},
   "source": [
    "print() is an example of an **internal function** in Python. \n",
    "\n",
    "You can also create your own functions via two ways **named and anonymous**."
   ]
  },
  {
   "attachments": {},
   "cell_type": "markdown",
   "id": "c0f58d1d",
   "metadata": {},
   "source": [
    "## 1.1 Named Functions"
   ]
  },
  {
   "attachments": {},
   "cell_type": "markdown",
   "id": "535b2bc7",
   "metadata": {},
   "source": [
    "### Named functions that return"
   ]
  },
  {
   "cell_type": "code",
   "execution_count": 1,
   "id": "53b07da3",
   "metadata": {},
   "outputs": [],
   "source": [
    "\n",
    "# We define the function by using the keyword def\n",
    "\n",
    "def greeting(name):\n",
    "    if name == 'Batman':\n",
    "        return 'Hello Batman! So, nice to meet you!'\n",
    "    else:\n",
    "        return f'Hello {name}!'\n"
   ]
  },
  {
   "cell_type": "markdown",
   "id": "442b8660-0f53-49b8-90d1-719706706ae8",
   "metadata": {},
   "source": [
    "The function’s name is greeting and it accepts a single argument called name."
   ]
  },
  {
   "cell_type": "code",
   "execution_count": 7,
   "id": "30885131-a9d7-4b92-ba33-49e8c1f12e87",
   "metadata": {},
   "outputs": [
    {
     "data": {
      "text/plain": [
       "'Hello Super Man!'"
      ]
     },
     "execution_count": 7,
     "metadata": {},
     "output_type": "execute_result"
    }
   ],
   "source": [
    "greeting(\"Super Man\")"
   ]
  },
  {
   "cell_type": "code",
   "execution_count": 8,
   "id": "4cb69880-992b-4fb8-b99e-af90802fa282",
   "metadata": {},
   "outputs": [
    {
     "ename": "NameError",
     "evalue": "name 'name' is not defined",
     "output_type": "error",
     "traceback": [
      "\u001b[1;31m---------------------------------------------------------------------------\u001b[0m",
      "\u001b[1;31mNameError\u001b[0m                                 Traceback (most recent call last)",
      "Cell \u001b[1;32mIn[8], line 2\u001b[0m\n\u001b[0;32m      1\u001b[0m \u001b[38;5;66;03m# However, it does not automatically assigned 'name' with the value 'superman'\u001b[39;00m\n\u001b[1;32m----> 2\u001b[0m \u001b[38;5;28mprint\u001b[39m(\u001b[43mname\u001b[49m) \n",
      "\u001b[1;31mNameError\u001b[0m: name 'name' is not defined"
     ]
    }
   ],
   "source": [
    "# However, it does not automatically assigned 'name' with the value 'superman'\n",
    "print(name) "
   ]
  },
  {
   "cell_type": "code",
   "execution_count": 10,
   "id": "805f98da-cb8e-4b8e-b18a-48cb270b5f73",
   "metadata": {},
   "outputs": [
    {
     "data": {
      "text/plain": [
       "'Hello Batman! So, nice to meet you!'"
      ]
     },
     "execution_count": 10,
     "metadata": {},
     "output_type": "execute_result"
    }
   ],
   "source": [
    "greeting(name=\"Batman\")"
   ]
  },
  {
   "cell_type": "markdown",
   "id": "7394cf9c-2b06-4c06-b2ae-8aacad579c48",
   "metadata": {},
   "source": [
    "**return** gets an output from the function. When Python sees a **return**, it jumps out of the function with the return value. \n",
    "\n",
    "**You can only use RETURN within a function**\n",
    "\n",
    "You can pick up the returned value by assigning it to a variable or even use it directly like:"
   ]
  },
  {
   "cell_type": "code",
   "execution_count": 12,
   "id": "57d940ef-a63b-45ef-a89a-e45064337516",
   "metadata": {},
   "outputs": [
    {
     "name": "stdout",
     "output_type": "stream",
     "text": [
      "Hello Super Man!\n"
     ]
    }
   ],
   "source": [
    "# greet is now assigned a string value\n",
    "greet=greeting(name='Super Man')\n",
    "print(greet)"
   ]
  },
  {
   "cell_type": "code",
   "execution_count": 14,
   "id": "3ef40de3-7871-46f0-a6c3-0feb8c92449f",
   "metadata": {},
   "outputs": [
    {
     "name": "stdout",
     "output_type": "stream",
     "text": [
      "Hello Super Man!\n"
     ]
    }
   ],
   "source": [
    "print(greeting(name='Super Man'))"
   ]
  },
  {
   "cell_type": "code",
   "execution_count": 17,
   "id": "ee0a36a0-3eab-477b-8a22-b04517bc2c57",
   "metadata": {},
   "outputs": [],
   "source": [
    "# accepts a list and return max, min, mean\n",
    "import numpy as np\n",
    "def basic_stats(numbers):\n",
    "    np_numbers = np.array(numbers)\n",
    "    my_min = np_numbers.min()\n",
    "    my_max = np_numbers.max()\n",
    "    my_mean = np_numbers.mean()\n",
    "    return my_max, my_min, my_mean"
   ]
  },
  {
   "cell_type": "code",
   "execution_count": 20,
   "id": "debf4d27-a809-434f-88fb-64135e64b8d5",
   "metadata": {},
   "outputs": [
    {
     "name": "stdout",
     "output_type": "stream",
     "text": [
      "5 1 3.0\n"
     ]
    }
   ],
   "source": [
    "list_min, list_max, list_mean = basic_stats([1, 2, 3, 4, 5])\n",
    "print(list_min, list_max, list_mean)"
   ]
  },
  {
   "attachments": {},
   "cell_type": "markdown",
   "id": "35701b9d",
   "metadata": {},
   "source": [
    "### Named functions that don’t return"
   ]
  },
  {
   "cell_type": "markdown",
   "id": "24ffde89-bae1-4951-9d0e-e1df5c90db04",
   "metadata": {},
   "source": [
    "- print() is an example of function that does return a value"
   ]
  },
  {
   "attachments": {},
   "cell_type": "markdown",
   "id": "8460e0e4",
   "metadata": {},
   "source": [
    "## 1.2 Anonymous functions"
   ]
  },
  {
   "cell_type": "markdown",
   "id": "bec7f97a-8c38-4195-a08e-b2ce4e70c41c",
   "metadata": {},
   "source": [
    "**Anonymous or lambda functions** are suitable for short one-liners.\n",
    "\n",
    "A lambda function always returns the value of the last statement.\r\n",
    "\r\n"
   ]
  },
  {
   "cell_type": "code",
   "execution_count": 21,
   "id": "67a8cd3a",
   "metadata": {},
   "outputs": [],
   "source": [
    "# accept a single argument called name\n",
    "my_short_function = lambda name: f\"Hello {name}!\""
   ]
  },
  {
   "cell_type": "code",
   "execution_count": 25,
   "id": "f67d7102-85f8-47b0-8ed8-b8adf7a54008",
   "metadata": {},
   "outputs": [
    {
     "data": {
      "text/plain": [
       "'Hello Super Man!'"
      ]
     },
     "execution_count": 25,
     "metadata": {},
     "output_type": "execute_result"
    }
   ],
   "source": [
    "#with this function, you can automatically print \"hello\" in front of anything\n",
    "my_short_function(name=\"Super Man\")"
   ]
  },
  {
   "cell_type": "markdown",
   "id": "04f8be3a-51eb-4f39-8aff-85d3027c63bd",
   "metadata": {},
   "source": [
    "- not a very good ‘anonymous’ one because we have used a name"
   ]
  },
  {
   "cell_type": "markdown",
   "id": "99e537ed-ce84-4fa9-869b-89355aab5d8e",
   "metadata": {},
   "source": [
    "We can use **sort()** function in three ways"
   ]
  },
  {
   "cell_type": "code",
   "execution_count": 30,
   "id": "3267e263-02aa-45e3-9ea0-fd7a3a9d2ff0",
   "metadata": {},
   "outputs": [],
   "source": [
    "numbers=[[9, 0, -10],\n",
    "         [8, 1, -11],\n",
    "         [7, 2, -12],\n",
    "         [6, 3, -13],\n",
    "         [5, 4, -14],\n",
    "         [4, 5, -15],\n",
    "         [3, 6, -16],\n",
    "         [2, 7, -17],\n",
    "         [1, 8, -18],\n",
    "         [0, 9, -19]]"
   ]
  },
  {
   "cell_type": "code",
   "execution_count": 34,
   "id": "655a8e80-f7d6-464e-9c4a-a819962445ac",
   "metadata": {},
   "outputs": [
    {
     "data": {
      "text/plain": [
       "[[0, 9, -19],\n",
       " [1, 8, -18],\n",
       " [2, 7, -17],\n",
       " [3, 6, -16],\n",
       " [4, 5, -15],\n",
       " [5, 4, -14],\n",
       " [6, 3, -13],\n",
       " [7, 2, -12],\n",
       " [8, 1, -11],\n",
       " [9, 0, -10]]"
      ]
     },
     "execution_count": 34,
     "metadata": {},
     "output_type": "execute_result"
    }
   ],
   "source": [
    "# Sort by comparing the default key\n",
    "# Ascending order based on the first element\n",
    "sorted(numbers)"
   ]
  },
  {
   "cell_type": "code",
   "execution_count": 35,
   "id": "4e4cde6a-0926-4373-93eb-1b29f7bd8a2d",
   "metadata": {},
   "outputs": [
    {
     "data": {
      "text/plain": [
       "[[9, 0, -10],\n",
       " [8, 1, -11],\n",
       " [7, 2, -12],\n",
       " [6, 3, -13],\n",
       " [5, 4, -14],\n",
       " [4, 5, -15],\n",
       " [3, 6, -16],\n",
       " [2, 7, -17],\n",
       " [1, 8, -18],\n",
       " [0, 9, -19]]"
      ]
     },
     "execution_count": 35,
     "metadata": {},
     "output_type": "execute_result"
    }
   ],
   "source": [
    "# Sort by comparing a custom key\n",
    "# Ascending order based on the second element\n",
    "sorted(numbers, key=lambda x: x[1])"
   ]
  },
  {
   "cell_type": "markdown",
   "id": "bb216424-30c9-4831-9519-6629a47a21b6",
   "metadata": {},
   "source": [
    "key=lambda x: x[1]: This is a lambda function used as the sorting key. It extracts the second element (x[1]) from each sublist (x) to use for comparison during sorting."
   ]
  },
  {
   "cell_type": "code",
   "execution_count": 37,
   "id": "5098871b-cd80-4f33-976a-0ba18992d849",
   "metadata": {},
   "outputs": [
    {
     "data": {
      "text/plain": [
       "[[0, 9, -19],\n",
       " [1, 8, -18],\n",
       " [2, 7, -17],\n",
       " [3, 6, -16],\n",
       " [4, 5, -15],\n",
       " [5, 4, -14],\n",
       " [6, 3, -13],\n",
       " [7, 2, -12],\n",
       " [8, 1, -11],\n",
       " [9, 0, -10]]"
      ]
     },
     "execution_count": 37,
     "metadata": {},
     "output_type": "execute_result"
    }
   ],
   "source": [
    "# Sort by comparing a custom key\n",
    "# Sum all elements in the sublist and arrange in ascending order\n",
    "sorted(numbers, key=lambda x: sum(x))   "
   ]
  },
  {
   "cell_type": "code",
   "execution_count": 38,
   "id": "35c4f964-6ca8-48a0-bd3a-d54500d224cf",
   "metadata": {},
   "outputs": [
    {
     "data": {
      "text/plain": [
       "[[0, 9, -19],\n",
       " [1, 8, -18],\n",
       " [2, 7, -17],\n",
       " [3, 6, -16],\n",
       " [4, 5, -15],\n",
       " [5, 4, -14],\n",
       " [6, 3, -13],\n",
       " [7, 2, -12],\n",
       " [8, 1, -11],\n",
       " [9, 0, -10]]"
      ]
     },
     "execution_count": 38,
     "metadata": {},
     "output_type": "execute_result"
    }
   ],
   "source": [
    "sorted(numbers, key=lambda x: x[2])"
   ]
  },
  {
   "attachments": {},
   "cell_type": "markdown",
   "id": "653bf61c",
   "metadata": {},
   "source": [
    "## 1.3 Optional arguments"
   ]
  },
  {
   "cell_type": "markdown",
   "id": "486b098a-069f-4662-8d4c-314082dc0299",
   "metadata": {},
   "source": [
    "- allows us to make arguments to our function optional. \n",
    "- give the argument a default value so that it always has something to work with."
   ]
  },
  {
   "cell_type": "code",
   "execution_count": 39,
   "id": "3d866a3d-1dcd-4be7-bebb-ea5641aaa7a6",
   "metadata": {},
   "outputs": [],
   "source": [
    "def greeting(name='no one'): #default value\n",
    "    if name == 'Batman':\n",
    "        return 'Hello Batman! So, nice to meet you!'\n",
    "    else:\n",
    "        return f'Hello {name}!'"
   ]
  },
  {
   "cell_type": "code",
   "execution_count": 41,
   "id": "aafb9068-0ffd-49db-9846-6d1bc54f7dd8",
   "metadata": {},
   "outputs": [
    {
     "data": {
      "text/plain": [
       "'Hello no one!'"
      ]
     },
     "execution_count": 41,
     "metadata": {},
     "output_type": "execute_result"
    }
   ],
   "source": [
    "greeting()"
   ]
  },
  {
   "cell_type": "code",
   "execution_count": 44,
   "id": "92ace874-b851-4779-ac71-1c30a48e7f50",
   "metadata": {},
   "outputs": [
    {
     "data": {
      "text/plain": [
       "'Hello abc!'"
      ]
     },
     "execution_count": 44,
     "metadata": {},
     "output_type": "execute_result"
    }
   ],
   "source": [
    "# reassign the value of name\n",
    "greeting('abc')"
   ]
  },
  {
   "cell_type": "code",
   "execution_count": 49,
   "id": "160a27bb-eae7-4a8e-9a0b-006d68994ab7",
   "metadata": {},
   "outputs": [
    {
     "data": {
      "text/plain": [
       "\u001b[1;31mDocstring:\u001b[0m\n",
       "print(value, ..., sep=' ', end='\\n', file=sys.stdout, flush=False)\n",
       "\n",
       "Prints the values to a stream, or to sys.stdout by default.\n",
       "Optional keyword arguments:\n",
       "file:  a file-like object (stream); defaults to the current sys.stdout.\n",
       "sep:   string inserted between values, default a space.\n",
       "end:   string appended after the last value, default a newline.\n",
       "flush: whether to forcibly flush the stream.\n",
       "\u001b[1;31mType:\u001b[0m      builtin_function_or_method"
      ]
     },
     "metadata": {},
     "output_type": "display_data"
    }
   ],
   "source": [
    "# documentation of print\n",
    "?print"
   ]
  },
  {
   "cell_type": "markdown",
   "id": "61960568-e6d8-4ebd-919b-02bfa076797a",
   "metadata": {},
   "source": [
    "**print() can accept other arguments that are optional with default values.** \n",
    "\n",
    "However, we can specify them if we like;"
   ]
  },
  {
   "cell_type": "code",
   "execution_count": 48,
   "id": "081ce20e-e7ba-49f8-a72e-e85e53c6afc9",
   "metadata": {},
   "outputs": [
    {
     "name": "stdout",
     "output_type": "stream",
     "text": [
      "I am Batman!\n",
      "I#am#Batman!\n"
     ]
    }
   ],
   "source": [
    "# Using default values\n",
    "print('I', 'am', 'Batman!')\n",
    "# Specifying an optional argument\n",
    "print('I', 'am', 'Batman!', sep='#')  "
   ]
  },
  {
   "attachments": {},
   "cell_type": "markdown",
   "id": "bc191ee9",
   "metadata": {},
   "source": [
    "## 1.4 The importance of functions?"
   ]
  },
  {
   "attachments": {},
   "cell_type": "markdown",
   "id": "5c1daede",
   "metadata": {},
   "source": [
    "### An argument for functions"
   ]
  },
  {
   "cell_type": "markdown",
   "id": "6ebb2d44-3575-40cd-abe0-a7a41a7c7a4f",
   "metadata": {},
   "source": [
    "**Advantages of functions**\n",
    "\n",
    "- allow us to break up a complicated solution into modular chunk\n",
    "- ease of mind because we dont have to deal with all the details all at once\n",
    "- easier to focus on overall solution\n",
    "- This is called \"abstraction\"\n"
   ]
  },
  {
   "cell_type": "markdown",
   "id": "4f88c9b4-feda-49ac-b2dc-a8c0afcb6b4a",
   "metadata": {},
   "source": [
    "\n",
    "- allow you to encapsulate chunk of code in a function\n",
    "- straightforward to reuse\n",
    "- shorter and more compact code\n",
    "- \"The resuability of the code\"\n",
    "\n"
   ]
  },
  {
   "cell_type": "markdown",
   "id": "869584c5-7781-41af-b2d3-761ce4c0f376",
   "metadata": {},
   "source": [
    "- easier to change and maintain the code\n",
    "- \"The maintainability of code\""
   ]
  },
  {
   "attachments": {},
   "cell_type": "markdown",
   "id": "a0d4e723",
   "metadata": {},
   "source": [
    "### A word of caution"
   ]
  },
  {
   "cell_type": "markdown",
   "id": "43e36e28-4fb1-467e-9961-ef4724807725",
   "metadata": {},
   "source": [
    "Be careful not to overuse the functions\n",
    "- Having too many functions can make it difficult to read your code \n",
    "- increase computational overheads. "
   ]
  },
  {
   "cell_type": "code",
   "execution_count": null,
   "id": "0d58e86b-e821-47ac-94fe-0b7db6ee48bd",
   "metadata": {},
   "outputs": [],
   "source": []
  }
 ],
 "metadata": {
  "kernelspec": {
   "display_name": "Python 3 (ipykernel)",
   "language": "python",
   "name": "python3"
  },
  "language_info": {
   "codemirror_mode": {
    "name": "ipython",
    "version": 3
   },
   "file_extension": ".py",
   "mimetype": "text/x-python",
   "name": "python",
   "nbconvert_exporter": "python",
   "pygments_lexer": "ipython3",
   "version": "3.9.13"
  },
  "toc": {
   "base_numbering": 1,
   "nav_menu": {},
   "number_sections": true,
   "sideBar": true,
   "skip_h1_title": false,
   "title_cell": "Table of Contents",
   "title_sidebar": "Contents",
   "toc_cell": false,
   "toc_position": {},
   "toc_section_display": true,
   "toc_window_display": false
  },
  "vscode": {
   "interpreter": {
    "hash": "31f2aee4e71d21fbe5cf8b01ff0e069b9275f58929596ceb00d14d90e3e16cd6"
   }
  }
 },
 "nbformat": 4,
 "nbformat_minor": 5
}
