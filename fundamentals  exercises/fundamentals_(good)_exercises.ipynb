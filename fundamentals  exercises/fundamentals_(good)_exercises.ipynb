{
 "cells": [
  {
   "attachments": {},
   "cell_type": "markdown",
   "id": "123456",
   "metadata": {},
   "source": [
    "<div style=\"text-align:left;font-size:2em\"><span style=\"font-weight:bolder;font-size:1.25em\">SP2273 | Learning Portfolio</span><br><br><span style=\"font-weight:bold;color:darkred\">Fundamentals (Good) Exercises</span></div>"
   ]
  },
  {
   "cell_type": "markdown",
   "id": "65b2484a-97ee-4b2c-b988-268403736cc5",
   "metadata": {},
   "source": [
    "### Exercise 1 (What is your grade?)"
   ]
  },
  {
   "cell_type": "markdown",
   "id": "7e9e0a77-48c7-4630-bfe9-d741d5fa0f35",
   "metadata": {},
   "source": [
    "input() function allows you to collect information from the user and store it as a value"
   ]
  },
  {
   "cell_type": "code",
   "execution_count": 4,
   "id": "8d16f2b7-75d5-4279-af97-0db352b1ca9a",
   "metadata": {},
   "outputs": [
    {
     "name": "stdin",
     "output_type": "stream",
     "text": [
      "Give me a alphabet? apple\n"
     ]
    },
    {
     "name": "stdout",
     "output_type": "stream",
     "text": [
      "You entered apple\n"
     ]
    }
   ],
   "source": [
    "user_input = input('Give me a alphabet?')\n",
    "print('You entered', user_input)\n"
   ]
  },
  {
   "cell_type": "markdown",
   "id": "b1d97606-da31-4cb9-9543-a8aac349750b",
   "metadata": {},
   "source": [
    "### Task "
   ]
  },
  {
   "cell_type": "markdown",
   "id": "13047518-f9db-4298-a978-59e11512a1de",
   "metadata": {},
   "source": [
    "Write a Python program that takes a numerical grade (0-100) as input and outputs the corresponding letter grade based on the following criteria:"
   ]
  },
  {
   "cell_type": "markdown",
   "id": "40788efd-6513-444f-88c5-5e4af2aa69fd",
   "metadata": {},
   "source": [
    "|Grade|Score range|\n",
    "|:---:|:---:|\n",
    "|A|70-100|\n",
    "|B|50-69|\n",
    "|C|35-49|\n",
    "|Fail|0-34|"
   ]
  },
  {
   "cell_type": "markdown",
   "id": "58e2e0e9-736b-4f76-8173-160628bf9423",
   "metadata": {},
   "source": [
    "- Here is an example of the type of exchange expected.\n",
    "\n",
    "**Enter the student's score: 85**\n",
    "\n",
    "**The student's letter grade is: A**\n",
    "\n",
    "- Ensure your program handles unexpected inputs gracefully and displays a relevant error message."
   ]
  },
  {
   "cell_type": "code",
   "execution_count": null,
   "id": "1ad85360-abc6-4333-8faf-90f2cc9cdc9c",
   "metadata": {},
   "outputs": [],
   "source": [
    "user_score = input('What is your score?')\n",
    "\n",
    "try:\n",
    "    user_score = int(user_score) #considering some users might input float\n",
    "    if 70 <= user_score <= 100:\n",
    "        print('Your letter grade is A')\n",
    "    elif 50 <= user_score <= 69:\n",
    "        print('Your letter grade is B')\n",
    "    elif 35 <= user_score <= 49:\n",
    "        print('Your letter grade is C')\n",
    "    elif 0 <= user_score <= 34:\n",
    "        print('You failed')\n",
    "    else:\n",
    "        print('Please input a numerical value between 0 and 100.') #considering some might imput value out of range\n",
    "except ValueError:\n",
    "    print('Please input a numerical value.') #considering some might input string\n"
   ]
  },
  {
   "cell_type": "markdown",
   "id": "f05ba187-23e1-4a35-aca0-574b4bff0948",
   "metadata": {},
   "source": [
    "#### Notes"
   ]
  },
  {
   "cell_type": "markdown",
   "id": "f234e4cd-0f6f-479c-b17e-f7b928161880",
   "metadata": {},
   "source": [
    "In Python, **try** and **except** are used together to handle exceptions, which are errors that occur during the execution of a program.\n",
    "\n",
    "Here's how the **try** and **except** blocks work together:\n",
    "\n",
    "1. The code inside the **try** block is executed.\n",
    "2. If an exception occurs during the execution of the **try** block, the execution of the **try** block is halted, and the code inside the corresponding **except** block is executed.\n",
    "3. If no exception occurs in the **try** block, the **except** block is skipped."
   ]
  },
  {
   "cell_type": "code",
   "execution_count": null,
   "id": "bb1bca6f-316e-4dfd-b6ec-a5b00f15256a",
   "metadata": {},
   "outputs": [],
   "source": []
  }
 ],
 "metadata": {
  "kernelspec": {
   "display_name": "Python 3 (ipykernel)",
   "language": "python",
   "name": "python3"
  },
  "language_info": {
   "codemirror_mode": {
    "name": "ipython",
    "version": 3
   },
   "file_extension": ".py",
   "mimetype": "text/x-python",
   "name": "python",
   "nbconvert_exporter": "python",
   "pygments_lexer": "ipython3",
   "version": "3.9.13"
  },
  "toc": {
   "base_numbering": 1,
   "nav_menu": {},
   "number_sections": true,
   "sideBar": true,
   "skip_h1_title": false,
   "title_cell": "Table of Contents",
   "title_sidebar": "Contents",
   "toc_cell": false,
   "toc_position": {},
   "toc_section_display": true,
   "toc_window_display": false
  },
  "vscode": {
   "interpreter": {
    "hash": "31f2aee4e71d21fbe5cf8b01ff0e069b9275f58929596ceb00d14d90e3e16cd6"
   }
  }
 },
 "nbformat": 4,
 "nbformat_minor": 5
}
