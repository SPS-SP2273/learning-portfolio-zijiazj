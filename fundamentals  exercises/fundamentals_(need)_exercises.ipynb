{
 "cells": [
  {
   "attachments": {},
   "cell_type": "markdown",
   "id": "123456",
   "metadata": {},
   "source": [
    "<div style=\"text-align:left;font-size:2em\"><span style=\"font-weight:bolder;font-size:1.25em\">SP2273 | Learning Portfolio</span><br><br><span style=\"font-weight:bold;color:darkred\">Fundamentals (Need) Exercises</span></div>"
   ]
  },
  {
   "cell_type": "markdown",
   "id": "135fe991-a591-4e38-bf6b-afe28f78dfa6",
   "metadata": {},
   "source": [
    "# **Exercise 1**"
   ]
  },
  {
   "cell_type": "markdown",
   "id": "23fad7c8-95a1-4f4e-b437-e4ada48100d5",
   "metadata": {},
   "source": [
    "### 1. **Purely from memory**, list as many of the basic Python features I mentioned in my notes as you remember."
   ]
  },
  {
   "cell_type": "markdown",
   "id": "dccf623e-697b-4637-ab02-4bc56d188739",
   "metadata": {},
   "source": [
    "### 2. Now, visit the notes and complete the list with the ones you missed. Indicate those you missed by putting them in *italics*."
   ]
  },
  {
   "cell_type": "markdown",
   "id": "98baad23-842d-4ee5-959f-a4013d81e34d",
   "metadata": {},
   "source": [
    "- Python is case-sensitve\n",
    "- Python is sensitive to indentation\n",
    "- = is not equal to ==, = is to assign a value while == is to check the value of a variable\n",
    "- Python has many in-built functions, we can define our own function too\n",
    "- We can use if/then/else to make decisions for Python\n",
    "- print('a') is printing the character a, print(a) is to print the value store in variable a\n",
    "- We need to import packages like math or numpy to do mathematical calculations on Python\n",
    "  "
   ]
  },
  {
   "cell_type": "markdown",
   "id": "8aef4264-2d53-4889-aad7-b9f162a995e6",
   "metadata": {},
   "source": [
    "- *Python is interpreted, which works sequentially, one command at a time.*\n",
    "- *Use # to make comments as Python will ignore anything between the # and the end of the line.*\n",
    "- *() is to call a function and for mathematics, [] for listing data, {} for creating dictionary.*\n",
    "- *. indicates ownership. Example, math.sqrt() belongs to math package, numpy.sqrt() belongs to numpy package.*"
   ]
  },
  {
   "cell_type": "markdown",
   "id": "af322c02-60bb-4553-92c0-315f49be2879",
   "metadata": {},
   "source": [
    "# **Exercise 2**"
   ]
  },
  {
   "cell_type": "markdown",
   "id": "c749b91a-6502-46fd-8112-bf3f96cbba66",
   "metadata": {},
   "source": [
    "### Debug the following code"
   ]
  },
  {
   "cell_type": "code",
   "execution_count": 2,
   "id": "5797193e-0eea-467d-8f1d-45c62d5d8622",
   "metadata": {},
   "outputs": [
    {
     "ename": "IndentationError",
     "evalue": "unindent does not match any outer indentation level (<tokenize>, line 3)",
     "output_type": "error",
     "traceback": [
      "\u001b[1;36m  File \u001b[1;32m<tokenize>:3\u001b[1;36m\u001b[0m\n\u001b[1;33m    Print(x, y, z)\u001b[0m\n\u001b[1;37m    ^\u001b[0m\n\u001b[1;31mIndentationError\u001b[0m\u001b[1;31m:\u001b[0m unindent does not match any outer indentation level\n"
     ]
    }
   ],
   "source": [
    "x, y = 3, 4\n",
    "        z = sqrt(x*2 + y**2)\n",
    "    Print(x, y, z)"
   ]
  },
  {
   "cell_type": "markdown",
   "id": "59bc5f72-7502-465c-9c26-c8792bac4327",
   "metadata": {},
   "source": [
    "Debug the code above to create a pythagorean triple"
   ]
  },
  {
   "cell_type": "code",
   "execution_count": 7,
   "id": "0b97f3a5-8fa8-45e3-9608-1cee98bef6e5",
   "metadata": {},
   "outputs": [
    {
     "name": "stdout",
     "output_type": "stream",
     "text": [
      "3 4 5.0\n"
     ]
    }
   ],
   "source": [
    "x, y = 3, 4\n",
    "import math\n",
    "z = math.sqrt(x**2 + y**2)\n",
    "print(x, y, z)"
   ]
  },
  {
   "cell_type": "markdown",
   "id": "19c4153e-d2c9-4a09-861c-fd7f560ba2ad",
   "metadata": {},
   "source": [
    "# **Exercise 3**"
   ]
  },
  {
   "cell_type": "markdown",
   "id": "d6c7282e-dfb2-45a4-8deb-54b2b3a7b908",
   "metadata": {},
   "source": [
    "### Use your own word, write a single sentence to describe what each of the following means or the role they serve in Python."
   ]
  },
  {
   "cell_type": "markdown",
   "id": "c0a229a5-8df5-44ee-9185-080a53250e3a",
   "metadata": {},
   "source": [
    "| # | Term | Description |\n",
    "|:---: |:---:|:---:|\n",
    "|1|Function|Funtion is something that done specific task for us, which can be in-built or self-assign|\n",
    "|2|Argument|Argument is something you ask the function to do, which function may accept or not accept|\n",
    "|3|Comments|We use # to make a comment as python will ignore them|\n",
    "|4|Indentations|Python is space-sensitive as it uses indentation to understand specific block, for example, the if then True or False block|\n",
    "|5|Packages|We can import packages to improve the functionality of Python|\n",
    "|6|.|indicate ownership|\n",
    "|7|:|to create block of code|\n",
    "|8|[]|to create an array of 1D data|\n",
    "|9|[[[]]]|to create an array of 2D data|\n",
    "|10|{}|to create dictionary| |"
   ]
  },
  {
   "cell_type": "markdown",
   "id": "2b1cce71-9a3d-4d8d-bbb5-ecce1e12a987",
   "metadata": {},
   "source": [
    "# Exercise 4 (More than one way to divide)"
   ]
  },
  {
   "cell_type": "markdown",
   "id": "48304698-329d-4ee9-bc77-952d9eb396a8",
   "metadata": {},
   "source": [
    "### Programming langugas usually offer multiple options for dividing one number by another. Shown below are three such options. Either by observation (trial and error), Googling or discussing with a friend, figure out what each one does.\n",
    "\n",
    "### I recommended the trial and error approach first so that you get a feel for how to use Python.                                                          Indicate your answer by writing a comment."
   ]
  },
  {
   "cell_type": "code",
   "execution_count": 1,
   "id": "4642b18b-cb66-46c7-86f4-edcd417aafda",
   "metadata": {},
   "outputs": [
    {
     "data": {
      "text/plain": [
       "2.5"
      ]
     },
     "execution_count": 1,
     "metadata": {},
     "output_type": "execute_result"
    }
   ],
   "source": [
    "5/2 # divide 5 by 2 (true division)"
   ]
  },
  {
   "cell_type": "code",
   "execution_count": 14,
   "id": "d9503288-5de1-467e-be4b-31556629499f",
   "metadata": {},
   "outputs": [
    {
     "data": {
      "text/plain": [
       "33"
      ]
     },
     "execution_count": 14,
     "metadata": {},
     "output_type": "execute_result"
    }
   ],
   "source": [
    "100//3 # divide 100 by 3 and give the quotient (floor division)"
   ]
  },
  {
   "cell_type": "code",
   "execution_count": 13,
   "id": "06b7ad9f-966b-46f5-8aa8-e368ed053e08",
   "metadata": {},
   "outputs": [
    {
     "data": {
      "text/plain": [
       "3"
      ]
     },
     "execution_count": 13,
     "metadata": {},
     "output_type": "execute_result"
    }
   ],
   "source": [
    "13%5 # divide 13 by 5 and give the remainder (modulo operation)\n"
   ]
  },
  {
   "cell_type": "code",
   "execution_count": null,
   "id": "92e22aa7-a8bf-43d8-ae51-281dfbbd4f18",
   "metadata": {},
   "outputs": [],
   "source": []
  }
 ],
 "metadata": {
  "kernelspec": {
   "display_name": "Python 3 (ipykernel)",
   "language": "python",
   "name": "python3"
  },
  "language_info": {
   "codemirror_mode": {
    "name": "ipython",
    "version": 3
   },
   "file_extension": ".py",
   "mimetype": "text/x-python",
   "name": "python",
   "nbconvert_exporter": "python",
   "pygments_lexer": "ipython3",
   "version": "3.9.13"
  },
  "toc": {
   "base_numbering": 1,
   "nav_menu": {},
   "number_sections": true,
   "sideBar": true,
   "skip_h1_title": false,
   "title_cell": "Table of Contents",
   "title_sidebar": "Contents",
   "toc_cell": false,
   "toc_position": {},
   "toc_section_display": true,
   "toc_window_display": false
  },
  "vscode": {
   "interpreter": {
    "hash": "31f2aee4e71d21fbe5cf8b01ff0e069b9275f58929596ceb00d14d90e3e16cd6"
   }
  }
 },
 "nbformat": 4,
 "nbformat_minor": 5
}
