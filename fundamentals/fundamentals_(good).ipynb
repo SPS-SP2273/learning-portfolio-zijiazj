{
 "cells": [
  {
   "attachments": {},
   "cell_type": "markdown",
   "id": "123456",
   "metadata": {},
   "source": [
    "<div style=\"text-align:left;font-size:2em\"><span style=\"font-weight:bolder;font-size:1.25em\">SP2273 | Learning Portfolio</span><br><br><span style=\"font-weight:bold;color:darkred\">Fundamentals (Good)</span></div>"
   ]
  },
  {
   "attachments": {},
   "cell_type": "markdown",
   "id": "8a925baf",
   "metadata": {},
   "source": [
    "# What to expect in this chapter"
   ]
  },
  {
   "cell_type": "markdown",
   "id": "67775f1e-3f78-4a1e-9f14-fb3b29adaa09",
   "metadata": {},
   "source": [
    "Introducing different data types and how to combine variables with English"
   ]
  },
  {
   "attachments": {},
   "cell_type": "markdown",
   "id": "96cde053",
   "metadata": {},
   "source": [
    "# 1 There is more to if"
   ]
  },
  {
   "cell_type": "code",
   "execution_count": 3,
   "id": "1a3781bc-d302-4657-b804-e96d1a957540",
   "metadata": {},
   "outputs": [
    {
     "name": "stdout",
     "output_type": "stream",
     "text": [
      "Harry you are a wizard\n"
     ]
    }
   ],
   "source": [
    "name = 'Harry'\n",
    "\n",
    "if name == 'Harry':\n",
    "    print('Harry you are a wizard')\n",
    "elif name == 'Voldermort':# this means else if\n",
    "    print('Hehehe')\n",
    "else:\n",
    "    print('I am a what?')"
   ]
  },
  {
   "attachments": {},
   "cell_type": "markdown",
   "id": "74ebea3e",
   "metadata": {},
   "source": [
    "# 2 Asking questions"
   ]
  },
  {
   "cell_type": "code",
   "execution_count": 5,
   "id": "9d1f6e10-962c-4fcc-a31d-53e65650f1d5",
   "metadata": {},
   "outputs": [],
   "source": [
    "fruits = ['apples', 'banana', 'pineapple', 'jackfruit']\n",
    "vegetables = ['celery', 'potato', 'brocoli', 'kale']"
   ]
  },
  {
   "cell_type": "code",
   "execution_count": 8,
   "id": "dcda42fa-fb0c-4b7b-bd49-202f0323f8e1",
   "metadata": {},
   "outputs": [
    {
     "data": {
      "text/plain": [
       "True"
      ]
     },
     "execution_count": 8,
     "metadata": {},
     "output_type": "execute_result"
    }
   ],
   "source": [
    "'apples' in fruits #you ask a question"
   ]
  },
  {
   "cell_type": "code",
   "execution_count": 9,
   "id": "c45ce185-b172-4dc9-9a9f-91f2b34b4dba",
   "metadata": {},
   "outputs": [
    {
     "data": {
      "text/plain": [
       "False"
      ]
     },
     "execution_count": 9,
     "metadata": {},
     "output_type": "execute_result"
    }
   ],
   "source": [
    "'peach' in fruits"
   ]
  },
  {
   "cell_type": "code",
   "execution_count": 23,
   "id": "f449a25c-6e56-4004-8564-4eaf30305002",
   "metadata": {},
   "outputs": [
    {
     "data": {
      "text/plain": [
       "True"
      ]
     },
     "execution_count": 23,
     "metadata": {},
     "output_type": "execute_result"
    }
   ],
   "source": [
    "'peach' not in fruits  #double negative"
   ]
  },
  {
   "cell_type": "code",
   "execution_count": 11,
   "id": "6fa87d14-73d0-4aa9-a657-5493e2ca1683",
   "metadata": {},
   "outputs": [
    {
     "data": {
      "text/plain": [
       "True"
      ]
     },
     "execution_count": 11,
     "metadata": {},
     "output_type": "execute_result"
    }
   ],
   "source": [
    "('apples' in fruits) or ('celery'in vegetables)"
   ]
  },
  {
   "cell_type": "code",
   "execution_count": 16,
   "id": "1495f6ed-15a4-42a6-adf5-db3b92120a84",
   "metadata": {},
   "outputs": [
    {
     "data": {
      "text/plain": [
       "True"
      ]
     },
     "execution_count": 16,
     "metadata": {},
     "output_type": "execute_result"
    }
   ],
   "source": [
    "('apples' in fruits) or ('banana'in vegetables)"
   ]
  },
  {
   "cell_type": "code",
   "execution_count": 17,
   "id": "82ebe349-1f0b-4180-839a-b0c426150c8a",
   "metadata": {},
   "outputs": [
    {
     "data": {
      "text/plain": [
       "False"
      ]
     },
     "execution_count": 17,
     "metadata": {},
     "output_type": "execute_result"
    }
   ],
   "source": [
    "('peach' in fruits) or ('banana'in vegetables)"
   ]
  },
  {
   "cell_type": "code",
   "execution_count": 18,
   "id": "468e7db1-eaeb-4239-a7cd-21592bd5866e",
   "metadata": {},
   "outputs": [
    {
     "data": {
      "text/plain": [
       "False"
      ]
     },
     "execution_count": 18,
     "metadata": {},
     "output_type": "execute_result"
    }
   ],
   "source": [
    "('apples' in fruits) and ('banana'in vegetables)"
   ]
  },
  {
   "cell_type": "code",
   "execution_count": 19,
   "id": "abe2cac8-17e3-46c3-a698-e44747172ba1",
   "metadata": {},
   "outputs": [
    {
     "data": {
      "text/plain": [
       "True"
      ]
     },
     "execution_count": 19,
     "metadata": {},
     "output_type": "execute_result"
    }
   ],
   "source": [
    "'app' in 'apple'\n"
   ]
  },
  {
   "cell_type": "code",
   "execution_count": 21,
   "id": "ae658882-71ef-482f-8c26-2ede2301fac7",
   "metadata": {},
   "outputs": [
    {
     "data": {
      "text/plain": [
       "True"
      ]
     },
     "execution_count": 21,
     "metadata": {},
     "output_type": "execute_result"
    }
   ],
   "source": [
    "'pea' in 'peach' #you dont need to be a value stored in a function to work"
   ]
  },
  {
   "cell_type": "code",
   "execution_count": 22,
   "id": "dc5f4362-daba-4d0f-957a-5f6319973cbc",
   "metadata": {},
   "outputs": [],
   "source": [
    "# or: as long as either one is true\n",
    "# and: both must be true"
   ]
  },
  {
   "attachments": {},
   "cell_type": "markdown",
   "id": "9fae9e46",
   "metadata": {},
   "source": [
    "### Remember"
   ]
  },
  {
   "cell_type": "markdown",
   "id": "44e95fa1-2359-4e59-a01a-62701d04aeda",
   "metadata": {},
   "source": [
    "**in, not in, or, and** are useful keywords to ask question"
   ]
  },
  {
   "cell_type": "code",
   "execution_count": 25,
   "id": "47165c99-4bf5-413c-adb9-1e959542c620",
   "metadata": {},
   "outputs": [
    {
     "data": {
      "text/plain": [
       "False"
      ]
     },
     "execution_count": 25,
     "metadata": {},
     "output_type": "execute_result"
    }
   ],
   "source": [
    "3>4"
   ]
  },
  {
   "cell_type": "code",
   "execution_count": 26,
   "id": "d63355d2-66ca-4aff-ac3f-f5083c22a272",
   "metadata": {},
   "outputs": [
    {
     "data": {
      "text/plain": [
       "False"
      ]
     },
     "execution_count": 26,
     "metadata": {},
     "output_type": "execute_result"
    }
   ],
   "source": [
    "'apple' > 'apples'"
   ]
  },
  {
   "cell_type": "code",
   "execution_count": 27,
   "id": "d8d363f2-90c5-4062-bdc8-99983f89441f",
   "metadata": {},
   "outputs": [
    {
     "data": {
      "text/plain": [
       "True"
      ]
     },
     "execution_count": 27,
     "metadata": {},
     "output_type": "execute_result"
    }
   ],
   "source": [
    "'apples'>'apple' #computer is comparing the assigned binary code"
   ]
  },
  {
   "cell_type": "code",
   "execution_count": 29,
   "id": "9b5e26dd-67c1-4c12-bc2d-c8380d0dab7f",
   "metadata": {},
   "outputs": [
    {
     "ename": "TypeError",
     "evalue": "'<' not supported between instances of 'int' and 'str'",
     "output_type": "error",
     "traceback": [
      "\u001b[1;31m---------------------------------------------------------------------------\u001b[0m",
      "\u001b[1;31mTypeError\u001b[0m                                 Traceback (most recent call last)",
      "Cell \u001b[1;32mIn[29], line 1\u001b[0m\n\u001b[1;32m----> 1\u001b[0m \u001b[38;5;241;43m3\u001b[39;49m\u001b[43m \u001b[49m\u001b[38;5;241;43m<\u001b[39;49m\u001b[38;5;124;43m'\u001b[39;49m\u001b[38;5;124;43mapple\u001b[39;49m\u001b[38;5;124;43m'\u001b[39;49m \u001b[38;5;66;03m# this will not work, these two must be similar things to work\u001b[39;00m\n",
      "\u001b[1;31mTypeError\u001b[0m: '<' not supported between instances of 'int' and 'str'"
     ]
    }
   ],
   "source": [
    "3 <'apple' # this will not work, these two must be similar things to work"
   ]
  },
  {
   "attachments": {},
   "cell_type": "markdown",
   "id": "096394a8",
   "metadata": {},
   "source": [
    "## 2.1 Asking Math questions"
   ]
  },
  {
   "cell_type": "markdown",
   "id": "e854c296-ce4b-406e-aea1-935675382012",
   "metadata": {},
   "source": [
    "|Question/Condition|Math Symbol|Python Symbols|\n",
    "|:---|:---:|:---:|\n",
    "|Equals?|=|==|\n",
    "|Not equal?|≠|!=|\n",
    "|Less than?|<|<|\n",
    "|Greater than?|>|>|\n",
    "|Less than or equal?|≤|<=|\n",
    "|Greater than or equal?|≥|>=|"
   ]
  },
  {
   "cell_type": "code",
   "execution_count": 33,
   "id": "9bfbd769-df1e-4323-bd63-ae2ab8944d8a",
   "metadata": {},
   "outputs": [],
   "source": [
    "#all these below also work\n",
    "x = 7\n"
   ]
  },
  {
   "cell_type": "code",
   "execution_count": 35,
   "id": "063053c5-7d40-4aa9-b136-71ca09fa814b",
   "metadata": {},
   "outputs": [
    {
     "data": {
      "text/plain": [
       "True"
      ]
     },
     "execution_count": 35,
     "metadata": {},
     "output_type": "execute_result"
    }
   ],
   "source": [
    "x>5 and x<15"
   ]
  },
  {
   "cell_type": "code",
   "execution_count": 36,
   "id": "908d535e-0721-4562-a874-3102461416dc",
   "metadata": {},
   "outputs": [
    {
     "data": {
      "text/plain": [
       "True"
      ]
     },
     "execution_count": 36,
     "metadata": {},
     "output_type": "execute_result"
    }
   ],
   "source": [
    "x<5 or x<15"
   ]
  },
  {
   "cell_type": "code",
   "execution_count": 37,
   "id": "1c102265-3007-4e53-b8ed-07dde7b5420c",
   "metadata": {},
   "outputs": [
    {
     "data": {
      "text/plain": [
       "False"
      ]
     },
     "execution_count": 37,
     "metadata": {},
     "output_type": "execute_result"
    }
   ],
   "source": [
    "x<5 and x<15"
   ]
  },
  {
   "cell_type": "code",
   "execution_count": 38,
   "id": "3345c701-717e-48bb-b2fb-ea9d1cd10d93",
   "metadata": {},
   "outputs": [
    {
     "data": {
      "text/plain": [
       "True"
      ]
     },
     "execution_count": 38,
     "metadata": {},
     "output_type": "execute_result"
    }
   ],
   "source": [
    "(x>5) and (x<15)"
   ]
  },
  {
   "cell_type": "code",
   "execution_count": 39,
   "id": "2f6353db-8acc-4617-a5db-675f6c8494a6",
   "metadata": {},
   "outputs": [
    {
     "data": {
      "text/plain": [
       "True"
      ]
     },
     "execution_count": 39,
     "metadata": {},
     "output_type": "execute_result"
    }
   ],
   "source": [
    "5<x<15"
   ]
  },
  {
   "attachments": {},
   "cell_type": "markdown",
   "id": "1c7526bd",
   "metadata": {},
   "source": [
    "# 3 Python stores information in different formats or types"
   ]
  },
  {
   "cell_type": "markdown",
   "id": "82f5e5c9-aabc-4723-8bb4-de91c12e4641",
   "metadata": {},
   "source": [
    "Computer stores information in 4 ways for different efficiency.\n",
    "We can use the function **type()** to ask python how it stores the information"
   ]
  },
  {
   "cell_type": "code",
   "execution_count": 42,
   "id": "76213884-5191-4759-ab15-f50784359286",
   "metadata": {},
   "outputs": [],
   "source": [
    "x = 1.234"
   ]
  },
  {
   "cell_type": "code",
   "execution_count": 43,
   "id": "7d527df8-3490-41eb-8c27-9ab38d90e04f",
   "metadata": {},
   "outputs": [
    {
     "data": {
      "text/plain": [
       "float"
      ]
     },
     "execution_count": 43,
     "metadata": {},
     "output_type": "execute_result"
    }
   ],
   "source": [
    "type(x) "
   ]
  },
  {
   "cell_type": "code",
   "execution_count": 44,
   "id": "4f9a7ecd-c765-4c61-b8ad-aa079cbd92c0",
   "metadata": {},
   "outputs": [],
   "source": [
    "#Floating point numbers = decimal values or fractional numbers\n",
    "#Real number = integers"
   ]
  },
  {
   "cell_type": "code",
   "execution_count": 47,
   "id": "2e9f33fa-4fff-4ade-9078-63a50388c314",
   "metadata": {},
   "outputs": [
    {
     "name": "stdout",
     "output_type": "stream",
     "text": [
      "3 <class 'int'>\n"
     ]
    }
   ],
   "source": [
    "#integar\n",
    "x=int(3.456)\n",
    "print(x, type(x)) #the decimal values will not be stored"
   ]
  },
  {
   "cell_type": "code",
   "execution_count": 50,
   "id": "f1b6e09f-8976-4342-906c-1cead59d9020",
   "metadata": {},
   "outputs": [
    {
     "name": "stdout",
     "output_type": "stream",
     "text": [
      "a <class 'str'>\n"
     ]
    }
   ],
   "source": [
    "#English word\n",
    "x='a'\n",
    "print(x, type(x))"
   ]
  },
  {
   "cell_type": "code",
   "execution_count": 52,
   "id": "9ca76a72-0cc0-4149-a3d7-f14b1fa32691",
   "metadata": {},
   "outputs": [],
   "source": [
    "# or this also work"
   ]
  },
  {
   "cell_type": "code",
   "execution_count": 53,
   "id": "c2369383-8644-4f9b-bb64-42d6fbe7213b",
   "metadata": {},
   "outputs": [
    {
     "name": "stdout",
     "output_type": "stream",
     "text": [
      "5.678 <class 'str'>\n"
     ]
    }
   ],
   "source": [
    "x='5.678'\n",
    "print(x, type(x))"
   ]
  },
  {
   "cell_type": "code",
   "execution_count": 54,
   "id": "b578b341-fef0-4f7a-9bf0-68392bdff84c",
   "metadata": {},
   "outputs": [
    {
     "name": "stdout",
     "output_type": "stream",
     "text": [
      "67.39 <class 'str'>\n"
     ]
    }
   ],
   "source": [
    "x=str(67.39)\n",
    "print(x, type(x))"
   ]
  },
  {
   "cell_type": "code",
   "execution_count": 55,
   "id": "4db2f4d8-e4eb-4440-9e97-bae814143797",
   "metadata": {},
   "outputs": [
    {
     "name": "stdout",
     "output_type": "stream",
     "text": [
      "1.23456 <class 'float'>\n"
     ]
    }
   ],
   "source": [
    "#decimal number\n",
    "x=float(1.23456)\n",
    "print(x, type(x))"
   ]
  },
  {
   "cell_type": "code",
   "execution_count": 56,
   "id": "9b451ccb-0bc2-4e5e-88f6-4e52c34115e4",
   "metadata": {},
   "outputs": [
    {
     "name": "stdout",
     "output_type": "stream",
     "text": [
      "(3.4789+0j) <class 'complex'>\n"
     ]
    }
   ],
   "source": [
    "#complex number\n",
    "x=complex(3.4789)\n",
    "print(x, type(x))"
   ]
  },
  {
   "cell_type": "code",
   "execution_count": 59,
   "id": "c475fd54-b06a-42eb-a08a-55b757f33328",
   "metadata": {},
   "outputs": [
    {
     "name": "stdout",
     "output_type": "stream",
     "text": [
      "(1.2874+2j) <class 'complex'>\n"
     ]
    }
   ],
   "source": [
    "x=1.2874+2j    #if it is already a complex number, I dont need to purposely define it as a complex number for computer to recognise it as complex number\n",
    "print(x, type(x))"
   ]
  },
  {
   "cell_type": "markdown",
   "id": "fd1ef8cf-9a4b-475c-a5d7-4519d58dfc68",
   "metadata": {},
   "source": [
    "### changing the type of variable"
   ]
  },
  {
   "cell_type": "code",
   "execution_count": 61,
   "id": "476a55e1-8f91-4289-b6d7-dbdd7c2805e8",
   "metadata": {},
   "outputs": [
    {
     "name": "stdout",
     "output_type": "stream",
     "text": [
      "12.3456 <class 'str'>\n"
     ]
    }
   ],
   "source": [
    "#converting a string into a float\n",
    "x='12.3456'\n",
    "print(x, type(x))"
   ]
  },
  {
   "cell_type": "code",
   "execution_count": 62,
   "id": "2bd92df9-708d-4592-b33d-5c8ec22c22e6",
   "metadata": {},
   "outputs": [
    {
     "name": "stdout",
     "output_type": "stream",
     "text": [
      "12.3456 <class 'float'>\n"
     ]
    }
   ],
   "source": [
    "x=float(x)\n",
    "print(x, type(x))"
   ]
  },
  {
   "attachments": {},
   "cell_type": "markdown",
   "id": "b0169ce0",
   "metadata": {},
   "source": [
    "# 4 Never compare floats directly"
   ]
  },
  {
   "cell_type": "markdown",
   "id": "a4ef3e31-6a87-452a-bc8a-749e6e6aad18",
   "metadata": {},
   "source": [
    "Since computer has finite hardware resource, float point numbers cannot be stored exactly in a computer, leading to **roundoff errors**"
   ]
  },
  {
   "attachments": {},
   "cell_type": "markdown",
   "id": "c0192e83",
   "metadata": {},
   "source": [
    "## 4.1 The Problem"
   ]
  },
  {
   "cell_type": "code",
   "execution_count": 68,
   "id": "53825fdc-738c-45f2-ad51-0cce991fa36a",
   "metadata": {},
   "outputs": [
    {
     "data": {
      "text/plain": [
       "False"
      ]
     },
     "execution_count": 68,
     "metadata": {},
     "output_type": "execute_result"
    }
   ],
   "source": [
    "y=0.1\n",
    "y3=0.3\n",
    "y*3 == y3 #false for float number"
   ]
  },
  {
   "cell_type": "code",
   "execution_count": 69,
   "id": "9bb0db4e-5964-4aa2-a92b-aa4bd8db0072",
   "metadata": {},
   "outputs": [
    {
     "data": {
      "text/plain": [
       "True"
      ]
     },
     "execution_count": 69,
     "metadata": {},
     "output_type": "execute_result"
    }
   ],
   "source": [
    "a=1\n",
    "a3=3\n",
    "a*3==3 #true for integers"
   ]
  },
  {
   "cell_type": "code",
   "execution_count": 70,
   "id": "4b03e9a9-b108-4b52-9126-5f5ccf528635",
   "metadata": {},
   "outputs": [
    {
     "data": {
      "text/plain": [
       "'0.29999999999999999'"
      ]
     },
     "execution_count": 70,
     "metadata": {},
     "output_type": "execute_result"
    }
   ],
   "source": [
    "#converting 0.3 to 17 decimal places\n",
    "f'{0.3:.17f}' "
   ]
  },
  {
   "cell_type": "markdown",
   "id": "2b3bb5ca-a245-408c-9316-3578e9ede6e7",
   "metadata": {},
   "source": [
    "the f' here refers to **f-string** or **string interpolation** format strings that allows you to embed expressions directly into the string literals.\n",
    "example:\n",
    "```python\n",
    "name = \"Alice\"\r\n",
    "age = 30\r\n",
    "print(f\"My name is {name} and I am {age} years old.\n",
    "```\n",
    "It will be print as \"My name is Alice and I am 30 years old.\"\")\r\n"
   ]
  },
  {
   "attachments": {},
   "cell_type": "markdown",
   "id": "15baa038",
   "metadata": {},
   "source": [
    "## 4.2 A solution"
   ]
  },
  {
   "cell_type": "markdown",
   "id": "94e2f8d4-93fe-43b3-9825-ffab0bc0e980",
   "metadata": {},
   "source": [
    "Instead of checking whether they are equal, we should check if the variable is **close** to the expected value"
   ]
  },
  {
   "cell_type": "code",
   "execution_count": 72,
   "id": "d699f199-ad89-402b-b936-6abcc5cb6b0b",
   "metadata": {},
   "outputs": [
    {
     "data": {
      "text/plain": [
       "True"
      ]
     },
     "execution_count": 72,
     "metadata": {},
     "output_type": "execute_result"
    }
   ],
   "source": [
    "eps = 1E-10\n",
    "abs(y3-y*3)<eps #check whether the absolute value of differences between these two numbers are very very small"
   ]
  },
  {
   "cell_type": "markdown",
   "id": "635540cd-e7dc-434d-b9c4-a16a6100983c",
   "metadata": {},
   "source": [
    "or we can use Numpy"
   ]
  },
  {
   "cell_type": "code",
   "execution_count": 75,
   "id": "f43ef070-bb5a-4c7f-a9f2-f0c82c76d336",
   "metadata": {},
   "outputs": [
    {
     "data": {
      "text/plain": [
       "True"
      ]
     },
     "execution_count": 75,
     "metadata": {},
     "output_type": "execute_result"
    }
   ],
   "source": [
    "import numpy as np\n",
    "np.isclose(y*3, y3)"
   ]
  },
  {
   "attachments": {},
   "cell_type": "markdown",
   "id": "8acdfb13",
   "metadata": {},
   "source": [
    "# 5 Combining English and variables"
   ]
  },
  {
   "cell_type": "markdown",
   "id": "68e89ead-aecd-491f-b9ab-90783e68ea4d",
   "metadata": {},
   "source": [
    "Combining strings with variables\n",
    "\n",
    "**Useful** for example when automating personalised emails to large class"
   ]
  },
  {
   "cell_type": "code",
   "execution_count": 76,
   "id": "5037fc26-e3cf-437b-94b0-28bf1ca020d6",
   "metadata": {},
   "outputs": [
    {
     "name": "stdout",
     "output_type": "stream",
     "text": [
      "Harry you are a wizard\n"
     ]
    }
   ],
   "source": [
    "name = 'Harry'\n",
    "print(f'{name} you are a wizard')"
   ]
  },
  {
   "cell_type": "code",
   "execution_count": 78,
   "id": "b9ab3d01-d3a7-4e81-b749-f59cd37fa24c",
   "metadata": {},
   "outputs": [
    {
     "name": "stdout",
     "output_type": "stream",
     "text": [
      "\"HARRY DiD Ya PuT Ya NAmE In Da GobLeT oF FirA?!\" professor Dumbledore asked clamly.\n"
     ]
    }
   ],
   "source": [
    "# converting string variable into all upper cases\n",
    "print(f'\"{name.upper()} DiD Ya PuT Ya NAmE In Da GobLeT oF FirA?!\" professor Dumbledore asked clamly.')"
   ]
  },
  {
   "cell_type": "code",
   "execution_count": 80,
   "id": "f67c81b5-be90-4547-9946-c11369657387",
   "metadata": {},
   "outputs": [
    {
     "name": "stdout",
     "output_type": "stream",
     "text": [
      "The value of 10 square is not 1000!\n"
     ]
    }
   ],
   "source": [
    "x=10\n",
    "print(f'The value of {x} square is not {x**3}!')"
   ]
  },
  {
   "cell_type": "markdown",
   "id": "274f2afb-af4b-453f-9ecd-4840ee437678",
   "metadata": {},
   "source": [
    "#### More examples of f-string"
   ]
  },
  {
   "cell_type": "code",
   "execution_count": 81,
   "id": "1a6ddf68-497d-468b-ba27-1de46d3f79ca",
   "metadata": {},
   "outputs": [
    {
     "name": "stdout",
     "output_type": "stream",
     "text": [
      "Expelliarmus\n"
     ]
    }
   ],
   "source": [
    "text ='Expelliarmus'\n",
    "print(f'{text}')"
   ]
  },
  {
   "cell_type": "code",
   "execution_count": 84,
   "id": "6420a7a3-cd58-48e4-8bf2-efb9767c153b",
   "metadata": {},
   "outputs": [
    {
     "name": "stdout",
     "output_type": "stream",
     "text": [
      "                                      Expelliarmus\n"
     ]
    }
   ],
   "source": [
    "#A block of 50 characters\n",
    "#aligned right\n",
    "print(f'{text:>50}')"
   ]
  },
  {
   "cell_type": "code",
   "execution_count": 85,
   "id": "95f6f2af-8a5f-43c5-a917-92925d5375d7",
   "metadata": {},
   "outputs": [
    {
     "name": "stdout",
     "output_type": "stream",
     "text": [
      "                   Expelliarmus                   \n"
     ]
    }
   ],
   "source": [
    "#A block of 50 characters\n",
    "#aligned centre\n",
    "print(f'{text:^50}')"
   ]
  },
  {
   "cell_type": "code",
   "execution_count": 86,
   "id": "6d8b342f-3712-4200-bd31-4285ea9c5057",
   "metadata": {},
   "outputs": [
    {
     "name": "stdout",
     "output_type": "stream",
     "text": [
      "Expelliarmus                                      \n"
     ]
    }
   ],
   "source": [
    "#A block of 50 characters\n",
    "#aligned left\n",
    "print(f'{text:<50}')"
   ]
  },
  {
   "cell_type": "code",
   "execution_count": 91,
   "id": "cb5465d7-e891-4e66-a1b6-b10833b8d279",
   "metadata": {},
   "outputs": [
    {
     "name": "stdout",
     "output_type": "stream",
     "text": [
      "The cube of pi to 6 decimal places is 31.006277\n"
     ]
    }
   ],
   "source": [
    "#.f tell the f-string to include the number of decimal place (float)\n",
    "print(f'The cube of pi to 6 decimal places is {np.pi**3:.6f}')"
   ]
  },
  {
   "cell_type": "code",
   "execution_count": 90,
   "id": "d9d95e2b-265c-42a2-bc75-b1591d847419",
   "metadata": {},
   "outputs": [
    {
     "name": "stdout",
     "output_type": "stream",
     "text": [
      "The cube of pi to 6 decimal places is 3.100628e+01\n"
     ]
    }
   ],
   "source": [
    "#.e tell the f-string to write the number of decimal place as scientific notation\n",
    "print(f'The cube of pi to 6 decimal places is {np.pi**3:.6e}')"
   ]
  },
  {
   "attachments": {},
   "cell_type": "markdown",
   "id": "849e196a",
   "metadata": {},
   "source": [
    "## 5.1 Structure of f-strings"
   ]
  },
  {
   "cell_type": "markdown",
   "id": "bb038d87-0f29-43be-958d-0461c75a5eb0",
   "metadata": {},
   "source": [
    "General structure of **f-string = {X:0Y.ZW}**"
   ]
  },
  {
   "cell_type": "markdown",
   "id": "21381d40-84a5-4a56-8cde-f0b67579cacd",
   "metadata": {},
   "source": [
    "|Letter|Action|Possible Options|\n",
    "|:---:|:---|:---|\n",
    "|X|Variable to format|Can be number or string|\n",
    "|>|Alignment|<for left,>for right,^for centre|\n",
    "|0|to pad the spaces|or you can just press space|\n",
    "|Y|Total number of character||\n",
    "|Z|Number of decimal places||\n",
    "|W|Specifies the tyep of variable|f(float)|\n",
    "|||-d(integer)|\n",
    "|||-s(string)|\n",
    "|||-g(asks python to figure out)|\n"
   ]
  },
  {
   "cell_type": "code",
   "execution_count": 95,
   "id": "ba629a47-e16c-452d-a8ff-2d3059013f4e",
   "metadata": {},
   "outputs": [
    {
     "name": "stdout",
     "output_type": "stream",
     "text": [
      "pi is 3.141592654\n"
     ]
    }
   ],
   "source": [
    "print(f'pi is {np.pi:.10g}')"
   ]
  },
  {
   "cell_type": "markdown",
   "id": "1bbd0418-099f-45b8-9293-982d6e7133d3",
   "metadata": {},
   "source": [
    "[more about f-string](https://pyformat.info/)"
   ]
  },
  {
   "attachments": {},
   "cell_type": "markdown",
   "id": "2b10ca6b",
   "metadata": {},
   "source": [
    "# 6 Escape sequences"
   ]
  },
  {
   "cell_type": "markdown",
   "id": "53ca47bd-6617-4ba9-894f-570a3c7ce7e8",
   "metadata": {},
   "source": [
    "To break a line or add a tab"
   ]
  },
  {
   "cell_type": "code",
   "execution_count": 99,
   "id": "60ca8ec4-b520-48ef-8b46-f56f09b5f89c",
   "metadata": {},
   "outputs": [
    {
     "name": "stdout",
     "output_type": "stream",
     "text": [
      "Why is it that when something happens it is always you three?\n",
      "\tHarry\n",
      "\t\tRon\n",
      "\t\t\tHermoine\n"
     ]
    }
   ],
   "source": [
    "print('Why is it that when something happens it is always you three?\\n\\tHarry\\n\\t\\tRon\\n\\t\\t\\tHermoine')"
   ]
  },
  {
   "cell_type": "markdown",
   "id": "c99e01c5-7c4e-4775-95a8-bbb7e50057a6",
   "metadata": {},
   "source": [
    "|Escape Sequence|Meaning|\n",
    "|:---:|:---:|\n",
    "|\\ '|Single Quote|\n",
    "| \\ \\ |Backslash|\n",
    "|\\n|new line|\n",
    "|\\t|Horizontal Tab|"
   ]
  },
  {
   "cell_type": "code",
   "execution_count": 101,
   "id": "0854f796-84d6-4dbf-8a00-6361669c232e",
   "metadata": {},
   "outputs": [
    {
     "name": "stdout",
     "output_type": "stream",
     "text": [
      "you're a wizard, Harry\n"
     ]
    }
   ],
   "source": [
    "print('you\\'re a wizard, Harry')"
   ]
  },
  {
   "cell_type": "code",
   "execution_count": 102,
   "id": "2a0c1b74-8315-4485-8c60-71aef74e5f7b",
   "metadata": {},
   "outputs": [
    {
     "name": "stdout",
     "output_type": "stream",
     "text": [
      "I\\am\\a\\what?\n"
     ]
    }
   ],
   "source": [
    "print('I\\\\am\\\\a\\\\what?')"
   ]
  },
  {
   "cell_type": "code",
   "execution_count": 103,
   "id": "44e741c9-ac06-4429-a515-f407e949de84",
   "metadata": {},
   "outputs": [
    {
     "name": "stdout",
     "output_type": "stream",
     "text": [
      "you\n",
      "are\n",
      "a\n",
      "wizard\n"
     ]
    }
   ],
   "source": [
    "print('you\\nare\\na\\nwizard')"
   ]
  },
  {
   "cell_type": "code",
   "execution_count": 104,
   "id": "b73844e6-68e7-40ce-8564-b727014b697c",
   "metadata": {},
   "outputs": [
    {
     "name": "stdout",
     "output_type": "stream",
     "text": [
      "I\tAM\tA\tWHAT\t?\n"
     ]
    }
   ],
   "source": [
    "print('I\\tAM\\tA\\tWHAT\\t?')"
   ]
  },
  {
   "cell_type": "code",
   "execution_count": 1,
   "id": "18b0d9da-f61c-492d-9578-007ea980de4d",
   "metadata": {},
   "outputs": [
    {
     "ename": "SyntaxError",
     "evalue": "(unicode error) 'unicodeescape' codec can't decode bytes in position 6-7: truncated \\xXX escape (2928241580.py, line 1)",
     "output_type": "error",
     "traceback": [
      "\u001b[1;36m  Cell \u001b[1;32mIn[1], line 1\u001b[1;36m\u001b[0m\n\u001b[1;33m    print('Line 1\\x\\n\\t\\Line 2')\u001b[0m\n\u001b[1;37m                               ^\u001b[0m\n\u001b[1;31mSyntaxError\u001b[0m\u001b[1;31m:\u001b[0m (unicode error) 'unicodeescape' codec can't decode bytes in position 6-7: truncated \\xXX escape\n"
     ]
    }
   ],
   "source": [
    "print('Line 1\\x\\n\\t\\Line 2')"
   ]
  },
  {
   "cell_type": "code",
   "execution_count": 2,
   "id": "a99a0be3-c978-46b7-8a9c-268c2e86d8a6",
   "metadata": {},
   "outputs": [
    {
     "name": "stdout",
     "output_type": "stream",
     "text": [
      "line 1\\x\n",
      "\tline 2\n"
     ]
    }
   ],
   "source": [
    "print('line 1\\\\x\\n\\tline 2')      #use \\\\x if you want to print \\x"
   ]
  },
  {
   "cell_type": "code",
   "execution_count": 3,
   "id": "22999bd9-03fa-4e17-9367-c3834754afb8",
   "metadata": {},
   "outputs": [
    {
     "name": "stdout",
     "output_type": "stream",
     "text": [
      "line 1\\x\n",
      "\t\tline 2\n"
     ]
    }
   ],
   "source": [
    "print('line 1\\\\x\\n\\t\\tline 2')       # extra \\t for more indentation"
   ]
  },
  {
   "attachments": {},
   "cell_type": "markdown",
   "id": "744313a8",
   "metadata": {},
   "source": [
    "# 7 Computers read = from Right to Left!"
   ]
  },
  {
   "cell_type": "code",
   "execution_count": 8,
   "id": "d2572a3d-7ad7-4d40-8576-a96987c6297a",
   "metadata": {},
   "outputs": [
    {
     "name": "stdout",
     "output_type": "stream",
     "text": [
      "40\n",
      "42\n"
     ]
    }
   ],
   "source": [
    "x=40\n",
    "y=x+2\n",
    "print(x)\n",
    "print(y)    #since python read from right to left\n",
    "            #it means 40 = x, then 2 + 40 = y"
   ]
  },
  {
   "cell_type": "code",
   "execution_count": 5,
   "id": "18d72cec-9346-4c2f-925d-8ffcaf260cf3",
   "metadata": {},
   "outputs": [
    {
     "name": "stdout",
     "output_type": "stream",
     "text": [
      "468\n"
     ]
    }
   ],
   "source": [
    "#using the logic above, this will work too\n",
    "y=123\n",
    "y=y+345\n",
    "print(y)"
   ]
  },
  {
   "cell_type": "code",
   "execution_count": 9,
   "id": "c9b8ef77-d37a-4b39-bc58-1aca5da426e0",
   "metadata": {},
   "outputs": [
    {
     "name": "stdout",
     "output_type": "stream",
     "text": [
      "10\n",
      "10\n"
     ]
    }
   ],
   "source": [
    "#python also allows the following syntax\n",
    "x=y=10\n",
    "print(x)\n",
    "print(y)"
   ]
  },
  {
   "attachments": {},
   "cell_type": "markdown",
   "id": "f8c9f577",
   "metadata": {},
   "source": [
    "# 8 Shorter and Cleaner Code"
   ]
  },
  {
   "cell_type": "code",
   "execution_count": 12,
   "id": "6490e025-b477-4ede-bba8-1233c39df77f",
   "metadata": {},
   "outputs": [
    {
     "data": {
      "text/plain": [
       "42"
      ]
     },
     "execution_count": 12,
     "metadata": {},
     "output_type": "execute_result"
    }
   ],
   "source": [
    "y=40\n",
    "y=y+2\n",
    "y     #wait...I do not need to type print(y) all these times??"
   ]
  },
  {
   "cell_type": "code",
   "execution_count": 13,
   "id": "6d148496-3a65-47e3-8e54-f9e53aafc585",
   "metadata": {},
   "outputs": [
    {
     "data": {
      "text/plain": [
       "32"
      ]
     },
     "execution_count": 13,
     "metadata": {},
     "output_type": "execute_result"
    }
   ],
   "source": [
    "#a shorter version of the code\n",
    "y=30\n",
    "y+=2   #same as y=y+2\n",
    "y"
   ]
  },
  {
   "cell_type": "markdown",
   "id": "94f182c9-fe02-4f89-96b0-6d55e7fb3bed",
   "metadata": {},
   "source": [
    "### shorthand syntax (also know as augmented assignment) for other math operation"
   ]
  },
  {
   "cell_type": "markdown",
   "id": "fe3f0a87-0200-4444-823d-3b70264e5621",
   "metadata": {},
   "source": [
    "||Long form|Shorthand|\n",
    "|:---|:---:|:---:|\n",
    "|Addition|y=y+2|y+=2|\n",
    "|Substraction|y=y-2|y-=2|\n",
    "|Multiplication|y=y*2|y*=2|\n",
    "|Division|y=y/2|y/=2|"
   ]
  },
  {
   "attachments": {},
   "cell_type": "markdown",
   "id": "dbc2e0ff",
   "metadata": {},
   "source": [
    "# 9 Python can be a prima-donna."
   ]
  },
  {
   "cell_type": "markdown",
   "id": "bc6101de-4870-42f7-a9c9-04f962ada616",
   "metadata": {},
   "source": [
    "Python will throw a long complain error message when it don't understand what you are saying.\n",
    "\n",
    "You can understand her compalaints (prima-donna is a principal female opera singer i think) by reading through the error message.\n",
    "\n",
    "The more you **practise debugging errors**, the more comfortable you will be **thinking and programming**."
   ]
  },
  {
   "attachments": {},
   "cell_type": "markdown",
   "id": "bbafe8ad",
   "metadata": {},
   "source": [
    "# 10 Best Practices for Scientific Computing"
   ]
  },
  {
   "cell_type": "markdown",
   "id": "a5a6ad46-31c6-468a-a8a0-4dc90f7e0b1d",
   "metadata": {},
   "source": [
    "**1. Write programs for people, not computers.**\n",
    "\n",
    "**2. Optimise software only after it works correctly.**\n",
    "\n",
    "**3. Document design and purpose, not mechanics.**\n",
    "\n",
    "**4. Collaborate.**\n"
   ]
  },
  {
   "attachments": {},
   "cell_type": "markdown",
   "id": "ef896e1c",
   "metadata": {},
   "source": [
    "# 11 Looking for help"
   ]
  },
  {
   "cell_type": "code",
   "execution_count": 15,
   "id": "a54c80e8-05f3-454a-b2e0-8ab063994d03",
   "metadata": {},
   "outputs": [
    {
     "name": "stdout",
     "output_type": "stream",
     "text": [
      "Help on built-in function print in module builtins:\n",
      "\n",
      "print(...)\n",
      "    print(value, ..., sep=' ', end='\\n', file=sys.stdout, flush=False)\n",
      "    \n",
      "    Prints the values to a stream, or to sys.stdout by default.\n",
      "    Optional keyword arguments:\n",
      "    file:  a file-like object (stream); defaults to the current sys.stdout.\n",
      "    sep:   string inserted between values, default a space.\n",
      "    end:   string appended after the last value, default a newline.\n",
      "    flush: whether to forcibly flush the stream.\n",
      "\n"
     ]
    }
   ],
   "source": [
    "help(print)  #not the best way to get help at this stage"
   ]
  },
  {
   "cell_type": "markdown",
   "id": "5050b301-c5bc-47bd-b3ce-0aa263c8b9a8",
   "metadata": {},
   "source": [
    "**Stack overflows, Google and ChatGPT** are our best friends at this stage."
   ]
  },
  {
   "attachments": {},
   "cell_type": "markdown",
   "id": "4cd6ac5b",
   "metadata": {},
   "source": [
    "## References"
   ]
  },
  {
   "cell_type": "markdown",
   "id": "ecada966-f64c-4cbb-a813-b496086e58c0",
   "metadata": {},
   "source": [
    "Wilson, Greg, D. A. Aruliah, C. Titus Brown, Neil P. Chue Hong, Matt Davis, Richard T. Guy, Steven H. D. Haddock, et al. 2014. “Best Practices for Scientific Computing.” PLOS Biology 12 (1): e1001745. https://doi.org/10.1371/journal.pbio.1001745."
   ]
  },
  {
   "attachments": {},
   "cell_type": "markdown",
   "id": "b860df4b",
   "metadata": {},
   "source": [
    "## Footnotes"
   ]
  }
 ],
 "metadata": {
  "kernelspec": {
   "display_name": "Python 3 (ipykernel)",
   "language": "python",
   "name": "python3"
  },
  "language_info": {
   "codemirror_mode": {
    "name": "ipython",
    "version": 3
   },
   "file_extension": ".py",
   "mimetype": "text/x-python",
   "name": "python",
   "nbconvert_exporter": "python",
   "pygments_lexer": "ipython3",
   "version": "3.9.13"
  },
  "toc": {
   "base_numbering": 1,
   "nav_menu": {},
   "number_sections": true,
   "sideBar": true,
   "skip_h1_title": false,
   "title_cell": "Table of Contents",
   "title_sidebar": "Contents",
   "toc_cell": false,
   "toc_position": {},
   "toc_section_display": true,
   "toc_window_display": false
  },
  "vscode": {
   "interpreter": {
    "hash": "31f2aee4e71d21fbe5cf8b01ff0e069b9275f58929596ceb00d14d90e3e16cd6"
   }
  }
 },
 "nbformat": 4,
 "nbformat_minor": 5
}
