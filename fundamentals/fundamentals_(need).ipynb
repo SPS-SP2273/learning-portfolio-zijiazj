{
 "cells": [
  {
   "attachments": {},
   "cell_type": "markdown",
   "id": "123456",
   "metadata": {},
   "source": [
    "<div style=\"text-align:left;font-size:2em\"><span style=\"font-weight:bolder;font-size:1.25em\">SP2273 | Learning Portfolio</span><br><br><span style=\"font-weight:bold;color:darkred\">Fundamentals (Need)</span></div>"
   ]
  },
  {
   "attachments": {},
   "cell_type": "markdown",
   "id": "070cacfd",
   "metadata": {},
   "source": [
    "# What to expect in this chapter"
   ]
  },
  {
   "attachments": {},
   "cell_type": "markdown",
   "id": "75415310",
   "metadata": {},
   "source": [
    "# 1 Functions"
   ]
  },
  {
   "cell_type": "code",
   "execution_count": 2,
   "id": "6f12f7ef-487f-43b4-a31c-109551a91ea3",
   "metadata": {},
   "outputs": [
    {
     "name": "stdout",
     "output_type": "stream",
     "text": [
      "Hello World, it is 8am in the morning again\n"
     ]
    }
   ],
   "source": [
    "print('Hello World, it is 8am in the morning again')"
   ]
  },
  {
   "attachments": {},
   "cell_type": "markdown",
   "id": "91084769",
   "metadata": {},
   "source": [
    "### Remember"
   ]
  },
  {
   "cell_type": "markdown",
   "id": "9a45cf10-22c0-4354-a830-750287a99e5f",
   "metadata": {},
   "source": [
    "- print() is a function.\n",
    "- the print() function accepts the “Hello world” argument and prints it to the screen.\n",
    "- Parentheses, (), always follow a function.\n",
    "- the parentheses are left empty for those functions that don’t require an argument (e.g. exit()).\n",
    "- print() is a core (in-built) function of Python. \n",
    "We can also define our own functions.\n",
    "- The above is an example of what we call code; instructions written using a syntax that a programming language understands.\n",
    " "
   ]
  },
  {
   "attachments": {},
   "cell_type": "markdown",
   "id": "93ce22a5",
   "metadata": {},
   "source": [
    "# 3 Python is interpreted"
   ]
  },
  {
   "cell_type": "code",
   "execution_count": 6,
   "id": "5d9ff101-b567-4b15-8571-94fc90f4405d",
   "metadata": {},
   "outputs": [
    {
     "ename": "SyntaxError",
     "evalue": "invalid syntax (1313582629.py, line 3)",
     "output_type": "error",
     "traceback": [
      "\u001b[1;36m  Cell \u001b[1;32mIn[6], line 3\u001b[1;36m\u001b[0m\n\u001b[1;33m    print('meow 3')\u001b[0m\n\u001b[1;37m    ^\u001b[0m\n\u001b[1;31mSyntaxError\u001b[0m\u001b[1;31m:\u001b[0m invalid syntax\n"
     ]
    }
   ],
   "source": [
    "print('Meow 1')\n",
    "print('woof 2'\n",
    "print('meow 3')"
   ]
  },
  {
   "cell_type": "markdown",
   "id": "183414da-a2a5-4f4e-83dd-e184ae3c3bfe",
   "metadata": {},
   "source": [
    "Jupyter notebook/python works as python interpreter and will help us to interpret the syntax.\n",
    "\n",
    "An interpreter works sequentially, one command at a time\n"
   ]
  },
  {
   "attachments": {},
   "cell_type": "markdown",
   "id": "3dfbd3f8",
   "metadata": {},
   "source": [
    "# 4 Python is sensitive."
   ]
  },
  {
   "cell_type": "markdown",
   "id": "d319778b-df6b-4fd9-9943-c1b5f0d49782",
   "metadata": {},
   "source": [
    "```python\n",
    "Print('Hello') #This will NOT work\n",
    "print('world') #This will work\n",
    "```"
   ]
  },
  {
   "attachments": {},
   "cell_type": "markdown",
   "id": "9213f658",
   "metadata": {},
   "source": [
    "### Remember"
   ]
  },
  {
   "cell_type": "markdown",
   "id": "067fc79b-cc41-4506-8f7b-f92c3863de8c",
   "metadata": {},
   "source": [
    "Python is CASE SENSITIVE "
   ]
  },
  {
   "attachments": {},
   "cell_type": "markdown",
   "id": "7b5a8151",
   "metadata": {},
   "source": [
    "# 6 Comments"
   ]
  },
  {
   "cell_type": "code",
   "execution_count": 7,
   "id": "f019e12d-6dfc-4d0f-944f-dc3156ec060e",
   "metadata": {},
   "outputs": [
    {
     "name": "stdout",
     "output_type": "stream",
     "text": [
      "h\n",
      "i\n"
     ]
    }
   ],
   "source": [
    "# This a a comment with syntax that python will ignore\n",
    "print('h') # This is also a comment\n",
    "print('i') # This is \n",
    "           #also a way\n",
    "           # to write comment"
   ]
  },
  {
   "attachments": {},
   "cell_type": "markdown",
   "id": "840c23ae",
   "metadata": {},
   "source": [
    "### Remember"
   ]
  },
  {
   "cell_type": "markdown",
   "id": "20cd4505-1301-433b-829a-81d1d97a55d1",
   "metadata": {},
   "source": [
    "use comment to emphasize the PURPOSE of the code."
   ]
  },
  {
   "attachments": {},
   "cell_type": "markdown",
   "id": "9990a523",
   "metadata": {},
   "source": [
    "# 8 = is not the same as =="
   ]
  },
  {
   "cell_type": "code",
   "execution_count": 10,
   "id": "f28afe08-101a-4ea2-b1a1-fa65b947ede8",
   "metadata": {},
   "outputs": [
    {
     "data": {
      "text/plain": [
       "True"
      ]
     },
     "execution_count": 10,
     "metadata": {},
     "output_type": "execute_result"
    }
   ],
   "source": [
    "# = set something equal\n",
    "name = 'Batman' # Make name carry 'Batman\"\n",
    "\n",
    "# == check if something is equal (asking a question)\n",
    "name == 'Batman' # The answer output will be either true/false\n"
   ]
  },
  {
   "cell_type": "code",
   "execution_count": 11,
   "id": "5fd167f1-1ea6-4092-a24f-16024647e156",
   "metadata": {},
   "outputs": [
    {
     "data": {
      "text/plain": [
       "False"
      ]
     },
     "execution_count": 11,
     "metadata": {},
     "output_type": "execute_result"
    }
   ],
   "source": [
    "name == 'spiderman'"
   ]
  },
  {
   "attachments": {},
   "cell_type": "markdown",
   "id": "57adff33",
   "metadata": {},
   "source": [
    "### Remember"
   ]
  },
  {
   "cell_type": "markdown",
   "id": "96af3589-97c7-45b8-b4d0-20c9e5937111",
   "metadata": {},
   "source": [
    "= assigns a value \n",
    "\n",
    "== asks a question"
   ]
  },
  {
   "attachments": {},
   "cell_type": "markdown",
   "id": "f0041ce9",
   "metadata": {},
   "source": [
    "# 10 Use if to make decisions"
   ]
  },
  {
   "cell_type": "code",
   "execution_count": 2,
   "id": "781089fc-d804-4d41-9a15-024b7441953f",
   "metadata": {},
   "outputs": [],
   "source": [
    "name = 'strawberry'"
   ]
  },
  {
   "cell_type": "code",
   "execution_count": 3,
   "id": "3c191d0c-6a13-4568-b47b-98d0bbcfec20",
   "metadata": {},
   "outputs": [
    {
     "name": "stdout",
     "output_type": "stream",
     "text": [
      "pink\n"
     ]
    }
   ],
   "source": [
    "if name == 'strawberry':\n",
    "    print('pink')\n",
    "else:\n",
    "    print('choose other fruit')\n"
   ]
  },
  {
   "cell_type": "code",
   "execution_count": 4,
   "id": "e84da34a-cf5d-47bd-9982-7cfd2f3f783c",
   "metadata": {},
   "outputs": [],
   "source": [
    "name = 'blueberry'"
   ]
  },
  {
   "cell_type": "code",
   "execution_count": 5,
   "id": "14a69e87-a7b4-4181-a642-fdb4f7cfac25",
   "metadata": {},
   "outputs": [
    {
     "name": "stdout",
     "output_type": "stream",
     "text": [
      "choose other fruit\n"
     ]
    }
   ],
   "source": [
    "if name == 'strawberry':\n",
    "    print('pink')\n",
    "else:\n",
    "    print('choose other fruit')\n"
   ]
  },
  {
   "attachments": {},
   "cell_type": "markdown",
   "id": "cd95c26f",
   "metadata": {},
   "source": [
    "### Remember"
   ]
  },
  {
   "cell_type": "markdown",
   "id": "8286cf79-f9a3-4163-a416-b16c688b7d88",
   "metadata": {},
   "source": [
    "use if to make decision"
   ]
  },
  {
   "attachments": {},
   "cell_type": "markdown",
   "id": "d6dc8bfb",
   "metadata": {},
   "source": [
    "# 12 Indentations (spaces) are sooo IMPORTANT!"
   ]
  },
  {
   "cell_type": "markdown",
   "id": "77b96e1b-b376-4405-a3f5-063f2b761487",
   "metadata": {},
   "source": [
    "```python\n",
    "x = 10\n",
    "print(x) #this will work \n",
    "\n",
    "x = 10\n",
    "  print(x) #this will NOT work\n",
    "\n",
    "```\n"
   ]
  },
  {
   "cell_type": "code",
   "execution_count": 6,
   "id": "326765bd-cb39-41ca-a15b-09b504d95e5e",
   "metadata": {},
   "outputs": [
    {
     "name": "stdout",
     "output_type": "stream",
     "text": [
      "10\n"
     ]
    }
   ],
   "source": [
    "x = 10\n",
    "print(x)"
   ]
  },
  {
   "cell_type": "code",
   "execution_count": 8,
   "id": "93674a52-5b86-4e5e-86e8-32be2ff38aed",
   "metadata": {},
   "outputs": [
    {
     "ename": "IndentationError",
     "evalue": "unexpected indent (2578299452.py, line 2)",
     "output_type": "error",
     "traceback": [
      "\u001b[1;36m  Cell \u001b[1;32mIn[8], line 2\u001b[1;36m\u001b[0m\n\u001b[1;33m    print(x)\u001b[0m\n\u001b[1;37m    ^\u001b[0m\n\u001b[1;31mIndentationError\u001b[0m\u001b[1;31m:\u001b[0m unexpected indent\n"
     ]
    }
   ],
   "source": [
    "x = 12\n",
    "  print(x)"
   ]
  },
  {
   "attachments": {},
   "cell_type": "markdown",
   "id": "60642712",
   "metadata": {},
   "source": [
    "### Remember"
   ]
  },
  {
   "cell_type": "markdown",
   "id": "bf37b4e2-387a-4246-865c-fe18a1d63b49",
   "metadata": {},
   "source": [
    "- Indentations play a crucial role in Python; do not use them indiscriminately.\r",
    "- \n",
    ": is used to designate a block of code\n",
    "- Python uses an indentation to separate the True and False ‘blocks’.\n",
    "- use the tab key consistently instead of space."
   ]
  },
  {
   "attachments": {},
   "cell_type": "markdown",
   "id": "1e8e45fc",
   "metadata": {},
   "source": [
    "# 14 ‘age’ is English, age is a variable."
   ]
  },
  {
   "cell_type": "markdown",
   "id": "dfd83496-7d1c-4967-bb05-0ceb42e4daaa",
   "metadata": {},
   "source": [
    "```python\n",
    "print = 'PRINT' #this case the function 'print' becomes a variable 'PRINT'\n",
    "                #the print() function will no longer work\n",
    "                #restarting the kernel can restore the in-built function\n",
    "```"
   ]
  },
  {
   "cell_type": "code",
   "execution_count": 9,
   "id": "4dc0266f-ef3e-40d7-97f3-05805d204e14",
   "metadata": {},
   "outputs": [
    {
     "name": "stdout",
     "output_type": "stream",
     "text": [
      "10\n",
      "age\n"
     ]
    }
   ],
   "source": [
    "age = 10\n",
    "print(age)  #print the value stored in the variable called age\n",
    "print('age') #print the word 'age'\n"
   ]
  },
  {
   "cell_type": "code",
   "execution_count": 10,
   "id": "a80842b6-0dda-42ac-9055-9bc9c229f01b",
   "metadata": {},
   "outputs": [
    {
     "name": "stdout",
     "output_type": "stream",
     "text": [
      "Hi son, I'm your father.\n"
     ]
    }
   ],
   "source": [
    "print(\"Hi son, I'm your father.\")  # we can use \" or ' interchangably in pairs, but in some contexts (like this one) we might need a specific one for clarity"
   ]
  },
  {
   "attachments": {},
   "cell_type": "markdown",
   "id": "23b71e37",
   "metadata": {},
   "source": [
    "# 15 Brackets"
   ]
  },
  {
   "cell_type": "code",
   "execution_count": 11,
   "id": "2dab132b-231d-4f72-8bb3-c6f8ee70857f",
   "metadata": {},
   "outputs": [
    {
     "name": "stdout",
     "output_type": "stream",
     "text": [
      "print\n"
     ]
    }
   ],
   "source": [
    "print('print')    #in functions"
   ]
  },
  {
   "cell_type": "code",
   "execution_count": 12,
   "id": "b0228e54-8b56-464c-a714-5d89146f04d3",
   "metadata": {},
   "outputs": [
    {
     "data": {
      "text/plain": [
       "9"
      ]
     },
     "execution_count": 12,
     "metadata": {},
     "output_type": "execute_result"
    }
   ],
   "source": [
    "(1+2)*3     #for math"
   ]
  },
  {
   "cell_type": "code",
   "execution_count": 15,
   "id": "317dcf71-e1b7-4776-adb8-cb924dfc0a47",
   "metadata": {},
   "outputs": [],
   "source": [
    "py_list = [1,2,3,4] #for 1D list\n",
    "py_list_2 = [ \n",
    "    [1, \"A\"],\n",
    "    [2, \"B\"],\n",
    "    [3, \"C\"]\n",
    "]                    #for 2D list\n",
    "             "
   ]
  },
  {
   "cell_type": "code",
   "execution_count": 20,
   "id": "95643caa-1d87-4384-8f6c-fe9491e1739a",
   "metadata": {},
   "outputs": [],
   "source": [
    "personal_info = {\n",
    "'Names' : 'Rasputin',\n",
    "'Real Name' : 'Rararasputin',\n",
    "'Age' : 47,\n",
    "'Affiliation': 'Russian royal family',\n",
    "'Universe': 'Russian Empire'\n",
    "}                                              # for storing data in a DICTIONARY"
   ]
  },
  {
   "cell_type": "code",
   "execution_count": 29,
   "id": "c4943639-5f4f-4017-97fa-6e52993c0004",
   "metadata": {},
   "outputs": [
    {
     "name": "stdout",
     "output_type": "stream",
     "text": [
      "Rararasputin\n"
     ]
    }
   ],
   "source": [
    "print(personal_info['Real Name'])    #to call out the data stored in the LIBRARY"
   ]
  },
  {
   "cell_type": "markdown",
   "id": "227a2123-78b7-4d44-8620-a6f27cc46718",
   "metadata": {},
   "source": [
    "<font color=\"blue\">\n",
    "( ) is for data AND for mathematics\n",
    "\n",
    "[ ] is for lists of data, which can be either 1D or 2D\n",
    "\n",
    "{ } is for storing data in a dictionary, which we can pull out again at a later time \n",
    "</font> \n",
    "\n"
   ]
  },
  {
   "attachments": {},
   "cell_type": "markdown",
   "id": "e3691f96",
   "metadata": {},
   "source": [
    "# 16 Giving Python superpowers with Packages"
   ]
  },
  {
   "attachments": {},
   "cell_type": "markdown",
   "id": "fd30437b",
   "metadata": {},
   "source": [
    "## 16.1 Some Context"
   ]
  },
  {
   "cell_type": "markdown",
   "id": "7a379123-fc0b-4956-99b8-cda080bcf1b9",
   "metadata": {},
   "source": [
    "<font color=\"green\"> \n",
    "Basic mathematics can work without importing packages\n",
    "</font>"
   ]
  },
  {
   "cell_type": "code",
   "execution_count": 30,
   "id": "3ef4d78a-07c6-4bf8-a0e9-c908efa027e7",
   "metadata": {},
   "outputs": [
    {
     "data": {
      "text/plain": [
       "40.5"
      ]
     },
     "execution_count": 30,
     "metadata": {},
     "output_type": "execute_result"
    }
   ],
   "source": [
    "1*((2-3)+4)**5/6"
   ]
  },
  {
   "cell_type": "code",
   "execution_count": 5,
   "id": "7f43aaa9-2bed-4d50-b32b-a80eb338d062",
   "metadata": {},
   "outputs": [
    {
     "data": {
      "text/plain": [
       "2.0"
      ]
     },
     "execution_count": 5,
     "metadata": {},
     "output_type": "execute_result"
    }
   ],
   "source": [
    "math.sqrt(4)"
   ]
  },
  {
   "attachments": {},
   "cell_type": "markdown",
   "id": "2ea652b5",
   "metadata": {},
   "source": [
    "## 16.2 Importing the math package"
   ]
  },
  {
   "cell_type": "code",
   "execution_count": 3,
   "id": "13dda082-e7d8-4cb2-9a70-6b22741ee0ec",
   "metadata": {},
   "outputs": [],
   "source": [
    "import math"
   ]
  },
  {
   "cell_type": "code",
   "execution_count": 6,
   "id": "51714c05-c144-4948-afc3-68e6c691de05",
   "metadata": {},
   "outputs": [
    {
     "data": {
      "text/plain": [
       "2.0"
      ]
     },
     "execution_count": 6,
     "metadata": {},
     "output_type": "execute_result"
    }
   ],
   "source": [
    "math.sqrt(4)"
   ]
  },
  {
   "cell_type": "code",
   "execution_count": 7,
   "id": "4967f891-c4d6-4f17-b7f6-e05104871d26",
   "metadata": {},
   "outputs": [],
   "source": [
    "del math"
   ]
  },
  {
   "cell_type": "code",
   "execution_count": 10,
   "id": "d2ee0ffa-9cab-4439-b609-dcf8428d8987",
   "metadata": {},
   "outputs": [
    {
     "ename": "NameError",
     "evalue": "name 'math' is not defined",
     "output_type": "error",
     "traceback": [
      "\u001b[1;31m---------------------------------------------------------------------------\u001b[0m",
      "\u001b[1;31mNameError\u001b[0m                                 Traceback (most recent call last)",
      "Cell \u001b[1;32mIn[10], line 1\u001b[0m\n\u001b[1;32m----> 1\u001b[0m \u001b[43mmath\u001b[49m\u001b[38;5;241m.\u001b[39msqrt(\u001b[38;5;241m9\u001b[39m)\n",
      "\u001b[1;31mNameError\u001b[0m: name 'math' is not defined"
     ]
    }
   ],
   "source": [
    "math.sqrt(9)"
   ]
  },
  {
   "attachments": {},
   "cell_type": "markdown",
   "id": "d9b3dd2d",
   "metadata": {},
   "source": [
    "## 16.3 Importing the numpy package"
   ]
  },
  {
   "cell_type": "code",
   "execution_count": 37,
   "id": "8956ce23-ea22-4784-80b9-b46d439348c4",
   "metadata": {},
   "outputs": [],
   "source": [
    "import math"
   ]
  },
  {
   "cell_type": "code",
   "execution_count": 3,
   "id": "e66f1b4d-314e-4a89-b444-b42b7a2ee082",
   "metadata": {},
   "outputs": [],
   "source": [
    "import numpy #numpy can deal with an array of numbers"
   ]
  },
  {
   "cell_type": "code",
   "execution_count": 1,
   "id": "37426c3b-6506-441b-822c-668ae29f8932",
   "metadata": {},
   "outputs": [],
   "source": [
    "import numpy as np"
   ]
  },
  {
   "cell_type": "code",
   "execution_count": 4,
   "id": "c2027a1f-9140-408d-a6e1-7a68a7759672",
   "metadata": {},
   "outputs": [
    {
     "data": {
      "text/plain": [
       "5.0"
      ]
     },
     "execution_count": 4,
     "metadata": {},
     "output_type": "execute_result"
    }
   ],
   "source": [
    "np.sqrt(25)"
   ]
  },
  {
   "cell_type": "code",
   "execution_count": 8,
   "id": "c3e926f1-892c-4bf6-9b02-47cc7493cf2f",
   "metadata": {},
   "outputs": [
    {
     "data": {
      "text/plain": [
       "array([1.41421356, 2.        , 3.        , 4.        , 5.        ,\n",
       "       6.        ])"
      ]
     },
     "execution_count": 8,
     "metadata": {},
     "output_type": "execute_result"
    }
   ],
   "source": [
    "np.sqrt([2,4,9,16,25,36])  #remember to use [] for array numbers"
   ]
  },
  {
   "attachments": {},
   "cell_type": "markdown",
   "id": "fbd3c36b",
   "metadata": {},
   "source": [
    "## 16.4 Why so many packages?"
   ]
  },
  {
   "cell_type": "markdown",
   "id": "05f055b5-bfc9-4fa2-b911-409098131f05",
   "metadata": {},
   "source": [
    "<font color=\"purple\">\n",
    "    \n",
    "Different version of packages have different capabilities and efficiences.\n",
    "    \n",
    "For exampe, numpy version of .sqrt can deal with array of numbers\n",
    "\n",
    "Python will remember the functions until we restart the python interpreter\n",
    "\n",
    "</font>"
   ]
  },
  {
   "attachments": {},
   "cell_type": "markdown",
   "id": "ae6257bc",
   "metadata": {},
   "source": [
    "### Remember"
   ]
  },
  {
   "cell_type": "markdown",
   "id": "8dd625c8-5c0e-4d17-a711-8b9cb90b24fd",
   "metadata": {},
   "source": [
    "- You can give Python ‘superpowers’ by importing packages.\n",
    "- You must import a package only once.\n",
    "- There are different ways to import packages (e.g. with or without an ‘alias’)."
   ]
  },
  {
   "attachments": {},
   "cell_type": "markdown",
   "id": "6c9b0fb0",
   "metadata": {},
   "source": [
    "# 18 The dot (.)"
   ]
  },
  {
   "cell_type": "markdown",
   "id": "cf3dbd50-9b15-44a7-986e-dcad4dc312b9",
   "metadata": {},
   "source": [
    "<font color=\"purple\">\n",
    "The dot is used to indicate ownership\n",
    "</font>"
   ]
  },
  {
   "cell_type": "code",
   "execution_count": 40,
   "id": "d8c7bb4d-026b-4846-937e-194ad1854586",
   "metadata": {},
   "outputs": [
    {
     "data": {
      "text/plain": [
       "2.0"
      ]
     },
     "execution_count": 40,
     "metadata": {},
     "output_type": "execute_result"
    }
   ],
   "source": [
    "math.sqrt(4)    #this .sqrt function belongs to the math module\n"
   ]
  },
  {
   "cell_type": "code",
   "execution_count": 41,
   "id": "7b7ad56c-4313-406e-904f-17ae8835b9d9",
   "metadata": {},
   "outputs": [
    {
     "data": {
      "text/plain": [
       "3.0"
      ]
     },
     "execution_count": 41,
     "metadata": {},
     "output_type": "execute_result"
    }
   ],
   "source": [
    "np.sqrt(9)      #this .sqrt function belongs to the NumPy module"
   ]
  },
  {
   "cell_type": "markdown",
   "id": "2e61dca4-98bb-46fd-a063-c6a36ab92e8a",
   "metadata": {},
   "source": [
    "<font color=\"purple\">\n",
    "Everything in Python (e.g., numbers, letters) has functions and attributes that belong to them. \n",
    "\n",
    "We can access them using the dot.\n",
    "</font>"
   ]
  },
  {
   "cell_type": "code",
   "execution_count": 43,
   "id": "a05ab555-ec9e-427b-b667-8614eb7a8855",
   "metadata": {},
   "outputs": [
    {
     "data": {
      "text/plain": [
       "['I', 'am', 'Batman']"
      ]
     },
     "execution_count": 43,
     "metadata": {},
     "output_type": "execute_result"
    }
   ],
   "source": [
    "\"I am Batman\".split()"
   ]
  },
  {
   "cell_type": "code",
   "execution_count": 44,
   "id": "075c8e12-b978-4006-ac4c-3db15a9416cb",
   "metadata": {},
   "outputs": [
    {
     "ename": "SyntaxError",
     "evalue": "invalid syntax (1505422985.py, line 1)",
     "output_type": "error",
     "traceback": [
      "\u001b[1;36m  Cell \u001b[1;32mIn[44], line 1\u001b[1;36m\u001b[0m\n\u001b[1;33m    1234.split() #this does not work because it makes no sense to split numerical data\u001b[0m\n\u001b[1;37m         ^\u001b[0m\n\u001b[1;31mSyntaxError\u001b[0m\u001b[1;31m:\u001b[0m invalid syntax\n"
     ]
    }
   ],
   "source": [
    "1234.split() #this does not work because it makes no sense to split numerical data"
   ]
  },
  {
   "cell_type": "code",
   "execution_count": 47,
   "id": "e7385540-b397-4cf7-9b63-15b8730da1fb",
   "metadata": {},
   "outputs": [
    {
     "data": {
      "text/plain": [
       "['1', '2', '3', '4']"
      ]
     },
     "execution_count": 47,
     "metadata": {},
     "output_type": "execute_result"
    }
   ],
   "source": [
    "\"1 2 3 4\".split() #but this works because now 1234 is no longer numerical data"
   ]
  },
  {
   "attachments": {},
   "cell_type": "markdown",
   "id": "e944bd28",
   "metadata": {},
   "source": [
    "### Remember"
   ]
  },
  {
   "cell_type": "markdown",
   "id": "3e68b08f-f325-46bd-b8cc-f06c9a6049af",
   "metadata": {},
   "source": [
    "<font color=\"orange\">\n",
    "The dot(.) indicates ownership, and what it can access depends on the context.\n",
    "</font>"
   ]
  },
  {
   "attachments": {},
   "cell_type": "markdown",
   "id": "ff677b4b",
   "metadata": {},
   "source": [
    "## Footnotes"
   ]
  },
  {
   "cell_type": "code",
   "execution_count": null,
   "id": "7aea182d-d534-47ce-8d4d-69cf158071d2",
   "metadata": {},
   "outputs": [],
   "source": []
  },
  {
   "cell_type": "code",
   "execution_count": null,
   "id": "b20ca548-6274-46b2-ac13-c64904483358",
   "metadata": {},
   "outputs": [],
   "source": []
  },
  {
   "cell_type": "code",
   "execution_count": null,
   "id": "9f496dd1-7110-451b-81c7-1359ce9136e1",
   "metadata": {},
   "outputs": [],
   "source": []
  },
  {
   "cell_type": "code",
   "execution_count": null,
   "id": "726dfe2a-e7b4-45b7-91e4-b1aec1fe355e",
   "metadata": {},
   "outputs": [],
   "source": []
  },
  {
   "cell_type": "code",
   "execution_count": null,
   "id": "d00f1029-4422-40c1-a417-99a92d3bd757",
   "metadata": {},
   "outputs": [],
   "source": []
  }
 ],
 "metadata": {
  "kernelspec": {
   "display_name": "Python 3 (ipykernel)",
   "language": "python",
   "name": "python3"
  },
  "language_info": {
   "codemirror_mode": {
    "name": "ipython",
    "version": 3
   },
   "file_extension": ".py",
   "mimetype": "text/x-python",
   "name": "python",
   "nbconvert_exporter": "python",
   "pygments_lexer": "ipython3",
   "version": "3.9.13"
  },
  "toc": {
   "base_numbering": 1,
   "nav_menu": {},
   "number_sections": true,
   "sideBar": true,
   "skip_h1_title": false,
   "title_cell": "Table of Contents",
   "title_sidebar": "Contents",
   "toc_cell": false,
   "toc_position": {},
   "toc_section_display": true,
   "toc_window_display": false
  },
  "vscode": {
   "interpreter": {
    "hash": "31f2aee4e71d21fbe5cf8b01ff0e069b9275f58929596ceb00d14d90e3e16cd6"
   }
  }
 },
 "nbformat": 4,
 "nbformat_minor": 5
}
