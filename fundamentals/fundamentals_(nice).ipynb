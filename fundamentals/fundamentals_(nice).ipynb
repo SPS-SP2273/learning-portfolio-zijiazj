{
 "cells": [
  {
   "attachments": {},
   "cell_type": "markdown",
   "id": "123456",
   "metadata": {},
   "source": [
    "<div style=\"text-align:left;font-size:2em\"><span style=\"font-weight:bolder;font-size:1.25em\">SP2273 | Learning Portfolio</span><br><br><span style=\"font-weight:bold;color:darkred\">Fundamentals (Nice)</span></div>"
   ]
  },
  {
   "attachments": {},
   "cell_type": "markdown",
   "id": "4f43b4c3",
   "metadata": {},
   "source": [
    "# 1 If **if** is not enough"
   ]
  },
  {
   "cell_type": "markdown",
   "id": "ade71be9-3fbd-46ef-8cc6-8e313eb943c4",
   "metadata": {},
   "source": [
    "We can use **match-case** fucntion when there are multiple conditions"
   ]
  },
  {
   "cell_type": "code",
   "execution_count": 14,
   "id": "ae0ec149-1533-42c8-af6a-c7f67e775483",
   "metadata": {},
   "outputs": [
    {
     "ename": "SyntaxError",
     "evalue": "invalid syntax (2269399243.py, line 3)",
     "output_type": "error",
     "traceback": [
      "\u001b[1;36m  Cell \u001b[1;32mIn[14], line 3\u001b[1;36m\u001b[0m\n\u001b[1;33m    match_Name:\u001b[0m\n\u001b[1;37m               ^\u001b[0m\n\u001b[1;31mSyntaxError\u001b[0m\u001b[1;31m:\u001b[0m invalid syntax\n"
     ]
    }
   ],
   "source": [
    "Name = 'PPAP'\n",
    "\n",
    "match_Name:\n",
    "    case 'PPAP':\n",
    "        print('Pen Pineapple Apple Pen')\n",
    "    case 'Pen':\n",
    "        print('I have a pen')\n",
    "    case _:\n",
    "        print('what is PPAP?')"
   ]
  },
  {
   "cell_type": "code",
   "execution_count": 11,
   "id": "6369ca74-6576-4995-8379-4900a5248eee",
   "metadata": {},
   "outputs": [],
   "source": [
    "import sys"
   ]
  },
  {
   "cell_type": "code",
   "execution_count": 13,
   "id": "af2738aa-780b-4d50-81ed-508e8f57d9d0",
   "metadata": {},
   "outputs": [
    {
     "name": "stdout",
     "output_type": "stream",
     "text": [
      "3.9.13 (tags/v3.9.13:6de2ca5, May 17 2022, 16:36:42) [MSC v.1929 64 bit (AMD64)]\n"
     ]
    }
   ],
   "source": [
    "print(sys.version)"
   ]
  },
  {
   "cell_type": "markdown",
   "id": "3b876781-cf07-4f3a-a65d-53df350ebbd9",
   "metadata": {},
   "source": [
    "<font color='red'> \n",
    "\n",
    "**Match-case** function seems to only applicable to python 3.10 and above (according to ChatGPT and Google). \n",
    "\n",
    "It seems that I can only use **if-elif-else** function in this case.\n",
    "\n",
    "</font>"
   ]
  },
  {
   "attachments": {},
   "cell_type": "markdown",
   "id": "d6b8168e",
   "metadata": {},
   "source": [
    "# 2 Ternary operators or Conditional Statements"
   ]
  },
  {
   "cell_type": "markdown",
   "id": "de6e6eee-fd1d-4620-8878-4c85464defa3",
   "metadata": {},
   "source": [
    "Python offers **ternary operators** (containing three parts) that can be useful to make your code more readable and less verbose."
   ]
  },
  {
   "cell_type": "code",
   "execution_count": 18,
   "id": "42a1e02b-aa06-48fb-ab56-652d86563e44",
   "metadata": {},
   "outputs": [
    {
     "data": {
      "text/plain": [
       "'Bonjour!'"
      ]
     },
     "execution_count": 18,
     "metadata": {},
     "output_type": "execute_result"
    }
   ],
   "source": [
    "#instead of writing this\n",
    "nationality = 'French'\n",
    "if nationality == 'French':\n",
    "    greeting = \"Bonjour!\"\n",
    "else:\n",
    "    greeting = \"Hello!\"\n",
    "greeting"
   ]
  },
  {
   "cell_type": "code",
   "execution_count": 19,
   "id": "c1ed5bd2-96ee-444e-96ad-f11453207eea",
   "metadata": {},
   "outputs": [
    {
     "data": {
      "text/plain": [
       "'Hello!'"
      ]
     },
     "execution_count": 19,
     "metadata": {},
     "output_type": "execute_result"
    }
   ],
   "source": [
    "#We can write this\n",
    "nationality = 'delulu nation'\n",
    "greeting = \"Bonjour!\" if nationality == 'French' else \"Hello!\"\n",
    "greeting"
   ]
  },
  {
   "cell_type": "code",
   "execution_count": 21,
   "id": "b9045769-fe25-4fa3-b566-da2e1f2f6ff3",
   "metadata": {},
   "outputs": [
    {
     "data": {
      "text/plain": [
       "'Hello!'"
      ]
     },
     "execution_count": 21,
     "metadata": {},
     "output_type": "execute_result"
    }
   ],
   "source": [
    "# and this works too\n",
    "nationality= 'French'\n",
    "(\"Hello!\", \"Bonjour!\")[nationality == 'French'] "
   ]
  },
  {
   "cell_type": "markdown",
   "id": "24bfed03-da3b-46ee-b2a0-7e73c015783a",
   "metadata": {},
   "source": [
    "<font color='blue'>\n",
    "    \n",
    "**[nationality == 'French']**: This is where the conditional expression happens. It evaluates whether the value of the variable nationality is equal to the string 'French'. If it is, this expression will result in True (1), otherwise, it will result in False (0).\n",
    "\n",
    "In this function, \"hello\" when it is false, \"bonjour!\" when it is true. \n",
    "</font>"
   ]
  },
  {
   "attachments": {},
   "cell_type": "markdown",
   "id": "ad01b810",
   "metadata": {},
   "source": [
    "# 3 Swapping values"
   ]
  },
  {
   "cell_type": "markdown",
   "id": "e91b19da-0ca8-40bb-a8e8-6e62771bbc3a",
   "metadata": {},
   "source": [
    "Swapping the content of variables (only works with Python)"
   ]
  },
  {
   "cell_type": "code",
   "execution_count": 24,
   "id": "8da411ea-28be-4f47-8186-a9ff5c8d08c6",
   "metadata": {},
   "outputs": [
    {
     "name": "stdout",
     "output_type": "stream",
     "text": [
      "2 1\n"
     ]
    }
   ],
   "source": [
    "a, b = 1, 2\n",
    "a, b = b, a # now a is 2 and b is 1\n",
    "print(a, b)"
   ]
  },
  {
   "cell_type": "code",
   "execution_count": 25,
   "id": "7592fcb6-b58d-4e22-9af4-311ccea53345",
   "metadata": {},
   "outputs": [
    {
     "data": {
      "text/plain": [
       "(333, 1, 22)"
      ]
     },
     "execution_count": 25,
     "metadata": {},
     "output_type": "execute_result"
    }
   ],
   "source": [
    "x, y, z = 1, 22, 333\n",
    "x, y, z = z, x, y\n",
    "x, y, z"
   ]
  },
  {
   "attachments": {},
   "cell_type": "markdown",
   "id": "7bdc2870",
   "metadata": {},
   "source": [
    "# 4 There are more types"
   ]
  },
  {
   "cell_type": "markdown",
   "id": "60b8dc68-073c-4aca-a5f6-3d3ee95d41d6",
   "metadata": {},
   "source": [
    "Although we cannot directly compare floats due to **rounding off errors**, we can still use higher precision types like **np.float32** or **np.float64** to do some precise calculations"
   ]
  },
  {
   "cell_type": "code",
   "execution_count": 32,
   "id": "efee5aec-5eba-4252-9ce0-a2271efb0cfd",
   "metadata": {},
   "outputs": [
    {
     "ename": "AttributeError",
     "evalue": "module 'numpy' has no attribute 'float128'",
     "output_type": "error",
     "traceback": [
      "\u001b[1;31m---------------------------------------------------------------------------\u001b[0m",
      "\u001b[1;31mAttributeError\u001b[0m                            Traceback (most recent call last)",
      "Cell \u001b[1;32mIn[32], line 8\u001b[0m\n\u001b[0;32m      1\u001b[0m \u001b[38;5;28;01mimport\u001b[39;00m \u001b[38;5;21;01mnumpy\u001b[39;00m \u001b[38;5;28;01mas\u001b[39;00m \u001b[38;5;21;01mnp\u001b[39;00m\n\u001b[0;32m      3\u001b[0m my_types \u001b[38;5;241m=\u001b[39m [\n\u001b[0;32m      4\u001b[0m     \u001b[38;5;28mfloat\u001b[39m,       \u001b[38;5;66;03m# Default for core Python on my machine\u001b[39;00m\n\u001b[0;32m      5\u001b[0m     np\u001b[38;5;241m.\u001b[39mfloat16,\n\u001b[0;32m      6\u001b[0m     np\u001b[38;5;241m.\u001b[39mfloat32,\n\u001b[0;32m      7\u001b[0m     np\u001b[38;5;241m.\u001b[39mfloat64,\n\u001b[1;32m----> 8\u001b[0m     \u001b[43mnp\u001b[49m\u001b[38;5;241;43m.\u001b[39;49m\u001b[43mfloat128\u001b[49m\n\u001b[0;32m      9\u001b[0m ]\n\u001b[0;32m     11\u001b[0m \u001b[38;5;28;01mfor\u001b[39;00m my_type \u001b[38;5;129;01min\u001b[39;00m my_types:\n\u001b[0;32m     12\u001b[0m     \u001b[38;5;28mprint\u001b[39m(\u001b[38;5;124mf\u001b[39m\u001b[38;5;124m'\u001b[39m\u001b[38;5;132;01m{\u001b[39;00mmy_type\u001b[38;5;241m.\u001b[39m\u001b[38;5;18m__name__\u001b[39m\u001b[38;5;132;01m:\u001b[39;00m\u001b[38;5;124m<15s\u001b[39m\u001b[38;5;132;01m}\u001b[39;00m\u001b[38;5;124m:\u001b[39m\u001b[38;5;124m'\u001b[39m, np\u001b[38;5;241m.\u001b[39mfinfo(my_type)\u001b[38;5;241m.\u001b[39meps)\n",
      "File \u001b[1;32m~\\AppData\\Local\\Programs\\Python\\Python39\\lib\\site-packages\\numpy\\__init__.py:362\u001b[0m, in \u001b[0;36m__getattr__\u001b[1;34m(attr)\u001b[0m\n\u001b[0;32m    359\u001b[0m     \u001b[38;5;124m\"\u001b[39m\u001b[38;5;124mRemoved in NumPy 1.25.0\u001b[39m\u001b[38;5;124m\"\u001b[39m\n\u001b[0;32m    360\u001b[0m     \u001b[38;5;28;01mraise\u001b[39;00m \u001b[38;5;167;01mRuntimeError\u001b[39;00m(\u001b[38;5;124m\"\u001b[39m\u001b[38;5;124mTester was removed in NumPy 1.25.\u001b[39m\u001b[38;5;124m\"\u001b[39m)\n\u001b[1;32m--> 362\u001b[0m \u001b[38;5;28;01mraise\u001b[39;00m \u001b[38;5;167;01mAttributeError\u001b[39;00m(\u001b[38;5;124m\"\u001b[39m\u001b[38;5;124mmodule \u001b[39m\u001b[38;5;132;01m{!r}\u001b[39;00m\u001b[38;5;124m has no attribute \u001b[39m\u001b[38;5;124m\"\u001b[39m\n\u001b[0;32m    363\u001b[0m                      \u001b[38;5;124m\"\u001b[39m\u001b[38;5;132;01m{!r}\u001b[39;00m\u001b[38;5;124m\"\u001b[39m\u001b[38;5;241m.\u001b[39mformat(\u001b[38;5;18m__name__\u001b[39m, attr))\n",
      "\u001b[1;31mAttributeError\u001b[0m: module 'numpy' has no attribute 'float128'"
     ]
    }
   ],
   "source": [
    "import numpy as np\n",
    "\n",
    "my_types = [\n",
    "    float,       # Default for core Python on my machine\n",
    "    np.float16,\n",
    "    np.float32,\n",
    "    np.float64,\n",
    "    np.float128\n",
    "]\n",
    "\n",
    "for my_type in my_types:\n",
    "    print(f'{my_type.__name__:<15s}:', np.finfo(my_type).eps)\n"
   ]
  },
  {
   "cell_type": "code",
   "execution_count": 33,
   "id": "cfa0cb90-06c3-478f-8fd4-b5b167a49d51",
   "metadata": {},
   "outputs": [
    {
     "name": "stdout",
     "output_type": "stream",
     "text": [
      "float          : 2.220446049250313e-16\n",
      "float16        : 0.000977\n",
      "float32        : 1.1920929e-07\n",
      "float64        : 2.220446049250313e-16\n"
     ]
    }
   ],
   "source": [
    "import numpy as np\n",
    "\n",
    "my_types = [\n",
    "    float,       # Default for core Python on my machine\n",
    "    np.float16,\n",
    "    np.float32,\n",
    "    np.float64,\n",
    "]\n",
    "\n",
    "for my_type in my_types:\n",
    "    print(f'{my_type.__name__:<15s}:', np.finfo(my_type).eps)\n"
   ]
  },
  {
   "cell_type": "markdown",
   "id": "4b0384e2-31e1-4886-a624-f7345aaf387d",
   "metadata": {},
   "source": [
    "<font color='red'>\n",
    "    \n",
    "It seems that I am unable to run **np.float128**, not sure why...\n",
    "</font>"
   ]
  },
  {
   "attachments": {},
   "cell_type": "markdown",
   "id": "1e6b00e5",
   "metadata": {},
   "source": [
    "# 5 Operator precedance"
   ]
  },
  {
   "cell_type": "markdown",
   "id": "1b9d6bdd-0940-4006-a74a-4daeb2586157",
   "metadata": {},
   "source": [
    "There is a ‘pecking order’ among the various operators in Python. This idea is called **operator precedence**."
   ]
  },
  {
   "cell_type": "markdown",
   "id": "cbc7d17c-8043-4965-805d-04ee935f96fb",
   "metadata": {},
   "source": [
    "1. Highest precedence at the top, lowest at the bottom.\n",
    "1. Operators in the same box evaluate left to right. "
   ]
  },
  {
   "cell_type": "markdown",
   "id": "f5eb8e94-c719-450b-8d86-b657628e739e",
   "metadata": {},
   "source": [
    "|Description|Operator|\n",
    "|:---|:---:|\n",
    "|Parentheses(grouping)|()|\n",
    "|FUnction call|f(arguments)|\n",
    "|Slicing|x[index:index]|\n",
    "|Subscription|x[index]|\n",
    "|Attribute reference|x.attribute|\n",
    "|Exponentiation|**|\n",
    "|Bitwise not|~x|\n",
    "|Positive, negative|+x, -x|\n",
    "|Multiplication, division, remainder|*, / ,%|\n",
    "|Addition, substraction|+, -|\n",
    "|Bitwise shifts|<<, >>|\n",
    "|Bitwise AND|&|\n",
    "|Bitwise XOR|^|\n",
    "|Bitwise OR| \\| |\n",
    "|COmparisons, membership, identity|in, not in, is, is not, <, <=, >, >=, <>, !=, ==|\n",
    "|Boolean NOT|not x|\n",
    "|Boolean AND|and|\n",
    "|Boolean OR|or|\n",
    "|Lambda expression|lambda|"
   ]
  },
  {
   "cell_type": "markdown",
   "id": "a1233e1d-d923-4f86-8859-97de8c0efe34",
   "metadata": {},
   "source": [
    "<font color='blue'>\n",
    "\n",
    "I have no idea what are all these above, but I might revisit this in the future\n",
    "</font>"
   ]
  },
  {
   "attachments": {},
   "cell_type": "markdown",
   "id": "24222628",
   "metadata": {},
   "source": [
    "# 6 Variables in Python are just names"
   ]
  },
  {
   "attachments": {},
   "cell_type": "markdown",
   "id": "3029a672",
   "metadata": {},
   "source": [
    "## 6.1 The Problem"
   ]
  },
  {
   "cell_type": "code",
   "execution_count": 47,
   "id": "e8e11da9-9a94-4b5b-aea4-92c6369babed",
   "metadata": {},
   "outputs": [
    {
     "name": "stdout",
     "output_type": "stream",
     "text": [
      "x:[1, 2, 9], y:[1, 2, 9]\n"
     ]
    }
   ],
   "source": [
    "x = [1, 2]\n",
    "y = x\n",
    "y.append(9)\n",
    "\n",
    "print(f\"x:{x}, y:{y}\") #this is a type of f-string"
   ]
  },
  {
   "cell_type": "markdown",
   "id": "bc38a66b-7a77-4e33-85d8-943c8cf94abf",
   "metadata": {},
   "source": [
    "<font color='blue'>\n",
    "\n",
    "1. x is assigned the list [1, 2].\n",
    "\n",
    "1. y is assigned to reference the same list as x.\n",
    "\n",
    "1. y.append(9) adds 9 to the list that y is referencing, which is also the list that x is referencing.\n",
    "\n",
    "1. Printing x and y shows that they both now contain [1, 2, 9], as they reference the same list after the modification.\n",
    "</font>"
   ]
  },
  {
   "attachments": {},
   "cell_type": "markdown",
   "id": "9a8cb5b1",
   "metadata": {},
   "source": [
    "## 6.2 An explanation"
   ]
  },
  {
   "cell_type": "code",
   "execution_count": 41,
   "id": "d70080e7-d1c9-402e-bef3-74373fa0fd58",
   "metadata": {},
   "outputs": [
    {
     "data": {
      "text/plain": [
       "'CODE 1'"
      ]
     },
     "execution_count": 41,
     "metadata": {},
     "output_type": "execute_result"
    }
   ],
   "source": [
    "'''CODE 1''' #triple quotes are used to create multi-line strings\n",
    "             #can span across multiple lines and can contain newline characters without the need for escape sequences"
   ]
  },
  {
   "cell_type": "code",
   "execution_count": 45,
   "id": "615639c7-6f5a-4e08-bb81-35b5a3ef2ac4",
   "metadata": {},
   "outputs": [
    {
     "name": "stdout",
     "output_type": "stream",
     "text": [
      "x: 2900308683056, y: 2900308683056, 1: 2900308683056\n"
     ]
    }
   ],
   "source": [
    "x = 1\n",
    "y = 1\n",
    "\n",
    "print(f\"x: {id(x)}, y: {id(y)}, 1: {id(1)}\")"
   ]
  },
  {
   "cell_type": "markdown",
   "id": "32c334e0-52f5-4532-a891-5e59738660bd",
   "metadata": {},
   "source": [
    "now, all three of them have the same **id**"
   ]
  },
  {
   "cell_type": "markdown",
   "id": "dbebf104-f81f-4a09-8ce6-b5f9325caae3",
   "metadata": {},
   "source": [
    "1. Before the code is run, Python has things or objects 1, 2 and a that have three properties **type, value and id.**\n",
    "2. For example, **1** can have the **value 1, type int, and some id**. **a** can have the **value ‘a’, type str and some id**.\n",
    "3. After the code is run, **x and y** are ‘looking at’ or **bound to 1**. So x and y are referred to as **names/id** that are bound to **1**."
   ]
  },
  {
   "cell_type": "code",
   "execution_count": 56,
   "id": "c1cd26b3-50a0-4fe4-badb-3d8d131d249e",
   "metadata": {},
   "outputs": [
    {
     "name": "stdout",
     "output_type": "stream",
     "text": [
      "2900516420016 <class 'str'>\n"
     ]
    }
   ],
   "source": [
    "x = 'apples'\n",
    "print(id(x), type(x))"
   ]
  },
  {
   "cell_type": "code",
   "execution_count": 58,
   "id": "77c068c6-e029-420b-ad82-0346a50ab5a2",
   "metadata": {},
   "outputs": [
    {
     "name": "stdout",
     "output_type": "stream",
     "text": [
      "2900516469520 <class 'int'>\n"
     ]
    }
   ],
   "source": [
    "y = 12345\n",
    "print(id(y), type(y))"
   ]
  },
  {
   "cell_type": "code",
   "execution_count": 59,
   "id": "5a2e6991-6181-4052-81fe-239aadd11ba1",
   "metadata": {},
   "outputs": [
    {
     "name": "stdout",
     "output_type": "stream",
     "text": [
      "x: 2900308683056, y: 2900308683088\n"
     ]
    }
   ],
   "source": [
    "'''CODE 2'''\n",
    "x = 1\n",
    "y = x + 1\n",
    "\n",
    "print(f\"x: {id(x)}, y: {id(y)}\")"
   ]
  },
  {
   "cell_type": "code",
   "execution_count": 61,
   "id": "3a05f5a0-357b-498b-a771-dc41cda2adee",
   "metadata": {},
   "outputs": [
    {
     "name": "stdout",
     "output_type": "stream",
     "text": [
      "1: 2900308683056, 2: 2900308683088\n"
     ]
    }
   ],
   "source": [
    "print(f\"1: {id(1)}, 2: {id(2)}\") #notice that now x=1, y=2"
   ]
  },
  {
   "cell_type": "markdown",
   "id": "54ab9416-d26d-4513-9296-d7abe40a78c4",
   "metadata": {},
   "source": [
    "Since the mathematical operation requires y to have the value 2, y now gets bound to object 2. This happens because the value of object 1 cannot be changed, so the **binding is changed instead**."
   ]
  },
  {
   "cell_type": "markdown",
   "id": "322ef6a2-5e4b-4d4c-a3d2-8ccfccb29278",
   "metadata": {},
   "source": [
    "Objects such as 1 whose values cannot be changed are called **immutable**. Other such immutable types are **str(i.e., letters), float, bool**."
   ]
  },
  {
   "cell_type": "markdown",
   "id": "53e5539a-96a6-4e08-b167-2e6ad973f426",
   "metadata": {},
   "source": [
    "There are also objects whose values can be changed. These types are called **mutable** and include **lists and dictionaries and instances of classes**. "
   ]
  },
  {
   "attachments": {},
   "cell_type": "markdown",
   "id": "5c1e494e",
   "metadata": {},
   "source": [
    "## 6.3 A solution"
   ]
  },
  {
   "cell_type": "markdown",
   "id": "f5624263-cc5e-42c9-933e-393ee57b4a4f",
   "metadata": {},
   "source": [
    "To solve the problem arised in 6.1 (you want y to be an independent copy of x)"
   ]
  },
  {
   "cell_type": "code",
   "execution_count": 63,
   "id": "03ac1c1b-d3b8-4a9a-8335-3895252af10b",
   "metadata": {},
   "outputs": [
    {
     "name": "stdout",
     "output_type": "stream",
     "text": [
      "x:[1, 2], y:[1, 2, 3]\n"
     ]
    }
   ],
   "source": [
    "x = [1, 2]\n",
    "y = x.copy() # now, y will have an independant list \n",
    "y.append(3)\n",
    "print(f'x:{x}, y:{y}')"
   ]
  },
  {
   "attachments": {},
   "cell_type": "markdown",
   "id": "ece7b99d",
   "metadata": {},
   "source": [
    "# 7 == is not the same as is"
   ]
  },
  {
   "cell_type": "markdown",
   "id": "e5539c25-af01-4bba-b43d-237c33d4cf06",
   "metadata": {},
   "source": [
    "Python has several ways of comparing ‘items’. **== and is** are two examples. Here is the difference between them:\n",
    "\n",
    "1. **x is y** checks for **identity**. i. e., it asks if x and y are bound to the same object by comparing the ID.\n",
    "\n",
    "2. **x == y** checks for **equality** by running a function that checks for equality (such as _eq_ of a class). "
   ]
  },
  {
   "cell_type": "code",
   "execution_count": 67,
   "id": "30281f3d-d385-4e65-a8a1-0125b003e400",
   "metadata": {},
   "outputs": [
    {
     "name": "stdout",
     "output_type": "stream",
     "text": [
      " id:True, equality:True\n"
     ]
    }
   ],
   "source": [
    "x = 1\n",
    "y = 1\n",
    "print(f' id:{x is y}, equality:{x == y}')"
   ]
  },
  {
   "cell_type": "code",
   "execution_count": 68,
   "id": "3769c11c-058e-4969-a4f5-bf1fbcb1a370",
   "metadata": {},
   "outputs": [
    {
     "name": "stdout",
     "output_type": "stream",
     "text": [
      " id:False, equality:False\n"
     ]
    }
   ],
   "source": [
    "x = 123\n",
    "y = 345\n",
    "print(f' id:{x is y}, equality:{x == y}')"
   ]
  },
  {
   "cell_type": "markdown",
   "id": "8e73138c-6ca6-4a4a-abb8-8c6287014e22",
   "metadata": {},
   "source": [
    "<font color='blue'>\n",
    "\n",
    "There are cases where **x is y may return True** while **x == y returns False**. This can occur when dealing with **mutable objects like lists or dictionaries**, where x and y may refer to different objects with the same content. \n",
    "</font>"
   ]
  },
  {
   "cell_type": "code",
   "execution_count": 72,
   "id": "934cbb5f-ae96-45d1-bd25-0db41a3b3d82",
   "metadata": {},
   "outputs": [
    {
     "name": "stdout",
     "output_type": "stream",
     "text": [
      "False\n",
      "True\n"
     ]
    }
   ],
   "source": [
    "x = [1, 2, 3]\n",
    "y = x[:]  # Create a copy of x, same as x.copy()\n",
    "\n",
    "print(x is y)  # Output: False (Different objects in memory)\n",
    "print(x == y)  # Output: True (Same content)"
   ]
  },
  {
   "cell_type": "code",
   "execution_count": 74,
   "id": "59b61381-8d8e-4257-83d4-3fffd6983cd8",
   "metadata": {},
   "outputs": [
    {
     "name": "stdout",
     "output_type": "stream",
     "text": [
      "x:2900516910080, y:2900516887872\n"
     ]
    }
   ],
   "source": [
    "print(f'x:{id(x)}, y:{id(y)}')"
   ]
  },
  {
   "cell_type": "markdown",
   "id": "bbcf7a9a-6531-4d19-b281-d404fdbbadbc",
   "metadata": {},
   "source": [
    "<font color='blue'>In Python, when you create a new list (or any mutable object) and assign it to a variable, Python creates a new object in memory to store that list. **Even if the contents of two lists are the same, they can still be separate objects with different memory addresses (different id)**. This is because lists are **mutable**, meaning they **can be modified after creation**.</font>"
   ]
  },
  {
   "cell_type": "code",
   "execution_count": 76,
   "id": "8e6b60ec-02cc-496b-af2e-3d81440c277d",
   "metadata": {},
   "outputs": [
    {
     "name": "stdout",
     "output_type": "stream",
     "text": [
      "a:2900516814272, y:2900516814272\n"
     ]
    }
   ],
   "source": [
    "a = [4, 5, 6]\n",
    "b = a\n",
    "print(f'a:{id(a)}, y:{id(b)}') #now they have the same id, because a and b are linked to each other"
   ]
  },
  {
   "attachments": {},
   "cell_type": "markdown",
   "id": "28f23afe",
   "metadata": {},
   "source": [
    "## Footnotes"
   ]
  }
 ],
 "metadata": {
  "kernelspec": {
   "display_name": "Python 3 (ipykernel)",
   "language": "python",
   "name": "python3"
  },
  "language_info": {
   "codemirror_mode": {
    "name": "ipython",
    "version": 3
   },
   "file_extension": ".py",
   "mimetype": "text/x-python",
   "name": "python",
   "nbconvert_exporter": "python",
   "pygments_lexer": "ipython3",
   "version": "3.9.13"
  },
  "toc": {
   "base_numbering": 1,
   "nav_menu": {},
   "number_sections": true,
   "sideBar": true,
   "skip_h1_title": false,
   "title_cell": "Table of Contents",
   "title_sidebar": "Contents",
   "toc_cell": false,
   "toc_position": {},
   "toc_section_display": true,
   "toc_window_display": false
  },
  "vscode": {
   "interpreter": {
    "hash": "31f2aee4e71d21fbe5cf8b01ff0e069b9275f58929596ceb00d14d90e3e16cd6"
   }
  }
 },
 "nbformat": 4,
 "nbformat_minor": 5
}
