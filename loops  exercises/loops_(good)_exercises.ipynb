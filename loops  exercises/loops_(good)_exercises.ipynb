{
 "cells": [
  {
   "attachments": {},
   "cell_type": "markdown",
   "id": "123456",
   "metadata": {},
   "source": [
    "<div style=\"text-align:left;font-size:2em\"><span style=\"font-weight:bolder;font-size:1.25em\">SP2273 | Learning Portfolio</span><br><br><span style=\"font-weight:bold;color:darkred\">Loops (Good) Exercises</span></div>"
   ]
  },
  {
   "cell_type": "markdown",
   "id": "d659a24e-974a-49e9-811c-5f1eda44f1da",
   "metadata": {},
   "source": [
    "### Exercise 1 (Make me an odd list)"
   ]
  },
  {
   "cell_type": "markdown",
   "id": "7a529d59-8835-403c-94d9-f438220ab51b",
   "metadata": {},
   "source": [
    "With your knowledge of growing lists, use a for loop with range() and continue to generate a list of the squares of the odd integers from 0 to 9.\n",
    "\n",
    "Hint: You can check for ‘evenness’ using number % 2 == 0."
   ]
  },
  {
   "cell_type": "code",
   "execution_count": 1,
   "id": "ae70cdc5-1f05-4b59-9b7d-ea716e6e787f",
   "metadata": {},
   "outputs": [
    {
     "name": "stdout",
     "output_type": "stream",
     "text": [
      "[1, 3, 5, 7, 9]\n"
     ]
    }
   ],
   "source": [
    "x =[]\n",
    "for odd_numbers_1 in range (10):\n",
    "    if odd_numbers_1 %2 == 1:\n",
    "        x.append(odd_numbers_1) \n",
    "\n",
    "print(x)"
   ]
  },
  {
   "cell_type": "markdown",
   "id": "f8b486be-a43c-43eb-af62-4491fefa9890",
   "metadata": {},
   "source": [
    "### Exercise 2 (Make me another odd list)"
   ]
  },
  {
   "cell_type": "markdown",
   "id": "f98356c9-eeda-4bfe-a992-f230578c0878",
   "metadata": {},
   "source": [
    "Redo the previous exercise using list comprehension."
   ]
  },
  {
   "cell_type": "code",
   "execution_count": 13,
   "id": "79a4f3be-dc6b-408d-84a7-5040affe6370",
   "metadata": {},
   "outputs": [
    {
     "data": {
      "text/plain": [
       "[1, 9, 25, 49, 81]"
      ]
     },
     "execution_count": 13,
     "metadata": {},
     "output_type": "execute_result"
    }
   ],
   "source": [
    "[odd_numbers_2**2 for odd_numbers_2 in range(10) if odd_numbers_2 %2 == 1]"
   ]
  },
  {
   "cell_type": "markdown",
   "id": "d55a6db0-56fe-4860-aabf-7362f0ca5289",
   "metadata": {},
   "source": [
    "### Exercise 3 (Time me!)"
   ]
  },
  {
   "cell_type": "markdown",
   "id": "5d9147f5-a89f-40aa-9b45-8357fef49d8c",
   "metadata": {},
   "source": [
    "Use the cell magic command %%timeit to time the previous solutions. Which of the two is faster?"
   ]
  },
  {
   "cell_type": "code",
   "execution_count": 10,
   "id": "1b5e9561-c83b-48d7-8063-b4e1a716ac40",
   "metadata": {},
   "outputs": [
    {
     "name": "stdout",
     "output_type": "stream",
     "text": [
      "1.31 µs ± 20.9 ns per loop (mean ± std. dev. of 7 runs, 1,000,000 loops each)\n"
     ]
    }
   ],
   "source": [
    "%%timeit\n",
    "x =[]\n",
    "for odd_numbers_1 in range (10):\n",
    "    if odd_numbers_1 %2 == 1:\n",
    "        x.append(odd_numbers_1) "
   ]
  },
  {
   "cell_type": "code",
   "execution_count": 11,
   "id": "f3b3a4f3-e8e6-4085-92dd-85467de40c53",
   "metadata": {},
   "outputs": [
    {
     "name": "stdout",
     "output_type": "stream",
     "text": [
      "3.19 µs ± 279 ns per loop (mean ± std. dev. of 7 runs, 100,000 loops each)\n"
     ]
    }
   ],
   "source": [
    "%%timeit\n",
    "[odd_numbers_2**2 for odd_numbers_2 in range(10) if odd_numbers_2 %2 == 1]"
   ]
  },
  {
   "cell_type": "markdown",
   "id": "4604eb0c-6b0c-41f3-aff3-f980cc9e3913",
   "metadata": {},
   "source": [
    "**Answer: The code for list comprehension is slower than the for loop**"
   ]
  },
  {
   "cell_type": "markdown",
   "id": "c7c3e351-7b60-4f48-a715-05b74be9966e",
   "metadata": {},
   "source": [
    "### Exercise 4 (A problem of decay)"
   ]
  },
  {
   "cell_type": "markdown",
   "id": "59a14158-fb67-4ee1-951d-6a9494386f20",
   "metadata": {},
   "source": [
    "The initial quantity of a sample of a radioactive substance is 100 units, and it decays by 5% each year. Use a while loop to determine how long the sample will take to reduce to half its original amount."
   ]
  },
  {
   "cell_type": "code",
   "execution_count": 38,
   "id": "c77004da-8eac-47ef-ab2f-f5af4b08039e",
   "metadata": {},
   "outputs": [
    {
     "name": "stdout",
     "output_type": "stream",
     "text": [
      "After 0 year, the amount of radioactive substances is 100.00\n",
      "After 1 year, the amount of radioactive substances is 95.00\n",
      "After 2 year, the amount of radioactive substances is 90.25\n",
      "After 3 year, the amount of radioactive substances is 85.74\n",
      "After 4 year, the amount of radioactive substances is 81.45\n",
      "After 5 year, the amount of radioactive substances is 77.38\n",
      "After 6 year, the amount of radioactive substances is 73.51\n",
      "After 7 year, the amount of radioactive substances is 69.83\n",
      "After 8 year, the amount of radioactive substances is 66.34\n",
      "After 9 year, the amount of radioactive substances is 63.02\n",
      "After 10 year, the amount of radioactive substances is 59.87\n",
      "After 11 year, the amount of radioactive substances is 56.88\n",
      "After 12 year, the amount of radioactive substances is 54.04\n",
      "After 13 year, the amount of radioactive substances is 51.33\n",
      "It takes 14 years for the radioactive substances to reduce to half its original amount\n"
     ]
    }
   ],
   "source": [
    "radioactive_sub = 100\n",
    "year = 0\n",
    "\n",
    "while radioactive_sub > 50:\n",
    "    print(f'After {year} year, the amount of radioactive substances is {radioactive_sub:.2f}')\n",
    "    year += 1\n",
    "    radioactive_sub *= 0.95\n",
    "\n",
    "print(f'It takes {year} years for the radioactive substances to reduce to half its original amount')\n"
   ]
  },
  {
   "cell_type": "markdown",
   "id": "9b7ea02a-86db-47b8-b35f-ba08ed6fe846",
   "metadata": {},
   "source": [
    "### Exercise 5 (Changes in CO2)"
   ]
  },
  {
   "cell_type": "markdown",
   "id": "137f1fc5-0ab3-423c-a64d-a2df07199bed",
   "metadata": {},
   "source": [
    "The following is data about atmospheric CO2 levels for several years in a (year, CO2_level) format. The units are ppm."
   ]
  },
  {
   "cell_type": "code",
   "execution_count": 17,
   "id": "1504793b-892e-4c88-8606-e1a3872cca7c",
   "metadata": {},
   "outputs": [],
   "source": [
    "co2_data = [\n",
    "    (2000, 369.55), (2001, 371.14), (2002, 373.28), \n",
    "    (2003, 375.80), (2004, 377.52), (2005, 379.80), \n",
    "    (2006, 381.90), (2007, 383.79), (2008, 385.60), \n",
    "    (2009, 387.43), (2010, 389.90), (2011, 391.65), \n",
    "    (2012, 393.85), (2013, 396.52), (2014, 398.65),\n",
    "    (2015, 400.83), (2016, 404.24), (2017, 406.55), \n",
    "    (2018, 408.52), (2019, 411.44), (2020, 414.24)\n",
    "]"
   ]
  },
  {
   "cell_type": "markdown",
   "id": "55fa26da-f0d0-4f90-acbf-168a5594423b",
   "metadata": {},
   "source": [
    "Identify those years that showed an increase of CO2 of 3 ppm or more compared to the previous year.\n",
    "Please print out these years along with the corresponding change in concentration."
   ]
  },
  {
   "cell_type": "code",
   "execution_count": 39,
   "id": "a5119699-ab35-4ee4-8654-f693ce6d1154",
   "metadata": {},
   "outputs": [
    {
     "name": "stdout",
     "output_type": "stream",
     "text": [
      "In 2016, there was an increase of 3.41 ppm compared to the previous year.\n"
     ]
    }
   ],
   "source": [
    "previous_year_co2 = co2_data[0][1]  # CO2 level of the first year\n",
    "previous_year = co2_data[0][0]  # Year of the first year\n",
    "\n",
    "for year, co2_level in co2_data[1:]:  # Start from the second year\n",
    "    co2_increase = co2_level - previous_year_co2\n",
    "    if co2_increase >= 3:\n",
    "        print(f\"In {year}, there was an increase of {co2_increase:.2f} ppm compared to the previous year.\")\n",
    "    previous_year_co2 = co2_level\n",
    "    previous_year = year"
   ]
  }
 ],
 "metadata": {
  "kernelspec": {
   "display_name": "Python 3 (ipykernel)",
   "language": "python",
   "name": "python3"
  },
  "language_info": {
   "codemirror_mode": {
    "name": "ipython",
    "version": 3
   },
   "file_extension": ".py",
   "mimetype": "text/x-python",
   "name": "python",
   "nbconvert_exporter": "python",
   "pygments_lexer": "ipython3",
   "version": "3.9.13"
  },
  "toc": {
   "base_numbering": 1,
   "nav_menu": {},
   "number_sections": true,
   "sideBar": true,
   "skip_h1_title": false,
   "title_cell": "Table of Contents",
   "title_sidebar": "Contents",
   "toc_cell": false,
   "toc_position": {},
   "toc_section_display": true,
   "toc_window_display": false
  },
  "vscode": {
   "interpreter": {
    "hash": "31f2aee4e71d21fbe5cf8b01ff0e069b9275f58929596ceb00d14d90e3e16cd6"
   }
  }
 },
 "nbformat": 4,
 "nbformat_minor": 5
}
