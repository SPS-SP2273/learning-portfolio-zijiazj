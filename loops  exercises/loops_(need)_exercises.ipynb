{
 "cells": [
  {
   "attachments": {},
   "cell_type": "markdown",
   "id": "123456",
   "metadata": {},
   "source": [
    "<div style=\"text-align:left;font-size:2em\"><span style=\"font-weight:bolder;font-size:1.25em\">SP2273 | Learning Portfolio</span><br><br><span style=\"font-weight:bold;color:darkred\">Loops (Need) Exercises</span></div>"
   ]
  },
  {
   "cell_type": "markdown",
   "id": "dd6ebb2e-3470-4f0f-ae2a-a821c8aa4e1d",
   "metadata": {},
   "source": [
    "### Exercise 1 (Celcius to Farenheit)"
   ]
  },
  {
   "cell_type": "markdown",
   "id": "c8fdaa10-f5fb-4fc0-85d9-0f06c59f3a2c",
   "metadata": {},
   "source": [
    "You are provided with the following list of temperatures in Celsius. Write a quick Python snippet that converts each temperature to Fahrenheit and prints both temperatures."
   ]
  },
  {
   "cell_type": "code",
   "execution_count": 2,
   "id": "0535cce3-241a-4e07-b3cc-356363f02357",
   "metadata": {},
   "outputs": [],
   "source": [
    "temperatures_celsius = [\n",
    "    0, 5, 10, 15, 20, 25,\n",
    "    30, 35, 40, 45, 50\n",
    "]"
   ]
  },
  {
   "cell_type": "code",
   "execution_count": 3,
   "id": "33fbb0d9-1408-45de-b853-afac0aca460c",
   "metadata": {},
   "outputs": [
    {
     "name": "stdout",
     "output_type": "stream",
     "text": [
      "0 celsius is equivalent to 32.0 fahrenheit\n",
      "5 celsius is equivalent to 41.0 fahrenheit\n",
      "10 celsius is equivalent to 50.0 fahrenheit\n",
      "15 celsius is equivalent to 59.0 fahrenheit\n",
      "20 celsius is equivalent to 68.0 fahrenheit\n",
      "25 celsius is equivalent to 77.0 fahrenheit\n",
      "30 celsius is equivalent to 86.0 fahrenheit\n",
      "35 celsius is equivalent to 95.0 fahrenheit\n",
      "40 celsius is equivalent to 104.0 fahrenheit\n",
      "45 celsius is equivalent to 113.0 fahrenheit\n",
      "50 celsius is equivalent to 122.0 fahrenheit\n"
     ]
    }
   ],
   "source": [
    "for i in temperatures_celsius:\n",
    "    temperatures_fahrenheit = i*9/5+32\n",
    "    print(f\"{i} celsius is equivalent to {temperatures_fahrenheit} fahrenheit\")"
   ]
  },
  {
   "cell_type": "markdown",
   "id": "a17b69ba-3c99-4666-aee7-64d7d652c3c5",
   "metadata": {},
   "source": [
    "### Exercise 2 (Multiplication table)"
   ]
  },
  {
   "cell_type": "markdown",
   "id": "695ce635-7bc7-401a-9b6d-2a7aec0c0dd0",
   "metadata": {},
   "source": [
    "You can put a loop within a loop to do doubly loopy stuff. Here is an example:"
   ]
  },
  {
   "cell_type": "code",
   "execution_count": 9,
   "id": "2c475929-0791-4297-ada0-5e025292ed6c",
   "metadata": {},
   "outputs": [
    {
     "name": "stdout",
     "output_type": "stream",
     "text": [
      "A1\tA2\tA3\t\n",
      "\n",
      "B1\tB2\tB3\t\n",
      "\n",
      "C1\tC2\tC3\t\n",
      "\n"
     ]
    }
   ],
   "source": [
    "for letter in ['A', 'B', 'C']:\n",
    "    for number in [1, 2, 3]:\n",
    "        print(f'{letter}{number}', end='\\t') # the loop will remain at the element A in the letter list before going through the entire number list\n",
    "    print('\\n')"
   ]
  },
  {
   "cell_type": "markdown",
   "id": "5b711dc5-5efa-4693-b200-dd83348a636a",
   "metadata": {},
   "source": [
    "Write a Python snippet that prints a multiplication table (up to 5) for numbers 1 through 5 using nested for loops. The output should be formatted as shown below:"
   ]
  },
  {
   "cell_type": "markdown",
   "id": "9b7a8024-3caf-4d5f-8178-3375a5be1f9f",
   "metadata": {},
   "source": [
    "1 : 1   2   3   4   5   \n",
    "2 : 2   4   6   8   10  \n",
    "3 : 3   6   9   12  15  \n",
    "4 : 4   8   12  16  20  \n",
    "5 : 5   10  15  20  25  \n",
    "(my tab does not work in markdown)"
   ]
  },
  {
   "cell_type": "code",
   "execution_count": 27,
   "id": "a88d4978-c352-4b9b-8f3e-3eb54c225228",
   "metadata": {},
   "outputs": [
    {
     "name": "stdout",
     "output_type": "stream",
     "text": [
      "1: 1\t2\t3\t4\t5\t\n",
      "2: 2\t4\t6\t8\t10\t\n",
      "3: 3\t6\t9\t12\t15\t\n",
      "4: 4\t8\t12\t16\t20\t\n",
      "5: 5\t10\t15\t20\t25\t\n"
     ]
    }
   ],
   "source": [
    "first_number = [1,2,3,4,5]\n",
    "second_number = [1,2,3,4,5]\n",
    "for i in first_number:\n",
    "    print(f'{i}:', end=' ') # end with a space character\n",
    "    for j in second_number:\n",
    "        answer = i * j\n",
    "        print(answer, end='\\t')\n",
    "    print()"
   ]
  },
  {
   "cell_type": "markdown",
   "id": "a0af5838-7278-4b1d-9693-dd1d7f0b0f7f",
   "metadata": {},
   "source": [
    "<font color='red'> \n",
    "    \n",
    "Referring to the code above, I notice that if I don't add , end=' ' at the end of print(f'{i}:' , the table will become uncontinuous (example shown below). Why is that so?\n",
    "\n",
    "</font>"
   ]
  },
  {
   "cell_type": "code",
   "execution_count": 29,
   "id": "4c208c65-ee16-4a07-b90e-6f954efbec18",
   "metadata": {},
   "outputs": [
    {
     "name": "stdout",
     "output_type": "stream",
     "text": [
      "1:\n",
      "1\t2\t3\t4\t5\t\n",
      "2:\n",
      "2\t4\t6\t8\t10\t\n",
      "3:\n",
      "3\t6\t9\t12\t15\t\n",
      "4:\n",
      "4\t8\t12\t16\t20\t\n",
      "5:\n",
      "5\t10\t15\t20\t25\t\n"
     ]
    }
   ],
   "source": [
    "for i in first_number:\n",
    "    print(f'{i}:') \n",
    "    for j in second_number:\n",
    "        answer = i * j\n",
    "        print(answer, end='\\t')\n",
    "    print()"
   ]
  },
  {
   "cell_type": "code",
   "execution_count": null,
   "id": "bf9c3ba3-4569-4724-aac8-9d9f89c03a5e",
   "metadata": {},
   "outputs": [],
   "source": []
  }
 ],
 "metadata": {
  "kernelspec": {
   "display_name": "Python 3 (ipykernel)",
   "language": "python",
   "name": "python3"
  },
  "language_info": {
   "codemirror_mode": {
    "name": "ipython",
    "version": 3
   },
   "file_extension": ".py",
   "mimetype": "text/x-python",
   "name": "python",
   "nbconvert_exporter": "python",
   "pygments_lexer": "ipython3",
   "version": "3.9.13"
  },
  "toc": {
   "base_numbering": 1,
   "nav_menu": {},
   "number_sections": true,
   "sideBar": true,
   "skip_h1_title": false,
   "title_cell": "Table of Contents",
   "title_sidebar": "Contents",
   "toc_cell": false,
   "toc_position": {},
   "toc_section_display": true,
   "toc_window_display": false
  },
  "vscode": {
   "interpreter": {
    "hash": "31f2aee4e71d21fbe5cf8b01ff0e069b9275f58929596ceb00d14d90e3e16cd6"
   }
  }
 },
 "nbformat": 4,
 "nbformat_minor": 5
}
