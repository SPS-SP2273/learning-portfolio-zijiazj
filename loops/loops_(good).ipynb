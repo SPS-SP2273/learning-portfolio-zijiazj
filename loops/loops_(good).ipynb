{
 "cells": [
  {
   "attachments": {},
   "cell_type": "markdown",
   "id": "123456",
   "metadata": {},
   "source": [
    "<div style=\"text-align:left;font-size:2em\"><span style=\"font-weight:bolder;font-size:1.25em\">SP2273 | Learning Portfolio</span><br><br><span style=\"font-weight:bold;color:darkred\">Loops (Good)</span></div>"
   ]
  },
  {
   "attachments": {},
   "cell_type": "markdown",
   "id": "7a852945",
   "metadata": {},
   "source": [
    "# What to expect in this chapter"
   ]
  },
  {
   "cell_type": "markdown",
   "id": "7f101f68-a194-499b-92f7-290e02775534",
   "metadata": {},
   "source": [
    "- exercise more control over what happens in loops by using the continue and break statements.\n",
    "- list comprehension (a super-optimised variant of the for a loop)"
   ]
  },
  {
   "attachments": {},
   "cell_type": "markdown",
   "id": "c01e7259",
   "metadata": {},
   "source": [
    "# 1 Interrupting the flow"
   ]
  },
  {
   "cell_type": "markdown",
   "id": "937b9422-ea7c-4f16-96de-2bea36bbd295",
   "metadata": {},
   "source": [
    "-  to change the flow of a loop from within."
   ]
  },
  {
   "cell_type": "code",
   "execution_count": 3,
   "id": "3312d414-c754-42d1-b6f0-32b2741f74cb",
   "metadata": {},
   "outputs": [
    {
     "name": "stdout",
     "output_type": "stream",
     "text": [
      "0 1\n",
      "1 10\n",
      "2 100\n",
      "3 1000\n"
     ]
    }
   ],
   "source": [
    "# using BREAK\n",
    "for power in range(5):\n",
    "    number = 10**power\n",
    "    if number > 5000:\n",
    "        break\n",
    "    print(power, number)"
   ]
  },
  {
   "cell_type": "markdown",
   "id": "8377b567-7746-4573-9ecc-66fa58371ab1",
   "metadata": {},
   "source": [
    "- use BREAK to breakout and terminate a loop\n",
    "- can be used in FOR LOOP and WHILE LOOP"
   ]
  },
  {
   "cell_type": "code",
   "execution_count": 4,
   "id": "890b4e9f-cdcf-4977-9a51-60aa006e4e8d",
   "metadata": {},
   "outputs": [
    {
     "name": "stdout",
     "output_type": "stream",
     "text": [
      "0 1\n",
      "1 10\n",
      "2 100\n",
      "4 10000\n"
     ]
    }
   ],
   "source": [
    "# Using CONTINUE\n",
    "for power in range(5):\n",
    "    if power == 3:\n",
    "        continue        # Don't proceed further\n",
    "                        # IN THE CURRENT LOOP\n",
    "                        # if i == 3\n",
    "    number = 10**power\n",
    "    print(power, number)"
   ]
  },
  {
   "cell_type": "markdown",
   "id": "6af15f26-127a-43e1-820c-c998cd65e61d",
   "metadata": {},
   "source": [
    "- skip when power is 3\n",
    "- CONTINUE allows us to skip an iteration and just move on to the next\n",
    "- skipping everything **after** it.\n",
    "- typically work with FOR LOOP and WHILE loop"
   ]
  },
  {
   "cell_type": "code",
   "execution_count": 5,
   "id": "45e5614c-7395-46f4-9917-f214e9cca2ee",
   "metadata": {},
   "outputs": [
    {
     "name": "stdout",
     "output_type": "stream",
     "text": [
      "1\n",
      "3\n",
      "5\n",
      "7\n",
      "9\n"
     ]
    }
   ],
   "source": [
    "# Using CONTINUE to print only odd numbers\n",
    "for number in range(10):\n",
    "    if number % 2 == 0: # if number divided by 2 is zero\n",
    "        continue\n",
    "    print(number)"
   ]
  },
  {
   "cell_type": "code",
   "execution_count": 6,
   "id": "70b8b389-5848-4d7a-ad88-a1255a473767",
   "metadata": {},
   "outputs": [
    {
     "name": "stdout",
     "output_type": "stream",
     "text": [
      "0\n",
      "1\n",
      "2\n",
      "3\n",
      "4\n"
     ]
    }
   ],
   "source": [
    "# Using BREAK  to print the numbers less than 4\n",
    "number=0\n",
    "\n",
    "while True:\n",
    "    print(number)\n",
    "    number += 1\n",
    "    if number > 4: break"
   ]
  },
  {
   "attachments": {},
   "cell_type": "markdown",
   "id": "755e70c8",
   "metadata": {},
   "source": [
    "# 2 List comprehension!"
   ]
  },
  {
   "cell_type": "markdown",
   "id": "cebc3b56-939b-41e9-9530-e1561472163f",
   "metadata": {},
   "source": [
    "- creating new lists from other lists "
   ]
  },
  {
   "attachments": {},
   "cell_type": "markdown",
   "id": "de7120fa",
   "metadata": {},
   "source": [
    "## 2.1 Basic syntax"
   ]
  },
  {
   "cell_type": "code",
   "execution_count": 14,
   "id": "133b3943-8246-49b6-8ff5-792fc8cad4d5",
   "metadata": {},
   "outputs": [
    {
     "data": {
      "text/plain": [
       "[0, 1, 2, 3, 4]"
      ]
     },
     "execution_count": 14,
     "metadata": {},
     "output_type": "execute_result"
    }
   ],
   "source": [
    "# to create a list with numbers\n",
    "[number for number in range(5)]"
   ]
  },
  {
   "cell_type": "markdown",
   "id": "e5b2d29f-e513-48cc-ab05-7ce963e97503",
   "metadata": {},
   "source": [
    "for better clarity:\n",
    "- [everything inside is a part of a list]\n",
    "- 'number' is an output\n",
    "- put the thing you want as an output at the front."
   ]
  },
  {
   "cell_type": "markdown",
   "id": "ddf02fd4-eadb-42e9-94fa-08237ca5adc3",
   "metadata": {},
   "source": [
    "<font color = 'red'> \n",
    "if we generate a list like that, what is the name of the list (like how do I call out the list again?), or I must assign a name for the list before I run the loop?\n",
    "</font>"
   ]
  },
  {
   "cell_type": "code",
   "execution_count": 12,
   "id": "c7f0a430-0ec1-4a0c-994a-a66a59821446",
   "metadata": {},
   "outputs": [
    {
     "name": "stdout",
     "output_type": "stream",
     "text": [
      "[1, 4, 9, 16, 25, 36, 49, 64, 81, 100]\n"
     ]
    }
   ],
   "source": [
    "# Another example for better understanding\n",
    "# Squaring numbers from 1 to 10\n",
    "squared_numbers = [x**2 for x in range(1, 11)]\n",
    "print(squared_numbers)\n"
   ]
  },
  {
   "cell_type": "markdown",
   "id": "16294fb6-6bb7-4dc2-8e22-ed69fcf4354a",
   "metadata": {},
   "source": [
    "- range of x is 1 to 10\n",
    "- range (inclusive, exclusive)\n",
    "- for example, this range is inclusive of 1 but exclusive of 11"
   ]
  },
  {
   "cell_type": "code",
   "execution_count": 16,
   "id": "78dda7d2-b8f2-4f14-9d65-0dfa5bde9a96",
   "metadata": {},
   "outputs": [
    {
     "data": {
      "text/plain": [
       "[0, 1, 4, 9, 16]"
      ]
     },
     "execution_count": 16,
     "metadata": {},
     "output_type": "execute_result"
    }
   ],
   "source": [
    "# to create a list of squares\n",
    "[number**2 for number in range(5)]"
   ]
  },
  {
   "attachments": {},
   "cell_type": "markdown",
   "id": "d673feb0",
   "metadata": {},
   "source": [
    "## 2.2 List comprehension with conditions"
   ]
  },
  {
   "cell_type": "code",
   "execution_count": 17,
   "id": "40265718-1dc8-4410-92a8-deeee9660207",
   "metadata": {},
   "outputs": [
    {
     "data": {
      "text/plain": [
       "[0, 2, 4, 6, 8]"
      ]
     },
     "execution_count": 17,
     "metadata": {},
     "output_type": "execute_result"
    }
   ],
   "source": [
    "# allow us to specific a condition\n",
    "[number for number in range(10) if number % 2 ==0]"
   ]
  },
  {
   "cell_type": "markdown",
   "id": "53a6d153-d1d7-4051-94c2-1546d9bd7948",
   "metadata": {},
   "source": [
    "For number in the range from 0 to 9, if the number is even, include them into the list"
   ]
  },
  {
   "attachments": {},
   "cell_type": "markdown",
   "id": "8a3d43ff",
   "metadata": {},
   "source": [
    "# 3 Other useful stuff"
   ]
  },
  {
   "attachments": {},
   "cell_type": "markdown",
   "id": "40a53d9c",
   "metadata": {},
   "source": [
    "## 3.1 for with unpacking"
   ]
  },
  {
   "cell_type": "code",
   "execution_count": 18,
   "id": "fc27b5fa-28f2-4719-8d2c-4e4b3364973b",
   "metadata": {},
   "outputs": [
    {
     "name": "stdout",
     "output_type": "stream",
     "text": [
      "x = 1, y = 2, z = 3\n"
     ]
    }
   ],
   "source": [
    "# seperate the elements\n",
    "x, y, z=[1, 2, 3]\n",
    "print(f'x = {x}, y = {y}, z = {z}')"
   ]
  },
  {
   "cell_type": "code",
   "execution_count": 19,
   "id": "abae2b8c-33e5-43ea-8942-c845d569dc4c",
   "metadata": {},
   "outputs": [
    {
     "name": "stdout",
     "output_type": "stream",
     "text": [
      "Natasha Romanoff is Marvel's Black Widow!\n",
      "Tony Stark is Marvel's Iron Man!\n",
      "Stephen Strange is Marvel's Doctor Strange!\n"
     ]
    }
   ],
   "source": [
    "# combining UNPACKING with a FOR LOOP to extract elements\n",
    "py_superhero_info = [['Natasha Romanoff', 'Black Widow'],\n",
    "                     ['Tony Stark', 'Iron Man'],\n",
    "                     ['Stephen Strange', 'Doctor Strange']]\n",
    "\n",
    "for real_name, super_name in py_superhero_info: # now all the [0] is real_name and [1] is super_name\n",
    "    print(f\"{real_name} is Marvel's {super_name}!\")"
   ]
  },
  {
   "attachments": {},
   "cell_type": "markdown",
   "id": "6d1a1dfe",
   "metadata": {},
   "source": [
    "## 3.2 for with zip()"
   ]
  },
  {
   "cell_type": "markdown",
   "id": "b3c99ff1-2d4c-40cd-8757-e5bc2b0c0ae8",
   "metadata": {},
   "source": [
    "**zip() is useful to combine two lists together**"
   ]
  },
  {
   "cell_type": "code",
   "execution_count": 20,
   "id": "b08b9f4a-3e73-4add-b07c-4a28db7f9cec",
   "metadata": {},
   "outputs": [
    {
     "name": "stdout",
     "output_type": "stream",
     "text": [
      "Natasha Romanoff is Marvel's Black Widow!\n",
      "Tony Stark is Marvel's Iron Man!\n",
      "Stephen Strange is Marvel's Doctor Strange!\n"
     ]
    }
   ],
   "source": [
    "super_names = [\"Black Widow\", \"Iron Man\", \"Doctor Strange\"]\n",
    "real_names = [\"Natasha Romanoff\", \"Tony Stark\", \"Stephen Strange\"]\n",
    "\n",
    "for real_name, super_name in zip(real_names,super_names): # zip two lists together\n",
    "    print(f\"{real_name} is Marvel's {super_name}!\")"
   ]
  },
  {
   "attachments": {},
   "cell_type": "markdown",
   "id": "a021abe8",
   "metadata": {},
   "source": [
    "## 3.3 for with dictionaries"
   ]
  },
  {
   "cell_type": "markdown",
   "id": "f02060f0-f2fb-4c1c-ad08-efe76381f390",
   "metadata": {},
   "source": [
    "when looping through dictionaries:\n",
    "- items() will give us the keys and the corresponding values\n",
    "- keys() will give us only the keys"
   ]
  },
  {
   "cell_type": "code",
   "execution_count": 33,
   "id": "cd4084dc-58c5-49b7-8611-1a11a7365075",
   "metadata": {},
   "outputs": [
    {
     "name": "stdout",
     "output_type": "stream",
     "text": [
      "Natasha Romanoff is Marvel's Black Widow!\n",
      "Tony Stark is Marvel's Iron Man!\n",
      "Stephen Strange is Marvel's Doctor Strange!\n"
     ]
    }
   ],
   "source": [
    "superhero_info = {\"Natasha Romanoff\": \"Black Widow\",\n",
    "                \"Tony Stark\": \"Iron Man\",\n",
    "                \"Stephen Strange\": \"Doctor Strange\"}\n",
    "\n",
    "for key, value in superhero_info.items():\n",
    "    print(f\"{key} is Marvel's {value}!\")"
   ]
  },
  {
   "cell_type": "code",
   "execution_count": 34,
   "id": "dbf0d032-bd64-4bdd-bb85-b1c703a62e7d",
   "metadata": {},
   "outputs": [
    {
     "name": "stdout",
     "output_type": "stream",
     "text": [
      "Natasha Romanoff is Marvel's Black Widow!\n",
      "Tony Stark is Marvel's Iron Man!\n",
      "Stephen Strange is Marvel's Doctor Strange!\n"
     ]
    }
   ],
   "source": [
    "# easier to understand version\n",
    "superhero_info = {\"Natasha Romanoff\": \"Black Widow\",\n",
    "                \"Tony Stark\": \"Iron Man\",\n",
    "                \"Stephen Strange\": \"Doctor Strange\"}\n",
    "\n",
    "for a, b in superhero_info.items():\n",
    "    print(f\"{a} is Marvel's {b}!\")"
   ]
  },
  {
   "cell_type": "code",
   "execution_count": 29,
   "id": "9487c14f-5a24-4b45-8d06-6fcff53ba1c9",
   "metadata": {},
   "outputs": [
    {
     "name": "stdout",
     "output_type": "stream",
     "text": [
      "Natasha Romanoff is Marvel's Black Widow!\n",
      "Tony Stark is Marvel's Iron Man!\n",
      "Stephen Strange is Marvel's Doctor Strange!\n"
     ]
    }
   ],
   "source": [
    "for key in superhero_info.keys():\n",
    "    value = superhero_info[key]\n",
    "    print(f\"{key} is Marvel's {value}!\")"
   ]
  },
  {
   "cell_type": "code",
   "execution_count": 32,
   "id": "2fc1bad5-46cf-48da-9aa1-fa79f8e8d741",
   "metadata": {},
   "outputs": [
    {
     "name": "stdout",
     "output_type": "stream",
     "text": [
      "Natasha Romanoff is Marvel's Black Widow!\n",
      "Tony Stark is Marvel's Iron Man!\n",
      "Stephen Strange is Marvel's Doctor Strange!\n"
     ]
    }
   ],
   "source": [
    "# easier to understand version\n",
    "for a in superhero_info.keys():\n",
    "    b = superhero_info[a] # calling the value using the keys\n",
    "    print(f\"{a} is Marvel's {b}!\")"
   ]
  },
  {
   "attachments": {},
   "cell_type": "markdown",
   "id": "6ddf449d",
   "metadata": {},
   "source": [
    "## Footnotes"
   ]
  }
 ],
 "metadata": {
  "kernelspec": {
   "display_name": "Python 3 (ipykernel)",
   "language": "python",
   "name": "python3"
  },
  "language_info": {
   "codemirror_mode": {
    "name": "ipython",
    "version": 3
   },
   "file_extension": ".py",
   "mimetype": "text/x-python",
   "name": "python",
   "nbconvert_exporter": "python",
   "pygments_lexer": "ipython3",
   "version": "3.9.13"
  },
  "toc": {
   "base_numbering": 1,
   "nav_menu": {},
   "number_sections": true,
   "sideBar": true,
   "skip_h1_title": false,
   "title_cell": "Table of Contents",
   "title_sidebar": "Contents",
   "toc_cell": false,
   "toc_position": {},
   "toc_section_display": true,
   "toc_window_display": false
  },
  "vscode": {
   "interpreter": {
    "hash": "31f2aee4e71d21fbe5cf8b01ff0e069b9275f58929596ceb00d14d90e3e16cd6"
   }
  }
 },
 "nbformat": 4,
 "nbformat_minor": 5
}
