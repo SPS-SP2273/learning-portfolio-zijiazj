{
 "cells": [
  {
   "attachments": {},
   "cell_type": "markdown",
   "id": "123456",
   "metadata": {},
   "source": [
    "<div style=\"text-align:left;font-size:2em\"><span style=\"font-weight:bolder;font-size:1.25em\">SP2273 | Learning Portfolio</span><br><br><span style=\"font-weight:bold;color:darkred\">Loops (Need)</span></div>"
   ]
  },
  {
   "attachments": {},
   "cell_type": "markdown",
   "id": "cf66d933",
   "metadata": {},
   "source": [
    "# What to expect in this chapter"
   ]
  },
  {
   "cell_type": "markdown",
   "id": "3dd8b698-fabd-465a-8e31-3307c73e3605",
   "metadata": {},
   "source": [
    "- the ability to repeat a task over and over again\n",
    "- Python offers two mechanisms for looping. One is the for statement, and the other is the while statement."
   ]
  },
  {
   "attachments": {},
   "cell_type": "markdown",
   "id": "370a10e3",
   "metadata": {},
   "source": [
    "# 1 The for iterator"
   ]
  },
  {
   "cell_type": "markdown",
   "id": "3e7a1070-05bb-4b92-8d51-15220226cc96",
   "metadata": {},
   "source": [
    "Example of using a FOR LOOP"
   ]
  },
  {
   "cell_type": "code",
   "execution_count": 1,
   "id": "d0bcb616-46be-487a-a990-3a053d7c0c27",
   "metadata": {},
   "outputs": [],
   "source": [
    "real_names = [\"Natasha Romanoff\", \"Tony Stark\", \"Stephen Strange\"]"
   ]
  },
  {
   "cell_type": "code",
   "execution_count": 2,
   "id": "04187143-13b0-41b5-a5ff-037b60e8ac8a",
   "metadata": {},
   "outputs": [
    {
     "name": "stdout",
     "output_type": "stream",
     "text": [
      "Natasha Romanoff is a Marvel superhero!\n",
      "Tony Stark is a Marvel superhero!\n",
      "Stephen Strange is a Marvel superhero!\n"
     ]
    }
   ],
   "source": [
    "#Please do not do this manually\n",
    "name=real_names[0]\n",
    "print(f\"{name} is a Marvel superhero!\")\n",
    "\n",
    "name=real_names[1]\n",
    "print(f\"{name} is a Marvel superhero!\")\n",
    "\n",
    "name=real_names[2]\n",
    "print(f\"{name} is a Marvel superhero!\")"
   ]
  },
  {
   "cell_type": "markdown",
   "id": "f8179d5d-2501-473e-abdb-85d2467b434f",
   "metadata": {},
   "source": [
    "**Not the ideal way of programming**\n",
    "\n",
    "- not very effective (you have to repeat many times)\n",
    "- \n",
    "it is cumbersome to make change\n",
    "- \r\n",
    "it is highly error pro)."
   ]
  },
  {
   "attachments": {},
   "cell_type": "markdown",
   "id": "5f49ef28",
   "metadata": {},
   "source": [
    "## 1.1 for with a list"
   ]
  },
  {
   "cell_type": "code",
   "execution_count": 6,
   "id": "2b204c56-a323-4bda-82d9-f30c0197b4b7",
   "metadata": {},
   "outputs": [
    {
     "name": "stdout",
     "output_type": "stream",
     "text": [
      "Natasha Romanoff is a Marvel superhero!\n",
      "Tony Stark is a Marvel superhero!\n",
      "Stephen Strange is a Marvel superhero!\n"
     ]
    }
   ],
   "source": [
    "for name in real_names:\n",
    "    print(f\"{name} is a Marvel superhero!\")"
   ]
  },
  {
   "cell_type": "markdown",
   "id": "c145dfe6-116f-4d89-9a88-5a3df431bbd1",
   "metadata": {},
   "source": [
    "**FOR LOOP Structure**\n",
    "\n",
    "- the loop will go through the list and assign \"name\" the value of each element of the list.\n",
    "- it then runs the code-block using this value of \"name\"\n",
    "- the code block is deginted by using : or tab like with \"if\""
   ]
  },
  {
   "attachments": {},
   "cell_type": "markdown",
   "id": "547406b2",
   "metadata": {},
   "source": [
    "## 1.2 for with enumerate"
   ]
  },
  {
   "cell_type": "code",
   "execution_count": 7,
   "id": "e5fda03d-90cc-4645-9a18-edf2ef679498",
   "metadata": {},
   "outputs": [],
   "source": [
    "super_names = [\"Black Widow\", \"Iron Man\", \"Doctor Strange\"]\n",
    "real_names = [\"Natasha Romanoff\", \"Tony Stark\", \"Stephen Strange\"]"
   ]
  },
  {
   "cell_type": "code",
   "execution_count": 8,
   "id": "ab981e8d-0ed4-4aac-81e0-8947d9164eac",
   "metadata": {},
   "outputs": [
    {
     "name": "stdout",
     "output_type": "stream",
     "text": [
      "0: Natasha Romanoff is a Marvel superhero!\n",
      "1: Tony Stark is a Marvel superhero!\n",
      "2: Stephen Strange is a Marvel superhero!\n"
     ]
    }
   ],
   "source": [
    "for count, name in enumerate(real_names):\n",
    "    print(f'{count}: {name} is a Marvel superhero!')"
   ]
  },
  {
   "cell_type": "markdown",
   "id": "b7082fae-5c48-47c2-b9e7-e9ee04cca3dd",
   "metadata": {},
   "source": [
    "- enumerate() as something that keeps count \n",
    "- useful to indicate the index of the element\n",
    "- in the above code, \"count\" and \"name\" are assigned variables where count will keep track of the index and name will keep track the element in the list"
   ]
  },
  {
   "cell_type": "markdown",
   "id": "75e2ec7b-009b-4d1e-a6c1-da65548dcb67",
   "metadata": {},
   "source": [
    "**This is useful when we want to combine more than one list in a f-string**"
   ]
  },
  {
   "cell_type": "code",
   "execution_count": 10,
   "id": "5c635167-8471-41cc-9bca-968e8e168c7b",
   "metadata": {},
   "outputs": [
    {
     "name": "stdout",
     "output_type": "stream",
     "text": [
      "Natasha Romanoff is Black Widow!\n",
      "Tony Stark is Iron Man!\n",
      "Stephen Strange is Doctor Strange!\n"
     ]
    }
   ],
   "source": [
    "for index, name in enumerate(real_names):\n",
    "    superhero_name = super_names[index] # This successfully links the elements in two different list together based on their indexes\n",
    "    print(f'{name} is {superhero_name}!')"
   ]
  },
  {
   "cell_type": "markdown",
   "id": "f92dcaa1-15d6-49f6-8e87-c1a05d20ff66",
   "metadata": {},
   "source": [
    "Although by default, enumerate() starts counting from 0, we can easily change it to start at another value"
   ]
  },
  {
   "cell_type": "code",
   "execution_count": 11,
   "id": "57e49894-04c0-44c3-bc63-463187760019",
   "metadata": {},
   "outputs": [
    {
     "name": "stdout",
     "output_type": "stream",
     "text": [
      "100: Natasha Romanoff is a Marvel superhero!\n",
      "101: Tony Stark is a Marvel superhero!\n",
      "102: Stephen Strange is a Marvel superhero!\n"
     ]
    }
   ],
   "source": [
    "#, 100 indicate to start counting from 100\n",
    "for count, name in enumerate(real_names, 100): \n",
    "    print(f'{count}: {name} is a Marvel superhero!')"
   ]
  },
  {
   "attachments": {},
   "cell_type": "markdown",
   "id": "ad087262",
   "metadata": {},
   "source": [
    "## 1.3 for with range"
   ]
  },
  {
   "cell_type": "markdown",
   "id": "2d276f31-d682-4cad-97f4-22ac018d062e",
   "metadata": {},
   "source": [
    "use range() to get the FOR LOOP to run a **given number of loops**"
   ]
  },
  {
   "cell_type": "code",
   "execution_count": 15,
   "id": "3e2d754a-8c48-4f6f-9a6f-64d671b4c016",
   "metadata": {},
   "outputs": [
    {
     "name": "stdout",
     "output_type": "stream",
     "text": [
      "0\n",
      "1\n",
      "2\n",
      "3\n",
      "4\n"
     ]
    }
   ],
   "source": [
    "for i in range(5): #run 5 loops\n",
    "    print(i)"
   ]
  },
  {
   "cell_type": "code",
   "execution_count": 16,
   "id": "ec367779-1fa8-48ea-b6d0-3012ed8e1885",
   "metadata": {},
   "outputs": [
    {
     "name": "stdout",
     "output_type": "stream",
     "text": [
      "5\n",
      "6\n",
      "7\n",
      "8\n",
      "9\n"
     ]
    }
   ],
   "source": [
    "for i in range(5, 10): #tailor the start and ending\n",
    "    print(i)"
   ]
  },
  {
   "cell_type": "code",
   "execution_count": 18,
   "id": "332b8c0c-2fa9-4736-b69e-063d927d4457",
   "metadata": {},
   "outputs": [
    {
     "name": "stdout",
     "output_type": "stream",
     "text": [
      "1\n",
      "4\n",
      "7\n"
     ]
    }
   ],
   "source": [
    "for i in range(1, 10, 3): #adjust step size,in the multiple of 3\n",
    "    print(i)"
   ]
  },
  {
   "cell_type": "markdown",
   "id": "5776b63a-747d-4440-ae34-fe96a10a2345",
   "metadata": {},
   "source": [
    "- Functions like range() and enumerate() only work with looping structures.\n",
    "- range() always ends one short of the ending number."
   ]
  },
  {
   "cell_type": "code",
   "execution_count": 19,
   "id": "2748b122-960f-4b98-b347-6b8d445c2479",
   "metadata": {},
   "outputs": [
    {
     "name": "stdout",
     "output_type": "stream",
     "text": [
      "Natasha Romanoff is Marvel's Black Widow!\n",
      "Tony Stark is Marvel's Iron Man!\n",
      "Stephen Strange is Marvel's Doctor Strange!\n"
     ]
    }
   ],
   "source": [
    "for i in range(len(real_names)): #len() means the size of the list\n",
    "    real_name = real_names[i]\n",
    "    super_name = super_names[i]        \n",
    "    print(f\"{real_name} is Marvel's {super_name}!\")"
   ]
  },
  {
   "attachments": {},
   "cell_type": "markdown",
   "id": "abf44d1a",
   "metadata": {},
   "source": [
    "# 2 while"
   ]
  },
  {
   "cell_type": "code",
   "execution_count": 21,
   "id": "374fbb22-23e9-4f31-8faa-29f3a338c35d",
   "metadata": {},
   "outputs": [
    {
     "name": "stdout",
     "output_type": "stream",
     "text": [
      "0\n",
      "1\n",
      "2\n",
      "3\n",
      "4\n"
     ]
    }
   ],
   "source": [
    "number = 0\n",
    "\n",
    "while number < 5:\n",
    "    print(number)\n",
    "    number += 1 \n",
    "#The loop will terminate after 4 as adding another 1 will cause the condition to become false"
   ]
  },
  {
   "cell_type": "markdown",
   "id": "826a5a62-e995-441e-8579-5b0c7789015f",
   "metadata": {},
   "source": [
    "- A WHILE LOOP will keep on running when the condition is TRUE\n",
    "- We do not need to know how many iterations are needed. "
   ]
  }
 ],
 "metadata": {
  "kernelspec": {
   "display_name": "Python 3 (ipykernel)",
   "language": "python",
   "name": "python3"
  },
  "language_info": {
   "codemirror_mode": {
    "name": "ipython",
    "version": 3
   },
   "file_extension": ".py",
   "mimetype": "text/x-python",
   "name": "python",
   "nbconvert_exporter": "python",
   "pygments_lexer": "ipython3",
   "version": "3.9.13"
  },
  "toc": {
   "base_numbering": 1,
   "nav_menu": {},
   "number_sections": true,
   "sideBar": true,
   "skip_h1_title": false,
   "title_cell": "Table of Contents",
   "title_sidebar": "Contents",
   "toc_cell": false,
   "toc_position": {},
   "toc_section_display": true,
   "toc_window_display": false
  },
  "vscode": {
   "interpreter": {
    "hash": "31f2aee4e71d21fbe5cf8b01ff0e069b9275f58929596ceb00d14d90e3e16cd6"
   }
  }
 },
 "nbformat": 4,
 "nbformat_minor": 5
}
