{
 "cells": [
  {
   "attachments": {},
   "cell_type": "markdown",
   "id": "123456",
   "metadata": {},
   "source": [
    "<div style=\"text-align:left;font-size:2em\"><span style=\"font-weight:bolder;font-size:1.25em\">SP2273 | Learning Portfolio</span><br><br><span style=\"font-weight:bold;color:darkred\">Storing Data (Good) Exercises</span></div>"
   ]
  },
  {
   "cell_type": "markdown",
   "id": "4ff13525-80d5-4544-a9b4-ff1f301047c2",
   "metadata": {},
   "source": [
    "### Exercise 1 (Total Recall)"
   ]
  },
  {
   "cell_type": "markdown",
   "id": "4bb39247-7f81-434e-b3e9-78c124271c54",
   "metadata": {},
   "source": [
    "Purely from memory, write short descriptions of the following terms:"
   ]
  },
  {
   "cell_type": "markdown",
   "id": "ef261952-f96c-4297-a6d7-337e01a2376d",
   "metadata": {},
   "source": [
    "| Term       | Brief Description                                |\n",
    "| :----------: | :------------------------------------------------: |\n",
    "| Subsetting | Select elements from arrays or lists             |\n",
    "| Indexing   | Select ONE element from arrays or lists          |\n",
    "| Slicing    | Select a SUBSET of elements from arrays or lists |\n",
    "| Masking    | Only applicable for arrays. Similar to Slicing   |"
   ]
  },
  {
   "cell_type": "markdown",
   "id": "1300c5fa-c8fe-4c33-b7d2-f308deb05816",
   "metadata": {},
   "source": [
    "### Exercise 2 (Show me the 'odd' letters)"
   ]
  },
  {
   "cell_type": "code",
   "execution_count": 2,
   "id": "eadc59d5-f238-4a66-a102-5287b657c1b3",
   "metadata": {},
   "outputs": [],
   "source": [
    "import numpy as np"
   ]
  },
  {
   "cell_type": "code",
   "execution_count": 3,
   "id": "ec8950c1-9d44-4a49-b40e-3b929f0622de",
   "metadata": {},
   "outputs": [],
   "source": [
    "np_array_2d = np.array([[1, \"A\"], [3, \"C\"], [2, \"B\"], [4, \"D\"],\n",
    "                        [5, \"E\"], [7, \"G\"], [6, \"F\"], [8, \"H\"],\n",
    "                        [10, \"J\"], [9, \"I\"]])"
   ]
  },
  {
   "cell_type": "markdown",
   "id": "954a440b-531c-49dc-9837-c7b2a9e7490b",
   "metadata": {},
   "source": [
    "Use masking to subset the letters that correspond to the odd numbers. I.e., get the result [A, C, E, G, I]."
   ]
  },
  {
   "cell_type": "markdown",
   "id": "a1c00930-7cc2-45a3-8f08-cd8034fef791",
   "metadata": {},
   "source": [
    "<font color='green'> \n",
    "    \n",
    "**Guide**\n",
    "\n",
    "1. Subset all the first elements.\n",
    "- You should get array(['1', '3', '2', ..., '10', '9'])\n",
    "  \n",
    "2. Convert this to integers using astype(int)\n",
    "- You must look up how astype() works.\n",
    "  \n",
    "3. Use % to get the remainder for division by 2.\n",
    "- You should get array([1, 1, 0, ..., 0, 1]).\n",
    "  \n",
    "4. Use the previous result to create a mask that checks if the remainder is zero or not\n",
    "- You should get array([True, True, False, ..., False, True]).\n",
    "  \n",
    "5. Now you have identified the locations of the odd numbers.\n",
    "- Use the mask and extract the corresponding second elements.\n",
    "</font>"
   ]
  },
  {
   "cell_type": "code",
   "execution_count": 4,
   "id": "c3c0015e-e0be-4b5c-9988-985541dc6443",
   "metadata": {},
   "outputs": [
    {
     "data": {
      "text/plain": [
       "array(['1', '3', '2', '4', '5', '7', '6', '8', '10', '9'], dtype='<U11')"
      ]
     },
     "execution_count": 4,
     "metadata": {},
     "output_type": "execute_result"
    }
   ],
   "source": [
    "np_numbers=np_array_2d[:, 0]\n",
    "np_numbers"
   ]
  },
  {
   "cell_type": "code",
   "execution_count": 5,
   "id": "9855e2eb-5876-407b-953c-9e768bbb86bc",
   "metadata": {},
   "outputs": [
    {
     "data": {
      "text/plain": [
       "array([ 1,  3,  2,  4,  5,  7,  6,  8, 10,  9])"
      ]
     },
     "execution_count": 5,
     "metadata": {},
     "output_type": "execute_result"
    }
   ],
   "source": [
    "# Astype() will create a new DataFrame where the data types has been changed to the specified type.\n",
    "np_numbers=np_numbers.astype(int) \n",
    "np_numbers\n",
    "# using .astype() is more useful that int(str) because int(str) can only change one element at a time"
   ]
  },
  {
   "cell_type": "code",
   "execution_count": 6,
   "id": "58ff2e2f-d585-45d8-a1f7-a0dcdd3ffe08",
   "metadata": {},
   "outputs": [
    {
     "data": {
      "text/plain": [
       "array([1, 1, 0, 0, 1, 1, 0, 0, 0, 1], dtype=int32)"
      ]
     },
     "execution_count": 6,
     "metadata": {},
     "output_type": "execute_result"
    }
   ],
   "source": [
    "np_numbers=np_numbers%2\n",
    "np_numbers      #odd numbers shows 1 (true)"
   ]
  },
  {
   "cell_type": "code",
   "execution_count": 7,
   "id": "c81c0ad5-9d29-41cb-a519-8a1ef9bb9001",
   "metadata": {},
   "outputs": [
    {
     "data": {
      "text/plain": [
       "array([ True,  True, False, False,  True,  True, False, False, False,\n",
       "        True])"
      ]
     },
     "execution_count": 7,
     "metadata": {},
     "output_type": "execute_result"
    }
   ],
   "source": [
    "np_numbers == 1"
   ]
  },
  {
   "cell_type": "code",
   "execution_count": 10,
   "id": "738e8b38-02c0-4fed-9da2-ccaadb1efad0",
   "metadata": {},
   "outputs": [
    {
     "data": {
      "text/plain": [
       "5"
      ]
     },
     "execution_count": 10,
     "metadata": {},
     "output_type": "execute_result"
    }
   ],
   "source": [
    "np_numbers.sum() #not sure whether this is a form of masking, but looks like it works!"
   ]
  }
 ],
 "metadata": {
  "kernelspec": {
   "display_name": "Python 3 (ipykernel)",
   "language": "python",
   "name": "python3"
  },
  "language_info": {
   "codemirror_mode": {
    "name": "ipython",
    "version": 3
   },
   "file_extension": ".py",
   "mimetype": "text/x-python",
   "name": "python",
   "nbconvert_exporter": "python",
   "pygments_lexer": "ipython3",
   "version": "3.9.13"
  },
  "toc": {
   "base_numbering": 1,
   "nav_menu": {},
   "number_sections": true,
   "sideBar": true,
   "skip_h1_title": false,
   "title_cell": "Table of Contents",
   "title_sidebar": "Contents",
   "toc_cell": false,
   "toc_position": {},
   "toc_section_display": true,
   "toc_window_display": false
  },
  "vscode": {
   "interpreter": {
    "hash": "31f2aee4e71d21fbe5cf8b01ff0e069b9275f58929596ceb00d14d90e3e16cd6"
   }
  }
 },
 "nbformat": 4,
 "nbformat_minor": 5
}
