{
 "cells": [
  {
   "attachments": {},
   "cell_type": "markdown",
   "id": "123456",
   "metadata": {},
   "source": [
    "<div style=\"text-align:left;font-size:2em\"><span style=\"font-weight:bolder;font-size:1.25em\">SP2273 | Learning Portfolio</span><br><br><span style=\"font-weight:bold;color:darkred\">Storing Data (Need) Exercises</span></div>"
   ]
  },
  {
   "cell_type": "markdown",
   "id": "22a5e249-b712-49c4-abed-aa05dd55c52e",
   "metadata": {},
   "source": [
    "### Excersie 1 (Total Recall)"
   ]
  },
  {
   "cell_type": "markdown",
   "id": "4a900f61-6504-4cac-9023-5988b094f51d",
   "metadata": {},
   "source": [
    "**Two similarities between lists and arrays**"
   ]
  },
  {
   "cell_type": "markdown",
   "id": "49e8c275-4321-467e-949d-89572f8bef33",
   "metadata": {},
   "source": [
    "1. List and array can store a list of data\n",
    "1. List and array can store data in 1-demensional form or 2-dimensional form. "
   ]
  },
  {
   "cell_type": "markdown",
   "id": "dccd4351-ecda-49d7-bf3d-6fa2f074fccc",
   "metadata": {},
   "source": [
    "**Two differences betwen lists and arrays**"
   ]
  },
  {
   "cell_type": "markdown",
   "id": "5fc58883-3df5-489a-981e-670db9c0fb34",
   "metadata": {},
   "source": [
    "1. When running a mathematical operation, the operation will work on the whole list (for example, increasing the size of the list). In contrast, operation on array can work on each individual element of the array.\n",
    "2. Lists can store multiple types of data (strings/integer) while arrays can only store one type of data (either integer or string)"
   ]
  },
  {
   "cell_type": "markdown",
   "id": "53be0c8f-8c81-4b25-b886-12ff8d089a2b",
   "metadata": {},
   "source": [
    "**What is a dictionary?**"
   ]
  },
  {
   "cell_type": "markdown",
   "id": "0f468c74-03dc-49b0-ba31-11862961393a",
   "metadata": {},
   "source": [
    "1. have key-value structure. For example, when you input the key, you can call out the corresponding value from the dictionary\n",
    "1. can very elegantly holds key and its associated value in one structure."
   ]
  },
  {
   "cell_type": "markdown",
   "id": "689725b1-356d-44b8-bd21-ab90f02c464b",
   "metadata": {},
   "source": [
    "### Exercise 2 (Indexing)"
   ]
  },
  {
   "cell_type": "markdown",
   "id": "ca6bcdfb-e84b-499f-b869-e98e36c187a1",
   "metadata": {},
   "source": [
    "Modify the following code to print out all elements with an odd number. "
   ]
  },
  {
   "cell_type": "code",
   "execution_count": 2,
   "id": "c2af9d25-3aa9-45f5-8209-b3c9fef86b4d",
   "metadata": {},
   "outputs": [
    {
     "name": "stdout",
     "output_type": "stream",
     "text": [
      "i9\n"
     ]
    }
   ],
   "source": [
    "py_list = [\"a1\", \"b2\", \"c3\", \"d4\", \"e5\", \"f6\", \"g7\", \"h8\", \"i9\", \"j10\"]\n",
    "                    # Prints 'a1'\n",
    "                    # Prints 'c3'\n",
    "                    # Prints 'e5'\n",
    "                    # Prints 'g7'\n",
    "print(py_list[8])   # Prints 'i9'"
   ]
  },
  {
   "cell_type": "code",
   "execution_count": 3,
   "id": "b7b2ab53-5f2b-4616-8e0b-6bd9d035d900",
   "metadata": {},
   "outputs": [
    {
     "name": "stdout",
     "output_type": "stream",
     "text": [
      "a1\n"
     ]
    }
   ],
   "source": [
    "print(py_list[0])"
   ]
  },
  {
   "cell_type": "code",
   "execution_count": 4,
   "id": "6a814be7-f38a-460d-82d3-500201647a47",
   "metadata": {},
   "outputs": [
    {
     "name": "stdout",
     "output_type": "stream",
     "text": [
      "c3\n"
     ]
    }
   ],
   "source": [
    "print(py_list[2])"
   ]
  },
  {
   "cell_type": "code",
   "execution_count": 6,
   "id": "3945e11c-e661-4c45-812d-262f124d45ee",
   "metadata": {},
   "outputs": [
    {
     "name": "stdout",
     "output_type": "stream",
     "text": [
      "e5\n"
     ]
    }
   ],
   "source": [
    "print(py_list[4])"
   ]
  },
  {
   "cell_type": "code",
   "execution_count": 7,
   "id": "64d4021e-3ff2-464a-81c6-018809b9b536",
   "metadata": {},
   "outputs": [
    {
     "name": "stdout",
     "output_type": "stream",
     "text": [
      "g7\n"
     ]
    }
   ],
   "source": [
    "print(py_list[6])"
   ]
  },
  {
   "cell_type": "markdown",
   "id": "4574d30d-9c06-4093-97ab-bd3aeb4add50",
   "metadata": {},
   "source": [
    "### Exercise 3 (Indexing again)"
   ]
  },
  {
   "cell_type": "markdown",
   "id": "fd7f6d44-203b-4ca8-b41e-9edfe280cab1",
   "metadata": {},
   "source": [
    "Given the following list in Python:"
   ]
  },
  {
   "cell_type": "code",
   "execution_count": 10,
   "id": "173abb32-a51b-4df9-a876-938127c8d70c",
   "metadata": {},
   "outputs": [],
   "source": [
    "elements = ['Hydrogen',\n",
    "            'Helium', 'Lithium',\n",
    "            'Beryllium', 'Boron', 'Carbon',\n",
    "            'Nitrogen', 'Oxygen',\n",
    "            'Fluorine',\n",
    "            'Neon']"
   ]
  },
  {
   "cell_type": "markdown",
   "id": "526fb7ec-3c41-4ad3-8fa4-92f78864f50a",
   "metadata": {},
   "source": [
    "Access and print the element at index 4 using forward indexing."
   ]
  },
  {
   "cell_type": "code",
   "execution_count": 11,
   "id": "315b689c-9e88-415b-bac9-2035f96a87af",
   "metadata": {},
   "outputs": [
    {
     "name": "stdout",
     "output_type": "stream",
     "text": [
      "Boron\n"
     ]
    }
   ],
   "source": [
    "print(elements[4])"
   ]
  },
  {
   "cell_type": "markdown",
   "id": "847a369d-05bf-452d-9298-2fae914b934c",
   "metadata": {},
   "source": [
    "Access and print the element at index 4 from the end of the list using reverse indexing."
   ]
  },
  {
   "cell_type": "code",
   "execution_count": 12,
   "id": "3bdecea1-f6aa-4d95-929e-dca7a29ec90a",
   "metadata": {},
   "outputs": [
    {
     "name": "stdout",
     "output_type": "stream",
     "text": [
      "Boron\n"
     ]
    }
   ],
   "source": [
    "print(elements[-6])"
   ]
  },
  {
   "cell_type": "markdown",
   "id": "22b57aad-33d5-45b6-ba0d-9a19fbeb97c5",
   "metadata": {},
   "source": [
    "### Exercise 4 (How many ones)"
   ]
  },
  {
   "cell_type": "markdown",
   "id": "b047743c-a7d2-4426-b18d-d6b6d55cedec",
   "metadata": {},
   "source": [
    "Use the concepts you learned in this chapter to determine the number of 1’s in the following list of numbers."
   ]
  },
  {
   "cell_type": "code",
   "execution_count": 13,
   "id": "6a10bc1f-f614-4c54-a42f-2f8fa0da0f99",
   "metadata": {},
   "outputs": [],
   "source": [
    "numbers=[45, 60, 1, 30, 96, 1, 96, 57, 16, 1,\n",
    "        99, 62, 86, 43, 42, 60, 59, 1, 1, 35,\n",
    "        83, 47, 34, 28, 68, 23, 22, 92, 1, 79,\n",
    "        1, 29, 94, 72, 46, 47, 1, 74, 32, 20,\n",
    "        8, 37, 35, 1, 89, 29, 86, 19, 43, 61]                  "
   ]
  },
  {
   "cell_type": "code",
   "execution_count": 17,
   "id": "746e2c35-e8d5-4c7b-a96b-0b1d7b2fe59f",
   "metadata": {},
   "outputs": [],
   "source": [
    "import numpy as np\n",
    "np_numbers=np.array(numbers)"
   ]
  },
  {
   "cell_type": "code",
   "execution_count": 18,
   "id": "78853fa4-1dfd-4aed-b551-14251458e542",
   "metadata": {},
   "outputs": [
    {
     "data": {
      "text/plain": [
       "array([False, False,  True, False, False,  True, False, False, False,\n",
       "        True, False, False, False, False, False, False, False,  True,\n",
       "        True, False, False, False, False, False, False, False, False,\n",
       "       False,  True, False,  True, False, False, False, False, False,\n",
       "        True, False, False, False, False, False, False,  True, False,\n",
       "       False, False, False, False, False])"
      ]
     },
     "execution_count": 18,
     "metadata": {},
     "output_type": "execute_result"
    }
   ],
   "source": [
    "np_numbers == 1"
   ]
  },
  {
   "cell_type": "code",
   "execution_count": 20,
   "id": "204962fe-01db-4f4a-8646-c3a38a416582",
   "metadata": {},
   "outputs": [
    {
     "data": {
      "text/plain": [
       "9"
      ]
     },
     "execution_count": 20,
     "metadata": {},
     "output_type": "execute_result"
    }
   ],
   "source": [
    "sum(np_numbers==1) #since false=0 and true=1"
   ]
  },
  {
   "cell_type": "code",
   "execution_count": null,
   "id": "0976497f-34b8-4a9d-bd13-d4b38c7ca0e0",
   "metadata": {},
   "outputs": [],
   "source": []
  }
 ],
 "metadata": {
  "kernelspec": {
   "display_name": "Python 3 (ipykernel)",
   "language": "python",
   "name": "python3"
  },
  "language_info": {
   "codemirror_mode": {
    "name": "ipython",
    "version": 3
   },
   "file_extension": ".py",
   "mimetype": "text/x-python",
   "name": "python",
   "nbconvert_exporter": "python",
   "pygments_lexer": "ipython3",
   "version": "3.9.13"
  },
  "toc": {
   "base_numbering": 1,
   "nav_menu": {},
   "number_sections": true,
   "sideBar": true,
   "skip_h1_title": false,
   "title_cell": "Table of Contents",
   "title_sidebar": "Contents",
   "toc_cell": false,
   "toc_position": {},
   "toc_section_display": true,
   "toc_window_display": false
  },
  "vscode": {
   "interpreter": {
    "hash": "31f2aee4e71d21fbe5cf8b01ff0e069b9275f58929596ceb00d14d90e3e16cd6"
   }
  }
 },
 "nbformat": 4,
 "nbformat_minor": 5
}
