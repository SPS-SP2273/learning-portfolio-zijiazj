{
 "cells": [
  {
   "attachments": {},
   "cell_type": "markdown",
   "id": "123456",
   "metadata": {},
   "source": [
    "<div style=\"text-align:left;font-size:2em\"><span style=\"font-weight:bolder;font-size:1.25em\">SP2273 | Learning Portfolio</span><br><br><span style=\"font-weight:bold;color:darkred\">Storing Data (Good)</span></div>"
   ]
  },
  {
   "attachments": {},
   "cell_type": "markdown",
   "id": "d5ac0b56",
   "metadata": {},
   "source": [
    "# What to expect in this chapter"
   ]
  },
  {
   "cell_type": "markdown",
   "id": "df809800-1265-4507-b11c-169001515208",
   "metadata": {},
   "source": [
    "- more details on accessing and modifying lists, arrays and dictionaries.\n",
    "- better understanding of the differences and similarities between lists, NumPy arrays and dictionaries."
   ]
  },
  {
   "attachments": {},
   "cell_type": "markdown",
   "id": "11982dc0",
   "metadata": {},
   "source": [
    "# 1 Subsetting: Indexing and Slicing"
   ]
  },
  {
   "cell_type": "markdown",
   "id": "66c2b952-f0f2-4fc0-aa8e-761386283186",
   "metadata": {},
   "source": [
    "- to select a subset of the data from lists and arrays is called **subsetting**\n",
    "- **indexing** is also a form of subsetting, by selecting only one element.\n",
    "- **slicing** is to select a range of elements."
   ]
  },
  {
   "attachments": {},
   "cell_type": "markdown",
   "id": "f9017968",
   "metadata": {},
   "source": [
    "## 1.1 Lists & Arrays in 1D | Subsetting & Indexing"
   ]
  },
  {
   "cell_type": "markdown",
   "id": "e085ab1f-4966-4265-a14d-9910982d48b9",
   "metadata": {},
   "source": [
    "Since slicing gives us a range of elements, we must **specify two indices to indicate where to start and end**. The various syntaxes for these are shown in the table below.\n",
    "\n",
    "The following applies to **both lists and arrays**."
   ]
  },
  {
   "cell_type": "code",
   "execution_count": 1,
   "id": "c66d63fa-4cdc-4e1a-9d78-b949b77d2ada",
   "metadata": {},
   "outputs": [],
   "source": [
    "import numpy as np"
   ]
  },
  {
   "cell_type": "code",
   "execution_count": 2,
   "id": "776d3599-a4ec-47ce-97b1-fefa8f618a20",
   "metadata": {},
   "outputs": [],
   "source": [
    "py_list=[\"a1\", \"b2\", \"c3\", \"d4\", \"e5\",\n",
    "         \"f6\", \"g7\", \"h8\", \"i9\", \"j10\"]\n",
    "np_array=np.array(py_list)\n",
    "\n",
    "# Pick one\n",
    "x = py_list  # OR\n",
    "x = np_array"
   ]
  },
  {
   "cell_type": "markdown",
   "id": "3157d4dc-63b9-47df-9efe-55e8b1e0f69f",
   "metadata": {},
   "source": [
    "| Syntax    | Result                     | Display                         | Note                                |\n",
    "| :---------:| :-------------------------- | :-------------------------------: | :-----------------------------------: |\n",
    "| x[0]      | First element              | 'a'                             |                                     |\n",
    "| x[-1]     | Last element               | 'j10'                           |                                     |\n",
    "| x[0:3]    | Index 0 to 2               | ['a1', 'b2', 'c3']              | Gives 3-0=3 elements                |\n",
    "| x[1:6]    | Index 1 to 5               | ['b2', 'c3', 'd4', 'e5', 'f6']  |  Gives 6-1=5 elements               |\n",
    "| x[1:6:2]  | Index 1 to 5 in steps of 2 | ['b2', 'd4', 'f6']              | Gives every other of 6-1=5 elements |\n",
    "| x[5:]     | Index 5 to the end         | ['f6', 'g7', 'h8', 'i9', 'j10'] | Gives len(x)-5=10-5=5 elements      |\n",
    "| x[:5]     | Index 0 to 5               | ['a1', 'b2', 'c3', 'd4', 'e5']  | Gives 5-0=0 elements                |\n",
    "| x[5:2:-1] | Index 5 to 3 in reverse    | ['j6', 'e5', 'd4']              | Gives 5-2=3 elements                |\n",
    "| x[::-1]   | Reverse the list           | ['j10', 'i9', 'h8',...'a1']     |                                     |"
   ]
  },
  {
   "cell_type": "markdown",
   "id": "371d705d-df79-4e46-a8a4-77e10a29fd46",
   "metadata": {},
   "source": [
    "### Remember"
   ]
  },
  {
   "cell_type": "markdown",
   "id": "a41c105d-fc77-410d-b801-44d5c7c685fc",
   "metadata": {},
   "source": [
    "If you slice with [a:b], the slice will start at a end at b with a total of b-a number of elements. "
   ]
  },
  {
   "attachments": {},
   "cell_type": "markdown",
   "id": "1df0377c",
   "metadata": {},
   "source": [
    "## 1.2 Arrays only | Subsetting by masking"
   ]
  },
  {
   "cell_type": "code",
   "execution_count": 3,
   "id": "a7a5d383-011c-4916-8a2f-765dd88e1391",
   "metadata": {},
   "outputs": [
    {
     "data": {
      "text/plain": [
       "array([False, False, False,  True,  True,  True,  True,  True,  True,\n",
       "        True])"
      ]
     },
     "execution_count": 3,
     "metadata": {},
     "output_type": "execute_result"
    }
   ],
   "source": [
    "np_array = np.array([1, 2, 3, 4, 5, 6, 7, 8, 9, 10])\n",
    "my_mask = np_array > 3\n",
    "my_mask #LESS than or EQUAL to 3 is FALSE, MORE than is TRUE]"
   ]
  },
  {
   "cell_type": "code",
   "execution_count": 4,
   "id": "532367f0-e696-4cd6-be43-bfe6fee736bb",
   "metadata": {},
   "outputs": [
    {
     "data": {
      "text/plain": [
       "array([False, False, False,  True,  True,  True,  True,  True,  True,\n",
       "        True])"
      ]
     },
     "execution_count": 4,
     "metadata": {},
     "output_type": "execute_result"
    }
   ],
   "source": [
    "np_array = np.array([1, 2, 3, 4, 5, 6, 7, 8, 9, 10])\n",
    "my_mask = np_array > 3\n",
    "my_mask #LESS than or EQUAL to 3 is FALSE, MORE than is TRUE]"
   ]
  },
  {
   "cell_type": "code",
   "execution_count": 5,
   "id": "08251835-3914-4521-aa72-e858074ba627",
   "metadata": {},
   "outputs": [
    {
     "data": {
      "text/plain": [
       "array([ 4,  5,  6,  7,  8,  9, 10])"
      ]
     },
     "execution_count": 5,
     "metadata": {},
     "output_type": "execute_result"
    }
   ],
   "source": [
    "np_array[my_mask] # the FALSE elements are not included in the new array (FALSE elements have been MASKED)"
   ]
  },
  {
   "cell_type": "markdown",
   "id": "539d7041-bf13-4584-9682-cbf3d5e17c47",
   "metadata": {},
   "source": [
    "**Subset masking only works with NumPy arrays**\n"
   ]
  },
  {
   "cell_type": "code",
   "execution_count": 6,
   "id": "577bc7bc-ce51-428b-b91c-d1816c8d31f2",
   "metadata": {},
   "outputs": [
    {
     "data": {
      "text/plain": [
       "array([ 4,  5,  6,  7,  8,  9, 10])"
      ]
     },
     "execution_count": 6,
     "metadata": {},
     "output_type": "execute_result"
    }
   ],
   "source": [
    "# or we can achieve the same result more succinctly\n",
    "np_array[np_array > 3]"
   ]
  },
  {
   "cell_type": "code",
   "execution_count": 7,
   "id": "55105ec4-1555-4e31-86f7-5b920b8015b9",
   "metadata": {},
   "outputs": [
    {
     "data": {
      "text/plain": [
       "array([1, 2, 3])"
      ]
     },
     "execution_count": 7,
     "metadata": {},
     "output_type": "execute_result"
    }
   ],
   "source": [
    "# or you can inver the mask with ~\n",
    "#~ means NO\n",
    "np_array[~(np_array>3)]"
   ]
  },
  {
   "cell_type": "markdown",
   "id": "2c9d9a07-2901-446f-bea6-56b2b3611add",
   "metadata": {},
   "source": [
    "<font color='blue'> ~ is called the **Bitwise Not** operator. </font>"
   ]
  },
  {
   "cell_type": "code",
   "execution_count": 8,
   "id": "f28de0d1-3f65-40d6-bb25-d0f4635e72e2",
   "metadata": {},
   "outputs": [
    {
     "data": {
      "text/plain": [
       "array([4, 5, 6, 7])"
      ]
     },
     "execution_count": 8,
     "metadata": {},
     "output_type": "execute_result"
    }
   ],
   "source": [
    "# combining one mask with another mask\n",
    "# Both mask must have true\n",
    "np_array[(np_array > 3) & (np_array < 8)] # '&' means 'AND'"
   ]
  },
  {
   "cell_type": "markdown",
   "id": "51b43055-e842-4bb9-92c9-6ff87cfeac3b",
   "metadata": {},
   "source": [
    "<font color='blue'> & is called the **Bitwise AND** operator. </font>"
   ]
  },
  {
   "cell_type": "code",
   "execution_count": 9,
   "id": "9bfffbca-9f63-4269-96b7-4694ab273dfd",
   "metadata": {},
   "outputs": [
    {
     "data": {
      "text/plain": [
       "array([ 1,  2,  9, 10])"
      ]
     },
     "execution_count": 9,
     "metadata": {},
     "output_type": "execute_result"
    }
   ],
   "source": [
    "#Combine one mask or another mask\n",
    "#as long as one mask have true \n",
    "np_array[(np_array < 3) | (np_array > 8)] # '|' means 'OR'"
   ]
  },
  {
   "attachments": {},
   "cell_type": "markdown",
   "id": "3ff98ec1",
   "metadata": {},
   "source": [
    "## 1.3 Lists & Arrays in 2D | Indexing & Slicing"
   ]
  },
  {
   "cell_type": "markdown",
   "id": "f53cc9d9-0a19-4e22-a5a4-f45910d384cb",
   "metadata": {},
   "source": [
    "The **differences between lists and arrays** become even **more apparent with higher dimensional lists and arrays**. Especially when you try **indexing and slicing in higher dimensions**.\n",
    "\n",
    "Let’s consider the following 2D list."
   ]
  },
  {
   "cell_type": "code",
   "execution_count": 10,
   "id": "0eba7fcf-55f9-49d7-9370-6d376d198e31",
   "metadata": {},
   "outputs": [],
   "source": [
    "py_list_2d = [[1, \"A\"], [2, \"B\"], [3, \"C\"], [4, \"D\"],\n",
    "              [5, \"E\"], [6, \"F\"], [7, \"G\"], [8, \"H\"],\n",
    "              [9, \"I\"], [10, \"J\"]]\n",
    "\n",
    "np_array_2d = np.array(py_list_2d)"
   ]
  },
  {
   "cell_type": "markdown",
   "id": "be3873c1-87cb-4012-a03a-bd757ac99980",
   "metadata": {},
   "source": [
    "**What is at Index 3 (position 4)?**"
   ]
  },
  {
   "cell_type": "code",
   "execution_count": 11,
   "id": "f85c2546-e17e-4cdb-a75f-6351c8cfa5b4",
   "metadata": {},
   "outputs": [
    {
     "data": {
      "text/plain": [
       "[4, 'D']"
      ]
     },
     "execution_count": 11,
     "metadata": {},
     "output_type": "execute_result"
    }
   ],
   "source": [
    "py_list_2d[3]"
   ]
  },
  {
   "cell_type": "code",
   "execution_count": 12,
   "id": "4308d26f-6d0a-457d-868a-46d2a2a59e40",
   "metadata": {},
   "outputs": [
    {
     "data": {
      "text/plain": [
       "array(['4', 'D'], dtype='<U11')"
      ]
     },
     "execution_count": 12,
     "metadata": {},
     "output_type": "execute_result"
    }
   ],
   "source": [
    "np_array_2d[3]"
   ]
  },
  {
   "cell_type": "markdown",
   "id": "98c82264-f341-4a38-95e4-b1b48a95094c",
   "metadata": {},
   "source": [
    "**What is the FIRST element at Index 3 (position 4)?**\n",
    "\n",
    "Both have different syntax"
   ]
  },
  {
   "cell_type": "code",
   "execution_count": 13,
   "id": "456b815c-d718-4c04-8fb8-a7133b80b85b",
   "metadata": {},
   "outputs": [
    {
     "data": {
      "text/plain": [
       "4"
      ]
     },
     "execution_count": 13,
     "metadata": {},
     "output_type": "execute_result"
    }
   ],
   "source": [
    "py_list_2d[3][0]"
   ]
  },
  {
   "cell_type": "code",
   "execution_count": 14,
   "id": "bf77cdf9-669c-4e44-860f-3efe17f077fa",
   "metadata": {},
   "outputs": [
    {
     "data": {
      "text/plain": [
       "'4'"
      ]
     },
     "execution_count": 14,
     "metadata": {},
     "output_type": "execute_result"
    }
   ],
   "source": [
    "np_array_2d[3,0] #only need a single pair of []"
   ]
  },
  {
   "cell_type": "markdown",
   "id": "a60eb672-7aaf-4b4d-8b99-87316d905442",
   "metadata": {},
   "source": [
    "**What are the FIRST THREE position?**"
   ]
  },
  {
   "cell_type": "code",
   "execution_count": 15,
   "id": "cbfc985b-196f-401d-8e51-932b5759c1f4",
   "metadata": {},
   "outputs": [
    {
     "data": {
      "text/plain": [
       "[[1, 'A'], [2, 'B'], [3, 'C']]"
      ]
     },
     "execution_count": 15,
     "metadata": {},
     "output_type": "execute_result"
    }
   ],
   "source": [
    "py_list_2d[:3]"
   ]
  },
  {
   "cell_type": "code",
   "execution_count": 16,
   "id": "8b81ea1b-a344-4e19-a062-1480d53d61bf",
   "metadata": {},
   "outputs": [
    {
     "data": {
      "text/plain": [
       "array([['1', 'A'],\n",
       "       ['2', 'B'],\n",
       "       ['3', 'C']], dtype='<U11')"
      ]
     },
     "execution_count": 16,
     "metadata": {},
     "output_type": "execute_result"
    }
   ],
   "source": [
    "np_array_2d[:3]"
   ]
  },
  {
   "cell_type": "markdown",
   "id": "558f8660-7863-4327-a5a8-9969eb74617b",
   "metadata": {},
   "source": [
    "**What are the FIRST ELEMENTS of the first three position?**"
   ]
  },
  {
   "cell_type": "code",
   "execution_count": 17,
   "id": "496436f8-7f40-4457-93e0-6e51d10a6d87",
   "metadata": {},
   "outputs": [
    {
     "data": {
      "text/plain": [
       "[1, 'A']"
      ]
     },
     "execution_count": 17,
     "metadata": {},
     "output_type": "execute_result"
    }
   ],
   "source": [
    "# this does not work anymore as it only shows the first position\n",
    "py_list_2d[:3][0]\n"
   ]
  },
  {
   "cell_type": "code",
   "execution_count": 18,
   "id": "389dcb8b-cd39-4456-988a-9a759de962b2",
   "metadata": {},
   "outputs": [
    {
     "data": {
      "text/plain": [
       "array(['1', '2', '3'], dtype='<U11')"
      ]
     },
     "execution_count": 18,
     "metadata": {},
     "output_type": "execute_result"
    }
   ],
   "source": [
    "np_array_2d[:3, 0] # this works"
   ]
  },
  {
   "cell_type": "code",
   "execution_count": 34,
   "id": "8a9511a4-474d-4dd7-89b7-b6597ab455a0",
   "metadata": {},
   "outputs": [
    {
     "data": {
      "text/plain": [
       "[4, 'D']"
      ]
     },
     "execution_count": 34,
     "metadata": {},
     "output_type": "execute_result"
    }
   ],
   "source": [
    "py_list_2d[3:6][0] # does not work as expected\n"
   ]
  },
  {
   "cell_type": "code",
   "execution_count": 36,
   "id": "35058ffc-262b-41d9-bde4-c894b7cdd215",
   "metadata": {},
   "outputs": [
    {
     "name": "stdout",
     "output_type": "stream",
     "text": [
      "[1, 2, 3, 4, 5, 6, 7, 8, 9, 10]\n"
     ]
    }
   ],
   "source": [
    "first_elements = [sublist[0] for sublist in py_list_2d]\n",
    "print(first_elements)\n",
    "#to list out all the first elements in the list"
   ]
  },
  {
   "cell_type": "code",
   "execution_count": 39,
   "id": "5a3d6ecb-8864-4677-9abd-82bc7026db0f",
   "metadata": {},
   "outputs": [
    {
     "name": "stdout",
     "output_type": "stream",
     "text": [
      "[1, 2, 3, 4, 5, 6, 7, 8, 9, 10]\n"
     ]
    }
   ],
   "source": [
    "first_elements = []\n",
    "for sublist in py_list_2d:\n",
    "    first_elements.append(sublist[0])\n",
    "print(first_elements)\n",
    "#another way to print out all the first elements in the list"
   ]
  },
  {
   "cell_type": "code",
   "execution_count": 20,
   "id": "1e39fd95-0efe-4085-997c-0fe2588e7eb3",
   "metadata": {},
   "outputs": [
    {
     "data": {
      "text/plain": [
       "array(['4', '5', '6'], dtype='<U11')"
      ]
     },
     "execution_count": 20,
     "metadata": {},
     "output_type": "execute_result"
    }
   ],
   "source": [
    "np_array_2d[3:6, 0] # first elements of position 4 to 6"
   ]
  },
  {
   "cell_type": "code",
   "execution_count": 21,
   "id": "a6032533-de41-493d-8def-c14a5dbefa4c",
   "metadata": {},
   "outputs": [
    {
     "data": {
      "text/plain": [
       "array(['1', '2', '3', '4', '5', '6', '7', '8', '9', '10'], dtype='<U11')"
      ]
     },
     "execution_count": 21,
     "metadata": {},
     "output_type": "execute_result"
    }
   ],
   "source": [
    "np_array_2d[:, 0] # first elements of all positions"
   ]
  },
  {
   "attachments": {},
   "cell_type": "markdown",
   "id": "fd6ee094",
   "metadata": {},
   "source": [
    "## 1.4 Growing lists"
   ]
  },
  {
   "cell_type": "markdown",
   "id": "982ec1e3-d0d9-411b-aeff-42c027550bab",
   "metadata": {},
   "source": [
    "**Advantages of lists**\n",
    "- can grow their sizes easily, which Numpy cannot do"
   ]
  },
  {
   "cell_type": "markdown",
   "id": "b66942a0-5d37-4be0-b6fa-564bfb9f76d6",
   "metadata": {},
   "source": [
    "**Multiplication**: create a larger list from a smaller one"
   ]
  },
  {
   "cell_type": "code",
   "execution_count": 22,
   "id": "a58b13bb-ba78-4fc5-a348-61c42de166ed",
   "metadata": {},
   "outputs": [
    {
     "data": {
      "text/plain": [
       "[1, 2, 1, 2, 1, 2, 1, 2, 1, 2]"
      ]
     },
     "execution_count": 22,
     "metadata": {},
     "output_type": "execute_result"
    }
   ],
   "source": [
    "x=[1, 2]*5\n",
    "x"
   ]
  },
  {
   "cell_type": "markdown",
   "id": "14b1688d-ed70-455f-8fe5-075a3295dd4b",
   "metadata": {},
   "source": [
    "**Three different ways to grow the list by appending one element at a time**"
   ]
  },
  {
   "cell_type": "code",
   "execution_count": 23,
   "id": "a2a254c8-b47c-4dd5-a09a-1ae0e5b80eb9",
   "metadata": {},
   "outputs": [
    {
     "data": {
      "text/plain": [
       "[1, 2, 3, 4]"
      ]
     },
     "execution_count": 23,
     "metadata": {},
     "output_type": "execute_result"
    }
   ],
   "source": [
    "# first solution\n",
    "x=[1]\n",
    "x= x + [2]\n",
    "x= x + [3]\n",
    "x= x + [4]\n",
    "x"
   ]
  },
  {
   "cell_type": "code",
   "execution_count": 24,
   "id": "5c115331-9c40-41f5-82c9-0e82317be5e4",
   "metadata": {},
   "outputs": [
    {
     "data": {
      "text/plain": [
       "[1, 2, 3, 4]"
      ]
     },
     "execution_count": 24,
     "metadata": {},
     "output_type": "execute_result"
    }
   ],
   "source": [
    "# second solution\n",
    "x=[1]\n",
    "x+= [2]\n",
    "x+= [3]\n",
    "x+= [4]\n",
    "x"
   ]
  },
  {
   "cell_type": "code",
   "execution_count": 25,
   "id": "4f59fd96-e5c6-4446-8c3a-4fb0a776f6b3",
   "metadata": {},
   "outputs": [
    {
     "data": {
      "text/plain": [
       "[1, 2, 3, 4]"
      ]
     },
     "execution_count": 25,
     "metadata": {},
     "output_type": "execute_result"
    }
   ],
   "source": [
    "#third solution with .append() function\n",
    "x=[1]\n",
    "x.append(2)\n",
    "x.append(3)\n",
    "x.append(4)\n",
    "x"
   ]
  },
  {
   "cell_type": "markdown",
   "id": "e4be2a19-b956-4ce0-ab20-b7fef09a39e3",
   "metadata": {},
   "source": [
    "<font color='blue'> **.append()** runs the fastest by abut 1.5 faster than the rest </font>"
   ]
  },
  {
   "cell_type": "markdown",
   "id": "855f0abb-d241-4bca-bf3e-db9d6c4d1f85",
   "metadata": {},
   "source": [
    "**Three different ways to grow the list with multiple elements**"
   ]
  },
  {
   "cell_type": "code",
   "execution_count": 26,
   "id": "c5b9e872-5672-495c-9c7c-b5118ca8c643",
   "metadata": {},
   "outputs": [
    {
     "data": {
      "text/plain": [
       "[1, 2, 3, 4, 5, 6]"
      ]
     },
     "execution_count": 26,
     "metadata": {},
     "output_type": "execute_result"
    }
   ],
   "source": [
    "# First solution\n",
    "x = [1, 2, 3]\n",
    "x += [4, 5, 6]\n",
    "x"
   ]
  },
  {
   "cell_type": "code",
   "execution_count": 27,
   "id": "1b444195-d9f5-4dc8-9a4c-ab47628ae946",
   "metadata": {},
   "outputs": [
    {
     "data": {
      "text/plain": [
       "[1, 2, 3, 4, 5, 6]"
      ]
     },
     "execution_count": 27,
     "metadata": {},
     "output_type": "execute_result"
    }
   ],
   "source": [
    "# Second solution\n",
    "x=[1, 2, 3]\n",
    "x.extend([4, 5, 6])\n",
    "x\n"
   ]
  },
  {
   "cell_type": "code",
   "execution_count": 28,
   "id": "99ec114d-d493-477e-aebc-e5a821d71bc1",
   "metadata": {},
   "outputs": [
    {
     "data": {
      "text/plain": [
       "[1, 2, 3, [4, 5, 6]]"
      ]
     },
     "execution_count": 28,
     "metadata": {},
     "output_type": "execute_result"
    }
   ],
   "source": [
    "# Third solution\n",
    "x=[1, 2, 3]\n",
    "x.append([4, 5, 6])\n",
    "x"
   ]
  },
  {
   "cell_type": "code",
   "execution_count": 29,
   "id": "aab239e5-9625-4c55-ad37-42cf2329c59b",
   "metadata": {},
   "outputs": [
    {
     "data": {
      "text/plain": [
       "[4, 5, 6]"
      ]
     },
     "execution_count": 29,
     "metadata": {},
     "output_type": "execute_result"
    }
   ],
   "source": [
    "x[3] # with .append(), the [4,5,6] inserted is now ONE index, not three"
   ]
  },
  {
   "cell_type": "code",
   "execution_count": 30,
   "id": "925132ef-6276-4fd7-ae51-7c67276bc542",
   "metadata": {},
   "outputs": [
    {
     "data": {
      "text/plain": [
       "4"
      ]
     },
     "execution_count": 30,
     "metadata": {},
     "output_type": "execute_result"
    }
   ],
   "source": [
    "x[3][0] # the first element of index 3"
   ]
  },
  {
   "attachments": {},
   "cell_type": "markdown",
   "id": "1bd77a9f",
   "metadata": {},
   "source": [
    "# Some loose ends"
   ]
  },
  {
   "attachments": {},
   "cell_type": "markdown",
   "id": "6cd50d04",
   "metadata": {},
   "source": [
    "## 1.5 Tuples"
   ]
  },
  {
   "cell_type": "markdown",
   "id": "f4232b8f-9587-4845-bc06-412359fd582b",
   "metadata": {},
   "source": [
    "Tuples are similar to lists, but they are **immutable**"
   ]
  },
  {
   "cell_type": "code",
   "execution_count": 31,
   "id": "a85769b6-8035-4399-b153-0343f8dd7e2a",
   "metadata": {},
   "outputs": [],
   "source": [
    "a=(1,2,3) # [for lists], (for tuples)"
   ]
  },
  {
   "cell_type": "code",
   "execution_count": 32,
   "id": "9571c1d6-6731-4d72-9f45-861184afa405",
   "metadata": {},
   "outputs": [
    {
     "data": {
      "text/plain": [
       "1"
      ]
     },
     "execution_count": 32,
     "metadata": {},
     "output_type": "execute_result"
    }
   ],
   "source": [
    "# access the data\n",
    "a[0]"
   ]
  },
  {
   "cell_type": "code",
   "execution_count": 33,
   "id": "3ccda55e-9b25-4e8c-8322-259784db5d36",
   "metadata": {},
   "outputs": [
    {
     "ename": "TypeError",
     "evalue": "'tuple' object does not support item assignment",
     "output_type": "error",
     "traceback": [
      "\u001b[1;31m---------------------------------------------------------------------------\u001b[0m",
      "\u001b[1;31mTypeError\u001b[0m                                 Traceback (most recent call last)",
      "Cell \u001b[1;32mIn[33], line 3\u001b[0m\n\u001b[0;32m      1\u001b[0m \u001b[38;5;66;03m# but you cannot change the data \u001b[39;00m\n\u001b[0;32m      2\u001b[0m \u001b[38;5;66;03m# The following will NOT work\u001b[39;00m\n\u001b[1;32m----> 3\u001b[0m \u001b[43ma\u001b[49m\u001b[43m[\u001b[49m\u001b[38;5;241;43m0\u001b[39;49m\u001b[43m]\u001b[49m\u001b[38;5;241m=\u001b[39m\u001b[38;5;241m-\u001b[39m\u001b[38;5;241m1\u001b[39m\n\u001b[0;32m      4\u001b[0m a[\u001b[38;5;241m0\u001b[39m]\u001b[38;5;241m+\u001b[39m\u001b[38;5;241m=\u001b[39m [\u001b[38;5;241m10\u001b[39m]\n",
      "\u001b[1;31mTypeError\u001b[0m: 'tuple' object does not support item assignment"
     ]
    }
   ],
   "source": [
    "# but you cannot change the data \n",
    "# The following will NOT work\n",
    "a[0]=-1\n",
    "a[0]+= [10]"
   ]
  },
  {
   "cell_type": "markdown",
   "id": "fb1cb826-fbcb-4a0f-8ed1-0f82eddeee99",
   "metadata": {},
   "source": [
    "But you can change the data for list"
   ]
  },
  {
   "cell_type": "code",
   "execution_count": null,
   "id": "8b27b7aa-e04b-4832-8e0b-23b202da4903",
   "metadata": {},
   "outputs": [],
   "source": [
    "b=[1,2,3]\n",
    "b[0]=-10\n",
    "b"
   ]
  },
  {
   "cell_type": "code",
   "execution_count": null,
   "id": "23a7a2b5-90c5-4334-bb7e-7ab0a8c95521",
   "metadata": {},
   "outputs": [],
   "source": [
    "b=[4,5,6]\n",
    "b[0]+=[10]\n",
    "b # this will not work because the index 0 is not a list, it is a integer\n"
   ]
  },
  {
   "cell_type": "code",
   "execution_count": null,
   "id": "4058262d-3319-400e-b7d6-57feeef2f58b",
   "metadata": {},
   "outputs": [],
   "source": [
    "b=[[4],5,6]\n",
    "b[0]+=[10]\n",
    "b # by changing the index 0 into a list, now we can add a list into the list at index 0"
   ]
  },
  {
   "attachments": {},
   "cell_type": "markdown",
   "id": "8a94a10d",
   "metadata": {},
   "source": [
    "## 1.6 Be VERY careful when copying"
   ]
  },
  {
   "cell_type": "code",
   "execution_count": null,
   "id": "478fc68d-109c-49e9-b2ff-b99179e139a4",
   "metadata": {},
   "outputs": [],
   "source": [
    "x=[1, 2, 3]\n",
    "y=x           # DON'T do this!\n",
    "z=x           # DON'T do this!\n",
    "y             # Actually we can do this but now the list x,y and z become linked"
   ]
  },
  {
   "cell_type": "code",
   "execution_count": null,
   "id": "caf17e40-c04f-48e9-8a5e-db5fe34dfed0",
   "metadata": {},
   "outputs": [],
   "source": [
    "y+=[100]\n",
    "y"
   ]
  },
  {
   "cell_type": "code",
   "execution_count": null,
   "id": "b9c9b65c-f9fc-4ab5-ae80-19823dc4794f",
   "metadata": {},
   "outputs": [],
   "source": [
    "x"
   ]
  },
  {
   "cell_type": "code",
   "execution_count": null,
   "id": "3fdadc37-4f2f-4c6a-a961-5c534c94919a",
   "metadata": {},
   "outputs": [],
   "source": [
    "print(id(x), id(y), id(z)) # yes they are the same now"
   ]
  },
  {
   "cell_type": "markdown",
   "id": "987bf7d4-95d0-44bf-95d2-7db546ad15f1",
   "metadata": {},
   "source": [
    "### Build duplicate copies with .copy instead"
   ]
  },
  {
   "cell_type": "code",
   "execution_count": null,
   "id": "79aebc9a-c293-4f9c-bae8-5f898576c3a2",
   "metadata": {},
   "outputs": [],
   "source": [
    "x=[1, 2, 3]\n",
    "y=x.copy()\n",
    "z=x.copy()\n",
    "print(x, y, z)"
   ]
  },
  {
   "cell_type": "code",
   "execution_count": null,
   "id": "73a7f0d4-acaf-4df1-8da6-fef82bf26a22",
   "metadata": {},
   "outputs": [],
   "source": [
    "print(id(x), id(y), id(z)) # Now they are NOT linked"
   ]
  },
  {
   "attachments": {},
   "cell_type": "markdown",
   "id": "d05e1734",
   "metadata": {},
   "source": [
    "## Footnotes"
   ]
  }
 ],
 "metadata": {
  "kernelspec": {
   "display_name": "Python 3 (ipykernel)",
   "language": "python",
   "name": "python3"
  },
  "language_info": {
   "codemirror_mode": {
    "name": "ipython",
    "version": 3
   },
   "file_extension": ".py",
   "mimetype": "text/x-python",
   "name": "python",
   "nbconvert_exporter": "python",
   "pygments_lexer": "ipython3",
   "version": "3.9.13"
  },
  "toc": {
   "base_numbering": 1,
   "nav_menu": {},
   "number_sections": true,
   "sideBar": true,
   "skip_h1_title": false,
   "title_cell": "Table of Contents",
   "title_sidebar": "Contents",
   "toc_cell": false,
   "toc_position": {},
   "toc_section_display": true,
   "toc_window_display": false
  },
  "vscode": {
   "interpreter": {
    "hash": "31f2aee4e71d21fbe5cf8b01ff0e069b9275f58929596ceb00d14d90e3e16cd6"
   }
  }
 },
 "nbformat": 4,
 "nbformat_minor": 5
}
