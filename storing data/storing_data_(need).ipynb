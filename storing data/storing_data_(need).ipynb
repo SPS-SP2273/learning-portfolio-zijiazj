{
 "cells": [
  {
   "attachments": {},
   "cell_type": "markdown",
   "id": "123456",
   "metadata": {},
   "source": [
    "<div style=\"text-align:left;font-size:2em\"><span style=\"font-weight:bolder;font-size:1.25em\">SP2273 | Learning Portfolio</span><br><br><span style=\"font-weight:bold;color:darkred\">Storing Data (Need)</span></div>"
   ]
  },
  {
   "attachments": {},
   "cell_type": "markdown",
   "id": "13458d2e",
   "metadata": {},
   "source": [
    "# What to expect in this chapter"
   ]
  },
  {
   "cell_type": "code",
   "execution_count": 1,
   "id": "0037083b-e61d-4ae3-8b75-7be624359571",
   "metadata": {},
   "outputs": [],
   "source": [
    "import numpy as np"
   ]
  },
  {
   "cell_type": "markdown",
   "id": "3e7dc6a9-0dba-46cc-823a-14cdf9f90ce0",
   "metadata": {},
   "source": [
    "**Different ways to store and manipulate data in Python**\n",
    "1. Lists\n",
    "1. Numpy arrays\n",
    "2. Dictionaries\n",
    "3. Tuples\n",
    "4. Dataframes\n",
    "5. Classes"
   ]
  },
  {
   "attachments": {},
   "cell_type": "markdown",
   "id": "428a3c3c",
   "metadata": {},
   "source": [
    "# 1 Lists, Arrays & Dictionaries"
   ]
  },
  {
   "attachments": {},
   "cell_type": "markdown",
   "id": "421b6ed6",
   "metadata": {},
   "source": [
    "## 1.1 Let’s compare"
   ]
  },
  {
   "cell_type": "markdown",
   "id": "1f84c02e-f0e4-4af0-9480-c5a988cf40bc",
   "metadata": {},
   "source": [
    "**Python lists**"
   ]
  },
  {
   "cell_type": "code",
   "execution_count": 6,
   "id": "36d2acd3-3d14-4a7a-a743-77a0f41376a1",
   "metadata": {},
   "outputs": [],
   "source": [
    "py_super_names = [\"Black Widow\", \"Iron Man\", \"Doctor Strange\"]\n",
    "py_real_names = [\"Natasha Romanoff\", \"Tony 老师\", \"Benedict Cucumber\"]"
   ]
  },
  {
   "cell_type": "markdown",
   "id": "fbf9eac3-5324-472d-b74d-5d59e22fe044",
   "metadata": {},
   "source": [
    "**Numpy Arrays**"
   ]
  },
  {
   "cell_type": "code",
   "execution_count": 5,
   "id": "810654ae-ed89-497c-8ef9-d48b920ced1a",
   "metadata": {},
   "outputs": [],
   "source": [
    "np_super_names = np.array([\"Black Widow\", \"Iron Man\", \"Doctor Strange\"])\n",
    "np_real_names = np.array([\"Natasha Romanoff\", \"Tony 老师\", \"Benedict Cucumber\"])\n",
    "#for list and array to work, the order matters."
   ]
  },
  {
   "cell_type": "markdown",
   "id": "99700560-c8a5-41ed-9c6b-374d6651cf91",
   "metadata": {},
   "source": [
    "**Dictionary**"
   ]
  },
  {
   "cell_type": "code",
   "execution_count": 4,
   "id": "c7ab5934-2215-4fc8-9eea-e9362100ade8",
   "metadata": {},
   "outputs": [],
   "source": [
    "superhero_info = {\n",
    "    \"Natasha Romanoff\":\"Black Widow\",\n",
    "    \"Tony老师\":\"Iron Man\",\n",
    "    \"Benedict Cucumber\":\"Doctor Strange\"\n",
    "}\n",
    "# Dictionaries use a key and an associated value separated by a :\n",
    "# can very elegantly holds the real and superhero names in one structure."
   ]
  },
  {
   "attachments": {},
   "cell_type": "markdown",
   "id": "7ba7e0dc",
   "metadata": {},
   "source": [
    "## 1.2 Accessing data from a list (or array)"
   ]
  },
  {
   "cell_type": "markdown",
   "id": "a9473d4d-6a28-478a-849e-544b0853a95a",
   "metadata": {},
   "source": [
    "Python is a **zero-indexed language**, meaning it starts counting at 0. \n",
    "\n",
    "If you want to access a particular element in the list or array, you need to specify the relevant index starting from zero."
   ]
  },
  {
   "cell_type": "code",
   "execution_count": 7,
   "id": "b9dcdab6-1206-41b9-bce6-963f5110c4c0",
   "metadata": {},
   "outputs": [],
   "source": [
    "py_super_names = [\"Black Widow\", \"Iron Man\", \"Doctor Strange\"] # Black widow's index is 0, Doctor strange's index is 2\n",
    "py_real_names = [\"Natasha Romanoff\", \"Tony 老师\", \"Benedict Cucumber\"]"
   ]
  },
  {
   "cell_type": "code",
   "execution_count": 10,
   "id": "ac4a9251-5b10-4bb8-abae-70a7a1d3cef7",
   "metadata": {},
   "outputs": [
    {
     "data": {
      "text/plain": [
       "'Benedict Cucumber'"
      ]
     },
     "execution_count": 10,
     "metadata": {},
     "output_type": "execute_result"
    }
   ],
   "source": [
    "py_real_names[2] # use[] for data, NOT()"
   ]
  },
  {
   "cell_type": "code",
   "execution_count": 11,
   "id": "e3a4965d-3192-4a73-9eda-5b15b841146b",
   "metadata": {},
   "outputs": [
    {
     "data": {
      "text/plain": [
       "'Doctor Strange'"
      ]
     },
     "execution_count": 11,
     "metadata": {},
     "output_type": "execute_result"
    }
   ],
   "source": [
    "py_super_names[2]"
   ]
  },
  {
   "cell_type": "code",
   "execution_count": 12,
   "id": "abce97f7-ffe1-4bf4-a18b-33d657d9fad4",
   "metadata": {},
   "outputs": [
    {
     "data": {
      "text/plain": [
       "'Doctor Strange'"
      ]
     },
     "execution_count": 12,
     "metadata": {},
     "output_type": "execute_result"
    }
   ],
   "source": [
    "# We can also use a negative index to count from the back of the list\n",
    "# Useful to access the last element without knowing the list size\n",
    "py_super_names [-1]"
   ]
  },
  {
   "attachments": {},
   "cell_type": "markdown",
   "id": "07c40cdb",
   "metadata": {},
   "source": [
    "## 1.3 Accessing data from a dictionary"
   ]
  },
  {
   "cell_type": "markdown",
   "id": "aa62d8c3-0d0c-426f-8ae0-6acc00fb4f39",
   "metadata": {},
   "source": [
    "Dictionaries hold **data(value)** paired with a **key**. This is called a **Key-value structure**.\n",
    "\n",
    "In this case, the superhero's real name is they **key** of their super name."
   ]
  },
  {
   "cell_type": "code",
   "execution_count": 14,
   "id": "f6d25295-253d-49e0-a812-4064bc3b1bc4",
   "metadata": {},
   "outputs": [],
   "source": [
    "superhero_info = {\n",
    "    \"Natasha Romanoff\":\"Black Widow\",\n",
    "    \"Tony老师\":\"Iron Man\",\n",
    "    \"Benedict Cucumber\":\"Doctor Strange\"\n",
    "}"
   ]
  },
  {
   "cell_type": "code",
   "execution_count": 17,
   "id": "8fd0c768-331a-4ca6-bb6a-958897a56bd8",
   "metadata": {},
   "outputs": [
    {
     "data": {
      "text/plain": [
       "'Doctor Strange'"
      ]
     },
     "execution_count": 17,
     "metadata": {},
     "output_type": "execute_result"
    }
   ],
   "source": [
    "superhero_info['Benedict Cucumber'] # MUST use with [] because it is a list data, and '' because the key is a string"
   ]
  },
  {
   "cell_type": "code",
   "execution_count": 22,
   "id": "c6c7f0a0-9804-4fe1-9e08-ecad4596b19e",
   "metadata": {},
   "outputs": [
    {
     "ename": "KeyError",
     "evalue": "'Doctor Strange'",
     "output_type": "error",
     "traceback": [
      "\u001b[1;31m---------------------------------------------------------------------------\u001b[0m",
      "\u001b[1;31mKeyError\u001b[0m                                  Traceback (most recent call last)",
      "Cell \u001b[1;32mIn[22], line 1\u001b[0m\n\u001b[1;32m----> 1\u001b[0m \u001b[43msuperhero_info\u001b[49m\u001b[43m[\u001b[49m\u001b[38;5;124;43m'\u001b[39;49m\u001b[38;5;124;43mDoctor Strange\u001b[39;49m\u001b[38;5;124;43m'\u001b[39;49m\u001b[43m]\u001b[49m \u001b[38;5;66;03m# does not work the other way round\u001b[39;00m\n",
      "\u001b[1;31mKeyError\u001b[0m: 'Doctor Strange'"
     ]
    }
   ],
   "source": [
    "superhero_info['Doctor Strange'] # does not work the other way round"
   ]
  },
  {
   "cell_type": "code",
   "execution_count": 18,
   "id": "023ad03a-c7e5-400c-822a-91efd7314ec7",
   "metadata": {},
   "outputs": [
    {
     "data": {
      "text/plain": [
       "dict_keys(['Natasha Romanoff', 'Tony老师', 'Benedict Cucumber'])"
      ]
     },
     "execution_count": 18,
     "metadata": {},
     "output_type": "execute_result"
    }
   ],
   "source": [
    "# To access all keys\n",
    "superhero_info.keys()"
   ]
  },
  {
   "cell_type": "code",
   "execution_count": 20,
   "id": "b39df2a8-9d2a-477d-bb09-2438fe1797aa",
   "metadata": {},
   "outputs": [
    {
     "data": {
      "text/plain": [
       "dict_values(['Black Widow', 'Iron Man', 'Doctor Strange'])"
      ]
     },
     "execution_count": 20,
     "metadata": {},
     "output_type": "execute_result"
    }
   ],
   "source": [
    "# To access all values\n",
    "superhero_info.values()"
   ]
  },
  {
   "attachments": {},
   "cell_type": "markdown",
   "id": "254fdaf5",
   "metadata": {},
   "source": [
    "## 1.4 Higher dimensional lists"
   ]
  },
  {
   "cell_type": "markdown",
   "id": "a3bfbc3f-b804-4b67-8106-e2960a55421b",
   "metadata": {},
   "source": [
    "Since we needed two lists to store the corresponding real and superhero names, we can also create a **2D list (or array)**."
   ]
  },
  {
   "cell_type": "code",
   "execution_count": 31,
   "id": "b3bff959-3915-4e52-bbff-b53df928f254",
   "metadata": {},
   "outputs": [
    {
     "data": {
      "text/plain": [
       "'Iron Man'"
      ]
     },
     "execution_count": 31,
     "metadata": {},
     "output_type": "execute_result"
    }
   ],
   "source": [
    "#this is a list, NOT  an array.\n",
    "py_superhero_info = [['Natasha Romanoff', 'Black Widow'],\n",
    "                    ['Tony 老师', 'Iron Man'],\n",
    "                    ['Bendict Cucumber', 'Doctor Strange']]\n",
    "py_superhero_info[1][1] # We need to know the exact coordinate to call out a specific data. \n",
    "# We can call out the entire column or row of elements using a **for-loop**\n",
    "# Advatage of list = faster to build"
   ]
  },
  {
   "attachments": {},
   "cell_type": "markdown",
   "id": "59ff25ad",
   "metadata": {},
   "source": [
    "# 2 Lists vs. Arrays"
   ]
  },
  {
   "cell_type": "markdown",
   "id": "8b2489ab-9d30-4ba2-a0ff-bfc3e97df1f4",
   "metadata": {},
   "source": [
    "Generally, an operation on a **list** works on the **whole list**. List can accomodate more than one data type.\n",
    "\n",
    "In contrast, an operation on an **array** works on the **individual elements** of the array. Array can only work with one data type."
   ]
  },
  {
   "attachments": {},
   "cell_type": "markdown",
   "id": "380cbcd1",
   "metadata": {},
   "source": [
    "## 2.1 Size"
   ]
  },
  {
   "cell_type": "markdown",
   "id": "16d69304-bc80-447d-9fae-a34ee76c50cc",
   "metadata": {},
   "source": [
    "We can use **len()** to know how many elements there are in a list or array"
   ]
  },
  {
   "cell_type": "code",
   "execution_count": 32,
   "id": "5d4da9fa-0875-437f-b73a-ff3977e517f9",
   "metadata": {},
   "outputs": [],
   "source": [
    "py_list_2d = [[1, \"A\"], [2, \"B\"], [3, \"C\"], [4, \"D\"],\n",
    "              [5, \"E\"], [6, \"F\"], [7, \"G\"], [8, \"H\"],\n",
    "              [9, \"I\"], [10, \"J\"]]\n",
    "\n",
    "np_array_2d = np.array(py_list_2d)      # Reusing the Python list \n",
    "                                        # to create a NEW\n",
    "                                        # NumPy array"
   ]
  },
  {
   "cell_type": "code",
   "execution_count": 36,
   "id": "95337288-9db1-411a-830b-8f07f37a61ba",
   "metadata": {},
   "outputs": [
    {
     "name": "stdout",
     "output_type": "stream",
     "text": [
      "3125213105856 3125213206832\n",
      "<class 'list'> <class 'numpy.ndarray'>\n"
     ]
    }
   ],
   "source": [
    "print(id(py_list_2d), id(np_array_2d))   # They are not the same, not linked\n",
    "print(type(py_list_2d), type(np_array_2d)) # They are also not the same type"
   ]
  },
  {
   "cell_type": "code",
   "execution_count": 37,
   "id": "af97e7e1-e39f-4e33-815a-0dcee361de67",
   "metadata": {},
   "outputs": [
    {
     "data": {
      "text/plain": [
       "10"
      ]
     },
     "execution_count": 37,
     "metadata": {},
     "output_type": "execute_result"
    }
   ],
   "source": [
    "# To know the size of a list\n",
    "len(py_list_2d)"
   ]
  },
  {
   "cell_type": "code",
   "execution_count": 38,
   "id": "0a3628cd-8c82-4ce5-8a42-add8925dd9d9",
   "metadata": {},
   "outputs": [
    {
     "data": {
      "text/plain": [
       "10"
      ]
     },
     "execution_count": 38,
     "metadata": {},
     "output_type": "execute_result"
    }
   ],
   "source": [
    "# To know the size of an array\n",
    "len(np_array_2d)"
   ]
  },
  {
   "cell_type": "code",
   "execution_count": 40,
   "id": "682da012-3f59-4835-8397-77cb833a7f46",
   "metadata": {},
   "outputs": [
    {
     "data": {
      "text/plain": [
       "(10, 2)"
      ]
     },
     "execution_count": 40,
     "metadata": {},
     "output_type": "execute_result"
    }
   ],
   "source": [
    "np_array_2d.shape # (10, 2) means that the array has 10 rows and 2 columns"
   ]
  },
  {
   "cell_type": "markdown",
   "id": "7ca61e46-e796-45a1-adb2-d5558c7d7b67",
   "metadata": {},
   "source": [
    "<font color='blue'>\n",
    "\n",
    "In np_array_2d.shape, shape does not need a () because it is an attribute, not a function. \n",
    "\n",
    "**Attribute is a property or characteristic associated with an object.**\n",
    "\n",
    "Accessing an attribute retrieves this data without performing any computation or modification. Attributes are accessed using dot notation.\n",
    "\n",
    "**Function is to perform a specific task or operation.** \n",
    "\n",
    "Fucntion is reusable code that performs a specific task. \n",
    "\n",
    "When you call a function, you're instructing the program to execute the code inside the function. \n",
    "\n",
    "Functions are called using parentheses after the function name (function_name()), which may or may not accept arguments.\n",
    "\r\n",
    "In programming, a function is a block of code that can be called to perform a specific task. It may or may not take input parameter (arguments)s, and it may or may not return a result\n",
    "</font>."
   ]
  },
  {
   "attachments": {},
   "cell_type": "markdown",
   "id": "7a968b6e",
   "metadata": {},
   "source": [
    "## 2.2 Arrays are fussy about type"
   ]
  },
  {
   "cell_type": "markdown",
   "id": "10234ecd-d718-4ac6-af3e-dd841e49bc29",
   "metadata": {},
   "source": [
    "Array insists on having **only single data type**, list is more accomodating"
   ]
  },
  {
   "cell_type": "code",
   "execution_count": 41,
   "id": "f2db292a-471c-4462-b7c7-3f1af9ae53aa",
   "metadata": {},
   "outputs": [],
   "source": [
    "py_list = [1, 1.5, 'A']\n",
    "np_array = np.array(py_list)"
   ]
  },
  {
   "cell_type": "code",
   "execution_count": 42,
   "id": "45d250d5-1630-4ad2-b7a9-560414a782c7",
   "metadata": {},
   "outputs": [
    {
     "data": {
      "text/plain": [
       "[1, 1.5, 'A']"
      ]
     },
     "execution_count": 42,
     "metadata": {},
     "output_type": "execute_result"
    }
   ],
   "source": [
    "py_list"
   ]
  },
  {
   "cell_type": "code",
   "execution_count": 43,
   "id": "08c4151f-601b-4ea2-9f73-7fa72a76ae21",
   "metadata": {},
   "outputs": [
    {
     "data": {
      "text/plain": [
       "array(['1', '1.5', 'A'], dtype='<U32')"
      ]
     },
     "execution_count": 43,
     "metadata": {},
     "output_type": "execute_result"
    }
   ],
   "source": [
    "np_array #array will convert all the int values into str with ''"
   ]
  },
  {
   "cell_type": "markdown",
   "id": "b7ade40c-2bcf-43a1-86cf-3b6c7d44ed0e",
   "metadata": {},
   "source": [
    "<font color = 'blue'>\n",
    "U32 is a **Unicode string data type**\n",
    "\n",
    "**Unicode** is an international character encoding standard that provides a unique number for every character across languages and scripts, making almost all characters accessible across platforms, programs, and devices.\n",
    "\n",
    "**String Data Type**: In NumPy, strings are represented using a specific data type. <U32 indicates a Unicode string data type where each element (string) can have a maximum length of 32 characters.\n",
    "\n",
    "Some other data types incude:\n",
    "**<U (Unicode String), <S (String), <a (Byte String), <int(Integer)**\n",
    "\n",
    "<U and <S are suitable for representing text data, while <a is useful for handling binary data or interfacing with external systems that expect byte strings.\n",
    "</font>"
   ]
  },
  {
   "attachments": {},
   "cell_type": "markdown",
   "id": "3e75a355",
   "metadata": {},
   "source": [
    "## 2.3 Adding a number"
   ]
  },
  {
   "cell_type": "code",
   "execution_count": 44,
   "id": "8bd3ce00-9dbc-4d1d-9944-e29fb9d1a5a4",
   "metadata": {},
   "outputs": [],
   "source": [
    "py_list = [1, 2, 3, 4, 5]\n",
    "np_array = np.array(py_list)         # Reusing the Python list\n",
    "                                     # to create a NEW\n",
    "                                     # NumPy array"
   ]
  },
  {
   "cell_type": "code",
   "execution_count": 46,
   "id": "561994fe-1f29-4ad7-810a-0deebad6a572",
   "metadata": {},
   "outputs": [
    {
     "ename": "TypeError",
     "evalue": "can only concatenate list (not \"int\") to list",
     "output_type": "error",
     "traceback": [
      "\u001b[1;31m---------------------------------------------------------------------------\u001b[0m",
      "\u001b[1;31mTypeError\u001b[0m                                 Traceback (most recent call last)",
      "Cell \u001b[1;32mIn[46], line 1\u001b[0m\n\u001b[1;32m----> 1\u001b[0m \u001b[43mpy_list\u001b[49m\u001b[43m \u001b[49m\u001b[38;5;241;43m+\u001b[39;49m\u001b[43m \u001b[49m\u001b[38;5;241;43m10\u001b[39;49m        \u001b[38;5;66;03m# Won't work!\u001b[39;00m\n",
      "\u001b[1;31mTypeError\u001b[0m: can only concatenate list (not \"int\") to list"
     ]
    }
   ],
   "source": [
    "py_list + 10        # Won't work!"
   ]
  },
  {
   "cell_type": "code",
   "execution_count": 47,
   "id": "08553402-a08f-4f1e-a912-5f396d791e8b",
   "metadata": {},
   "outputs": [
    {
     "data": {
      "text/plain": [
       "array([11, 12, 13, 14, 15])"
      ]
     },
     "execution_count": 47,
     "metadata": {},
     "output_type": "execute_result"
    }
   ],
   "source": [
    "np_array + 10"
   ]
  },
  {
   "attachments": {},
   "cell_type": "markdown",
   "id": "22e074d8",
   "metadata": {},
   "source": [
    "## 2.4 Adding another list"
   ]
  },
  {
   "cell_type": "markdown",
   "id": "93426e21-14c0-42f4-b540-04570b4e77da",
   "metadata": {},
   "source": [
    "Adding **lists** will cause them to **grow bigger in size**\n",
    "\n",
    "Adding **arrays** is an **element-wise operation**"
   ]
  },
  {
   "cell_type": "code",
   "execution_count": 48,
   "id": "be2e9963-080d-464b-a489-d372b7d93eea",
   "metadata": {},
   "outputs": [],
   "source": [
    "py_list_1 = [1, 2, 3, 4, 5]\n",
    "py_list_2 = [10, 20, 30, 40, 50]\n",
    "\n",
    "np_array_1 = np.array(py_list_1)\n",
    "np_array_2 = np.array(py_list_2)"
   ]
  },
  {
   "cell_type": "code",
   "execution_count": 49,
   "id": "9f1ed7d2-125a-499e-a0ef-a0b7889c4e78",
   "metadata": {},
   "outputs": [
    {
     "data": {
      "text/plain": [
       "[1, 2, 3, 4, 5, 10, 20, 30, 40, 50]"
      ]
     },
     "execution_count": 49,
     "metadata": {},
     "output_type": "execute_result"
    }
   ],
   "source": [
    "#for list\n",
    "py_list_1 + py_list_2"
   ]
  },
  {
   "cell_type": "code",
   "execution_count": 50,
   "id": "a4e3f9ce-173b-49e6-8201-c4e8eb588b7d",
   "metadata": {},
   "outputs": [
    {
     "data": {
      "text/plain": [
       "array([11, 22, 33, 44, 55])"
      ]
     },
     "execution_count": 50,
     "metadata": {},
     "output_type": "execute_result"
    }
   ],
   "source": [
    "#for array\n",
    "np_array_1 + np_array_2"
   ]
  },
  {
   "attachments": {},
   "cell_type": "markdown",
   "id": "c8b131c4",
   "metadata": {},
   "source": [
    "## 2.5 Multiplying by a Number"
   ]
  },
  {
   "cell_type": "markdown",
   "id": "1c05d44e-3d5e-4117-b6a3-59b8db15d6a4",
   "metadata": {},
   "source": [
    "Multiplying **lists** will cause them to **grow bigger in size**\n",
    "\n",
    "Multiplying **arrays** will **multiply its element by the number**"
   ]
  },
  {
   "cell_type": "code",
   "execution_count": 52,
   "id": "88dac56c-af9b-4c8f-baa3-d7cd6e51934a",
   "metadata": {},
   "outputs": [],
   "source": [
    "py_list = [1, 2, 3, 4, 5]\n",
    "np_array = np.array(py_list)         "
   ]
  },
  {
   "cell_type": "code",
   "execution_count": 53,
   "id": "8f379447-4354-4958-9c54-0f1987689626",
   "metadata": {},
   "outputs": [
    {
     "data": {
      "text/plain": [
       "[1, 2, 3, 4, 5, 1, 2, 3, 4, 5]"
      ]
     },
     "execution_count": 53,
     "metadata": {},
     "output_type": "execute_result"
    }
   ],
   "source": [
    "#for list\n",
    "py_list*2"
   ]
  },
  {
   "cell_type": "code",
   "execution_count": 56,
   "id": "955cd91c-f92f-405c-9cfe-bc61922fa62d",
   "metadata": {},
   "outputs": [
    {
     "data": {
      "text/plain": [
       "array([ 2,  4,  6,  8, 10])"
      ]
     },
     "execution_count": 56,
     "metadata": {},
     "output_type": "execute_result"
    }
   ],
   "source": [
    "#for array\n",
    "np_array*2"
   ]
  },
  {
   "cell_type": "code",
   "execution_count": 58,
   "id": "b7f4f0ea-9261-4c17-a1fa-b53210cd916e",
   "metadata": {},
   "outputs": [
    {
     "data": {
      "text/plain": [
       "array([ 1,  4,  9, 16, 25])"
      ]
     },
     "execution_count": 58,
     "metadata": {},
     "output_type": "execute_result"
    }
   ],
   "source": [
    "np_array*np_array #each element will be squared"
   ]
  },
  {
   "attachments": {},
   "cell_type": "markdown",
   "id": "3439868a",
   "metadata": {},
   "source": [
    "## 2.6 Squaring"
   ]
  },
  {
   "cell_type": "code",
   "execution_count": 59,
   "id": "88deabd4-f6dd-4d18-8072-b7b8a020d131",
   "metadata": {},
   "outputs": [],
   "source": [
    "py_list = [1, 2, 3, 4, 5]\n",
    "np_array = np.array(py_list)"
   ]
  },
  {
   "cell_type": "code",
   "execution_count": 60,
   "id": "24f6d242-9c4e-4dcb-9df8-f922c429ffbb",
   "metadata": {},
   "outputs": [
    {
     "ename": "TypeError",
     "evalue": "unsupported operand type(s) for ** or pow(): 'list' and 'int'",
     "output_type": "error",
     "traceback": [
      "\u001b[1;31m---------------------------------------------------------------------------\u001b[0m",
      "\u001b[1;31mTypeError\u001b[0m                                 Traceback (most recent call last)",
      "Cell \u001b[1;32mIn[60], line 1\u001b[0m\n\u001b[1;32m----> 1\u001b[0m \u001b[43mpy_list\u001b[49m\u001b[38;5;241;43m*\u001b[39;49m\u001b[38;5;241;43m*\u001b[39;49m\u001b[38;5;241;43m2\u001b[39;49m                      \u001b[38;5;66;03m# Won't work!  \u001b[39;00m\n",
      "\u001b[1;31mTypeError\u001b[0m: unsupported operand type(s) for ** or pow(): 'list' and 'int'"
     ]
    }
   ],
   "source": [
    "py_list**2                      # Won't work!  "
   ]
  },
  {
   "cell_type": "code",
   "execution_count": 61,
   "id": "4e2a1e4f-e3de-4767-9615-b9d287822d74",
   "metadata": {},
   "outputs": [
    {
     "data": {
      "text/plain": [
       "array([ 1,  4,  9, 16, 25])"
      ]
     },
     "execution_count": 61,
     "metadata": {},
     "output_type": "execute_result"
    }
   ],
   "source": [
    "np_array**2"
   ]
  },
  {
   "cell_type": "code",
   "execution_count": 62,
   "id": "9cb599b4-864c-4d12-81ba-8dd1a53872b6",
   "metadata": {},
   "outputs": [
    {
     "data": {
      "text/plain": [
       "array([  1,  16,  81, 256, 625], dtype=int32)"
      ]
     },
     "execution_count": 62,
     "metadata": {},
     "output_type": "execute_result"
    }
   ],
   "source": [
    "np_array**4"
   ]
  },
  {
   "attachments": {},
   "cell_type": "markdown",
   "id": "918bf091",
   "metadata": {},
   "source": [
    "## 2.7 Asking questions"
   ]
  },
  {
   "cell_type": "code",
   "execution_count": 63,
   "id": "64d3096e-9bdd-4c94-9b08-c39a06f2ce60",
   "metadata": {},
   "outputs": [],
   "source": [
    "py_list = [1, 2, 3, 4, 5]\n",
    "np_array = np.array(py_list)         "
   ]
  },
  {
   "cell_type": "code",
   "execution_count": 67,
   "id": "e1657e39-2dce-4c80-b3ea-80d4528ff6ee",
   "metadata": {},
   "outputs": [
    {
     "data": {
      "text/plain": [
       "False"
      ]
     },
     "execution_count": 67,
     "metadata": {},
     "output_type": "execute_result"
    }
   ],
   "source": [
    "py_list == 3     # Works, but what IS the question?"
   ]
  },
  {
   "cell_type": "code",
   "execution_count": 68,
   "id": "75b273c7-6fb2-4f15-8aa9-1e73a5ab860a",
   "metadata": {},
   "outputs": [
    {
     "ename": "TypeError",
     "evalue": "'>' not supported between instances of 'list' and 'int'",
     "output_type": "error",
     "traceback": [
      "\u001b[1;31m---------------------------------------------------------------------------\u001b[0m",
      "\u001b[1;31mTypeError\u001b[0m                                 Traceback (most recent call last)",
      "Cell \u001b[1;32mIn[68], line 1\u001b[0m\n\u001b[1;32m----> 1\u001b[0m \u001b[43mpy_list\u001b[49m\u001b[43m \u001b[49m\u001b[38;5;241;43m>\u001b[39;49m\u001b[43m \u001b[49m\u001b[38;5;241;43m3\u001b[39;49m      \u001b[38;5;66;03m# Won't work!\u001b[39;00m\n",
      "\u001b[1;31mTypeError\u001b[0m: '>' not supported between instances of 'list' and 'int'"
     ]
    }
   ],
   "source": [
    "py_list > 3      # Won't work!"
   ]
  },
  {
   "cell_type": "code",
   "execution_count": 69,
   "id": "72364c63-f130-4002-9cf0-86bb4cb85a50",
   "metadata": {},
   "outputs": [
    {
     "data": {
      "text/plain": [
       "array([False, False,  True, False, False])"
      ]
     },
     "execution_count": 69,
     "metadata": {},
     "output_type": "execute_result"
    }
   ],
   "source": [
    "np_array==3"
   ]
  },
  {
   "cell_type": "code",
   "execution_count": 70,
   "id": "ea98ae95-3a5b-4923-b2bd-0a83863642c1",
   "metadata": {},
   "outputs": [
    {
     "data": {
      "text/plain": [
       "array([False, False, False,  True,  True])"
      ]
     },
     "execution_count": 70,
     "metadata": {},
     "output_type": "execute_result"
    }
   ],
   "source": [
    "np_array>3"
   ]
  },
  {
   "attachments": {},
   "cell_type": "markdown",
   "id": "f80ff68f",
   "metadata": {},
   "source": [
    "## 2.8 Mathematics"
   ]
  },
  {
   "cell_type": "code",
   "execution_count": 71,
   "id": "a8c5c2b7-e8eb-4e37-8734-94f7d7f99c63",
   "metadata": {},
   "outputs": [],
   "source": [
    "py_list = [1, 2, 3, 4, 5]\n",
    "np_array = np.array(py_list)         "
   ]
  },
  {
   "cell_type": "markdown",
   "id": "4800324e-7fad-4b74-b74b-26bee7a398ad",
   "metadata": {},
   "source": [
    "**For list**"
   ]
  },
  {
   "cell_type": "code",
   "execution_count": 72,
   "id": "c7d1a0be-7e76-4000-a578-b584bcd854ef",
   "metadata": {},
   "outputs": [
    {
     "data": {
      "text/plain": [
       "15"
      ]
     },
     "execution_count": 72,
     "metadata": {},
     "output_type": "execute_result"
    }
   ],
   "source": [
    "sum(py_list)     # sum() is a base Python function"
   ]
  },
  {
   "cell_type": "code",
   "execution_count": 73,
   "id": "fb92518b-6655-492f-ae33-b34fd1c2e1d4",
   "metadata": {},
   "outputs": [
    {
     "data": {
      "text/plain": [
       "5"
      ]
     },
     "execution_count": 73,
     "metadata": {},
     "output_type": "execute_result"
    }
   ],
   "source": [
    "max(py_list)     # max() is a base Python function"
   ]
  },
  {
   "cell_type": "code",
   "execution_count": 74,
   "id": "2c4ef579-3cd1-4781-8bc9-ddcc6fe7447e",
   "metadata": {},
   "outputs": [
    {
     "data": {
      "text/plain": [
       "1"
      ]
     },
     "execution_count": 74,
     "metadata": {},
     "output_type": "execute_result"
    }
   ],
   "source": [
    "min(py_list)     # min() is a base Python function"
   ]
  },
  {
   "cell_type": "code",
   "execution_count": 75,
   "id": "7e792c51-6d6f-4d76-aa7a-7d16818df05f",
   "metadata": {},
   "outputs": [
    {
     "ename": "AttributeError",
     "evalue": "'list' object has no attribute 'sum'",
     "output_type": "error",
     "traceback": [
      "\u001b[1;31m---------------------------------------------------------------------------\u001b[0m",
      "\u001b[1;31mAttributeError\u001b[0m                            Traceback (most recent call last)",
      "Cell \u001b[1;32mIn[75], line 1\u001b[0m\n\u001b[1;32m----> 1\u001b[0m \u001b[43mpy_list\u001b[49m\u001b[38;5;241;43m.\u001b[39;49m\u001b[43msum\u001b[49m()   \u001b[38;5;66;03m# Won't work!\u001b[39;00m\n",
      "\u001b[1;31mAttributeError\u001b[0m: 'list' object has no attribute 'sum'"
     ]
    }
   ],
   "source": [
    "py_list.sum()   # Won't work!"
   ]
  },
  {
   "cell_type": "markdown",
   "id": "dc865d93-2f1a-4655-9051-8a12f01d42d3",
   "metadata": {},
   "source": [
    "**For array**"
   ]
  },
  {
   "cell_type": "code",
   "execution_count": 76,
   "id": "fe9e8eca-cf4f-4c18-86da-acad53686506",
   "metadata": {},
   "outputs": [
    {
     "data": {
      "text/plain": [
       "15"
      ]
     },
     "execution_count": 76,
     "metadata": {},
     "output_type": "execute_result"
    }
   ],
   "source": [
    "np_array.sum()"
   ]
  },
  {
   "cell_type": "code",
   "execution_count": 77,
   "id": "e889af61-da31-4e79-9ae8-0c0de3fdf52e",
   "metadata": {},
   "outputs": [
    {
     "data": {
      "text/plain": [
       "5"
      ]
     },
     "execution_count": 77,
     "metadata": {},
     "output_type": "execute_result"
    }
   ],
   "source": [
    "np_array.max()"
   ]
  },
  {
   "cell_type": "code",
   "execution_count": 78,
   "id": "854f2a3e-e26e-4ebd-934c-f3ffbc88b8a7",
   "metadata": {},
   "outputs": [
    {
     "data": {
      "text/plain": [
       "1"
      ]
     },
     "execution_count": 78,
     "metadata": {},
     "output_type": "execute_result"
    }
   ],
   "source": [
    "np_array.min()"
   ]
  },
  {
   "cell_type": "code",
   "execution_count": 79,
   "id": "8ea2e784-201b-4671-9396-38c81db7b7e5",
   "metadata": {},
   "outputs": [
    {
     "data": {
      "text/plain": [
       "3.0"
      ]
     },
     "execution_count": 79,
     "metadata": {},
     "output_type": "execute_result"
    }
   ],
   "source": [
    "np_array.mean()"
   ]
  },
  {
   "cell_type": "code",
   "execution_count": 80,
   "id": "ab257e54-ec4c-4d0a-adef-24767e39bdc6",
   "metadata": {},
   "outputs": [
    {
     "data": {
      "text/plain": [
       "1.4142135623730951"
      ]
     },
     "execution_count": 80,
     "metadata": {},
     "output_type": "execute_result"
    }
   ],
   "source": [
    "np_array.std()"
   ]
  }
 ],
 "metadata": {
  "kernelspec": {
   "display_name": "Python 3 (ipykernel)",
   "language": "python",
   "name": "python3"
  },
  "language_info": {
   "codemirror_mode": {
    "name": "ipython",
    "version": 3
   },
   "file_extension": ".py",
   "mimetype": "text/x-python",
   "name": "python",
   "nbconvert_exporter": "python",
   "pygments_lexer": "ipython3",
   "version": "3.9.13"
  },
  "toc": {
   "base_numbering": 1,
   "nav_menu": {},
   "number_sections": true,
   "sideBar": true,
   "skip_h1_title": false,
   "title_cell": "Table of Contents",
   "title_sidebar": "Contents",
   "toc_cell": false,
   "toc_position": {},
   "toc_section_display": true,
   "toc_window_display": false
  },
  "vscode": {
   "interpreter": {
    "hash": "31f2aee4e71d21fbe5cf8b01ff0e069b9275f58929596ceb00d14d90e3e16cd6"
   }
  }
 },
 "nbformat": 4,
 "nbformat_minor": 5
}
