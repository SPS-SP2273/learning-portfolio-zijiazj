{
 "cells": [
  {
   "attachments": {},
   "cell_type": "markdown",
   "id": "123456",
   "metadata": {},
   "source": [
    "<div style=\"text-align:left;font-size:2em\"><span style=\"font-weight:bolder;font-size:1.25em\">SP2273 | Learning Portfolio</span><br><br><span style=\"font-weight:bold;color:darkred\">Using Jupyter (Need), Exercises</span></div>"
   ]
  },
  {
   "cell_type": "markdown",
   "id": "2f4200a7-8a0a-48c8-8a0d-ce6c92924f56",
   "metadata": {},
   "source": [
    "# Exercise 1"
   ]
  },
  {
   "attachments": {},
   "cell_type": "markdown",
   "id": "d78824b7",
   "metadata": {},
   "source": [
    "## Quadratic Equations"
   ]
  },
  {
   "attachments": {},
   "cell_type": "markdown",
   "id": "ef2879b5",
   "metadata": {},
   "source": [
    "### Introduction"
   ]
  },
  {
   "cell_type": "markdown",
   "id": "3746c3e6-fda0-4c54-8960-907614cb6b32",
   "metadata": {},
   "source": [
    "![](https://upload.wikimedia.org/wikipedia/commons/thumb/f/f8/Polynomialdeg2.svg/300px-Polynomialdeg2.svg.png)\n",
    "\n"
   ]
  },
  {
   "cell_type": "markdown",
   "id": "ff97c846-d98a-4b9c-9981-d521ec51c8c8",
   "metadata": {},
   "source": [
    "The general form of a quadratic equation is:"
   ]
  },
  {
   "cell_type": "markdown",
   "id": "298fa650-f3fe-41ee-8d99-52943b38a1a2",
   "metadata": {},
   "source": [
    "$$\n",
    "ax^2 + bx + c = 0\n",
    "$$"
   ]
  },
  {
   "cell_type": "markdown",
   "id": "477420e0-bf40-4133-b1b7-413258f33a6a",
   "metadata": {},
   "source": [
    "### Solutions"
   ]
  },
  {
   "cell_type": "markdown",
   "id": "817635e7-0990-4006-981a-82e70d4454cd",
   "metadata": {},
   "source": [
    "Provided $a \\ne 0$,we can use an elementary algebraic method called completing the square to show that a quadratic equation has the following solution:"
   ]
  },
  {
   "cell_type": "markdown",
   "id": "5b368876-f004-4790-83c7-e80825638cd3",
   "metadata": {},
   "source": [
    "$$\n",
    "x = \\dfrac{-b \\pm \\sqrt{b^2-4ac}}{2a}\n",
    "$$"
   ]
  },
  {
   "attachments": {},
   "cell_type": "markdown",
   "id": "3957c481",
   "metadata": {},
   "source": [
    "### Discriminant"
   ]
  },
  {
   "cell_type": "markdown",
   "id": "24f59d9a-86c9-4ce7-b385-6caa4ba985af",
   "metadata": {},
   "source": [
    "The quantity $\\Delta{ = b^2 - 4ac}$ is called the discriminant of the equation and decides the nature of its solutions. The table below shows the various possibilities."
   ]
  },
  {
   "cell_type": "markdown",
   "id": "fafab754-9a11-41be-a738-4b950d0a5fae",
   "metadata": {},
   "source": [
    "|Discriminant|Roots|\n",
    "|:---:|:---:|\n",
    "|$\\Delta{=b^2 - 4ac}=0$|A single solution of $-b/(2a)$|\n",
    "|$\\Delta{=b^2 - 4ac}\\gt 0$|Two distinct solutions|\n",
    "|$\\Delta{=b^2 - 4ac}\\lt0$|No real solutions; both are complex|"
   ]
  },
  {
   "cell_type": "markdown",
   "id": "4fd4ef0e-2d16-4c0c-b5d4-ed091c65f460",
   "metadata": {},
   "source": [
    "# Exercise 2"
   ]
  },
  {
   "cell_type": "markdown",
   "id": "4362b33a-d633-4367-8cf7-5dfc8208bfaa",
   "metadata": {},
   "source": [
    "Use a Markdown cell to answer the following."
   ]
  },
  {
   "cell_type": "markdown",
   "id": "36763c6a-dd80-4388-aa09-7d19401bd471",
   "metadata": {},
   "source": [
    "1. What is a Git **repository**?\n",
    "2. Git keeps tracks of (blank) in the files in our repository.\n",
    "3. What is a **commit**?\n",
    "4. What is a **push**?\n",
    "5. What is a **pull**?\n",
    "6. What is the difference between **GitHub** and **GitHub Desktop**?"
   ]
  },
  {
   "cell_type": "markdown",
   "id": "a5131e1d-0906-4207-8d36-7e6a7b9394b0",
   "metadata": {},
   "source": [
    "1. Git respository is a cloud drive that keeps all our projects.\n",
    "2. Git keeps tracks of the changes in the files in our repository.\n",
    "3. We commit the project we have made changes to push our local project onto our Git repository online.\n",
    "4. Push is when we want to upload our changes we made\n",
    "5. Pull is when we want to download the project from Git\n",
    "6. Github is online repository and Github Desktop is where we can access to our local projects. "
   ]
  },
  {
   "cell_type": "markdown",
   "id": "1994dd4b-6847-4bc0-8086-af159b728183",
   "metadata": {},
   "source": [
    "## Note"
   ]
  },
  {
   "cell_type": "markdown",
   "id": "3e0d69d8-fa0c-46ac-8ef5-1d3cf01ac157",
   "metadata": {},
   "source": [
    "$$ to create a block of math equation\n",
    "\n",
    "$ to creata a line of math equation\n",
    "\n",
    "The markdown of the delta sign is \\Delta{}"
   ]
  },
  {
   "cell_type": "code",
   "execution_count": null,
   "id": "2769b01e-2cad-4159-9432-be9f210ec972",
   "metadata": {},
   "outputs": [],
   "source": []
  }
 ],
 "metadata": {
  "kernelspec": {
   "display_name": "Python 3 (ipykernel)",
   "language": "python",
   "name": "python3"
  },
  "language_info": {
   "codemirror_mode": {
    "name": "ipython",
    "version": 3
   },
   "file_extension": ".py",
   "mimetype": "text/x-python",
   "name": "python",
   "nbconvert_exporter": "python",
   "pygments_lexer": "ipython3",
   "version": "3.9.13"
  },
  "toc": {
   "base_numbering": 1,
   "nav_menu": {},
   "number_sections": true,
   "sideBar": true,
   "skip_h1_title": false,
   "title_cell": "Table of Contents",
   "title_sidebar": "Contents",
   "toc_cell": false,
   "toc_position": {},
   "toc_section_display": true,
   "toc_window_display": false
  },
  "vscode": {
   "interpreter": {
    "hash": "31f2aee4e71d21fbe5cf8b01ff0e069b9275f58929596ceb00d14d90e3e16cd6"
   }
  }
 },
 "nbformat": 4,
 "nbformat_minor": 5
}
