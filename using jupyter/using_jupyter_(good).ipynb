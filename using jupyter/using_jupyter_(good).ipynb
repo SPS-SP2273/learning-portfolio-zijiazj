{
 "cells": [
  {
   "attachments": {},
   "cell_type": "markdown",
   "id": "123456",
   "metadata": {},
   "source": [
    "<div style=\"text-align:left;font-size:2em\"><span style=\"font-weight:bolder;font-size:1.25em\">SP2273 | Learning Portfolio</span><br><br><span style=\"font-weight:bold;color:darkred\">Using Jupyter (Good)</span></div>"
   ]
  },
  {
   "attachments": {},
   "cell_type": "markdown",
   "id": "c7294033",
   "metadata": {},
   "source": [
    "# What to expect in this chapter"
   ]
  },
  {
   "attachments": {},
   "cell_type": "markdown",
   "id": "21912ec3",
   "metadata": {},
   "source": [
    "# 1 Some tips and tricks"
   ]
  },
  {
   "attachments": {},
   "cell_type": "markdown",
   "id": "3a1a96c4",
   "metadata": {},
   "source": [
    "## 1.1 Keyboard Shortcuts"
   ]
  },
  {
   "cell_type": "code",
   "execution_count": 2,
   "id": "e7d178ea-5d91-4d47-a6e9-ff8c6c8ade34",
   "metadata": {},
   "outputs": [
    {
     "name": "stdout",
     "output_type": "stream",
     "text": [
      "meowmeowmeowmeowmeowmeowmeowmeowmeowmeowmeowmeowmeowmeowmeowmeowmeowmeowmeowmeowmeowmeowmeowmeowmeowmeowmeowmeowmeowmeow\n",
      "woofwoofwoofwoofwoofwoofwoofwoofwoofwoofwoofwoofwoofwoofwoofwoofwoofwoofwoofwoofwoofwoofwoofwoofwoofwoofwoofwoofwoofwoof\n"
     ]
    }
   ],
   "source": [
    "print('meowmeowmeow'*10)\n",
    "\n",
    "print('woofwoofwoof'*10) "
   ]
  },
  {
   "cell_type": "code",
   "execution_count": 1,
   "id": "141a71ca-5a27-4c9a-a565-51f171725c2a",
   "metadata": {},
   "outputs": [],
   "source": [
    "# we can easily view all the keyboard shortcut at Help -> show keyboard shortcuts"
   ]
  },
  {
   "cell_type": "markdown",
   "id": "d1b97c05-1f56-4ca8-b2c4-9755e9d38466",
   "metadata": {},
   "source": [
    "### The more commonly use shortcut"
   ]
  },
  {
   "cell_type": "markdown",
   "id": "4a56babf-bb22-4243-815e-23127f68c810",
   "metadata": {},
   "source": [
    "- Run cell -> CTRL + ENTER / CMD + ENTER\n",
    "- Run cell and move to the next -> SHIFT + ENTER\n",
    "- Convert cell to code cell -> ESC + Y\n",
    "- Convert cell into markdown cell -> ESC + M\n",
    "- Create new cell -> ESC + A (above) ESC + B (below)\n",
    "- Copy cell(s) -> ESC + C\n",
    "- Paste cell(s) -> ESC + V\n",
    "- Merge cells -> SHIFT + M\n",
    "- Delete cell -> ESC + D + D"
   ]
  },
  {
   "attachments": {},
   "cell_type": "markdown",
   "id": "0f8d3205",
   "metadata": {},
   "source": [
    "### Things to note"
   ]
  },
  {
   "cell_type": "markdown",
   "id": "82002c40-2346-4d14-bc29-514e8d147097",
   "metadata": {},
   "source": [
    "- You can select one or more cells using SHIFT and the up and down arrow keys.\n",
    "- If you want to change shortcuts keys, you can go to 'Help' and 'show keyboard shortcut'\n",
    "- or just ESC + H\n"
   ]
  },
  {
   "attachments": {},
   "cell_type": "markdown",
   "id": "c5e64324",
   "metadata": {},
   "source": [
    "## 1.2 Shell commands"
   ]
  },
  {
   "cell_type": "code",
   "execution_count": 2,
   "id": "96e23ee2-e860-47ec-b321-b1584ec406bf",
   "metadata": {},
   "outputs": [
    {
     "name": "stderr",
     "output_type": "stream",
     "text": [
      "The system cannot find the path specified.\n"
     ]
    }
   ],
   "source": [
    "!cd #to print Current working Directory"
   ]
  },
  {
   "cell_type": "code",
   "execution_count": 3,
   "id": "03a6234a-28fb-4675-848c-9674f445ff56",
   "metadata": {},
   "outputs": [
    {
     "name": "stdout",
     "output_type": "stream",
     "text": [
      " Volume in drive C is OS\n",
      " Volume Serial Number is B8EE-EC5C\n",
      "\n",
      " Directory of C:\\Users\\User-PC\\Desktop\\SP2273\\learning-portfolio-zijiazj\\using jupyter\n",
      "\n",
      "\n",
      " Directory of C:\\Users\\User-PC\\Desktop\\SP2273\\learning-portfolio-zijiazj\\using jupyter\n",
      "\n",
      "\n",
      " Directory of C:\\Users\\User-PC\\Desktop\\SP2273\\learning-portfolio-zijiazj\\using jupyter\n",
      "\n",
      "\n",
      " Directory of C:\\Users\\User-PC\\Desktop\\SP2273\\learning-portfolio-zijiazj\\using jupyter\n",
      "\n",
      "\n",
      " Directory of C:\\Users\\User-PC\\Desktop\\SP2273\\learning-portfolio-zijiazj\\using jupyter\n",
      "\n",
      "\n",
      " Directory of C:\\Users\\User-PC\\Desktop\\SP2273\\learning-portfolio-zijiazj\\using jupyter\n",
      "\n",
      "\n",
      " Directory of C:\\Users\\User-PC\\Desktop\\SP2273\\learning-portfolio-zijiazj\\using jupyter\n",
      "\n",
      "\n",
      " Directory of C:\\Users\\User-PC\\Desktop\\SP2273\\learning-portfolio-zijiazj\\using jupyter\n",
      "\n",
      "\n",
      " Directory of C:\\Users\\User-PC\\Desktop\\SP2273\\learning-portfolio-zijiazj\\using jupyter\n",
      "\n",
      "\n",
      " Directory of C:\\Users\\User-PC\\Desktop\\SP2273\\learning-portfolio-zijiazj\\using jupyter\n",
      "\n",
      "\n",
      " Directory of C:\\Users\\User-PC\\Desktop\\SP2273\\learning-portfolio-zijiazj\\using jupyter\n",
      "\n"
     ]
    },
    {
     "name": "stderr",
     "output_type": "stream",
     "text": [
      "File Not Found\n"
     ]
    }
   ],
   "source": [
    "!dir #to show me a list of all files in my folder"
   ]
  },
  {
   "attachments": {},
   "cell_type": "markdown",
   "id": "1eeeba90",
   "metadata": {},
   "source": [
    "# 2 Jupyter Extensions (Skipped, because not compatible with Jupyter 7)"
   ]
  },
  {
   "attachments": {},
   "cell_type": "markdown",
   "id": "35c1bb68",
   "metadata": {},
   "source": [
    "# 3 Shell Magic"
   ]
  },
  {
   "cell_type": "code",
   "execution_count": 5,
   "id": "880268e0-03d9-4d89-91d3-e6f6fbd0f574",
   "metadata": {},
   "outputs": [
    {
     "name": "stdout",
     "output_type": "stream",
     "text": [
      "127 ns ± 17.2 ns per loop (mean ± std. dev. of 7 runs, 1,000,000 loops each)\n"
     ]
    }
   ],
   "source": [
    "%%timeit \n",
    "x=10\n",
    "y=x^2 #this is called \"Magic Command\" and this cell is called \"cell magic#\n",
    "      #this cell magic how fast my computer can run and compute the code. "
   ]
  },
  {
   "cell_type": "code",
   "execution_count": 6,
   "id": "cefc7be5-0e77-470a-8ca0-e3915da3e411",
   "metadata": {},
   "outputs": [
    {
     "data": {
      "application/json": {
       "cell": {
        "!": "OSMagics",
        "HTML": "Other",
        "SVG": "Other",
        "bash": "Other",
        "capture": "ExecutionMagics",
        "cmd": "Other",
        "code_wrap": "ExecutionMagics",
        "debug": "ExecutionMagics",
        "file": "Other",
        "html": "DisplayMagics",
        "javascript": "DisplayMagics",
        "js": "DisplayMagics",
        "latex": "DisplayMagics",
        "markdown": "DisplayMagics",
        "perl": "Other",
        "prun": "ExecutionMagics",
        "pypy": "Other",
        "python": "Other",
        "python2": "Other",
        "python3": "Other",
        "ruby": "Other",
        "script": "ScriptMagics",
        "sh": "Other",
        "svg": "DisplayMagics",
        "sx": "OSMagics",
        "system": "OSMagics",
        "time": "ExecutionMagics",
        "timeit": "ExecutionMagics",
        "writefile": "OSMagics"
       },
       "line": {
        "alias": "OSMagics",
        "alias_magic": "BasicMagics",
        "autoawait": "AsyncMagics",
        "autocall": "AutoMagics",
        "automagic": "AutoMagics",
        "autosave": "KernelMagics",
        "bookmark": "OSMagics",
        "cd": "OSMagics",
        "clear": "KernelMagics",
        "cls": "KernelMagics",
        "code_wrap": "ExecutionMagics",
        "colors": "BasicMagics",
        "conda": "PackagingMagics",
        "config": "ConfigMagics",
        "connect_info": "KernelMagics",
        "copy": "Other",
        "ddir": "Other",
        "debug": "ExecutionMagics",
        "dhist": "OSMagics",
        "dirs": "OSMagics",
        "doctest_mode": "BasicMagics",
        "echo": "Other",
        "ed": "Other",
        "edit": "KernelMagics",
        "env": "OSMagics",
        "gui": "BasicMagics",
        "hist": "Other",
        "history": "HistoryMagics",
        "killbgscripts": "ScriptMagics",
        "ldir": "Other",
        "less": "KernelMagics",
        "load": "CodeMagics",
        "load_ext": "ExtensionMagics",
        "loadpy": "CodeMagics",
        "logoff": "LoggingMagics",
        "logon": "LoggingMagics",
        "logstart": "LoggingMagics",
        "logstate": "LoggingMagics",
        "logstop": "LoggingMagics",
        "ls": "Other",
        "lsmagic": "BasicMagics",
        "macro": "ExecutionMagics",
        "magic": "BasicMagics",
        "mamba": "PackagingMagics",
        "matplotlib": "PylabMagics",
        "micromamba": "PackagingMagics",
        "mkdir": "Other",
        "more": "KernelMagics",
        "notebook": "BasicMagics",
        "page": "BasicMagics",
        "pastebin": "CodeMagics",
        "pdb": "ExecutionMagics",
        "pdef": "NamespaceMagics",
        "pdoc": "NamespaceMagics",
        "pfile": "NamespaceMagics",
        "pinfo": "NamespaceMagics",
        "pinfo2": "NamespaceMagics",
        "pip": "PackagingMagics",
        "popd": "OSMagics",
        "pprint": "BasicMagics",
        "precision": "BasicMagics",
        "prun": "ExecutionMagics",
        "psearch": "NamespaceMagics",
        "psource": "NamespaceMagics",
        "pushd": "OSMagics",
        "pwd": "OSMagics",
        "pycat": "OSMagics",
        "pylab": "PylabMagics",
        "qtconsole": "KernelMagics",
        "quickref": "BasicMagics",
        "recall": "HistoryMagics",
        "rehashx": "OSMagics",
        "reload_ext": "ExtensionMagics",
        "ren": "Other",
        "rep": "Other",
        "rerun": "HistoryMagics",
        "reset": "NamespaceMagics",
        "reset_selective": "NamespaceMagics",
        "rmdir": "Other",
        "run": "ExecutionMagics",
        "save": "CodeMagics",
        "sc": "OSMagics",
        "set_env": "OSMagics",
        "store": "StoreMagics",
        "sx": "OSMagics",
        "system": "OSMagics",
        "tb": "ExecutionMagics",
        "time": "ExecutionMagics",
        "timeit": "ExecutionMagics",
        "unalias": "OSMagics",
        "unload_ext": "ExtensionMagics",
        "who": "NamespaceMagics",
        "who_ls": "NamespaceMagics",
        "whos": "NamespaceMagics",
        "xdel": "NamespaceMagics",
        "xmode": "BasicMagics"
       }
      },
      "text/plain": [
       "Available line magics:\n",
       "%alias  %alias_magic  %autoawait  %autocall  %automagic  %autosave  %bookmark  %cd  %clear  %cls  %code_wrap  %colors  %conda  %config  %connect_info  %copy  %ddir  %debug  %dhist  %dirs  %doctest_mode  %echo  %ed  %edit  %env  %gui  %hist  %history  %killbgscripts  %ldir  %less  %load  %load_ext  %loadpy  %logoff  %logon  %logstart  %logstate  %logstop  %ls  %lsmagic  %macro  %magic  %mamba  %matplotlib  %micromamba  %mkdir  %more  %notebook  %page  %pastebin  %pdb  %pdef  %pdoc  %pfile  %pinfo  %pinfo2  %pip  %popd  %pprint  %precision  %prun  %psearch  %psource  %pushd  %pwd  %pycat  %pylab  %qtconsole  %quickref  %recall  %rehashx  %reload_ext  %ren  %rep  %rerun  %reset  %reset_selective  %rmdir  %run  %save  %sc  %set_env  %store  %sx  %system  %tb  %time  %timeit  %unalias  %unload_ext  %who  %who_ls  %whos  %xdel  %xmode\n",
       "\n",
       "Available cell magics:\n",
       "%%!  %%HTML  %%SVG  %%bash  %%capture  %%cmd  %%code_wrap  %%debug  %%file  %%html  %%javascript  %%js  %%latex  %%markdown  %%perl  %%prun  %%pypy  %%python  %%python2  %%python3  %%ruby  %%script  %%sh  %%svg  %%sx  %%system  %%time  %%timeit  %%writefile\n",
       "\n",
       "Automagic is ON, % prefix IS NOT needed for line magics."
      ]
     },
     "execution_count": 6,
     "metadata": {},
     "output_type": "execute_result"
    }
   ],
   "source": [
    "%lsmagic #to see other magic command in a list"
   ]
  },
  {
   "attachments": {},
   "cell_type": "markdown",
   "id": "358bdf3c",
   "metadata": {},
   "source": [
    "# 4 The Kernel"
   ]
  },
  {
   "cell_type": "markdown",
   "id": "6382bc49-722f-4861-8d5f-4a68eb02cf93",
   "metadata": {},
   "source": [
    "- We can interrupt, restart or shut down the kernal using the \"KERNAL\" button in the toolbar.\n",
    "- This is for us to reset the kernel when Jupter is not functioning properly or when I accidentally redifined a function, example, print = \"apple\""
   ]
  },
  {
   "cell_type": "code",
   "execution_count": null,
   "id": "b908e1b9-abab-42f4-815d-6581522d7dc0",
   "metadata": {},
   "outputs": [],
   "source": []
  }
 ],
 "metadata": {
  "kernelspec": {
   "display_name": "Python 3 (ipykernel)",
   "language": "python",
   "name": "python3"
  },
  "language_info": {
   "codemirror_mode": {
    "name": "ipython",
    "version": 3
   },
   "file_extension": ".py",
   "mimetype": "text/x-python",
   "name": "python",
   "nbconvert_exporter": "python",
   "pygments_lexer": "ipython3",
   "version": "3.9.13"
  },
  "toc": {
   "base_numbering": 1,
   "nav_menu": {},
   "number_sections": true,
   "sideBar": true,
   "skip_h1_title": false,
   "title_cell": "Table of Contents",
   "title_sidebar": "Contents",
   "toc_cell": false,
   "toc_position": {},
   "toc_section_display": true,
   "toc_window_display": false
  },
  "vscode": {
   "interpreter": {
    "hash": "31f2aee4e71d21fbe5cf8b01ff0e069b9275f58929596ceb00d14d90e3e16cd6"
   }
  }
 },
 "nbformat": 4,
 "nbformat_minor": 5
}
