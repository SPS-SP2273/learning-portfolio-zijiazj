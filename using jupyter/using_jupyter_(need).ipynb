{
 "cells": [
  {
   "attachments": {},
   "cell_type": "markdown",
   "id": "123456",
   "metadata": {},
   "source": [
    "<div style=\"text-align:left;font-size:2em\"><span style=\"font-weight:bolder;font-size:1.25em\">SP2273 | Learning Portfolio</span><br><br><span style=\"font-weight:bold;color:darkred\">Using Jupyter (Need)</span></div>"
   ]
  },
  {
   "attachments": {},
   "cell_type": "markdown",
   "id": "688f9b71",
   "metadata": {},
   "source": [
    "# What to expect in this chapter"
   ]
  },
  {
   "attachments": {},
   "cell_type": "markdown",
   "id": "a14f03ef",
   "metadata": {},
   "source": [
    "# 1. Getting ready"
   ]
  },
  {
   "attachments": {},
   "cell_type": "markdown",
   "id": "f2bf4b9c",
   "metadata": {},
   "source": [
    "# 2. Getting started with Jupyter"
   ]
  },
  {
   "cell_type": "markdown",
   "id": "fadc0e13-95e4-4e0d-a357-3ccfc6c30209",
   "metadata": {},
   "source": [
    "## 2.1 It is all about running cells"
   ]
  },
  {
   "cell_type": "code",
   "execution_count": 1,
   "id": "0c592537-48ab-46f7-9b2a-a1c93e1edfe6",
   "metadata": {},
   "outputs": [
    {
     "name": "stdout",
     "output_type": "stream",
     "text": [
      "Hello World!\n"
     ]
    }
   ],
   "source": [
    "print('Hello World!')"
   ]
  },
  {
   "cell_type": "code",
   "execution_count": 2,
   "id": "16b7509e-aa0e-4247-8c85-31eea38ac3d4",
   "metadata": {},
   "outputs": [],
   "source": [
    "#### The above is a code cell (invoke Python), this is a markdown cell (render)"
   ]
  },
  {
   "attachments": {},
   "cell_type": "markdown",
   "id": "d51ff029",
   "metadata": {},
   "source": [
    "## 2.2 A traditional start"
   ]
  },
  {
   "cell_type": "code",
   "execution_count": 3,
   "id": "3f92fae6-4175-4d7a-bf8a-f37d4468c6fb",
   "metadata": {},
   "outputs": [
    {
     "name": "stdout",
     "output_type": "stream",
     "text": [
      "Hello World again\n"
     ]
    }
   ],
   "source": [
    "print('Hello World again')"
   ]
  },
  {
   "attachments": {},
   "cell_type": "markdown",
   "id": "6ea7b59f",
   "metadata": {},
   "source": [
    "# 3. All about Markdown"
   ]
  },
  {
   "attachments": {},
   "cell_type": "markdown",
   "id": "88616a28",
   "metadata": {},
   "source": [
    "## 3.1 Rendering Markdown cells"
   ]
  },
  {
   "cell_type": "markdown",
   "id": "a8a5aacf-f7ec-41d5-bc5a-86381251acf3",
   "metadata": {},
   "source": [
    "早上好我喜欢bingchilling"
   ]
  },
  {
   "attachments": {},
   "cell_type": "markdown",
   "id": "03463583",
   "metadata": {},
   "source": [
    "## 3.2 Some basic syntax"
   ]
  },
  {
   "cell_type": "markdown",
   "id": "cb44422a-e6d5-422a-818f-7bef9fb80def",
   "metadata": {},
   "source": [
    "**Ra-ra-Rasputin**"
   ]
  },
  {
   "cell_type": "markdown",
   "id": "18f811ae-60ff-4ea5-b8b8-3d1b65248656",
   "metadata": {},
   "source": [
    "_Lover of the Russian queen_"
   ]
  },
  {
   "cell_type": "markdown",
   "id": "a689ea30-c171-4bdd-8d5a-7362306ba477",
   "metadata": {},
   "source": [
    "***There was a cat that really was gone***"
   ]
  },
  {
   "cell_type": "markdown",
   "id": "3ed27dfd-a109-4160-9690-09b33f2bfdb8",
   "metadata": {},
   "source": [
    "Ra-ra-Rasputin"
   ]
  },
  {
   "cell_type": "markdown",
   "id": "28e5f4b3-5779-4f2e-b378-4d2b00314464",
   "metadata": {},
   "source": [
    "Russian's <sub>greatest love machine</sub>"
   ]
  },
  {
   "cell_type": "markdown",
   "id": "e65f53bb-73c4-48eb-a337-edcaccf4efb0",
   "metadata": {},
   "source": [
    "It was a <sup> shame </sup> how he carried on"
   ]
  },
  {
   "attachments": {},
   "cell_type": "markdown",
   "id": "c978d007",
   "metadata": {},
   "source": [
    "## 3.3 Headings"
   ]
  },
  {
   "cell_type": "markdown",
   "id": "658d4393-7333-4032-9639-58adbd95acbe",
   "metadata": {},
   "source": [
    "# Is this the real life?"
   ]
  },
  {
   "cell_type": "markdown",
   "id": "d43ffe01-78cf-4ce6-aa4e-07169557e337",
   "metadata": {},
   "source": [
    "### Is this the fantasy?"
   ]
  },
  {
   "cell_type": "markdown",
   "id": "1d7302be-14ff-48fb-95ea-77d55f041428",
   "metadata": {},
   "source": [
    "#### Caught in a landslide"
   ]
  },
  {
   "cell_type": "markdown",
   "id": "03b12d68-0833-4239-bd9f-2055e48bd1f9",
   "metadata": {},
   "source": [
    "##### No escape from reality"
   ]
  },
  {
   "attachments": {},
   "cell_type": "markdown",
   "id": "f3d6943b",
   "metadata": {},
   "source": [
    "## 3.4 Displaying Code"
   ]
  },
  {
   "cell_type": "markdown",
   "id": "effc80eb-72ff-433f-8219-1bb581fcf15b",
   "metadata": {},
   "source": [
    "`print('Hello World again and again')`"
   ]
  },
  {
   "cell_type": "markdown",
   "id": "209b2041-74b3-4e90-a2c6-fa73ad5ec0e7",
   "metadata": {},
   "source": [
    "```python\n",
    "print('Hello World again and again and again')\n",
    "```"
   ]
  },
  {
   "attachments": {},
   "cell_type": "markdown",
   "id": "9702b636",
   "metadata": {},
   "source": [
    "## 3.5 Links"
   ]
  },
  {
   "cell_type": "markdown",
   "id": "270d098d-d966-463b-80a9-c625795b6459",
   "metadata": {},
   "source": [
    "[this is a link, so unoriginal](https://sps.nus.edu.sg/sp2273/docs/python_basics/01_using_jupyter/1_using-jupyter_need.html#some-basic-syntax)"
   ]
  },
  {
   "attachments": {},
   "cell_type": "markdown",
   "id": "fe60145b",
   "metadata": {},
   "source": [
    "## 3.6 Images"
   ]
  },
  {
   "cell_type": "markdown",
   "id": "e48dd5f1-a107-40a1-a0ae-336f01deed59",
   "metadata": {},
   "source": [
    "![](https://www.boredpanda.com/blog/wp-content/uploads/2022/03/6228a2ac81c49_hwurhp7crzf81-png__700.jpg)"
   ]
  },
  {
   "attachments": {},
   "cell_type": "markdown",
   "id": "29949797",
   "metadata": {},
   "source": [
    "## 3.7 Tables"
   ]
  },
  {
   "cell_type": "markdown",
   "id": "77bb6760-1d0b-4432-9bb6-9588be77ce2a",
   "metadata": {},
   "source": [
    "|   1  |     2    |     3     |    4   |         5        |\r\n",
    "|:----:|:--------:|:---------:|:------:|:----------------:|\r\n",
    "| This |    is    | generated |   by  test| |\r\n",
    "| Save | yourself |    some   | sanity |        :)        |\r\n",
    "|      |          |           |        |                  |"
   ]
  },
  {
   "cell_type": "markdown",
   "id": "4b446fa1-6046-4a79-8814-adb5be685c19",
   "metadata": {},
   "source": [
    "[Table Generator here](https://www.tablesgenerator.com/markdown_tables)"
   ]
  },
  {
   "attachments": {},
   "cell_type": "markdown",
   "id": "05d74de9",
   "metadata": {},
   "source": [
    "## 3.8 Lists"
   ]
  },
  {
   "cell_type": "markdown",
   "id": "c77de72a-5a22-44be-b84d-314244587e4d",
   "metadata": {},
   "source": [
    "1. Never gonna give you up\n",
    "2. Never gonna let you down\n",
    "3. Never gonna run around\n",
    "4. And desert you\n",
    "\n",
    "- Never gonna make you cry\n",
    "- Never gonna say goodbye\n",
    "- Never gonna tell a lie\n",
    "- And hurt you"
   ]
  },
  {
   "cell_type": "markdown",
   "id": "90d8e14d-7ffa-46f6-90c9-0c3dbe026f8b",
   "metadata": {},
   "source": [
    "1. Mama\n",
    "   1. Just killed  man\n",
    "   2. Put a gun against his head\n",
    "   3. Pulled my trigger\n",
    "   4. Now he's dead  \n",
    "1. Mama\n",
    "   - Life had just begun\n",
    "   - But now I've gone\n",
    "   - And thrown it all away\n",
    "   "
   ]
  },
  {
   "attachments": {},
   "cell_type": "markdown",
   "id": "0f8c8f6c",
   "metadata": {},
   "source": [
    "## 3.9 Equations"
   ]
  },
  {
   "cell_type": "markdown",
   "id": "ff73e3aa-e3f9-4841-84f8-654cf0271efd",
   "metadata": {},
   "source": [
    "$\\dfrac{d}{frac}$\n",
    "$O_{0}$\n",
    "$0^{(0)}$\n",
    "$\\sqrt{c+a+t}$"
   ]
  },
  {
   "cell_type": "markdown",
   "id": "342f6e4b-f0f3-499c-a147-cb8121deede5",
   "metadata": {},
   "source": [
    "$\\sum_{n=1}^{n=\\infty} x_n$\n",
    "\n",
    "$\\int_{x=1}^{x=\\infty} f(x)dx$\n",
    "\n",
    "$you \\ne I$\n",
    "\n",
    "$dog \\lt cat$\n",
    "\n",
    "$pupps \\leq kitten$\n",
    "\n",
    "$pineapples on pizza \\gt pizza$\n",
    "\n",
    "$pen pineapple \\geq apple pen$\n",
    "\n",
    "$\\alpha, \\beta, \\gamma, \\pi, \\lambda$"
   ]
  },
  {
   "attachments": {},
   "cell_type": "markdown",
   "id": "b097d9f0",
   "metadata": {},
   "source": [
    "## Footnotes"
   ]
  },
  {
   "cell_type": "markdown",
   "id": "ea02b362-c0e5-4863-8d6f-9ce7226a981f",
   "metadata": {},
   "source": [
    "_equations above are purely personal opinion_"
   ]
  }
 ],
 "metadata": {
  "kernelspec": {
   "display_name": "Python 3 (ipykernel)",
   "language": "python",
   "name": "python3"
  },
  "language_info": {
   "codemirror_mode": {
    "name": "ipython",
    "version": 3
   },
   "file_extension": ".py",
   "mimetype": "text/x-python",
   "name": "python",
   "nbconvert_exporter": "python",
   "pygments_lexer": "ipython3",
   "version": "3.9.13"
  },
  "toc": {
   "base_numbering": 1,
   "nav_menu": {},
   "number_sections": true,
   "sideBar": true,
   "skip_h1_title": false,
   "title_cell": "Table of Contents",
   "title_sidebar": "Contents",
   "toc_cell": false,
   "toc_position": {},
   "toc_section_display": true,
   "toc_window_display": false
  },
  "vscode": {
   "interpreter": {
    "hash": "31f2aee4e71d21fbe5cf8b01ff0e069b9275f58929596ceb00d14d90e3e16cd6"
   }
  }
 },
 "nbformat": 4,
 "nbformat_minor": 5
}
